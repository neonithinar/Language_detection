{
  "nbformat": 4,
  "nbformat_minor": 0,
  "metadata": {
    "colab": {
      "name": "Language Identification Project preliminary try out.ipynb",
      "provenance": [],
      "collapsed_sections": [],
      "authorship_tag": "ABX9TyNwRg9hhcb+NZniZMpRHWcP",
      "include_colab_link": true
    },
    "kernelspec": {
      "name": "python3",
      "display_name": "Python 3"
    },
    "accelerator": "GPU"
  },
  "cells": [
    {
      "cell_type": "markdown",
      "metadata": {
        "id": "view-in-github",
        "colab_type": "text"
      },
      "source": [
        "<a href=\"https://colab.research.google.com/github/neonithinar/What-Language-is-this-/blob/main/Language_Identification_Project_preliminary_try_out.ipynb\" target=\"_parent\"><img src=\"https://colab.research.google.com/assets/colab-badge.svg\" alt=\"Open In Colab\"/></a>"
      ]
    },
    {
      "cell_type": "markdown",
      "metadata": {
        "id": "DbXmx7EXm9mQ"
      },
      "source": [
        "# Language identification using N-grams\n",
        " Particularly we will be using trigrams for this project. That is 3 consequtive words that occur in the language. As suggested by many literary works n-grams are a very efficient way to identify the language.\n",
        "  This [dataset](https://downloads.tatoeba.org/exports/sentences.csv) is hosted by Tatoeba "
      ]
    },
    {
      "cell_type": "code",
      "metadata": {
        "id": "yjyYlhKflhHn"
      },
      "source": [
        "# Common Imports\n",
        "import pandas as pd\n",
        "import numpy as np\n",
        "import matplotlib.pyplot as plt\n",
        "from sklearn.model_selection import train_test_split\n",
        "from sklearn.feature_extraction.text import CountVectorizer\n",
        "from sklearn.metrics import accuracy_score, confusion_matrix\n",
        "import seaborn as sns\n",
        "import tensorflow as tf\n",
        "from tensorflow import keras\n",
        "# from sklearn.preprocessing import MinMaxScaler"
      ],
      "execution_count": 1,
      "outputs": []
    },
    {
      "cell_type": "code",
      "metadata": {
        "colab": {
          "base_uri": "https://localhost:8080/"
        },
        "id": "Ldfbb3O2m5zz",
        "outputId": "e3f7f666-74ca-4e87-8d2e-1667df7b271a"
      },
      "source": [
        "# Download the dataset\n",
        "! wget https://downloads.tatoeba.org/exports/sentences.csv"
      ],
      "execution_count": 2,
      "outputs": [
        {
          "output_type": "stream",
          "text": [
            "--2021-02-07 13:36:39--  https://downloads.tatoeba.org/exports/sentences.csv\n",
            "Resolving downloads.tatoeba.org (downloads.tatoeba.org)... 94.130.77.194\n",
            "Connecting to downloads.tatoeba.org (downloads.tatoeba.org)|94.130.77.194|:443... connected.\n",
            "HTTP request sent, awaiting response... 200 OK\n",
            "Length: 508779090 (485M) [application/octet-stream]\n",
            "Saving to: ‘sentences.csv’\n",
            "\n",
            "sentences.csv       100%[===================>] 485.21M  11.4MB/s    in 45s     \n",
            "\n",
            "2021-02-07 13:37:25 (10.9 MB/s) - ‘sentences.csv’ saved [508779090/508779090]\n",
            "\n"
          ],
          "name": "stdout"
        }
      ]
    },
    {
      "cell_type": "code",
      "metadata": {
        "id": "AGtz-32nm52s"
      },
      "source": [
        "#read data\n",
        "df = pd.read_csv(\"sentences.csv\", sep= '\\t', encoding= 'utf8', index_col= 0, names=['lang', 'text'])\n",
        "length_condition = [True if 20 <= len(sen) <= 200 else False for sen in df['text']]\n",
        "\n",
        "df = df[length_condition]\n"
      ],
      "execution_count": 2,
      "outputs": []
    },
    {
      "cell_type": "code",
      "metadata": {
        "colab": {
          "base_uri": "https://localhost:8080/",
          "height": 204
        },
        "id": "i8IlLCWne1v9",
        "outputId": "1147c3df-71ee-43cd-c5fb-882f60e86be8"
      },
      "source": [
        "df.head()"
      ],
      "execution_count": 3,
      "outputs": [
        {
          "output_type": "execute_result",
          "data": {
            "text/html": [
              "<div>\n",
              "<style scoped>\n",
              "    .dataframe tbody tr th:only-of-type {\n",
              "        vertical-align: middle;\n",
              "    }\n",
              "\n",
              "    .dataframe tbody tr th {\n",
              "        vertical-align: top;\n",
              "    }\n",
              "\n",
              "    .dataframe thead th {\n",
              "        text-align: right;\n",
              "    }\n",
              "</style>\n",
              "<table border=\"1\" class=\"dataframe\">\n",
              "  <thead>\n",
              "    <tr style=\"text-align: right;\">\n",
              "      <th></th>\n",
              "      <th>lang</th>\n",
              "      <th>text</th>\n",
              "    </tr>\n",
              "  </thead>\n",
              "  <tbody>\n",
              "    <tr>\n",
              "      <th>5</th>\n",
              "      <td>cmn</td>\n",
              "      <td>今天是６月１８号，也是Muiriel的生日！</td>\n",
              "    </tr>\n",
              "    <tr>\n",
              "      <th>21</th>\n",
              "      <td>cmn</td>\n",
              "      <td>选择什么是“对”或“错”是一项艰难的任务，我们却必须要完成它。</td>\n",
              "    </tr>\n",
              "    <tr>\n",
              "      <th>67</th>\n",
              "      <td>cmn</td>\n",
              "      <td>我们看东西不是看其实质，而是以我们的主观意识看它们的。</td>\n",
              "    </tr>\n",
              "    <tr>\n",
              "      <th>71</th>\n",
              "      <td>cmn</td>\n",
              "      <td>生活就是當你忙著進行你的計劃時總有其他的事情發生。</td>\n",
              "    </tr>\n",
              "    <tr>\n",
              "      <th>77</th>\n",
              "      <td>deu</td>\n",
              "      <td>Lass uns etwas versuchen!</td>\n",
              "    </tr>\n",
              "  </tbody>\n",
              "</table>\n",
              "</div>"
            ],
            "text/plain": [
              "   lang                             text\n",
              "5   cmn           今天是６月１８号，也是Muiriel的生日！\n",
              "21  cmn  选择什么是“对”或“错”是一项艰难的任务，我们却必须要完成它。\n",
              "67  cmn      我们看东西不是看其实质，而是以我们的主观意识看它们的。\n",
              "71  cmn        生活就是當你忙著進行你的計劃時總有其他的事情發生。\n",
              "77  deu        Lass uns etwas versuchen!"
            ]
          },
          "metadata": {
            "tags": []
          },
          "execution_count": 3
        }
      ]
    },
    {
      "cell_type": "code",
      "metadata": {
        "colab": {
          "base_uri": "https://localhost:8080/"
        },
        "id": "jHjuuoAtm55I",
        "outputId": "5a558a76-d5df-4257-c55e-184ec779d314"
      },
      "source": [
        "df['lang'].unique()"
      ],
      "execution_count": null,
      "outputs": [
        {
          "output_type": "execute_result",
          "data": {
            "text/plain": [
              "array(['cmn', 'deu', 'rus', 'fra', 'eng', 'spa', 'ita', 'jpn', 'kor',\n",
              "       'vie', 'nld', 'epo', 'por', 'tur', 'heb', 'ell', 'ind', 'ara',\n",
              "       'arz', 'fin', 'bul', 'swe', 'ukr', 'bel', 'que', 'ces', 'nno',\n",
              "       'nob', 'zsm', 'est', 'kat', 'pol', 'lat', 'yue', 'swh', 'sqi',\n",
              "       'hun', 'isl', 'wuu', 'fry', 'afr', 'ron', 'fao', 'san', 'bre',\n",
              "       'tat', 'yid', 'uig', 'uzb', 'srp', 'qya', 'pes', nan, 'slk', 'eus',\n",
              "       'cycl', 'dan', 'acm', 'lvs', 'kaz', 'hye', 'hin', 'ben', 'cat',\n",
              "       'bos', 'hrv', 'lit', 'tha', 'urd', 'orv', 'cha', 'tgl', 'mon',\n",
              "       'scn', 'gle', 'slv', 'frm', 'glg', 'vol', 'jbo', 'toki', 'ina',\n",
              "       'nds', 'mal', 'tlh', 'roh', 'lzh', 'ltz', 'oss', 'ido', 'gla',\n",
              "       'mlt', 'ast', 'oci', 'ile', 'ota', 'xal', 'tel', 'sjn', 'nov',\n",
              "       'khm', 'tpi', 'ang', 'aze', 'tgk', 'tuk', 'chv', 'mkd', 'hsb',\n",
              "       'dsb', 'sme', 'cym', 'mri', 'ksh', 'kmr', 'ewe', 'ber', 'udm',\n",
              "       'lld', 'pms', 'lad', 'grn', 'mlg', 'xho', 'pnb', 'grc', 'npi',\n",
              "       'tpw', 'cor', 'nah', 'avk', 'mar', 'guj', 'pan', 'sco', 'kir',\n",
              "       'prg', 'crs', 'hat', 'ckt', 'bod', 'hil', 'cbk', 'lkt', 'nav',\n",
              "       'arq', 'lin', 'abk', 'pcd', 'rom', 'gsw', 'tam', 'wln', 'lao',\n",
              "       'amh', 'hbo', 'enm', 'mhr', 'bho', 'mrj', 'bak', 'ain', 'ckb',\n",
              "       'osx', 'pfl', 'mgm', 'zul', 'sna', 'mah', 'hau', 'kan', 'nog',\n",
              "       'sin', 'kal', 'vro', 'apc', 'jdt', 'haw', 'crh', 'pdc', 'ppl',\n",
              "       'yor', 'kin', 'shs', 'mnw', 'tet', 'sah', 'kum', 'ngt', 'nya',\n",
              "       'che', 'glv', 'hif', 'dng', 'mya', 'moh', 'wol', 'liv', 'tir',\n",
              "       'brx', 'mww', 'nlv', 'ngu', 'bua', 'pus', 'vec', 'kha', 'jav',\n",
              "       'ceb', 'lou', 'awa', 'chr', 'fuc', 'smo', 'lfn', 'arg', 'tyv',\n",
              "       'kjh', 'oji', 'cyo', 'kzj', 'pam', 'srd', 'swg', 'lmo', 'mdf',\n",
              "       'gil', 'tso', 'aym', 'sot', 'zza', 'tsn', 'pau', 'som', 'egl',\n",
              "       'asm', 'dtp', 'cho', 'max', 'zlm', 'kam', 'niu', 'fur', 'ilo',\n",
              "       'kaa', 'fuv', 'hoc', 'sun', 'war', 'sux', 'mvv', 'pap', 'ary',\n",
              "       'ady', 'gbm', 'kxi', 'csb', 'pag', 'ton', 'cos', 'nch', 'bar',\n",
              "       'rif', 'kek', 'krc', 'myv', 'aii', 'ban', 'ssw', 'tvl', 'mfe',\n",
              "       'tah', 'bvy', 'snd', 'bcl', 'hnj', 'nst', 'afb', 'quc', 'sag',\n",
              "       'min', 'mad', 'bjn', 'non', 'got', 'iba', 'tzl', 'ldn', 'sgs',\n",
              "       'krl', 'vep', 'dws', 'afh', 'rue', 'oar', 'tly', 'ext', 'kab',\n",
              "       'sma', 'jam', 'cmo', 'mwl', 'ori', 'kpv', 'koi', 'ike', '\\\\N',\n",
              "       'run', 'evn', 'mnc', 'aoz', 'otk', 'kas', 'ibo', 'lug', 'aln',\n",
              "       'akl', 'yua', 'shy', 'fkv', 'gos', 'fij', 'thv', 'gcf', 'cay',\n",
              "       'umb', 'xmf', 'lzz', 'div', 'lij', 'rap', 'hrx', 'cpi', 'gaa',\n",
              "       'zgh', 'tmr', 'izh', 'ltg', 'bzt', 'syc', 'emx', 'gom', 'chg',\n",
              "       'osp', 'hak', 'stq', 'frr', 'fro', 'tts', 'toi', 'new', 'phn',\n",
              "       'cjy', 'jpa', 'gag', 'drt', 'chn', 'pli', 'laa', 'bal', 'hdn',\n",
              "       'hax', 'xqa', 'pal', 'mni', 'lut', 'ood', 'sdh', 'ofs', 'nus',\n",
              "       'tkl'], dtype=object)"
            ]
          },
          "metadata": {
            "tags": []
          },
          "execution_count": 14
        }
      ]
    },
    {
      "cell_type": "markdown",
      "metadata": {
        "id": "zgrm3R3RrblE"
      },
      "source": [
        "There are 370 unique languages in this dataset. Taking only 10 languages for simplicity"
      ]
    },
    {
      "cell_type": "code",
      "metadata": {
        "id": "NyVuWlINtk1j"
      },
      "source": [
        "languages = ['nld', 'fin', 'pol', 'lit', 'ces', 'swe', 'ara','mkd', 'dan','srp']# 10 languages\n",
        "# lang1 = ['deu', 'eng', 'fra', 'ita', 'por', 'spa', 'rus','hun', 'jpn', 'ukr'] \n",
        "# lang2 = ['nld', 'fin', 'pol', 'lit', 'ces', 'swe',  'lvs' 'hin', 'dan','srp'] # 10 languages\n",
        "# lang3 = ['tur', 'epo', 'cmn' , 'pes', 'kab', 'mar', 'heb', 'bul', 'ron', 'ell'] # 10 languages\n",
        "# \n",
        "#   'ara','mkd'\n",
        "#              \n",
        "# we will be missing the Lativan and slovakian and slovene language from europarl"
      ],
      "execution_count": 3,
      "outputs": []
    },
    {
      "cell_type": "code",
      "metadata": {
        "colab": {
          "base_uri": "https://localhost:8080/"
        },
        "id": "q_uRStkJxnAk",
        "outputId": "037d2894-8d1a-47ec-a65d-e0c88752bfa8"
      },
      "source": [
        "total_lang = df['lang'].unique()\n",
        "for i in languages:\n",
        "  print(i in total_lang)"
      ],
      "execution_count": 8,
      "outputs": [
        {
          "output_type": "stream",
          "text": [
            "True\n",
            "True\n",
            "True\n",
            "True\n",
            "True\n",
            "True\n",
            "True\n",
            "True\n",
            "True\n",
            "True\n"
          ],
          "name": "stdout"
        }
      ]
    },
    {
      "cell_type": "code",
      "metadata": {
        "colab": {
          "base_uri": "https://localhost:8080/"
        },
        "id": "LQKrLSbGm58M",
        "outputId": "d141380e-a8c9-4f09-b001-dd3fd5915a10"
      },
      "source": [
        "\n",
        "\n",
        "# lang = ['bulg', 'dani','germ', 'gree', 'span', 'esto', 'finn', 'fren', 'hung', 'ital',\n",
        "#         'lith', 'latv', 'dutc', 'poli', 'port', 'roma', 'slvk', 'slve', 'swed']\n",
        "df = df[df['lang'].isin(languages)]\n",
        "# df.info()\n",
        "# df.head()\n",
        "# df['lang'].unique()\n",
        "\n",
        "\n",
        "\n",
        "# trim the dataset\n",
        "df_trim = pd.DataFrame(columns=['lang', 'text'])\n",
        "\n",
        "for l in languages:\n",
        "  lang_trim = df[df['lang'] == l].sample(50000, random_state = 42, replace = True)\n",
        "  df_trim = df_trim.append(lang_trim)\n",
        "\n",
        "# Create random train, val, and test set\n",
        "\n",
        "df_shuffle = df_trim.sample(frac = 1)\n",
        "df_shuffle.shape\n"
      ],
      "execution_count": 4,
      "outputs": [
        {
          "output_type": "execute_result",
          "data": {
            "text/plain": [
              "(500000, 2)"
            ]
          },
          "metadata": {
            "tags": []
          },
          "execution_count": 4
        }
      ]
    },
    {
      "cell_type": "code",
      "metadata": {
        "id": "4tq-JMuufZ4q",
        "colab": {
          "base_uri": "https://localhost:8080/",
          "height": 204
        },
        "outputId": "479a77db-958a-4f4b-8240-5ea8497f0d48"
      },
      "source": [
        "df_shuffle.head()"
      ],
      "execution_count": 9,
      "outputs": [
        {
          "output_type": "execute_result",
          "data": {
            "text/html": [
              "<div>\n",
              "<style scoped>\n",
              "    .dataframe tbody tr th:only-of-type {\n",
              "        vertical-align: middle;\n",
              "    }\n",
              "\n",
              "    .dataframe tbody tr th {\n",
              "        vertical-align: top;\n",
              "    }\n",
              "\n",
              "    .dataframe thead th {\n",
              "        text-align: right;\n",
              "    }\n",
              "</style>\n",
              "<table border=\"1\" class=\"dataframe\">\n",
              "  <thead>\n",
              "    <tr style=\"text-align: right;\">\n",
              "      <th></th>\n",
              "      <th>lang</th>\n",
              "      <th>text</th>\n",
              "    </tr>\n",
              "  </thead>\n",
              "  <tbody>\n",
              "    <tr>\n",
              "      <th>3125066</th>\n",
              "      <td>swe</td>\n",
              "      <td>”Den här filmen är inte alls bra.” ”Jo, det är...</td>\n",
              "    </tr>\n",
              "    <tr>\n",
              "      <th>9257999</th>\n",
              "      <td>dan</td>\n",
              "      <td>Min far gav mig en ny fyldepen.</td>\n",
              "    </tr>\n",
              "    <tr>\n",
              "      <th>3287628</th>\n",
              "      <td>srp</td>\n",
              "      <td>Zabava je bila uspešna.</td>\n",
              "    </tr>\n",
              "    <tr>\n",
              "      <th>563455</th>\n",
              "      <td>lit</td>\n",
              "      <td>Vyras paėmė berniuką už rankos.</td>\n",
              "    </tr>\n",
              "    <tr>\n",
              "      <th>8260182</th>\n",
              "      <td>nld</td>\n",
              "      <td>Ik vraag me af of ik Tom echt de waarheid moet...</td>\n",
              "    </tr>\n",
              "  </tbody>\n",
              "</table>\n",
              "</div>"
            ],
            "text/plain": [
              "        lang                                               text\n",
              "3125066  swe  ”Den här filmen är inte alls bra.” ”Jo, det är...\n",
              "9257999  dan                    Min far gav mig en ny fyldepen.\n",
              "3287628  srp                            Zabava je bila uspešna.\n",
              "563455   lit                    Vyras paėmė berniuką už rankos.\n",
              "8260182  nld  Ik vraag me af of ik Tom echt de waarheid moet..."
            ]
          },
          "metadata": {
            "tags": []
          },
          "execution_count": 9
        }
      ]
    },
    {
      "cell_type": "markdown",
      "metadata": {
        "id": "Ogs8D9qIm712"
      },
      "source": [
        "Hmm... maybe we should add stratified shuffling so that the train, test and validation sets would be an accurate representation of the original dataframe"
      ]
    },
    {
      "cell_type": "code",
      "metadata": {
        "id": "mBgQCNA2UD46"
      },
      "source": [
        "# import string\n",
        "# import re\n",
        "# from pickle import dump\n",
        "# from unicodedata import normalize"
      ],
      "execution_count": 8,
      "outputs": []
    },
    {
      "cell_type": "code",
      "metadata": {
        "id": "mVFpIMHQUD2B"
      },
      "source": [
        "# def clean_text(lines):\n",
        "# \tcleaned = list()\n",
        "# \t# prepare regex for char filtering\n",
        "# \tre_print = re.compile('[^%s]' % re.escape(string.printable))\n",
        "# \t# prepare translation table for removing punctuation\n",
        "# \ttable = str.maketrans('', '', string.punctuation)\n",
        "# \tfor line in lines:\n",
        "# \t\t# normalize unicode characters\n",
        "# \t\t# line = normalize('NFD', line).encode('ascii', 'ignore')\n",
        "# \t\t# line = line.decode('UTF-8')\n",
        "# \t\t# tokenize on white space\n",
        "# \t\tline = line.split()\n",
        "# \t\t# convert to lower case\n",
        "# \t\tline = [word.lower() for word in line]\n",
        "# \t\t# remove punctuation from each token\n",
        "# \t\tline = [word.translate(table) for word in line]\n",
        "# \t\t# remove non-printable chars form each token\n",
        "# \t\tline = [re_print.sub('', w) for w in line]\n",
        "# \t\t# remove tokens with numbers in them\n",
        "# \t\tline = [word for word in line if word.isalpha()]\n",
        "# \t\t# store as string\n",
        "# \t\tcleaned.append(' '.join(line))\n",
        "# \treturn cleaned"
      ],
      "execution_count": 9,
      "outputs": []
    },
    {
      "cell_type": "code",
      "metadata": {
        "colab": {
          "base_uri": "https://localhost:8080/",
          "height": 204
        },
        "id": "x8mKP2_vb2XU",
        "outputId": "d345b3ea-447a-4c78-da17-bda671ba3801"
      },
      "source": [
        "df_shuffle.head()"
      ],
      "execution_count": 10,
      "outputs": [
        {
          "output_type": "execute_result",
          "data": {
            "text/html": [
              "<div>\n",
              "<style scoped>\n",
              "    .dataframe tbody tr th:only-of-type {\n",
              "        vertical-align: middle;\n",
              "    }\n",
              "\n",
              "    .dataframe tbody tr th {\n",
              "        vertical-align: top;\n",
              "    }\n",
              "\n",
              "    .dataframe thead th {\n",
              "        text-align: right;\n",
              "    }\n",
              "</style>\n",
              "<table border=\"1\" class=\"dataframe\">\n",
              "  <thead>\n",
              "    <tr style=\"text-align: right;\">\n",
              "      <th></th>\n",
              "      <th>lang</th>\n",
              "      <th>text</th>\n",
              "    </tr>\n",
              "  </thead>\n",
              "  <tbody>\n",
              "    <tr>\n",
              "      <th>4419225</th>\n",
              "      <td>ces</td>\n",
              "      <td>Pořád jste na ně naštvaná?</td>\n",
              "    </tr>\n",
              "    <tr>\n",
              "      <th>8113529</th>\n",
              "      <td>ces</td>\n",
              "      <td>Už vyšlo večerní vydání těch novin?</td>\n",
              "    </tr>\n",
              "    <tr>\n",
              "      <th>9693336</th>\n",
              "      <td>nld</td>\n",
              "      <td>Wie won de competitie?</td>\n",
              "    </tr>\n",
              "    <tr>\n",
              "      <th>4128866</th>\n",
              "      <td>mkd</td>\n",
              "      <td>Не е тајна дека мислењето на Том се разликува ...</td>\n",
              "    </tr>\n",
              "    <tr>\n",
              "      <th>489290</th>\n",
              "      <td>ara</td>\n",
              "      <td>هناك ستون ثانية في الدقيقة.</td>\n",
              "    </tr>\n",
              "  </tbody>\n",
              "</table>\n",
              "</div>"
            ],
            "text/plain": [
              "        lang                                               text\n",
              "4419225  ces                         Pořád jste na ně naštvaná?\n",
              "8113529  ces                Už vyšlo večerní vydání těch novin?\n",
              "9693336  nld                             Wie won de competitie?\n",
              "4128866  mkd  Не е тајна дека мислењето на Том се разликува ...\n",
              "489290   ara                        هناك ستون ثانية في الدقيقة."
            ]
          },
          "metadata": {
            "tags": []
          },
          "execution_count": 10
        }
      ]
    },
    {
      "cell_type": "code",
      "metadata": {
        "id": "buwTR_ergDF3"
      },
      "source": [
        "df_shuffle[\"text\"] = df_shuffle[\"text\"].str.lower()"
      ],
      "execution_count": 5,
      "outputs": []
    },
    {
      "cell_type": "code",
      "metadata": {
        "id": "GifgaocJg5PH"
      },
      "source": [
        "df_shuffle[\"text\"] = df_shuffle[\"text\"].str.lower()\n",
        "df_shuffle[\"text\"] = df_shuffle['text'].str.replace(r'[^\\w\\s]+', '')"
      ],
      "execution_count": 6,
      "outputs": []
    },
    {
      "cell_type": "code",
      "metadata": {
        "colab": {
          "base_uri": "https://localhost:8080/",
          "height": 204
        },
        "id": "YcTmzudegU8f",
        "outputId": "6cf51348-bdd5-46ea-dc46-ba45ea056c01"
      },
      "source": [
        "df_shuffle.head()"
      ],
      "execution_count": 7,
      "outputs": [
        {
          "output_type": "execute_result",
          "data": {
            "text/html": [
              "<div>\n",
              "<style scoped>\n",
              "    .dataframe tbody tr th:only-of-type {\n",
              "        vertical-align: middle;\n",
              "    }\n",
              "\n",
              "    .dataframe tbody tr th {\n",
              "        vertical-align: top;\n",
              "    }\n",
              "\n",
              "    .dataframe thead th {\n",
              "        text-align: right;\n",
              "    }\n",
              "</style>\n",
              "<table border=\"1\" class=\"dataframe\">\n",
              "  <thead>\n",
              "    <tr style=\"text-align: right;\">\n",
              "      <th></th>\n",
              "      <th>lang</th>\n",
              "      <th>text</th>\n",
              "    </tr>\n",
              "  </thead>\n",
              "  <tbody>\n",
              "    <tr>\n",
              "      <th>4365812</th>\n",
              "      <td>mkd</td>\n",
              "      <td>сакам да ми го вратат бирото</td>\n",
              "    </tr>\n",
              "    <tr>\n",
              "      <th>6121848</th>\n",
              "      <td>nld</td>\n",
              "      <td>ik kan me dit jaar niet veroorloven op vakanti...</td>\n",
              "    </tr>\n",
              "    <tr>\n",
              "      <th>5843306</th>\n",
              "      <td>srp</td>\n",
              "      <td>gde se sada nalaziš</td>\n",
              "    </tr>\n",
              "    <tr>\n",
              "      <th>4328539</th>\n",
              "      <td>swe</td>\n",
              "      <td>hon stod upp och gick mot fönstret</td>\n",
              "    </tr>\n",
              "    <tr>\n",
              "      <th>8119663</th>\n",
              "      <td>ces</td>\n",
              "      <td>pochybuji že je tom svobodný</td>\n",
              "    </tr>\n",
              "  </tbody>\n",
              "</table>\n",
              "</div>"
            ],
            "text/plain": [
              "        lang                                               text\n",
              "4365812  mkd                       сакам да ми го вратат бирото\n",
              "6121848  nld  ik kan me dit jaar niet veroorloven op vakanti...\n",
              "5843306  srp                                gde se sada nalaziš\n",
              "4328539  swe                 hon stod upp och gick mot fönstret\n",
              "8119663  ces                       pochybuji že je tom svobodný"
            ]
          },
          "metadata": {
            "tags": []
          },
          "execution_count": 7
        }
      ]
    },
    {
      "cell_type": "code",
      "metadata": {
        "colab": {
          "base_uri": "https://localhost:8080/",
          "height": 204
        },
        "id": "ZHqEgGpjfX6r",
        "outputId": "db8cd25d-0d4d-48e0-8a43-98d9f4d7f198"
      },
      "source": [
        "df_shuffle.head()"
      ],
      "execution_count": 33,
      "outputs": [
        {
          "output_type": "execute_result",
          "data": {
            "text/html": [
              "<div>\n",
              "<style scoped>\n",
              "    .dataframe tbody tr th:only-of-type {\n",
              "        vertical-align: middle;\n",
              "    }\n",
              "\n",
              "    .dataframe tbody tr th {\n",
              "        vertical-align: top;\n",
              "    }\n",
              "\n",
              "    .dataframe thead th {\n",
              "        text-align: right;\n",
              "    }\n",
              "</style>\n",
              "<table border=\"1\" class=\"dataframe\">\n",
              "  <thead>\n",
              "    <tr style=\"text-align: right;\">\n",
              "      <th></th>\n",
              "      <th>lang</th>\n",
              "      <th>text</th>\n",
              "    </tr>\n",
              "  </thead>\n",
              "  <tbody>\n",
              "    <tr>\n",
              "      <th>4412129</th>\n",
              "      <td>swe</td>\n",
              "      <td>['j', 'a', 'g', '', 's', 'k', 'a', '', 'b', 'e...</td>\n",
              "    </tr>\n",
              "    <tr>\n",
              "      <th>7788069</th>\n",
              "      <td>lit</td>\n",
              "      <td>['m', 'e', 's', '', 'd', 'e', 'b', 'a', 't', '...</td>\n",
              "    </tr>\n",
              "    <tr>\n",
              "      <th>8615995</th>\n",
              "      <td>fin</td>\n",
              "      <td>['k', 'a', 'i', 'k', 'k', 'i', '', 'n', 'a', '...</td>\n",
              "    </tr>\n",
              "    <tr>\n",
              "      <th>597879</th>\n",
              "      <td>pol</td>\n",
              "      <td>['m', 'u', 's', 'z', 'e', '', 'p', 'o', 'm', '...</td>\n",
              "    </tr>\n",
              "    <tr>\n",
              "      <th>418925</th>\n",
              "      <td>ara</td>\n",
              "      <td>['', '', '', '', '', '', '', '', '', '', '', '...</td>\n",
              "    </tr>\n",
              "  </tbody>\n",
              "</table>\n",
              "</div>"
            ],
            "text/plain": [
              "        lang                                               text\n",
              "4412129  swe  ['j', 'a', 'g', '', 's', 'k', 'a', '', 'b', 'e...\n",
              "7788069  lit  ['m', 'e', 's', '', 'd', 'e', 'b', 'a', 't', '...\n",
              "8615995  fin  ['k', 'a', 'i', 'k', 'k', 'i', '', 'n', 'a', '...\n",
              "597879   pol  ['m', 'u', 's', 'z', 'e', '', 'p', 'o', 'm', '...\n",
              "418925   ara  ['', '', '', '', '', '', '', '', '', '', '', '..."
            ]
          },
          "metadata": {
            "tags": []
          },
          "execution_count": 33
        }
      ]
    },
    {
      "cell_type": "markdown",
      "metadata": {
        "id": "XyVHkQh-sX7E"
      },
      "source": [
        "# Stratified Shuffle split ?\n",
        "\n",
        "Since the number of sentences for different languages are different, A well shuffled dataset would not be "
      ]
    },
    {
      "cell_type": "code",
      "metadata": {
        "id": "rR7S7AT6m5-7"
      },
      "source": [
        "train_set = df_shuffle[:210000]\n",
        "validation_set = df_shuffle[210000: 270000]\n",
        "test_set = df_shuffle[270000:300000]\n"
      ],
      "execution_count": 8,
      "outputs": []
    },
    {
      "cell_type": "code",
      "metadata": {
        "id": "Z8fupHnwzc5u",
        "colab": {
          "base_uri": "https://localhost:8080/"
        },
        "outputId": "72c80f49-dade-4f89-e818-bfbd1cde86a4"
      },
      "source": [
        "train_set.shape"
      ],
      "execution_count": 14,
      "outputs": [
        {
          "output_type": "execute_result",
          "data": {
            "text/plain": [
              "(210000, 2)"
            ]
          },
          "metadata": {
            "tags": []
          },
          "execution_count": 14
        }
      ]
    },
    {
      "cell_type": "code",
      "metadata": {
        "id": "vTAy8tK1m6Bm"
      },
      "source": [
        "# Let's save the data find currently using variables in python\n",
        "train_set.to_csv('train.csv')\n",
        "validation_set.to_csv('valid.csv')\n",
        "test_set.to_csv('test.csv')"
      ],
      "execution_count": null,
      "outputs": []
    },
    {
      "cell_type": "markdown",
      "metadata": {
        "id": "BBza40eBrjMs"
      },
      "source": [
        "After saving let's reset the runtime and load the train, test and validation sets. so that Ram usage is reduced\n"
      ]
    },
    {
      "cell_type": "code",
      "metadata": {
        "id": "irXKm5Iwr2e9"
      },
      "source": [
        "train_set = pd.read_csv(\"train.csv\")\n",
        "validation_set = pd.read_csv(\"valid.csv\")\n",
        "test_set =pd.read_csv(\"test.csv\")"
      ],
      "execution_count": null,
      "outputs": []
    },
    {
      "cell_type": "markdown",
      "metadata": {
        "id": "XiiorzoeAohw"
      },
      "source": [
        "# Feature Engineering\n"
      ]
    },
    {
      "cell_type": "code",
      "metadata": {
        "id": "qPeMYx2Hm6Ei",
        "colab": {
          "base_uri": "https://localhost:8080/"
        },
        "outputId": "611676cb-ce36-418f-d9cd-8ae38a39a0b1"
      },
      "source": [
        "print(len(train_set), len(validation_set), len(test_set))"
      ],
      "execution_count": 19,
      "outputs": [
        {
          "output_type": "stream",
          "text": [
            "210000 60000 30000\n"
          ],
          "name": "stdout"
        }
      ]
    },
    {
      "cell_type": "code",
      "metadata": {
        "id": "FMXPMT20m6Hz",
        "colab": {
          "base_uri": "https://localhost:8080/",
          "height": 204
        },
        "outputId": "a5ec566f-95c7-44db-b54f-6d0e77f2c955"
      },
      "source": [
        "train_set.head()"
      ],
      "execution_count": 19,
      "outputs": [
        {
          "output_type": "execute_result",
          "data": {
            "text/html": [
              "<div>\n",
              "<style scoped>\n",
              "    .dataframe tbody tr th:only-of-type {\n",
              "        vertical-align: middle;\n",
              "    }\n",
              "\n",
              "    .dataframe tbody tr th {\n",
              "        vertical-align: top;\n",
              "    }\n",
              "\n",
              "    .dataframe thead th {\n",
              "        text-align: right;\n",
              "    }\n",
              "</style>\n",
              "<table border=\"1\" class=\"dataframe\">\n",
              "  <thead>\n",
              "    <tr style=\"text-align: right;\">\n",
              "      <th></th>\n",
              "      <th>lang</th>\n",
              "      <th>text</th>\n",
              "    </tr>\n",
              "  </thead>\n",
              "  <tbody>\n",
              "    <tr>\n",
              "      <th>3125066</th>\n",
              "      <td>swe</td>\n",
              "      <td>den här filmen är inte alls bra jo det är den</td>\n",
              "    </tr>\n",
              "    <tr>\n",
              "      <th>9257999</th>\n",
              "      <td>dan</td>\n",
              "      <td>min far gav mig en ny fyldepen</td>\n",
              "    </tr>\n",
              "    <tr>\n",
              "      <th>3287628</th>\n",
              "      <td>srp</td>\n",
              "      <td>zabava je bila uspešna</td>\n",
              "    </tr>\n",
              "    <tr>\n",
              "      <th>563455</th>\n",
              "      <td>lit</td>\n",
              "      <td>vyras paėmė berniuką už rankos</td>\n",
              "    </tr>\n",
              "    <tr>\n",
              "      <th>8260182</th>\n",
              "      <td>nld</td>\n",
              "      <td>ik vraag me af of ik tom echt de waarheid moet...</td>\n",
              "    </tr>\n",
              "  </tbody>\n",
              "</table>\n",
              "</div>"
            ],
            "text/plain": [
              "        lang                                               text\n",
              "3125066  swe      den här filmen är inte alls bra jo det är den\n",
              "9257999  dan                     min far gav mig en ny fyldepen\n",
              "3287628  srp                             zabava je bila uspešna\n",
              "563455   lit                     vyras paėmė berniuką už rankos\n",
              "8260182  nld  ik vraag me af of ik tom echt de waarheid moet..."
            ]
          },
          "metadata": {
            "tags": []
          },
          "execution_count": 19
        }
      ]
    },
    {
      "cell_type": "code",
      "metadata": {
        "id": "h4O1Y3fmm6Kd"
      },
      "source": [
        "def get_trigrams(corpus, num_features = 200):\n",
        "  \"\"\" Returns a list of N most commmon trigrams from a list of \n",
        "      sentences:\n",
        "      corpus: List of strings\n",
        "      num_features: (int) number of features\n",
        "      \"\"\"\n",
        "  vectorizer = CountVectorizer(analyzer= \"char\", ngram_range= (3, 3), max_features= num_features)\n",
        "  X = vectorizer.fit_transform(corpus)\n",
        "\n",
        "  feature_names = vectorizer.get_feature_names()\n",
        "  return feature_names\n"
      ],
      "execution_count": 9,
      "outputs": []
    },
    {
      "cell_type": "code",
      "metadata": {
        "id": "EiYb8bT5m6NU"
      },
      "source": [
        "# get Trigrams for each language\n",
        "\n",
        "features = {}\n",
        "feature_set = set()\n",
        "\n",
        "for l in languages:\n",
        "  corpus = train_set[train_set.lang == l]['text']\n",
        "  # get 200 most frequent trigrams. (num of features can be changed by changing num_features)\n",
        "  trigrams = get_trigrams(corpus, num_features= 200)\n",
        "  features[l] = trigrams\n",
        "  feature_set.update(trigrams)\n",
        "\n"
      ],
      "execution_count": 10,
      "outputs": []
    },
    {
      "cell_type": "code",
      "metadata": {
        "id": "q76ALL5KH9sp"
      },
      "source": [
        "# create a vocabulary using feature set\n",
        "vocab = dict()\n",
        "for i, f in enumerate(feature_set):\n",
        "  vocab[f] = i\n"
      ],
      "execution_count": 11,
      "outputs": []
    },
    {
      "cell_type": "code",
      "metadata": {
        "id": "WECvRL63m6Qw",
        "colab": {
          "base_uri": "https://localhost:8080/"
        },
        "outputId": "df6d63eb-1ef2-493a-c7bf-0c637fdbfc0e"
      },
      "source": [
        "len(features['swe'])\n"
      ],
      "execution_count": 22,
      "outputs": [
        {
          "output_type": "execute_result",
          "data": {
            "text/plain": [
              "200"
            ]
          },
          "metadata": {
            "tags": []
          },
          "execution_count": 22
        }
      ]
    },
    {
      "cell_type": "code",
      "metadata": {
        "id": "sCLnswq7xBcm"
      },
      "source": [
        "import pickle"
      ],
      "execution_count": 13,
      "outputs": []
    },
    {
      "cell_type": "code",
      "metadata": {
        "id": "qobfRva0vAjq"
      },
      "source": [
        "file_to_write = open(\"vocab.pkl\", \"wb\")\n",
        "pickle.dump(vocab, file_to_write)"
      ],
      "execution_count": 14,
      "outputs": []
    },
    {
      "cell_type": "code",
      "metadata": {
        "id": "kQK8ZLx6vcJr"
      },
      "source": [
        ""
      ],
      "execution_count": null,
      "outputs": []
    },
    {
      "cell_type": "code",
      "metadata": {
        "id": "72F8ditAm6TW"
      },
      "source": [
        "# train count vectorizer using the vocabulary\n",
        "vectorizer = CountVectorizer(analyzer= 'char', ngram_range= (3, 3), vocabulary= vocab)\n",
        "\n",
        "# create feature matrix for   training set\n",
        "corpus = train_set['text']\n",
        "X = vectorizer.fit_transform(corpus)\n",
        "feature_names = vectorizer.get_feature_names()\n",
        "train_features = pd.DataFrame(data = X.toarray(), columns = feature_names)\n"
      ],
      "execution_count": 15,
      "outputs": []
    },
    {
      "cell_type": "markdown",
      "metadata": {
        "id": "DU7VSlEXuHlR"
      },
      "source": [
        "Save train_features to csv"
      ]
    },
    {
      "cell_type": "code",
      "metadata": {
        "id": "_0JTergiuHKx",
        "colab": {
          "base_uri": "https://localhost:8080/",
          "height": 306
        },
        "outputId": "4f5bef80-4a67-4be4-83b7-473b7fc40388"
      },
      "source": [
        "train_features.to_csv(\"train_features.csv\")"
      ],
      "execution_count": null,
      "outputs": [
        {
          "output_type": "error",
          "ename": "KeyboardInterrupt",
          "evalue": "ignored",
          "traceback": [
            "\u001b[0;31m---------------------------------------------------------------------------\u001b[0m",
            "\u001b[0;31mKeyboardInterrupt\u001b[0m                         Traceback (most recent call last)",
            "\u001b[0;32m<ipython-input-33-be86b3f94b4c>\u001b[0m in \u001b[0;36m<module>\u001b[0;34m()\u001b[0m\n\u001b[0;32m----> 1\u001b[0;31m \u001b[0mtrain_features\u001b[0m\u001b[0;34m.\u001b[0m\u001b[0mto_csv\u001b[0m\u001b[0;34m(\u001b[0m\u001b[0;34m\"train_features.csv\"\u001b[0m\u001b[0;34m)\u001b[0m\u001b[0;34m\u001b[0m\u001b[0;34m\u001b[0m\u001b[0m\n\u001b[0m",
            "\u001b[0;32m/usr/local/lib/python3.6/dist-packages/pandas/core/generic.py\u001b[0m in \u001b[0;36mto_csv\u001b[0;34m(self, path_or_buf, sep, na_rep, float_format, columns, header, index, index_label, mode, encoding, compression, quoting, quotechar, line_terminator, chunksize, date_format, doublequote, escapechar, decimal, errors)\u001b[0m\n\u001b[1;32m   3168\u001b[0m             \u001b[0mdecimal\u001b[0m\u001b[0;34m=\u001b[0m\u001b[0mdecimal\u001b[0m\u001b[0;34m,\u001b[0m\u001b[0;34m\u001b[0m\u001b[0;34m\u001b[0m\u001b[0m\n\u001b[1;32m   3169\u001b[0m         )\n\u001b[0;32m-> 3170\u001b[0;31m         \u001b[0mformatter\u001b[0m\u001b[0;34m.\u001b[0m\u001b[0msave\u001b[0m\u001b[0;34m(\u001b[0m\u001b[0;34m)\u001b[0m\u001b[0;34m\u001b[0m\u001b[0;34m\u001b[0m\u001b[0m\n\u001b[0m\u001b[1;32m   3171\u001b[0m \u001b[0;34m\u001b[0m\u001b[0m\n\u001b[1;32m   3172\u001b[0m         \u001b[0;32mif\u001b[0m \u001b[0mpath_or_buf\u001b[0m \u001b[0;32mis\u001b[0m \u001b[0;32mNone\u001b[0m\u001b[0;34m:\u001b[0m\u001b[0;34m\u001b[0m\u001b[0;34m\u001b[0m\u001b[0m\n",
            "\u001b[0;32m/usr/local/lib/python3.6/dist-packages/pandas/io/formats/csvs.py\u001b[0m in \u001b[0;36msave\u001b[0;34m(self)\u001b[0m\n\u001b[1;32m    204\u001b[0m             )\n\u001b[1;32m    205\u001b[0m \u001b[0;34m\u001b[0m\u001b[0m\n\u001b[0;32m--> 206\u001b[0;31m             \u001b[0mself\u001b[0m\u001b[0;34m.\u001b[0m\u001b[0m_save\u001b[0m\u001b[0;34m(\u001b[0m\u001b[0;34m)\u001b[0m\u001b[0;34m\u001b[0m\u001b[0;34m\u001b[0m\u001b[0m\n\u001b[0m\u001b[1;32m    207\u001b[0m \u001b[0;34m\u001b[0m\u001b[0m\n\u001b[1;32m    208\u001b[0m         \u001b[0;32mfinally\u001b[0m\u001b[0;34m:\u001b[0m\u001b[0;34m\u001b[0m\u001b[0;34m\u001b[0m\u001b[0m\n",
            "\u001b[0;32m/usr/local/lib/python3.6/dist-packages/pandas/io/formats/csvs.py\u001b[0m in \u001b[0;36m_save\u001b[0;34m(self)\u001b[0m\n\u001b[1;32m    326\u001b[0m                 \u001b[0;32mbreak\u001b[0m\u001b[0;34m\u001b[0m\u001b[0;34m\u001b[0m\u001b[0m\n\u001b[1;32m    327\u001b[0m \u001b[0;34m\u001b[0m\u001b[0m\n\u001b[0;32m--> 328\u001b[0;31m             \u001b[0mself\u001b[0m\u001b[0;34m.\u001b[0m\u001b[0m_save_chunk\u001b[0m\u001b[0;34m(\u001b[0m\u001b[0mstart_i\u001b[0m\u001b[0;34m,\u001b[0m \u001b[0mend_i\u001b[0m\u001b[0;34m)\u001b[0m\u001b[0;34m\u001b[0m\u001b[0;34m\u001b[0m\u001b[0m\n\u001b[0m\u001b[1;32m    329\u001b[0m \u001b[0;34m\u001b[0m\u001b[0m\n\u001b[1;32m    330\u001b[0m     \u001b[0;32mdef\u001b[0m \u001b[0m_save_chunk\u001b[0m\u001b[0;34m(\u001b[0m\u001b[0mself\u001b[0m\u001b[0;34m,\u001b[0m \u001b[0mstart_i\u001b[0m\u001b[0;34m:\u001b[0m \u001b[0mint\u001b[0m\u001b[0;34m,\u001b[0m \u001b[0mend_i\u001b[0m\u001b[0;34m:\u001b[0m \u001b[0mint\u001b[0m\u001b[0;34m)\u001b[0m \u001b[0;34m->\u001b[0m \u001b[0;32mNone\u001b[0m\u001b[0;34m:\u001b[0m\u001b[0;34m\u001b[0m\u001b[0;34m\u001b[0m\u001b[0m\n",
            "\u001b[0;32m/usr/local/lib/python3.6/dist-packages/pandas/io/formats/csvs.py\u001b[0m in \u001b[0;36m_save_chunk\u001b[0;34m(self, start_i, end_i)\u001b[0m\n\u001b[1;32m    360\u001b[0m         )\n\u001b[1;32m    361\u001b[0m \u001b[0;34m\u001b[0m\u001b[0m\n\u001b[0;32m--> 362\u001b[0;31m         \u001b[0mlibwriters\u001b[0m\u001b[0;34m.\u001b[0m\u001b[0mwrite_csv_rows\u001b[0m\u001b[0;34m(\u001b[0m\u001b[0mself\u001b[0m\u001b[0;34m.\u001b[0m\u001b[0mdata\u001b[0m\u001b[0;34m,\u001b[0m \u001b[0mix\u001b[0m\u001b[0;34m,\u001b[0m \u001b[0mself\u001b[0m\u001b[0;34m.\u001b[0m\u001b[0mnlevels\u001b[0m\u001b[0;34m,\u001b[0m \u001b[0mself\u001b[0m\u001b[0;34m.\u001b[0m\u001b[0mcols\u001b[0m\u001b[0;34m,\u001b[0m \u001b[0mself\u001b[0m\u001b[0;34m.\u001b[0m\u001b[0mwriter\u001b[0m\u001b[0;34m)\u001b[0m\u001b[0;34m\u001b[0m\u001b[0;34m\u001b[0m\u001b[0m\n\u001b[0m",
            "\u001b[0;32mpandas/_libs/writers.pyx\u001b[0m in \u001b[0;36mpandas._libs.writers.write_csv_rows\u001b[0;34m()\u001b[0m\n",
            "\u001b[0;31mKeyboardInterrupt\u001b[0m: "
          ]
        }
      ]
    },
    {
      "cell_type": "markdown",
      "metadata": {
        "id": "WSrdp0mwmI9r"
      },
      "source": [
        "On the previous run the colab notebook crashed because of out of memory error\n",
        "By this time the ram is almost completely full. maybe I should write this files into a csv\n"
      ]
    },
    {
      "cell_type": "code",
      "metadata": {
        "id": "b3PZ0c2tm6WW",
        "colab": {
          "base_uri": "https://localhost:8080/",
          "height": 287
        },
        "outputId": "539aedad-7317-41c4-a0cb-6fe6046e0ec4"
      },
      "source": [
        "print(len(train_features.columns))\n",
        "train_features.head()"
      ],
      "execution_count": 23,
      "outputs": [
        {
          "output_type": "stream",
          "text": [
            "1338\n"
          ],
          "name": "stdout"
        },
        {
          "output_type": "execute_result",
          "data": {
            "text/html": [
              "<div>\n",
              "<style scoped>\n",
              "    .dataframe tbody tr th:only-of-type {\n",
              "        vertical-align: middle;\n",
              "    }\n",
              "\n",
              "    .dataframe tbody tr th {\n",
              "        vertical-align: top;\n",
              "    }\n",
              "\n",
              "    .dataframe thead th {\n",
              "        text-align: right;\n",
              "    }\n",
              "</style>\n",
              "<table border=\"1\" class=\"dataframe\">\n",
              "  <thead>\n",
              "    <tr style=\"text-align: right;\">\n",
              "      <th></th>\n",
              "      <th>kan</th>\n",
              "      <th>utt</th>\n",
              "      <th>má</th>\n",
              "      <th>ن أ</th>\n",
              "      <th>le</th>\n",
              "      <th>oit</th>\n",
              "      <th>a v</th>\n",
              "      <th>n j</th>\n",
              "      <th>pad</th>\n",
              "      <th>zia</th>\n",
              "      <th>dig</th>\n",
              "      <th>الج</th>\n",
              "      <th>ة أ</th>\n",
              "      <th>ste</th>\n",
              "      <th>awi</th>\n",
              "      <th>ěl</th>\n",
              "      <th>ve</th>\n",
              "      <th>i j</th>\n",
              "      <th>li</th>\n",
              "      <th>انت</th>\n",
              "      <th>us</th>\n",
              "      <th>الف</th>\n",
              "      <th>да</th>\n",
              "      <th>ei</th>\n",
              "      <th>ба</th>\n",
              "      <th>cza</th>\n",
              "      <th>o z</th>\n",
              "      <th>pri</th>\n",
              "      <th>iał</th>\n",
              "      <th>nij</th>\n",
              "      <th>au</th>\n",
              "      <th>zi</th>\n",
              "      <th>n d</th>\n",
              "      <th>s a</th>\n",
              "      <th>eer</th>\n",
              "      <th>ce</th>\n",
              "      <th>mys</th>\n",
              "      <th>но</th>\n",
              "      <th>eik</th>\n",
              "      <th>omm</th>\n",
              "      <th>...</th>\n",
              "      <th>wee</th>\n",
              "      <th>že</th>\n",
              "      <th>cho</th>\n",
              "      <th>avo</th>\n",
              "      <th>aik</th>\n",
              "      <th>jed</th>\n",
              "      <th>tt</th>\n",
              "      <th>ov</th>\n",
              "      <th>му</th>\n",
              "      <th>men</th>\n",
              "      <th>pr</th>\n",
              "      <th>k w</th>\n",
              "      <th>a o</th>\n",
              "      <th>oet</th>\n",
              "      <th>lä</th>\n",
              "      <th>tää</th>\n",
              "      <th>rna</th>\n",
              "      <th>ذل</th>\n",
              "      <th>е б</th>\n",
              "      <th>co</th>\n",
              "      <th>mis</th>\n",
              "      <th>ikk</th>\n",
              "      <th>cie</th>\n",
              "      <th>att</th>\n",
              "      <th>me</th>\n",
              "      <th>ten</th>\n",
              "      <th>as</th>\n",
              "      <th>ki</th>\n",
              "      <th>cze</th>\n",
              "      <th>mas</th>\n",
              "      <th>tě</th>\n",
              "      <th>ي ت</th>\n",
              "      <th>дам</th>\n",
              "      <th>пом</th>\n",
              "      <th>vr</th>\n",
              "      <th>hod</th>\n",
              "      <th>ето</th>\n",
              "      <th>الأ</th>\n",
              "      <th>na</th>\n",
              "      <th>iek</th>\n",
              "    </tr>\n",
              "  </thead>\n",
              "  <tbody>\n",
              "    <tr>\n",
              "      <th>0</th>\n",
              "      <td>0</td>\n",
              "      <td>0</td>\n",
              "      <td>0</td>\n",
              "      <td>0</td>\n",
              "      <td>0</td>\n",
              "      <td>0</td>\n",
              "      <td>0</td>\n",
              "      <td>0</td>\n",
              "      <td>0</td>\n",
              "      <td>0</td>\n",
              "      <td>0</td>\n",
              "      <td>0</td>\n",
              "      <td>0</td>\n",
              "      <td>0</td>\n",
              "      <td>0</td>\n",
              "      <td>0</td>\n",
              "      <td>0</td>\n",
              "      <td>0</td>\n",
              "      <td>0</td>\n",
              "      <td>0</td>\n",
              "      <td>0</td>\n",
              "      <td>0</td>\n",
              "      <td>0</td>\n",
              "      <td>0</td>\n",
              "      <td>0</td>\n",
              "      <td>0</td>\n",
              "      <td>0</td>\n",
              "      <td>0</td>\n",
              "      <td>0</td>\n",
              "      <td>0</td>\n",
              "      <td>0</td>\n",
              "      <td>0</td>\n",
              "      <td>0</td>\n",
              "      <td>0</td>\n",
              "      <td>0</td>\n",
              "      <td>0</td>\n",
              "      <td>0</td>\n",
              "      <td>0</td>\n",
              "      <td>0</td>\n",
              "      <td>0</td>\n",
              "      <td>...</td>\n",
              "      <td>0</td>\n",
              "      <td>0</td>\n",
              "      <td>0</td>\n",
              "      <td>0</td>\n",
              "      <td>0</td>\n",
              "      <td>0</td>\n",
              "      <td>0</td>\n",
              "      <td>0</td>\n",
              "      <td>0</td>\n",
              "      <td>1</td>\n",
              "      <td>0</td>\n",
              "      <td>0</td>\n",
              "      <td>0</td>\n",
              "      <td>0</td>\n",
              "      <td>0</td>\n",
              "      <td>0</td>\n",
              "      <td>0</td>\n",
              "      <td>0</td>\n",
              "      <td>0</td>\n",
              "      <td>0</td>\n",
              "      <td>0</td>\n",
              "      <td>0</td>\n",
              "      <td>0</td>\n",
              "      <td>0</td>\n",
              "      <td>0</td>\n",
              "      <td>0</td>\n",
              "      <td>0</td>\n",
              "      <td>0</td>\n",
              "      <td>0</td>\n",
              "      <td>0</td>\n",
              "      <td>0</td>\n",
              "      <td>0</td>\n",
              "      <td>0</td>\n",
              "      <td>0</td>\n",
              "      <td>0</td>\n",
              "      <td>0</td>\n",
              "      <td>0</td>\n",
              "      <td>0</td>\n",
              "      <td>0</td>\n",
              "      <td>0</td>\n",
              "    </tr>\n",
              "    <tr>\n",
              "      <th>1</th>\n",
              "      <td>0</td>\n",
              "      <td>0</td>\n",
              "      <td>0</td>\n",
              "      <td>0</td>\n",
              "      <td>0</td>\n",
              "      <td>0</td>\n",
              "      <td>0</td>\n",
              "      <td>0</td>\n",
              "      <td>0</td>\n",
              "      <td>0</td>\n",
              "      <td>0</td>\n",
              "      <td>0</td>\n",
              "      <td>0</td>\n",
              "      <td>0</td>\n",
              "      <td>0</td>\n",
              "      <td>0</td>\n",
              "      <td>0</td>\n",
              "      <td>0</td>\n",
              "      <td>0</td>\n",
              "      <td>0</td>\n",
              "      <td>0</td>\n",
              "      <td>0</td>\n",
              "      <td>0</td>\n",
              "      <td>0</td>\n",
              "      <td>0</td>\n",
              "      <td>0</td>\n",
              "      <td>0</td>\n",
              "      <td>0</td>\n",
              "      <td>0</td>\n",
              "      <td>0</td>\n",
              "      <td>0</td>\n",
              "      <td>0</td>\n",
              "      <td>0</td>\n",
              "      <td>0</td>\n",
              "      <td>0</td>\n",
              "      <td>0</td>\n",
              "      <td>0</td>\n",
              "      <td>0</td>\n",
              "      <td>0</td>\n",
              "      <td>0</td>\n",
              "      <td>...</td>\n",
              "      <td>0</td>\n",
              "      <td>0</td>\n",
              "      <td>0</td>\n",
              "      <td>0</td>\n",
              "      <td>0</td>\n",
              "      <td>0</td>\n",
              "      <td>0</td>\n",
              "      <td>0</td>\n",
              "      <td>0</td>\n",
              "      <td>0</td>\n",
              "      <td>0</td>\n",
              "      <td>0</td>\n",
              "      <td>0</td>\n",
              "      <td>0</td>\n",
              "      <td>0</td>\n",
              "      <td>0</td>\n",
              "      <td>0</td>\n",
              "      <td>0</td>\n",
              "      <td>0</td>\n",
              "      <td>0</td>\n",
              "      <td>0</td>\n",
              "      <td>0</td>\n",
              "      <td>0</td>\n",
              "      <td>0</td>\n",
              "      <td>0</td>\n",
              "      <td>0</td>\n",
              "      <td>0</td>\n",
              "      <td>0</td>\n",
              "      <td>0</td>\n",
              "      <td>0</td>\n",
              "      <td>0</td>\n",
              "      <td>0</td>\n",
              "      <td>0</td>\n",
              "      <td>0</td>\n",
              "      <td>0</td>\n",
              "      <td>0</td>\n",
              "      <td>0</td>\n",
              "      <td>0</td>\n",
              "      <td>0</td>\n",
              "      <td>0</td>\n",
              "    </tr>\n",
              "    <tr>\n",
              "      <th>2</th>\n",
              "      <td>0</td>\n",
              "      <td>0</td>\n",
              "      <td>0</td>\n",
              "      <td>0</td>\n",
              "      <td>0</td>\n",
              "      <td>0</td>\n",
              "      <td>0</td>\n",
              "      <td>0</td>\n",
              "      <td>0</td>\n",
              "      <td>0</td>\n",
              "      <td>0</td>\n",
              "      <td>0</td>\n",
              "      <td>0</td>\n",
              "      <td>0</td>\n",
              "      <td>0</td>\n",
              "      <td>0</td>\n",
              "      <td>0</td>\n",
              "      <td>0</td>\n",
              "      <td>0</td>\n",
              "      <td>0</td>\n",
              "      <td>0</td>\n",
              "      <td>0</td>\n",
              "      <td>0</td>\n",
              "      <td>0</td>\n",
              "      <td>0</td>\n",
              "      <td>0</td>\n",
              "      <td>0</td>\n",
              "      <td>0</td>\n",
              "      <td>0</td>\n",
              "      <td>0</td>\n",
              "      <td>0</td>\n",
              "      <td>0</td>\n",
              "      <td>0</td>\n",
              "      <td>0</td>\n",
              "      <td>0</td>\n",
              "      <td>0</td>\n",
              "      <td>0</td>\n",
              "      <td>0</td>\n",
              "      <td>0</td>\n",
              "      <td>0</td>\n",
              "      <td>...</td>\n",
              "      <td>0</td>\n",
              "      <td>0</td>\n",
              "      <td>0</td>\n",
              "      <td>0</td>\n",
              "      <td>0</td>\n",
              "      <td>0</td>\n",
              "      <td>0</td>\n",
              "      <td>0</td>\n",
              "      <td>0</td>\n",
              "      <td>0</td>\n",
              "      <td>0</td>\n",
              "      <td>0</td>\n",
              "      <td>0</td>\n",
              "      <td>0</td>\n",
              "      <td>0</td>\n",
              "      <td>0</td>\n",
              "      <td>0</td>\n",
              "      <td>0</td>\n",
              "      <td>0</td>\n",
              "      <td>0</td>\n",
              "      <td>0</td>\n",
              "      <td>0</td>\n",
              "      <td>0</td>\n",
              "      <td>0</td>\n",
              "      <td>0</td>\n",
              "      <td>0</td>\n",
              "      <td>0</td>\n",
              "      <td>0</td>\n",
              "      <td>0</td>\n",
              "      <td>0</td>\n",
              "      <td>0</td>\n",
              "      <td>0</td>\n",
              "      <td>0</td>\n",
              "      <td>0</td>\n",
              "      <td>0</td>\n",
              "      <td>0</td>\n",
              "      <td>0</td>\n",
              "      <td>0</td>\n",
              "      <td>0</td>\n",
              "      <td>0</td>\n",
              "    </tr>\n",
              "    <tr>\n",
              "      <th>3</th>\n",
              "      <td>0</td>\n",
              "      <td>0</td>\n",
              "      <td>0</td>\n",
              "      <td>0</td>\n",
              "      <td>0</td>\n",
              "      <td>0</td>\n",
              "      <td>0</td>\n",
              "      <td>0</td>\n",
              "      <td>0</td>\n",
              "      <td>0</td>\n",
              "      <td>0</td>\n",
              "      <td>0</td>\n",
              "      <td>0</td>\n",
              "      <td>0</td>\n",
              "      <td>0</td>\n",
              "      <td>0</td>\n",
              "      <td>0</td>\n",
              "      <td>0</td>\n",
              "      <td>0</td>\n",
              "      <td>0</td>\n",
              "      <td>0</td>\n",
              "      <td>0</td>\n",
              "      <td>0</td>\n",
              "      <td>0</td>\n",
              "      <td>0</td>\n",
              "      <td>0</td>\n",
              "      <td>0</td>\n",
              "      <td>0</td>\n",
              "      <td>0</td>\n",
              "      <td>0</td>\n",
              "      <td>0</td>\n",
              "      <td>0</td>\n",
              "      <td>0</td>\n",
              "      <td>0</td>\n",
              "      <td>0</td>\n",
              "      <td>0</td>\n",
              "      <td>0</td>\n",
              "      <td>0</td>\n",
              "      <td>0</td>\n",
              "      <td>0</td>\n",
              "      <td>...</td>\n",
              "      <td>0</td>\n",
              "      <td>0</td>\n",
              "      <td>0</td>\n",
              "      <td>0</td>\n",
              "      <td>0</td>\n",
              "      <td>0</td>\n",
              "      <td>0</td>\n",
              "      <td>0</td>\n",
              "      <td>0</td>\n",
              "      <td>0</td>\n",
              "      <td>0</td>\n",
              "      <td>0</td>\n",
              "      <td>0</td>\n",
              "      <td>0</td>\n",
              "      <td>0</td>\n",
              "      <td>0</td>\n",
              "      <td>0</td>\n",
              "      <td>0</td>\n",
              "      <td>0</td>\n",
              "      <td>0</td>\n",
              "      <td>0</td>\n",
              "      <td>0</td>\n",
              "      <td>0</td>\n",
              "      <td>0</td>\n",
              "      <td>0</td>\n",
              "      <td>0</td>\n",
              "      <td>1</td>\n",
              "      <td>0</td>\n",
              "      <td>0</td>\n",
              "      <td>0</td>\n",
              "      <td>0</td>\n",
              "      <td>0</td>\n",
              "      <td>0</td>\n",
              "      <td>0</td>\n",
              "      <td>0</td>\n",
              "      <td>0</td>\n",
              "      <td>0</td>\n",
              "      <td>0</td>\n",
              "      <td>0</td>\n",
              "      <td>0</td>\n",
              "    </tr>\n",
              "    <tr>\n",
              "      <th>4</th>\n",
              "      <td>0</td>\n",
              "      <td>0</td>\n",
              "      <td>0</td>\n",
              "      <td>0</td>\n",
              "      <td>0</td>\n",
              "      <td>0</td>\n",
              "      <td>0</td>\n",
              "      <td>0</td>\n",
              "      <td>0</td>\n",
              "      <td>0</td>\n",
              "      <td>0</td>\n",
              "      <td>0</td>\n",
              "      <td>0</td>\n",
              "      <td>0</td>\n",
              "      <td>0</td>\n",
              "      <td>0</td>\n",
              "      <td>1</td>\n",
              "      <td>0</td>\n",
              "      <td>0</td>\n",
              "      <td>0</td>\n",
              "      <td>0</td>\n",
              "      <td>0</td>\n",
              "      <td>0</td>\n",
              "      <td>0</td>\n",
              "      <td>0</td>\n",
              "      <td>0</td>\n",
              "      <td>0</td>\n",
              "      <td>0</td>\n",
              "      <td>0</td>\n",
              "      <td>0</td>\n",
              "      <td>0</td>\n",
              "      <td>0</td>\n",
              "      <td>0</td>\n",
              "      <td>0</td>\n",
              "      <td>0</td>\n",
              "      <td>0</td>\n",
              "      <td>0</td>\n",
              "      <td>0</td>\n",
              "      <td>0</td>\n",
              "      <td>0</td>\n",
              "      <td>...</td>\n",
              "      <td>0</td>\n",
              "      <td>0</td>\n",
              "      <td>0</td>\n",
              "      <td>0</td>\n",
              "      <td>0</td>\n",
              "      <td>0</td>\n",
              "      <td>0</td>\n",
              "      <td>0</td>\n",
              "      <td>0</td>\n",
              "      <td>0</td>\n",
              "      <td>0</td>\n",
              "      <td>0</td>\n",
              "      <td>0</td>\n",
              "      <td>1</td>\n",
              "      <td>0</td>\n",
              "      <td>0</td>\n",
              "      <td>0</td>\n",
              "      <td>0</td>\n",
              "      <td>0</td>\n",
              "      <td>0</td>\n",
              "      <td>0</td>\n",
              "      <td>0</td>\n",
              "      <td>0</td>\n",
              "      <td>0</td>\n",
              "      <td>1</td>\n",
              "      <td>0</td>\n",
              "      <td>0</td>\n",
              "      <td>0</td>\n",
              "      <td>0</td>\n",
              "      <td>0</td>\n",
              "      <td>0</td>\n",
              "      <td>0</td>\n",
              "      <td>0</td>\n",
              "      <td>0</td>\n",
              "      <td>1</td>\n",
              "      <td>0</td>\n",
              "      <td>0</td>\n",
              "      <td>0</td>\n",
              "      <td>0</td>\n",
              "      <td>0</td>\n",
              "    </tr>\n",
              "  </tbody>\n",
              "</table>\n",
              "<p>5 rows × 1338 columns</p>\n",
              "</div>"
            ],
            "text/plain": [
              "   kan  utt   má  ن أ  le   oit  a v  ...  пом   vr  hod  ето  الأ   na  iek\n",
              "0    0    0    0    0    0    0    0  ...    0    0    0    0    0    0    0\n",
              "1    0    0    0    0    0    0    0  ...    0    0    0    0    0    0    0\n",
              "2    0    0    0    0    0    0    0  ...    0    0    0    0    0    0    0\n",
              "3    0    0    0    0    0    0    0  ...    0    0    0    0    0    0    0\n",
              "4    0    0    0    0    0    0    0  ...    0    1    0    0    0    0    0\n",
              "\n",
              "[5 rows x 1338 columns]"
            ]
          },
          "metadata": {
            "tags": []
          },
          "execution_count": 23
        }
      ]
    },
    {
      "cell_type": "markdown",
      "metadata": {
        "id": "sJGe51nUMsLJ"
      },
      "source": [
        "This cell always crashes during execution"
      ]
    },
    {
      "cell_type": "code",
      "metadata": {
        "id": "l5I-utMEm6Y5"
      },
      "source": [
        "# Scaling the feature matrix\n",
        "# train_min = train_features.min()\n",
        "# train_max = train_features.max()\n",
        "# train_features = (train_features - train_min) / (train_max - train_min)\n",
        "\n",
        "\n",
        "\n",
        "# # train_features"
      ],
      "execution_count": null,
      "outputs": []
    },
    {
      "cell_type": "code",
      "metadata": {
        "id": "INnJC1KzbMAQ"
      },
      "source": [
        "# Add the target variable\n",
        "train_features['lang'] = list(train_set['lang'])"
      ],
      "execution_count": 16,
      "outputs": []
    },
    {
      "cell_type": "markdown",
      "metadata": {
        "id": "MHsRFOKTMymn"
      },
      "source": [
        "Let's try standard scaler instead"
      ]
    },
    {
      "cell_type": "code",
      "metadata": {
        "id": "MFZqP6yOm6cI"
      },
      "source": [
        "def feature_matrix_scaled(df):\n",
        "  corpus = df['text']\n",
        "  X = vectorizer.fit_transform(corpus)\n",
        "  df_feat = pd.DataFrame(data= X.toarray(), columns=feature_names)\n",
        "  # df_feat = (df_feat - train_min) / (train_max - train_min)\n",
        "  # add target var\n",
        "  df_feat['lang'] = list(df['lang'])\n",
        "  return df_feat\n",
        "  "
      ],
      "execution_count": 17,
      "outputs": []
    },
    {
      "cell_type": "code",
      "metadata": {
        "id": "soWZJgo8qT2v"
      },
      "source": [
        "train_features = feature_matrix_scaled(train_set)"
      ],
      "execution_count": 18,
      "outputs": []
    },
    {
      "cell_type": "code",
      "metadata": {
        "id": "S2ZQk-pAVF0D",
        "colab": {
          "base_uri": "https://localhost:8080/",
          "height": 270
        },
        "outputId": "6284a2e4-3f8d-4d3d-9851-205e03063bab"
      },
      "source": [
        "valid_feat = feature_matrix_scaled(validation_set)\n",
        "valid_feat.head()"
      ],
      "execution_count": 19,
      "outputs": [
        {
          "output_type": "execute_result",
          "data": {
            "text/html": [
              "<div>\n",
              "<style scoped>\n",
              "    .dataframe tbody tr th:only-of-type {\n",
              "        vertical-align: middle;\n",
              "    }\n",
              "\n",
              "    .dataframe tbody tr th {\n",
              "        vertical-align: top;\n",
              "    }\n",
              "\n",
              "    .dataframe thead th {\n",
              "        text-align: right;\n",
              "    }\n",
              "</style>\n",
              "<table border=\"1\" class=\"dataframe\">\n",
              "  <thead>\n",
              "    <tr style=\"text-align: right;\">\n",
              "      <th></th>\n",
              "      <th>ов</th>\n",
              "      <th>vai</th>\n",
              "      <th>أم</th>\n",
              "      <th>اء</th>\n",
              "      <th>u</th>\n",
              "      <th>hvo</th>\n",
              "      <th>lai</th>\n",
              "      <th>wie</th>\n",
              "      <th>stä</th>\n",
              "      <th>s y</th>\n",
              "      <th>nte</th>\n",
              "      <th>الح</th>\n",
              "      <th>мо</th>\n",
              "      <th>est</th>\n",
              "      <th>al</th>\n",
              "      <th>ver</th>\n",
              "      <th>hän</th>\n",
              "      <th>owa</th>\n",
              "      <th>oti</th>\n",
              "      <th>ga</th>\n",
              "      <th>ن ا</th>\n",
              "      <th>zys</th>\n",
              "      <th>ve</th>\n",
              "      <th>mě</th>\n",
              "      <th>то</th>\n",
              "      <th>ai</th>\n",
              "      <th>dig</th>\n",
              "      <th>يلى</th>\n",
              "      <th>eze</th>\n",
              "      <th>هم</th>\n",
              "      <th>jo</th>\n",
              "      <th>то</th>\n",
              "      <th>eb</th>\n",
              "      <th>buv</th>\n",
              "      <th>tom</th>\n",
              "      <th>ord</th>\n",
              "      <th>ist</th>\n",
              "      <th>cie</th>\n",
              "      <th>edz</th>\n",
              "      <th>هن</th>\n",
              "      <th>...</th>\n",
              "      <th>بة</th>\n",
              "      <th>ير</th>\n",
              "      <th>со</th>\n",
              "      <th>io</th>\n",
              "      <th>ttä</th>\n",
              "      <th>r e</th>\n",
              "      <th>في</th>\n",
              "      <th>du</th>\n",
              "      <th>lä</th>\n",
              "      <th>ci</th>\n",
              "      <th>ud</th>\n",
              "      <th>rac</th>\n",
              "      <th>era</th>\n",
              "      <th>тоа</th>\n",
              "      <th>درس</th>\n",
              "      <th>pom</th>\n",
              "      <th>ma</th>\n",
              "      <th>t s</th>\n",
              "      <th>ör</th>\n",
              "      <th>бе</th>\n",
              "      <th>ри</th>\n",
              "      <th>ske</th>\n",
              "      <th>ine</th>\n",
              "      <th>سا</th>\n",
              "      <th>pa</th>\n",
              "      <th>tie</th>\n",
              "      <th>e z</th>\n",
              "      <th>nge</th>\n",
              "      <th>ga</th>\n",
              "      <th>o w</th>\n",
              "      <th>wsz</th>\n",
              "      <th>tak</th>\n",
              "      <th>vat</th>\n",
              "      <th>ji</th>\n",
              "      <th>шт</th>\n",
              "      <th>o s</th>\n",
              "      <th>ren</th>\n",
              "      <th>su</th>\n",
              "      <th>än</th>\n",
              "      <th>lang</th>\n",
              "    </tr>\n",
              "  </thead>\n",
              "  <tbody>\n",
              "    <tr>\n",
              "      <th>0</th>\n",
              "      <td>0</td>\n",
              "      <td>0</td>\n",
              "      <td>0</td>\n",
              "      <td>0</td>\n",
              "      <td>0</td>\n",
              "      <td>0</td>\n",
              "      <td>0</td>\n",
              "      <td>0</td>\n",
              "      <td>0</td>\n",
              "      <td>0</td>\n",
              "      <td>0</td>\n",
              "      <td>0</td>\n",
              "      <td>0</td>\n",
              "      <td>0</td>\n",
              "      <td>0</td>\n",
              "      <td>0</td>\n",
              "      <td>0</td>\n",
              "      <td>0</td>\n",
              "      <td>0</td>\n",
              "      <td>0</td>\n",
              "      <td>0</td>\n",
              "      <td>0</td>\n",
              "      <td>0</td>\n",
              "      <td>0</td>\n",
              "      <td>0</td>\n",
              "      <td>0</td>\n",
              "      <td>0</td>\n",
              "      <td>0</td>\n",
              "      <td>1</td>\n",
              "      <td>0</td>\n",
              "      <td>0</td>\n",
              "      <td>0</td>\n",
              "      <td>0</td>\n",
              "      <td>0</td>\n",
              "      <td>0</td>\n",
              "      <td>0</td>\n",
              "      <td>0</td>\n",
              "      <td>0</td>\n",
              "      <td>0</td>\n",
              "      <td>0</td>\n",
              "      <td>...</td>\n",
              "      <td>0</td>\n",
              "      <td>0</td>\n",
              "      <td>0</td>\n",
              "      <td>0</td>\n",
              "      <td>0</td>\n",
              "      <td>0</td>\n",
              "      <td>0</td>\n",
              "      <td>0</td>\n",
              "      <td>0</td>\n",
              "      <td>0</td>\n",
              "      <td>0</td>\n",
              "      <td>0</td>\n",
              "      <td>0</td>\n",
              "      <td>0</td>\n",
              "      <td>0</td>\n",
              "      <td>0</td>\n",
              "      <td>0</td>\n",
              "      <td>0</td>\n",
              "      <td>0</td>\n",
              "      <td>0</td>\n",
              "      <td>0</td>\n",
              "      <td>0</td>\n",
              "      <td>0</td>\n",
              "      <td>0</td>\n",
              "      <td>0</td>\n",
              "      <td>0</td>\n",
              "      <td>1</td>\n",
              "      <td>0</td>\n",
              "      <td>0</td>\n",
              "      <td>0</td>\n",
              "      <td>0</td>\n",
              "      <td>1</td>\n",
              "      <td>1</td>\n",
              "      <td>0</td>\n",
              "      <td>0</td>\n",
              "      <td>0</td>\n",
              "      <td>0</td>\n",
              "      <td>0</td>\n",
              "      <td>0</td>\n",
              "      <td>ces</td>\n",
              "    </tr>\n",
              "    <tr>\n",
              "      <th>1</th>\n",
              "      <td>0</td>\n",
              "      <td>0</td>\n",
              "      <td>0</td>\n",
              "      <td>0</td>\n",
              "      <td>0</td>\n",
              "      <td>0</td>\n",
              "      <td>0</td>\n",
              "      <td>0</td>\n",
              "      <td>0</td>\n",
              "      <td>0</td>\n",
              "      <td>0</td>\n",
              "      <td>0</td>\n",
              "      <td>0</td>\n",
              "      <td>0</td>\n",
              "      <td>0</td>\n",
              "      <td>0</td>\n",
              "      <td>0</td>\n",
              "      <td>0</td>\n",
              "      <td>0</td>\n",
              "      <td>0</td>\n",
              "      <td>0</td>\n",
              "      <td>0</td>\n",
              "      <td>0</td>\n",
              "      <td>0</td>\n",
              "      <td>0</td>\n",
              "      <td>0</td>\n",
              "      <td>1</td>\n",
              "      <td>0</td>\n",
              "      <td>0</td>\n",
              "      <td>0</td>\n",
              "      <td>0</td>\n",
              "      <td>0</td>\n",
              "      <td>0</td>\n",
              "      <td>0</td>\n",
              "      <td>1</td>\n",
              "      <td>0</td>\n",
              "      <td>0</td>\n",
              "      <td>0</td>\n",
              "      <td>0</td>\n",
              "      <td>0</td>\n",
              "      <td>...</td>\n",
              "      <td>0</td>\n",
              "      <td>0</td>\n",
              "      <td>0</td>\n",
              "      <td>0</td>\n",
              "      <td>0</td>\n",
              "      <td>0</td>\n",
              "      <td>0</td>\n",
              "      <td>0</td>\n",
              "      <td>0</td>\n",
              "      <td>0</td>\n",
              "      <td>0</td>\n",
              "      <td>0</td>\n",
              "      <td>0</td>\n",
              "      <td>0</td>\n",
              "      <td>0</td>\n",
              "      <td>0</td>\n",
              "      <td>0</td>\n",
              "      <td>0</td>\n",
              "      <td>0</td>\n",
              "      <td>0</td>\n",
              "      <td>0</td>\n",
              "      <td>0</td>\n",
              "      <td>0</td>\n",
              "      <td>0</td>\n",
              "      <td>0</td>\n",
              "      <td>0</td>\n",
              "      <td>0</td>\n",
              "      <td>0</td>\n",
              "      <td>0</td>\n",
              "      <td>0</td>\n",
              "      <td>0</td>\n",
              "      <td>0</td>\n",
              "      <td>0</td>\n",
              "      <td>0</td>\n",
              "      <td>0</td>\n",
              "      <td>0</td>\n",
              "      <td>0</td>\n",
              "      <td>0</td>\n",
              "      <td>0</td>\n",
              "      <td>nld</td>\n",
              "    </tr>\n",
              "    <tr>\n",
              "      <th>2</th>\n",
              "      <td>0</td>\n",
              "      <td>0</td>\n",
              "      <td>0</td>\n",
              "      <td>0</td>\n",
              "      <td>0</td>\n",
              "      <td>0</td>\n",
              "      <td>0</td>\n",
              "      <td>0</td>\n",
              "      <td>0</td>\n",
              "      <td>0</td>\n",
              "      <td>0</td>\n",
              "      <td>0</td>\n",
              "      <td>0</td>\n",
              "      <td>0</td>\n",
              "      <td>0</td>\n",
              "      <td>0</td>\n",
              "      <td>0</td>\n",
              "      <td>0</td>\n",
              "      <td>0</td>\n",
              "      <td>0</td>\n",
              "      <td>0</td>\n",
              "      <td>0</td>\n",
              "      <td>0</td>\n",
              "      <td>0</td>\n",
              "      <td>1</td>\n",
              "      <td>0</td>\n",
              "      <td>0</td>\n",
              "      <td>0</td>\n",
              "      <td>0</td>\n",
              "      <td>0</td>\n",
              "      <td>0</td>\n",
              "      <td>0</td>\n",
              "      <td>0</td>\n",
              "      <td>0</td>\n",
              "      <td>0</td>\n",
              "      <td>0</td>\n",
              "      <td>0</td>\n",
              "      <td>0</td>\n",
              "      <td>0</td>\n",
              "      <td>0</td>\n",
              "      <td>...</td>\n",
              "      <td>0</td>\n",
              "      <td>0</td>\n",
              "      <td>0</td>\n",
              "      <td>0</td>\n",
              "      <td>0</td>\n",
              "      <td>0</td>\n",
              "      <td>0</td>\n",
              "      <td>0</td>\n",
              "      <td>0</td>\n",
              "      <td>0</td>\n",
              "      <td>0</td>\n",
              "      <td>0</td>\n",
              "      <td>0</td>\n",
              "      <td>1</td>\n",
              "      <td>0</td>\n",
              "      <td>0</td>\n",
              "      <td>0</td>\n",
              "      <td>0</td>\n",
              "      <td>0</td>\n",
              "      <td>0</td>\n",
              "      <td>0</td>\n",
              "      <td>0</td>\n",
              "      <td>0</td>\n",
              "      <td>0</td>\n",
              "      <td>0</td>\n",
              "      <td>0</td>\n",
              "      <td>0</td>\n",
              "      <td>0</td>\n",
              "      <td>0</td>\n",
              "      <td>0</td>\n",
              "      <td>0</td>\n",
              "      <td>0</td>\n",
              "      <td>0</td>\n",
              "      <td>0</td>\n",
              "      <td>1</td>\n",
              "      <td>0</td>\n",
              "      <td>0</td>\n",
              "      <td>0</td>\n",
              "      <td>0</td>\n",
              "      <td>mkd</td>\n",
              "    </tr>\n",
              "    <tr>\n",
              "      <th>3</th>\n",
              "      <td>0</td>\n",
              "      <td>0</td>\n",
              "      <td>0</td>\n",
              "      <td>0</td>\n",
              "      <td>0</td>\n",
              "      <td>0</td>\n",
              "      <td>0</td>\n",
              "      <td>0</td>\n",
              "      <td>0</td>\n",
              "      <td>0</td>\n",
              "      <td>0</td>\n",
              "      <td>0</td>\n",
              "      <td>0</td>\n",
              "      <td>0</td>\n",
              "      <td>0</td>\n",
              "      <td>2</td>\n",
              "      <td>0</td>\n",
              "      <td>0</td>\n",
              "      <td>0</td>\n",
              "      <td>0</td>\n",
              "      <td>0</td>\n",
              "      <td>0</td>\n",
              "      <td>1</td>\n",
              "      <td>0</td>\n",
              "      <td>0</td>\n",
              "      <td>0</td>\n",
              "      <td>0</td>\n",
              "      <td>0</td>\n",
              "      <td>0</td>\n",
              "      <td>0</td>\n",
              "      <td>0</td>\n",
              "      <td>0</td>\n",
              "      <td>0</td>\n",
              "      <td>0</td>\n",
              "      <td>0</td>\n",
              "      <td>0</td>\n",
              "      <td>0</td>\n",
              "      <td>0</td>\n",
              "      <td>0</td>\n",
              "      <td>0</td>\n",
              "      <td>...</td>\n",
              "      <td>0</td>\n",
              "      <td>0</td>\n",
              "      <td>0</td>\n",
              "      <td>0</td>\n",
              "      <td>0</td>\n",
              "      <td>0</td>\n",
              "      <td>0</td>\n",
              "      <td>0</td>\n",
              "      <td>0</td>\n",
              "      <td>0</td>\n",
              "      <td>0</td>\n",
              "      <td>0</td>\n",
              "      <td>0</td>\n",
              "      <td>0</td>\n",
              "      <td>0</td>\n",
              "      <td>0</td>\n",
              "      <td>0</td>\n",
              "      <td>0</td>\n",
              "      <td>0</td>\n",
              "      <td>0</td>\n",
              "      <td>0</td>\n",
              "      <td>0</td>\n",
              "      <td>0</td>\n",
              "      <td>0</td>\n",
              "      <td>0</td>\n",
              "      <td>1</td>\n",
              "      <td>0</td>\n",
              "      <td>0</td>\n",
              "      <td>0</td>\n",
              "      <td>0</td>\n",
              "      <td>0</td>\n",
              "      <td>0</td>\n",
              "      <td>0</td>\n",
              "      <td>0</td>\n",
              "      <td>0</td>\n",
              "      <td>0</td>\n",
              "      <td>0</td>\n",
              "      <td>0</td>\n",
              "      <td>0</td>\n",
              "      <td>nld</td>\n",
              "    </tr>\n",
              "    <tr>\n",
              "      <th>4</th>\n",
              "      <td>0</td>\n",
              "      <td>0</td>\n",
              "      <td>0</td>\n",
              "      <td>0</td>\n",
              "      <td>0</td>\n",
              "      <td>0</td>\n",
              "      <td>0</td>\n",
              "      <td>0</td>\n",
              "      <td>0</td>\n",
              "      <td>0</td>\n",
              "      <td>0</td>\n",
              "      <td>0</td>\n",
              "      <td>0</td>\n",
              "      <td>0</td>\n",
              "      <td>0</td>\n",
              "      <td>1</td>\n",
              "      <td>0</td>\n",
              "      <td>0</td>\n",
              "      <td>0</td>\n",
              "      <td>0</td>\n",
              "      <td>0</td>\n",
              "      <td>0</td>\n",
              "      <td>0</td>\n",
              "      <td>0</td>\n",
              "      <td>0</td>\n",
              "      <td>0</td>\n",
              "      <td>0</td>\n",
              "      <td>0</td>\n",
              "      <td>0</td>\n",
              "      <td>0</td>\n",
              "      <td>0</td>\n",
              "      <td>0</td>\n",
              "      <td>0</td>\n",
              "      <td>0</td>\n",
              "      <td>0</td>\n",
              "      <td>0</td>\n",
              "      <td>0</td>\n",
              "      <td>0</td>\n",
              "      <td>0</td>\n",
              "      <td>0</td>\n",
              "      <td>...</td>\n",
              "      <td>0</td>\n",
              "      <td>0</td>\n",
              "      <td>0</td>\n",
              "      <td>0</td>\n",
              "      <td>0</td>\n",
              "      <td>0</td>\n",
              "      <td>0</td>\n",
              "      <td>0</td>\n",
              "      <td>0</td>\n",
              "      <td>0</td>\n",
              "      <td>0</td>\n",
              "      <td>0</td>\n",
              "      <td>0</td>\n",
              "      <td>0</td>\n",
              "      <td>0</td>\n",
              "      <td>0</td>\n",
              "      <td>0</td>\n",
              "      <td>0</td>\n",
              "      <td>0</td>\n",
              "      <td>0</td>\n",
              "      <td>0</td>\n",
              "      <td>0</td>\n",
              "      <td>0</td>\n",
              "      <td>0</td>\n",
              "      <td>0</td>\n",
              "      <td>0</td>\n",
              "      <td>0</td>\n",
              "      <td>0</td>\n",
              "      <td>0</td>\n",
              "      <td>0</td>\n",
              "      <td>0</td>\n",
              "      <td>0</td>\n",
              "      <td>0</td>\n",
              "      <td>0</td>\n",
              "      <td>0</td>\n",
              "      <td>0</td>\n",
              "      <td>0</td>\n",
              "      <td>0</td>\n",
              "      <td>0</td>\n",
              "      <td>swe</td>\n",
              "    </tr>\n",
              "  </tbody>\n",
              "</table>\n",
              "<p>5 rows × 1339 columns</p>\n",
              "</div>"
            ],
            "text/plain": [
              "    ов  vai   أم  اء    u   hvo  lai  ...   ji   шт  o s  ren   su  än   lang\n",
              "0    0    0    0    0    0    0    0  ...    0    0    0    0    0    0   ces\n",
              "1    0    0    0    0    0    0    0  ...    0    0    0    0    0    0   nld\n",
              "2    0    0    0    0    0    0    0  ...    0    1    0    0    0    0   mkd\n",
              "3    0    0    0    0    0    0    0  ...    0    0    0    0    0    0   nld\n",
              "4    0    0    0    0    0    0    0  ...    0    0    0    0    0    0   swe\n",
              "\n",
              "[5 rows x 1339 columns]"
            ]
          },
          "metadata": {
            "tags": []
          },
          "execution_count": 19
        }
      ]
    },
    {
      "cell_type": "code",
      "metadata": {
        "id": "yz4IerqlVFx2"
      },
      "source": [
        "test_feat = feature_matrix_scaled(test_set)\n"
      ],
      "execution_count": 20,
      "outputs": []
    },
    {
      "cell_type": "markdown",
      "metadata": {
        "id": "m5IKlDjhjFDs"
      },
      "source": [
        "# Nulling usedvariables "
      ]
    },
    {
      "cell_type": "code",
      "metadata": {
        "colab": {
          "base_uri": "https://localhost:8080/"
        },
        "id": "fPJHMcr_jJrv",
        "outputId": "0b129790-5f10-4911-fede-9a79bb68d6ca"
      },
      "source": [
        "%whos"
      ],
      "execution_count": 29,
      "outputs": [
        {
          "output_type": "stream",
          "text": [
            "Variable                Type               Data/Info\n",
            "----------------------------------------------------\n",
            "CountVectorizer         type               <class 'sklearn.feature_e<...>on.text.CountVectorizer'>\n",
            "MinMaxScaler            type               <class 'sklearn.preproces<...>sing._data.MinMaxScaler'>\n",
            "X                       csr_matrix           (0, 46)\t1\\n  (0, 86)\t1\\<...>18)\t1\\n  (209999, 1251)\t1\n",
            "accuracy_score          function           <function accuracy_score at 0x7fb99ed3e840>\n",
            "confusion_matrix        function           <function confusion_matrix at 0x7fb99ed3e8c8>\n",
            "corpus                  Series             3125066        den här fi<...>th: 210000, dtype: object\n",
            "df                      DataFrame                  lang             <...>[573522 rows x 2 columns]\n",
            "df_shuffle              DataFrame                  lang             <...>[500000 rows x 2 columns]\n",
            "df_trim                 DataFrame                  lang             <...>[500000 rows x 2 columns]\n",
            "f                       str                iek\n",
            "feature_matrix_scaled   function           <function feature_matrix_<...>scaled at 0x7fb9699729d8>\n",
            "feature_names           list               n=1338\n",
            "feature_set             set                {'kan', 'utt', ' má', 'ن <...>то', 'الأ', ' na', 'iek'}\n",
            "features                dict               n=10\n",
            "get_trigrams            function           <function get_trigrams at 0x7fb9360aed08>\n",
            "i                       int                1337\n",
            "keras                   module             <module 'tensorflow.keras<...>rflow/keras/__init__.py'>\n",
            "l                       str                srp\n",
            "lang_trim               DataFrame                  lang             <...>n[50000 rows x 2 columns]\n",
            "languages               list               n=10\n",
            "length_condition        list               n=9289126\n",
            "np                      module             <module 'numpy' from '/us<...>kages/numpy/__init__.py'>\n",
            "pd                      module             <module 'pandas' from '/u<...>ages/pandas/__init__.py'>\n",
            "plt                     module             <module 'matplotlib.pyplo<...>es/matplotlib/pyplot.py'>\n",
            "sns                     module             <module 'seaborn' from '/<...>ges/seaborn/__init__.py'>\n",
            "test_feat               DataFrame                 kan  utt   má  ن أ<...>0000 rows x 1339 columns]\n",
            "test_set                DataFrame                  lang             <...>n[30000 rows x 2 columns]\n",
            "tf                      module             <module 'tensorflow' from<...>/tensorflow/__init__.py'>\n",
            "total_lang              ndarray            371: 371 elems, type `object`, 2968 bytes\n",
            "train_features          DataFrame                  kan  utt   má  ن <...>0000 rows x 1339 columns]\n",
            "train_set               DataFrame                  lang             <...>[210000 rows x 2 columns]\n",
            "train_test_split        function           <function train_test_split at 0x7fb99f4a4ae8>\n",
            "trigrams                list               n=200\n",
            "valid_feat              DataFrame                 kan  utt   má  ن أ<...>0000 rows x 1339 columns]\n",
            "validation_set          DataFrame                  lang             <...>n[60000 rows x 2 columns]\n",
            "vectorizer              CountVectorizer    CountVectorizer(analyzer=<...>': 425, ' ee': 304, ...})\n",
            "vocab                   dict               n=1338\n"
          ],
          "name": "stdout"
        }
      ]
    },
    {
      "cell_type": "code",
      "metadata": {
        "id": "XduRjwK7j13F"
      },
      "source": [
        "df = []\n",
        "df_trim = []\n",
        "df_shuffle = []\n"
      ],
      "execution_count": 30,
      "outputs": []
    },
    {
      "cell_type": "code",
      "metadata": {
        "colab": {
          "base_uri": "https://localhost:8080/"
        },
        "id": "lm7gkETNkJLZ",
        "outputId": "47b3d74e-b21f-42ed-8043-80eea7137f00"
      },
      "source": [
        "%whos"
      ],
      "execution_count": 31,
      "outputs": [
        {
          "output_type": "stream",
          "text": [
            "Variable                Type               Data/Info\n",
            "----------------------------------------------------\n",
            "CountVectorizer         type               <class 'sklearn.feature_e<...>on.text.CountVectorizer'>\n",
            "MinMaxScaler            type               <class 'sklearn.preproces<...>sing._data.MinMaxScaler'>\n",
            "X                       csr_matrix           (0, 46)\t1\\n  (0, 86)\t1\\<...>18)\t1\\n  (209999, 1251)\t1\n",
            "accuracy_score          function           <function accuracy_score at 0x7fb99ed3e840>\n",
            "confusion_matrix        function           <function confusion_matrix at 0x7fb99ed3e8c8>\n",
            "corpus                  Series             3125066        den här fi<...>th: 210000, dtype: object\n",
            "df                      list               n=0\n",
            "df_shuffle              list               n=0\n",
            "df_trim                 list               n=0\n",
            "f                       str                iek\n",
            "feature_matrix_scaled   function           <function feature_matrix_<...>scaled at 0x7fb9699729d8>\n",
            "feature_names           list               n=1338\n",
            "feature_set             set                {'kan', 'utt', ' má', 'ن <...>то', 'الأ', ' na', 'iek'}\n",
            "features                dict               n=10\n",
            "get_trigrams            function           <function get_trigrams at 0x7fb9360aed08>\n",
            "i                       int                1337\n",
            "keras                   module             <module 'tensorflow.keras<...>rflow/keras/__init__.py'>\n",
            "l                       str                srp\n",
            "lang_trim               DataFrame                  lang             <...>n[50000 rows x 2 columns]\n",
            "languages               list               n=10\n",
            "length_condition        list               n=9289126\n",
            "np                      module             <module 'numpy' from '/us<...>kages/numpy/__init__.py'>\n",
            "pd                      module             <module 'pandas' from '/u<...>ages/pandas/__init__.py'>\n",
            "plt                     module             <module 'matplotlib.pyplo<...>es/matplotlib/pyplot.py'>\n",
            "sns                     module             <module 'seaborn' from '/<...>ges/seaborn/__init__.py'>\n",
            "test_feat               DataFrame                 kan  utt   má  ن أ<...>0000 rows x 1339 columns]\n",
            "test_set                DataFrame                  lang             <...>n[30000 rows x 2 columns]\n",
            "tf                      module             <module 'tensorflow' from<...>/tensorflow/__init__.py'>\n",
            "total_lang              ndarray            371: 371 elems, type `object`, 2968 bytes\n",
            "train_features          DataFrame                  kan  utt   má  ن <...>0000 rows x 1339 columns]\n",
            "train_set               DataFrame                  lang             <...>[210000 rows x 2 columns]\n",
            "train_test_split        function           <function train_test_split at 0x7fb99f4a4ae8>\n",
            "trigrams                list               n=200\n",
            "valid_feat              DataFrame                 kan  utt   má  ن أ<...>0000 rows x 1339 columns]\n",
            "validation_set          DataFrame                  lang             <...>n[60000 rows x 2 columns]\n",
            "vectorizer              CountVectorizer    CountVectorizer(analyzer=<...>': 425, ' ee': 304, ...})\n",
            "vocab                   dict               n=1338\n"
          ],
          "name": "stdout"
        }
      ]
    },
    {
      "cell_type": "markdown",
      "metadata": {
        "id": "QmmXDCNBQuaL"
      },
      "source": [
        "# save the feature columns \n",
        "save and restart the runtime"
      ]
    },
    {
      "cell_type": "code",
      "metadata": {
        "id": "P8NcvOZ-Omo-"
      },
      "source": [
        "train_features.to_csv(\"train_features.csv\")\n",
        "test_feat.to_csv(\"test_feat.csv\")\n",
        "valid_feat.to_csv(\"valid_feat.csv\")\n"
      ],
      "execution_count": null,
      "outputs": []
    },
    {
      "cell_type": "code",
      "metadata": {
        "id": "TF7R-8KNRK-T"
      },
      "source": [
        "# Load the features again\n",
        "\n",
        "train_features = pd.read_csv(\"train_features.csv\")\n",
        "test_feat = pd.read_csv(\"test_feat.csv\")\n",
        "valid_feat = pd.read_csv(\"valid_feat.csv\")"
      ],
      "execution_count": null,
      "outputs": []
    },
    {
      "cell_type": "code",
      "metadata": {
        "id": "6dyPuUNLVFuk",
        "colab": {
          "base_uri": "https://localhost:8080/"
        },
        "outputId": "fafa1e31-ac44-451e-808e-df14f9d1aa12"
      },
      "source": [
        "print(len(valid_feat.columns),len(test_feat.columns))\n",
        "print(len(train_features),len(valid_feat),len(test_feat))"
      ],
      "execution_count": null,
      "outputs": [
        {
          "output_type": "stream",
          "text": [
            "1354 1354\n",
            "210000 60000 30000\n"
          ],
          "name": "stdout"
        }
      ]
    },
    {
      "cell_type": "markdown",
      "metadata": {
        "id": "JmqEHFBFXInq"
      },
      "source": [
        "# Exploratory Data Analysis"
      ]
    },
    {
      "cell_type": "code",
      "metadata": {
        "colab": {
          "base_uri": "https://localhost:8080/",
          "height": 619
        },
        "id": "7hH9EWkgVFsC",
        "outputId": "21c0d1b3-8eca-483c-f209-838a34bdc81a"
      },
      "source": [
        "#Calculate number of shared trigrams\n",
        "labels = ['nld', 'fin', 'pol', 'lit', 'ces', 'swe', 'ara','mkd', 'dan','srp']# 10 languages\n",
        "\n",
        "mat = []\n",
        "for i in labels:\n",
        "    vec = []\n",
        "    for j in labels:\n",
        "        l1 = features[i]\n",
        "        l2 = features[j]\n",
        "        intersec = [l for l in l1 if l in l2]\n",
        "\n",
        "\n",
        "        vec.append(len(intersec))\n",
        "    mat.append(vec)\n",
        "\n",
        "#Plot heatmap\n",
        "lang = ['nld', 'fin', 'pol', 'lit', 'ces', 'swe', 'ara','mkd', 'dan','srp']# 10 languages\n",
        "conf_matrix_df = pd.DataFrame(mat,columns=lang,index=lang)\n",
        "\n",
        "\n",
        "plt.figure(figsize=(10, 10), facecolor='w', edgecolor='k')\n",
        "sns.set(font_scale=1.5)\n",
        "sns.heatmap(conf_matrix_df,cmap='coolwarm',annot=True,fmt='.5g',cbar=False)\n",
        "\n",
        "\n",
        "\n",
        "# plt.savefig('../figures/feat_explore.png',format='png',dpi=150)"
      ],
      "execution_count": 21,
      "outputs": [
        {
          "output_type": "execute_result",
          "data": {
            "text/plain": [
              "<matplotlib.axes._subplots.AxesSubplot at 0x7f6099cb90b8>"
            ]
          },
          "metadata": {
            "tags": []
          },
          "execution_count": 21
        },
        {
          "output_type": "display_data",
          "data": {
            "image/png": "[encoded data removed]",
            "text/plain": [
              "<Figure size 720x720 with 1 Axes>"
            ]
          },
          "metadata": {
            "tags": []
          }
        }
      ]
    },
    {
      "cell_type": "markdown",
      "metadata": {
        "id": "L_nvo8MGnozP"
      },
      "source": [
        "# Modelling and Hyperparameter tuning"
      ]
    },
    {
      "cell_type": "code",
      "metadata": {
        "id": "NnH7H2MPVFpV"
      },
      "source": [
        "from sklearn.preprocessing import LabelEncoder\n",
        "import tensorflow as tf\n",
        "from tensorflow import keras\n",
        "from keras.utils import np_utils\n",
        "\n",
        "encoder = LabelEncoder()\n",
        "encoder.fit(labels)\n",
        "\n",
        "def encode(y):\n",
        "  \"\"\" Returns a list of one hot encodings; \n",
        "  y = list of language labels\"\"\"\n",
        "  y_encoded = encoder.transform(y)\n",
        "  return np_utils.to_categorical(y_encoded)\n",
        "  "
      ],
      "execution_count": 22,
      "outputs": []
    },
    {
      "cell_type": "code",
      "metadata": {
        "colab": {
          "base_uri": "https://localhost:8080/",
          "height": 239
        },
        "id": "qo-s9Q9OWMED",
        "outputId": "9920a66a-1baf-41ac-ed37-3e0b7ac97d4a"
      },
      "source": [
        "train_features.head(4)"
      ],
      "execution_count": 23,
      "outputs": [
        {
          "output_type": "execute_result",
          "data": {
            "text/html": [
              "<div>\n",
              "<style scoped>\n",
              "    .dataframe tbody tr th:only-of-type {\n",
              "        vertical-align: middle;\n",
              "    }\n",
              "\n",
              "    .dataframe tbody tr th {\n",
              "        vertical-align: top;\n",
              "    }\n",
              "\n",
              "    .dataframe thead th {\n",
              "        text-align: right;\n",
              "    }\n",
              "</style>\n",
              "<table border=\"1\" class=\"dataframe\">\n",
              "  <thead>\n",
              "    <tr style=\"text-align: right;\">\n",
              "      <th></th>\n",
              "      <th>ов</th>\n",
              "      <th>vai</th>\n",
              "      <th>أم</th>\n",
              "      <th>اء</th>\n",
              "      <th>u</th>\n",
              "      <th>hvo</th>\n",
              "      <th>lai</th>\n",
              "      <th>wie</th>\n",
              "      <th>stä</th>\n",
              "      <th>s y</th>\n",
              "      <th>nte</th>\n",
              "      <th>الح</th>\n",
              "      <th>мо</th>\n",
              "      <th>est</th>\n",
              "      <th>al</th>\n",
              "      <th>ver</th>\n",
              "      <th>hän</th>\n",
              "      <th>owa</th>\n",
              "      <th>oti</th>\n",
              "      <th>ga</th>\n",
              "      <th>ن ا</th>\n",
              "      <th>zys</th>\n",
              "      <th>ve</th>\n",
              "      <th>mě</th>\n",
              "      <th>то</th>\n",
              "      <th>ai</th>\n",
              "      <th>dig</th>\n",
              "      <th>يلى</th>\n",
              "      <th>eze</th>\n",
              "      <th>هم</th>\n",
              "      <th>jo</th>\n",
              "      <th>то</th>\n",
              "      <th>eb</th>\n",
              "      <th>buv</th>\n",
              "      <th>tom</th>\n",
              "      <th>ord</th>\n",
              "      <th>ist</th>\n",
              "      <th>cie</th>\n",
              "      <th>edz</th>\n",
              "      <th>هن</th>\n",
              "      <th>...</th>\n",
              "      <th>بة</th>\n",
              "      <th>ير</th>\n",
              "      <th>со</th>\n",
              "      <th>io</th>\n",
              "      <th>ttä</th>\n",
              "      <th>r e</th>\n",
              "      <th>في</th>\n",
              "      <th>du</th>\n",
              "      <th>lä</th>\n",
              "      <th>ci</th>\n",
              "      <th>ud</th>\n",
              "      <th>rac</th>\n",
              "      <th>era</th>\n",
              "      <th>тоа</th>\n",
              "      <th>درس</th>\n",
              "      <th>pom</th>\n",
              "      <th>ma</th>\n",
              "      <th>t s</th>\n",
              "      <th>ör</th>\n",
              "      <th>бе</th>\n",
              "      <th>ри</th>\n",
              "      <th>ske</th>\n",
              "      <th>ine</th>\n",
              "      <th>سا</th>\n",
              "      <th>pa</th>\n",
              "      <th>tie</th>\n",
              "      <th>e z</th>\n",
              "      <th>nge</th>\n",
              "      <th>ga</th>\n",
              "      <th>o w</th>\n",
              "      <th>wsz</th>\n",
              "      <th>tak</th>\n",
              "      <th>vat</th>\n",
              "      <th>ji</th>\n",
              "      <th>шт</th>\n",
              "      <th>o s</th>\n",
              "      <th>ren</th>\n",
              "      <th>su</th>\n",
              "      <th>än</th>\n",
              "      <th>lang</th>\n",
              "    </tr>\n",
              "  </thead>\n",
              "  <tbody>\n",
              "    <tr>\n",
              "      <th>0</th>\n",
              "      <td>0</td>\n",
              "      <td>0</td>\n",
              "      <td>0</td>\n",
              "      <td>0</td>\n",
              "      <td>0</td>\n",
              "      <td>0</td>\n",
              "      <td>0</td>\n",
              "      <td>0</td>\n",
              "      <td>0</td>\n",
              "      <td>0</td>\n",
              "      <td>0</td>\n",
              "      <td>0</td>\n",
              "      <td>0</td>\n",
              "      <td>0</td>\n",
              "      <td>0</td>\n",
              "      <td>0</td>\n",
              "      <td>0</td>\n",
              "      <td>0</td>\n",
              "      <td>0</td>\n",
              "      <td>0</td>\n",
              "      <td>0</td>\n",
              "      <td>0</td>\n",
              "      <td>0</td>\n",
              "      <td>0</td>\n",
              "      <td>0</td>\n",
              "      <td>0</td>\n",
              "      <td>0</td>\n",
              "      <td>0</td>\n",
              "      <td>0</td>\n",
              "      <td>0</td>\n",
              "      <td>0</td>\n",
              "      <td>0</td>\n",
              "      <td>0</td>\n",
              "      <td>0</td>\n",
              "      <td>0</td>\n",
              "      <td>0</td>\n",
              "      <td>0</td>\n",
              "      <td>0</td>\n",
              "      <td>0</td>\n",
              "      <td>0</td>\n",
              "      <td>...</td>\n",
              "      <td>0</td>\n",
              "      <td>0</td>\n",
              "      <td>0</td>\n",
              "      <td>0</td>\n",
              "      <td>0</td>\n",
              "      <td>0</td>\n",
              "      <td>0</td>\n",
              "      <td>0</td>\n",
              "      <td>0</td>\n",
              "      <td>0</td>\n",
              "      <td>0</td>\n",
              "      <td>0</td>\n",
              "      <td>0</td>\n",
              "      <td>0</td>\n",
              "      <td>0</td>\n",
              "      <td>0</td>\n",
              "      <td>0</td>\n",
              "      <td>0</td>\n",
              "      <td>0</td>\n",
              "      <td>0</td>\n",
              "      <td>0</td>\n",
              "      <td>0</td>\n",
              "      <td>0</td>\n",
              "      <td>0</td>\n",
              "      <td>0</td>\n",
              "      <td>0</td>\n",
              "      <td>0</td>\n",
              "      <td>0</td>\n",
              "      <td>0</td>\n",
              "      <td>0</td>\n",
              "      <td>0</td>\n",
              "      <td>0</td>\n",
              "      <td>0</td>\n",
              "      <td>0</td>\n",
              "      <td>0</td>\n",
              "      <td>0</td>\n",
              "      <td>0</td>\n",
              "      <td>0</td>\n",
              "      <td>0</td>\n",
              "      <td>mkd</td>\n",
              "    </tr>\n",
              "    <tr>\n",
              "      <th>1</th>\n",
              "      <td>0</td>\n",
              "      <td>0</td>\n",
              "      <td>0</td>\n",
              "      <td>0</td>\n",
              "      <td>0</td>\n",
              "      <td>0</td>\n",
              "      <td>0</td>\n",
              "      <td>0</td>\n",
              "      <td>0</td>\n",
              "      <td>0</td>\n",
              "      <td>0</td>\n",
              "      <td>0</td>\n",
              "      <td>0</td>\n",
              "      <td>0</td>\n",
              "      <td>0</td>\n",
              "      <td>1</td>\n",
              "      <td>0</td>\n",
              "      <td>0</td>\n",
              "      <td>0</td>\n",
              "      <td>0</td>\n",
              "      <td>0</td>\n",
              "      <td>0</td>\n",
              "      <td>1</td>\n",
              "      <td>0</td>\n",
              "      <td>0</td>\n",
              "      <td>0</td>\n",
              "      <td>0</td>\n",
              "      <td>0</td>\n",
              "      <td>0</td>\n",
              "      <td>0</td>\n",
              "      <td>0</td>\n",
              "      <td>0</td>\n",
              "      <td>0</td>\n",
              "      <td>0</td>\n",
              "      <td>0</td>\n",
              "      <td>0</td>\n",
              "      <td>0</td>\n",
              "      <td>0</td>\n",
              "      <td>0</td>\n",
              "      <td>0</td>\n",
              "      <td>...</td>\n",
              "      <td>0</td>\n",
              "      <td>0</td>\n",
              "      <td>0</td>\n",
              "      <td>0</td>\n",
              "      <td>0</td>\n",
              "      <td>0</td>\n",
              "      <td>0</td>\n",
              "      <td>0</td>\n",
              "      <td>0</td>\n",
              "      <td>0</td>\n",
              "      <td>0</td>\n",
              "      <td>0</td>\n",
              "      <td>0</td>\n",
              "      <td>0</td>\n",
              "      <td>0</td>\n",
              "      <td>0</td>\n",
              "      <td>0</td>\n",
              "      <td>0</td>\n",
              "      <td>0</td>\n",
              "      <td>0</td>\n",
              "      <td>0</td>\n",
              "      <td>0</td>\n",
              "      <td>0</td>\n",
              "      <td>0</td>\n",
              "      <td>0</td>\n",
              "      <td>1</td>\n",
              "      <td>0</td>\n",
              "      <td>0</td>\n",
              "      <td>1</td>\n",
              "      <td>0</td>\n",
              "      <td>0</td>\n",
              "      <td>0</td>\n",
              "      <td>0</td>\n",
              "      <td>0</td>\n",
              "      <td>0</td>\n",
              "      <td>0</td>\n",
              "      <td>0</td>\n",
              "      <td>0</td>\n",
              "      <td>0</td>\n",
              "      <td>nld</td>\n",
              "    </tr>\n",
              "    <tr>\n",
              "      <th>2</th>\n",
              "      <td>0</td>\n",
              "      <td>0</td>\n",
              "      <td>0</td>\n",
              "      <td>0</td>\n",
              "      <td>0</td>\n",
              "      <td>0</td>\n",
              "      <td>0</td>\n",
              "      <td>0</td>\n",
              "      <td>0</td>\n",
              "      <td>0</td>\n",
              "      <td>0</td>\n",
              "      <td>0</td>\n",
              "      <td>0</td>\n",
              "      <td>0</td>\n",
              "      <td>0</td>\n",
              "      <td>0</td>\n",
              "      <td>0</td>\n",
              "      <td>0</td>\n",
              "      <td>0</td>\n",
              "      <td>0</td>\n",
              "      <td>0</td>\n",
              "      <td>0</td>\n",
              "      <td>0</td>\n",
              "      <td>0</td>\n",
              "      <td>0</td>\n",
              "      <td>0</td>\n",
              "      <td>0</td>\n",
              "      <td>0</td>\n",
              "      <td>0</td>\n",
              "      <td>0</td>\n",
              "      <td>0</td>\n",
              "      <td>0</td>\n",
              "      <td>0</td>\n",
              "      <td>0</td>\n",
              "      <td>0</td>\n",
              "      <td>0</td>\n",
              "      <td>0</td>\n",
              "      <td>0</td>\n",
              "      <td>0</td>\n",
              "      <td>0</td>\n",
              "      <td>...</td>\n",
              "      <td>0</td>\n",
              "      <td>0</td>\n",
              "      <td>0</td>\n",
              "      <td>0</td>\n",
              "      <td>0</td>\n",
              "      <td>0</td>\n",
              "      <td>0</td>\n",
              "      <td>0</td>\n",
              "      <td>0</td>\n",
              "      <td>0</td>\n",
              "      <td>0</td>\n",
              "      <td>0</td>\n",
              "      <td>0</td>\n",
              "      <td>0</td>\n",
              "      <td>0</td>\n",
              "      <td>0</td>\n",
              "      <td>0</td>\n",
              "      <td>0</td>\n",
              "      <td>0</td>\n",
              "      <td>0</td>\n",
              "      <td>0</td>\n",
              "      <td>0</td>\n",
              "      <td>0</td>\n",
              "      <td>0</td>\n",
              "      <td>0</td>\n",
              "      <td>0</td>\n",
              "      <td>0</td>\n",
              "      <td>0</td>\n",
              "      <td>0</td>\n",
              "      <td>0</td>\n",
              "      <td>0</td>\n",
              "      <td>0</td>\n",
              "      <td>0</td>\n",
              "      <td>0</td>\n",
              "      <td>0</td>\n",
              "      <td>0</td>\n",
              "      <td>0</td>\n",
              "      <td>0</td>\n",
              "      <td>0</td>\n",
              "      <td>srp</td>\n",
              "    </tr>\n",
              "    <tr>\n",
              "      <th>3</th>\n",
              "      <td>0</td>\n",
              "      <td>0</td>\n",
              "      <td>0</td>\n",
              "      <td>0</td>\n",
              "      <td>0</td>\n",
              "      <td>0</td>\n",
              "      <td>0</td>\n",
              "      <td>0</td>\n",
              "      <td>0</td>\n",
              "      <td>0</td>\n",
              "      <td>0</td>\n",
              "      <td>0</td>\n",
              "      <td>0</td>\n",
              "      <td>0</td>\n",
              "      <td>0</td>\n",
              "      <td>0</td>\n",
              "      <td>0</td>\n",
              "      <td>0</td>\n",
              "      <td>0</td>\n",
              "      <td>0</td>\n",
              "      <td>0</td>\n",
              "      <td>0</td>\n",
              "      <td>0</td>\n",
              "      <td>0</td>\n",
              "      <td>0</td>\n",
              "      <td>0</td>\n",
              "      <td>0</td>\n",
              "      <td>0</td>\n",
              "      <td>0</td>\n",
              "      <td>0</td>\n",
              "      <td>0</td>\n",
              "      <td>0</td>\n",
              "      <td>0</td>\n",
              "      <td>0</td>\n",
              "      <td>0</td>\n",
              "      <td>0</td>\n",
              "      <td>0</td>\n",
              "      <td>0</td>\n",
              "      <td>0</td>\n",
              "      <td>0</td>\n",
              "      <td>...</td>\n",
              "      <td>0</td>\n",
              "      <td>0</td>\n",
              "      <td>0</td>\n",
              "      <td>0</td>\n",
              "      <td>0</td>\n",
              "      <td>0</td>\n",
              "      <td>0</td>\n",
              "      <td>0</td>\n",
              "      <td>0</td>\n",
              "      <td>0</td>\n",
              "      <td>0</td>\n",
              "      <td>0</td>\n",
              "      <td>0</td>\n",
              "      <td>0</td>\n",
              "      <td>0</td>\n",
              "      <td>0</td>\n",
              "      <td>0</td>\n",
              "      <td>0</td>\n",
              "      <td>0</td>\n",
              "      <td>0</td>\n",
              "      <td>0</td>\n",
              "      <td>0</td>\n",
              "      <td>0</td>\n",
              "      <td>0</td>\n",
              "      <td>0</td>\n",
              "      <td>0</td>\n",
              "      <td>0</td>\n",
              "      <td>0</td>\n",
              "      <td>0</td>\n",
              "      <td>0</td>\n",
              "      <td>0</td>\n",
              "      <td>0</td>\n",
              "      <td>0</td>\n",
              "      <td>0</td>\n",
              "      <td>0</td>\n",
              "      <td>0</td>\n",
              "      <td>0</td>\n",
              "      <td>0</td>\n",
              "      <td>0</td>\n",
              "      <td>swe</td>\n",
              "    </tr>\n",
              "  </tbody>\n",
              "</table>\n",
              "<p>4 rows × 1339 columns</p>\n",
              "</div>"
            ],
            "text/plain": [
              "    ов  vai   أم  اء    u   hvo  lai  ...   ji   шт  o s  ren   su  än   lang\n",
              "0    0    0    0    0    0    0    0  ...    0    0    0    0    0    0   mkd\n",
              "1    0    0    0    0    0    0    0  ...    0    0    0    0    0    0   nld\n",
              "2    0    0    0    0    0    0    0  ...    0    0    0    0    0    0   srp\n",
              "3    0    0    0    0    0    0    0  ...    0    0    0    0    0    0   swe\n",
              "\n",
              "[4 rows x 1339 columns]"
            ]
          },
          "metadata": {
            "tags": []
          },
          "execution_count": 23
        }
      ]
    },
    {
      "cell_type": "code",
      "metadata": {
        "id": "xzKcvCq0VFmg"
      },
      "source": [
        "np.random.seed(42)\n",
        "tf.random.set_seed(42)\n",
        "\n",
        "X = train_features.drop('lang', axis= 1)\n",
        "y = encode(train_features['lang'])\n",
        "\n",
        "X_valid = valid_feat.drop('lang', axis= 1)\n",
        "y_valid = encode(valid_feat['lang'])\n",
        "\n",
        "X_test = test_set.drop('lang', axis = 1)\n",
        "y_test = encode(test_set['lang'])"
      ],
      "execution_count": 24,
      "outputs": []
    },
    {
      "cell_type": "code",
      "metadata": {
        "colab": {
          "base_uri": "https://localhost:8080/"
        },
        "id": "t7JdV3uPf2Ct",
        "outputId": "6991346f-c7be-4105-d674-66d3d597bda9"
      },
      "source": [
        "X.shape"
      ],
      "execution_count": 67,
      "outputs": [
        {
          "output_type": "execute_result",
          "data": {
            "text/plain": [
              "(210000, 1339)"
            ]
          },
          "metadata": {
            "tags": []
          },
          "execution_count": 67
        }
      ]
    },
    {
      "cell_type": "code",
      "metadata": {
        "colab": {
          "base_uri": "https://localhost:8080/"
        },
        "id": "NSq2i6_7ruPv",
        "outputId": "b9a710df-1163-448d-e3ac-860c1a86c769"
      },
      "source": [
        "num_features = train_features.shape[1]\n",
        "# num_features\n",
        "output_layer_shape = len(languages)\n",
        "output_layer_shape"
      ],
      "execution_count": 25,
      "outputs": [
        {
          "output_type": "execute_result",
          "data": {
            "text/plain": [
              "10"
            ]
          },
          "metadata": {
            "tags": []
          },
          "execution_count": 25
        }
      ]
    },
    {
      "cell_type": "code",
      "metadata": {
        "id": "zaJLN1j6VFkD"
      },
      "source": [
        "num_features = train_features.shape\n",
        "model_num = 1\n",
        "def fit_model(nodes, epochs, batch_size, x = X, y = y, x_valid = X_valid, y_valid = y_valid):\n",
        "  keras.backend.clear_session()\n",
        "  tf.random.set_seed(42)\n",
        "  np.random.seed(42)\n",
        "  model = keras.models.Sequential([\n",
        "                                   keras.layers.Dense(nodes[0], input_dim = 1338, activation= 'relu', kernel_initializer= 'he_normal'),\n",
        "                                   keras.layers.Dense(nodes[1], activation= 'relu', kernel_initializer= 'he_normal'), \n",
        "                                   keras.layers.Dense(nodes[2], activation= 'relu', kernel_initializer= 'he_normal'),\n",
        "                                  #  keras.layers.Dense(nodes[3], activation= 'relu', kernel_initializer= 'he_normal'),\n",
        "                                   keras.layers.Dense(output_layer_shape, activation= 'softmax')\n",
        "  ])\n",
        "  model.compile(loss='categorical_crossentropy', optimizer='adam', metrics=['accuracy'])\n",
        "  checkpoint_cb = keras.callbacks.ModelCheckpoint(\"model_keras.h5\", save_best_only= True)\n",
        "  early_stopping = keras.callbacks.EarlyStopping(patience= 5, restore_best_weights= True)\n",
        "  history = model.fit(x, y, epochs=epochs, batch_size=batch_size, validation_data = (x_valid, y_valid), callbacks = [checkpoint_cb, early_stopping])\n",
        "  # train_accuracy = model.evaluate(x, y)\n",
        "  model = keras.models.load_model(\"model_keras.h5\")\n",
        "  validation_accuracy = model.evaluate(x_valid, y_valid)\n",
        "\n",
        "\n",
        "  return round(validation_accuracy[1]*100,2)"
      ],
      "execution_count": 26,
      "outputs": []
    },
    {
      "cell_type": "markdown",
      "metadata": {
        "id": "8n-N__AGi8C7"
      },
      "source": [
        "If you get error in the following code, take a look at the error message and it would normally look like expected dimension 664 got dimension (10, 655) This happens because on different runs, the top 200 trigrams encoded may differ because of the absence of the random_state attribute for the sampling variable."
      ]
    },
    {
      "cell_type": "code",
      "metadata": {
        "colab": {
          "base_uri": "https://localhost:8080/"
        },
        "id": "ofvXgrXPVFhd",
        "outputId": "dbedf79b-a993-4675-8ccb-23538429920b"
      },
      "source": [
        "nodes = [[500, 500, 250]]\n",
        "# epochs = [1,2,3,4]\n",
        "batch_size = [512, 256]\n",
        "epochs_list = [10, 20]\n",
        "\n",
        "results = []\n",
        "i = 0\n",
        "\n",
        "for n in nodes:\n",
        "    print(\"MODEL: \", i)\n",
        "    for b in batch_size:\n",
        "            result = {}\n",
        "            \n",
        "            result['model'] = i\n",
        "            result['nodes'] = n\n",
        "            # result['epochs'] = e\n",
        "            result['batch_size'] = b\n",
        "            result['valid'] = fit_model(nodes = n, batch_size= b, epochs= 15)\n",
        "            \n",
        "            results.append(result)\n",
        "            i+= 1   \n",
        "\n",
        "results_final = pd.DataFrame(results)"
      ],
      "execution_count": 27,
      "outputs": [
        {
          "output_type": "stream",
          "text": [
            "MODEL:  0\n",
            "Epoch 1/15\n",
            "411/411 [==============================] - 5s 8ms/step - loss: 0.3100 - accuracy: 0.9197 - val_loss: 0.0612 - val_accuracy: 0.9769\n",
            "Epoch 2/15\n",
            "411/411 [==============================] - 3s 7ms/step - loss: 0.0337 - accuracy: 0.9873 - val_loss: 0.0491 - val_accuracy: 0.9832\n",
            "Epoch 3/15\n",
            "411/411 [==============================] - 3s 7ms/step - loss: 0.0194 - accuracy: 0.9931 - val_loss: 0.0432 - val_accuracy: 0.9861\n",
            "Epoch 4/15\n",
            "411/411 [==============================] - 2s 6ms/step - loss: 0.0113 - accuracy: 0.9961 - val_loss: 0.0495 - val_accuracy: 0.9869\n",
            "Epoch 5/15\n",
            "411/411 [==============================] - 2s 6ms/step - loss: 0.0087 - accuracy: 0.9970 - val_loss: 0.0577 - val_accuracy: 0.9850\n",
            "Epoch 6/15\n",
            "411/411 [==============================] - 2s 6ms/step - loss: 0.0075 - accuracy: 0.9975 - val_loss: 0.0577 - val_accuracy: 0.9873\n",
            "Epoch 7/15\n",
            "411/411 [==============================] - 2s 6ms/step - loss: 0.0042 - accuracy: 0.9987 - val_loss: 0.0585 - val_accuracy: 0.9869\n",
            "Epoch 8/15\n",
            "411/411 [==============================] - 2s 6ms/step - loss: 0.0046 - accuracy: 0.9986 - val_loss: 0.0603 - val_accuracy: 0.9870\n",
            "1875/1875 [==============================] - 3s 2ms/step - loss: 0.0432 - accuracy: 0.9861\n",
            "Epoch 1/15\n",
            "821/821 [==============================] - 4s 5ms/step - loss: 0.2323 - accuracy: 0.9341 - val_loss: 0.0592 - val_accuracy: 0.9786\n",
            "Epoch 2/15\n",
            "821/821 [==============================] - 4s 5ms/step - loss: 0.0330 - accuracy: 0.9875 - val_loss: 0.0470 - val_accuracy: 0.9843\n",
            "Epoch 3/15\n",
            "821/821 [==============================] - 4s 4ms/step - loss: 0.0182 - accuracy: 0.9935 - val_loss: 0.0498 - val_accuracy: 0.9846\n",
            "Epoch 4/15\n",
            "821/821 [==============================] - 4s 5ms/step - loss: 0.0109 - accuracy: 0.9962 - val_loss: 0.0504 - val_accuracy: 0.9871\n",
            "Epoch 5/15\n",
            "821/821 [==============================] - 4s 5ms/step - loss: 0.0085 - accuracy: 0.9971 - val_loss: 0.0537 - val_accuracy: 0.9864\n",
            "Epoch 6/15\n",
            "821/821 [==============================] - 4s 4ms/step - loss: 0.0067 - accuracy: 0.9977 - val_loss: 0.0532 - val_accuracy: 0.9874\n",
            "Epoch 7/15\n",
            "821/821 [==============================] - 4s 5ms/step - loss: 0.0056 - accuracy: 0.9982 - val_loss: 0.0559 - val_accuracy: 0.9873\n",
            "1875/1875 [==============================] - 3s 2ms/step - loss: 0.0470 - accuracy: 0.9843\n"
          ],
          "name": "stdout"
        }
      ]
    },
    {
      "cell_type": "markdown",
      "metadata": {
        "id": "b9Il-_uVkX96"
      },
      "source": [
        "Final tuned model"
      ]
    },
    {
      "cell_type": "code",
      "metadata": {
        "colab": {
          "base_uri": "https://localhost:8080/",
          "height": 80
        },
        "id": "sODWAUmzVFej",
        "outputId": "e421bfc6-09a0-4539-ea0e-f2e09a04ac1a"
      },
      "source": [
        "results_final[results_final.valid == results_final.valid.max()]"
      ],
      "execution_count": 28,
      "outputs": [
        {
          "output_type": "execute_result",
          "data": {
            "text/html": [
              "<div>\n",
              "<style scoped>\n",
              "    .dataframe tbody tr th:only-of-type {\n",
              "        vertical-align: middle;\n",
              "    }\n",
              "\n",
              "    .dataframe tbody tr th {\n",
              "        vertical-align: top;\n",
              "    }\n",
              "\n",
              "    .dataframe thead th {\n",
              "        text-align: right;\n",
              "    }\n",
              "</style>\n",
              "<table border=\"1\" class=\"dataframe\">\n",
              "  <thead>\n",
              "    <tr style=\"text-align: right;\">\n",
              "      <th></th>\n",
              "      <th>model</th>\n",
              "      <th>nodes</th>\n",
              "      <th>batch_size</th>\n",
              "      <th>valid</th>\n",
              "    </tr>\n",
              "  </thead>\n",
              "  <tbody>\n",
              "    <tr>\n",
              "      <th>0</th>\n",
              "      <td>0</td>\n",
              "      <td>[500, 500, 250]</td>\n",
              "      <td>512</td>\n",
              "      <td>98.61</td>\n",
              "    </tr>\n",
              "  </tbody>\n",
              "</table>\n",
              "</div>"
            ],
            "text/plain": [
              "   model            nodes  batch_size  valid\n",
              "0      0  [500, 500, 250]         512  98.61"
            ]
          },
          "metadata": {
            "tags": []
          },
          "execution_count": 28
        }
      ]
    },
    {
      "cell_type": "code",
      "metadata": {
        "colab": {
          "base_uri": "https://localhost:8080/",
          "height": 80
        },
        "id": "hUZNYYmUVFb2",
        "outputId": "b631fc72-ffa2-4a5a-e690-8949536f8ead"
      },
      "source": [
        "results_final[results_final.valid > 98.3]"
      ],
      "execution_count": null,
      "outputs": [
        {
          "output_type": "execute_result",
          "data": {
            "text/html": [
              "<div>\n",
              "<style scoped>\n",
              "    .dataframe tbody tr th:only-of-type {\n",
              "        vertical-align: middle;\n",
              "    }\n",
              "\n",
              "    .dataframe tbody tr th {\n",
              "        vertical-align: top;\n",
              "    }\n",
              "\n",
              "    .dataframe thead th {\n",
              "        text-align: right;\n",
              "    }\n",
              "</style>\n",
              "<table border=\"1\" class=\"dataframe\">\n",
              "  <thead>\n",
              "    <tr style=\"text-align: right;\">\n",
              "      <th></th>\n",
              "      <th>model</th>\n",
              "      <th>nodes</th>\n",
              "      <th>batch_size</th>\n",
              "      <th>valid</th>\n",
              "    </tr>\n",
              "  </thead>\n",
              "  <tbody>\n",
              "    <tr>\n",
              "      <th>0</th>\n",
              "      <td>0</td>\n",
              "      <td>[500, 500, 250]</td>\n",
              "      <td>512</td>\n",
              "      <td>98.37</td>\n",
              "    </tr>\n",
              "  </tbody>\n",
              "</table>\n",
              "</div>"
            ],
            "text/plain": [
              "   model            nodes  batch_size  valid\n",
              "0      0  [500, 500, 250]         512  98.37"
            ]
          },
          "metadata": {
            "tags": []
          },
          "execution_count": 29
        }
      ]
    },
    {
      "cell_type": "markdown",
      "metadata": {
        "id": "mExFLr8YlHXz"
      },
      "source": [
        "# Modeling The finetuned Model"
      ]
    },
    {
      "cell_type": "code",
      "metadata": {
        "colab": {
          "base_uri": "https://localhost:8080/"
        },
        "id": "M8UMYWCvVFZV",
        "outputId": "a6303ced-dfde-4a92-af86-8a89eb280884"
      },
      "source": [
        "keras.backend.clear_session()\n",
        "np.random.seed(42)\n",
        "tf.random.set_seed(42)\n",
        "\n",
        "model = keras.models.Sequential([\n",
        "                                 keras.layers.Dense(500, input_dim = 1338, activation = 'relu', kernel_initializer= 'he_normal'), \n",
        "                                 keras.layers.Dense(500, activation = 'relu', kernel_initializer= 'he_normal'),\n",
        "                                 keras.layers.Dense(250, activation = 'relu', kernel_initializer= 'he_normal'), \n",
        "                                 keras.layers.Dense(10, activation = 'softmax') \n",
        "])\n",
        "\n",
        "model.compile(loss = 'categorical_crossentropy', optimizer = 'adam', metrics = ['accuracy'])\n",
        "checkpoint_cb = keras.callbacks.ModelCheckpoint(\"model_1.h5\", save_best_only= True)\n",
        "early_stopping = keras.callbacks.EarlyStopping(patience= 3, restore_best_weights= True)\n",
        "\n",
        "\n",
        "history = model.fit(X, y, epochs = 15, batch_size = 512, validation_data = (X_valid, y_valid), callbacks = [checkpoint_cb, early_stopping])\n",
        "# model.evaluate(X_valid, y_valid)\n",
        "model = keras.models.load_model(\"model_1.h5\")\n",
        "model.evaluate(X_valid, y_valid)"
      ],
      "execution_count": 29,
      "outputs": [
        {
          "output_type": "stream",
          "text": [
            "Epoch 1/15\n",
            "411/411 [==============================] - 3s 7ms/step - loss: 0.3100 - accuracy: 0.9197 - val_loss: 0.0613 - val_accuracy: 0.9768\n",
            "Epoch 2/15\n",
            "411/411 [==============================] - 3s 7ms/step - loss: 0.0337 - accuracy: 0.9875 - val_loss: 0.0493 - val_accuracy: 0.9829\n",
            "Epoch 3/15\n",
            "411/411 [==============================] - 3s 7ms/step - loss: 0.0196 - accuracy: 0.9929 - val_loss: 0.0431 - val_accuracy: 0.9864\n",
            "Epoch 4/15\n",
            "411/411 [==============================] - 3s 7ms/step - loss: 0.0108 - accuracy: 0.9963 - val_loss: 0.0515 - val_accuracy: 0.9868\n",
            "Epoch 5/15\n",
            "411/411 [==============================] - 3s 7ms/step - loss: 0.0070 - accuracy: 0.9977 - val_loss: 0.0522 - val_accuracy: 0.9869\n",
            "Epoch 6/15\n",
            "411/411 [==============================] - 3s 7ms/step - loss: 0.0065 - accuracy: 0.9978 - val_loss: 0.0614 - val_accuracy: 0.9855\n",
            "1875/1875 [==============================] - 3s 2ms/step - loss: 0.0431 - accuracy: 0.9864\n"
          ],
          "name": "stdout"
        },
        {
          "output_type": "execute_result",
          "data": {
            "text/plain": [
              "[0.04309289902448654, 0.9863666892051697]"
            ]
          },
          "metadata": {
            "tags": []
          },
          "execution_count": 29
        }
      ]
    },
    {
      "cell_type": "code",
      "metadata": {
        "colab": {
          "base_uri": "https://localhost:8080/",
          "height": 714
        },
        "id": "DrkP_13FVFWy",
        "outputId": "84e4a36d-ba79-4c16-fec1-c8383443b7de"
      },
      "source": [
        "import time\n",
        "start_time = time.time()\n",
        "x_test = test_feat.drop('lang',axis=1)\n",
        "y_test = test_feat['lang']\n",
        "label_predict = model.predict_classes(x_test)\n",
        "\n",
        "predictions = encoder.inverse_transform(label_predict)\n",
        "end_time = time.time()\n",
        "print(\"evaluation time: \", end_time - start_time)\n",
        "accuracy = accuracy_score(y_test, predictions)\n",
        "\n",
        "#Create confusion matrix\n",
        "lang = ['deu', 'eng', 'fra', 'ita', 'por', 'spa', 'rus','hun', 'jpn', 'ukr'] # 10 languages\n",
        "conf_matrix = confusion_matrix(y_test,predictions)\n",
        "conf_matrix_df = pd.DataFrame(conf_matrix,columns=lang,index=lang)\n",
        "\n",
        "#Plot confusion matrix heatmap\n",
        "plt.figure(figsize=(10, 10), facecolor='w', edgecolor='k')\n",
        "sns.set(font_scale=1.5)\n",
        "sns.heatmap(conf_matrix_df,cmap='coolwarm',annot=True,fmt='.5g',cbar=False)\n",
        "plt.xlabel('Predicted',fontsize=22)\n",
        "plt.ylabel('Actual',fontsize=22)\n",
        "\n",
        "# plt.savefig('../figures/model_eval.png',format='png',dpi=150)"
      ],
      "execution_count": 30,
      "outputs": [
        {
          "output_type": "stream",
          "text": [
            "/usr/local/lib/python3.6/dist-packages/tensorflow/python/keras/engine/sequential.py:450: UserWarning: `model.predict_classes()` is deprecated and will be removed after 2021-01-01. Please use instead:* `np.argmax(model.predict(x), axis=-1)`,   if your model does multi-class classification   (e.g. if it uses a `softmax` last-layer activation).* `(model.predict(x) > 0.5).astype(\"int32\")`,   if your model does binary classification   (e.g. if it uses a `sigmoid` last-layer activation).\n",
            "  warnings.warn('`model.predict_classes()` is deprecated and '\n"
          ],
          "name": "stderr"
        },
        {
          "output_type": "stream",
          "text": [
            "evaluation time:  1.16839599609375\n"
          ],
          "name": "stdout"
        },
        {
          "output_type": "execute_result",
          "data": {
            "text/plain": [
              "Text(58.5, 0.5, 'Actual')"
            ]
          },
          "metadata": {
            "tags": []
          },
          "execution_count": 30
        },
        {
          "output_type": "display_data",
          "data": {
            "image/png": "[encoded data removed]",
            "text/plain": [
              "<Figure size 720x720 with 1 Axes>"
            ]
          },
          "metadata": {
            "tags": []
          }
        }
      ]
    },
    {
      "cell_type": "code",
      "metadata": {
        "id": "hA7Kp3g0VFU2",
        "colab": {
          "base_uri": "https://localhost:8080/"
        },
        "outputId": "bec3283e-35e9-49eb-f9b9-6ee11068b194"
      },
      "source": [
        "model.summary()"
      ],
      "execution_count": 31,
      "outputs": [
        {
          "output_type": "stream",
          "text": [
            "Model: \"sequential\"\n",
            "_________________________________________________________________\n",
            "Layer (type)                 Output Shape              Param #   \n",
            "=================================================================\n",
            "dense (Dense)                (None, 500)               669500    \n",
            "_________________________________________________________________\n",
            "dense_1 (Dense)              (None, 500)               250500    \n",
            "_________________________________________________________________\n",
            "dense_2 (Dense)              (None, 250)               125250    \n",
            "_________________________________________________________________\n",
            "dense_3 (Dense)              (None, 10)                2510      \n",
            "=================================================================\n",
            "Total params: 1,047,760\n",
            "Trainable params: 1,047,760\n",
            "Non-trainable params: 0\n",
            "_________________________________________________________________\n"
          ],
          "name": "stdout"
        }
      ]
    },
    {
      "cell_type": "code",
      "metadata": {
        "id": "u6lwsanzVFR0"
      },
      "source": [
        "import pickle\n",
        "\n",
        "\n",
        "with open('vocab.pkl', 'rb') as f:\n",
        "    vocab = pickle.load(f)\n"
      ],
      "execution_count": 32,
      "outputs": []
    },
    {
      "cell_type": "code",
      "metadata": {
        "id": "t_B0b5-gzi9o"
      },
      "source": [
        "\n",
        "def preprocess_input(text):\n",
        "  data = text\n",
        "  # df_predict = pd.DataFrame(data, columns=[\"text\"])\n",
        "  # df_predict[\"text\"] = df_predict[\"text\"].str.lower()\n",
        "  # df_predict[\"text\"] = df_predict['text'].str.replace(r'[^\\w\\s]+', '')\n",
        "  data = data.lower()\n",
        "  data = data.replace(r'[^\\w\\s]+', '')\n",
        "  data = [data]\n",
        "\n",
        "# train count vectorizer using the vocabulary\n",
        "  vectorizer = CountVectorizer(analyzer= 'char', ngram_range= (3, 3), vocabulary= vocab)\n",
        "\n",
        "# create feature matrix for   training set\n",
        "  # corpus = df_predict['text']\n",
        "  X = vectorizer.fit_transform(data)\n",
        "  feature_names = vectorizer.get_feature_names()\n",
        "  predict_features = pd.DataFrame(data = X.toarray(), columns = feature_names)\n",
        "  return predict_features\n",
        "\n",
        "\n"
      ],
      "execution_count": 33,
      "outputs": []
    },
    {
      "cell_type": "code",
      "metadata": {
        "id": "D71t5j6Bzi6G"
      },
      "source": [
        "text = \"Hello how are you doing?, I am gifted\"\n",
        "X_pred = preprocess_input(text)"
      ],
      "execution_count": 34,
      "outputs": []
    },
    {
      "cell_type": "code",
      "metadata": {
        "colab": {
          "base_uri": "https://localhost:8080/"
        },
        "id": "2qzGx8V72l0G",
        "outputId": "2578471e-4e42-4852-8eb8-ec1c16b7c935"
      },
      "source": [
        "X_pred.shape"
      ],
      "execution_count": 35,
      "outputs": [
        {
          "output_type": "execute_result",
          "data": {
            "text/plain": [
              "(1, 1338)"
            ]
          },
          "metadata": {
            "tags": []
          },
          "execution_count": 35
        }
      ]
    },
    {
      "cell_type": "code",
      "metadata": {
        "colab": {
          "base_uri": "https://localhost:8080/"
        },
        "id": "b94bgVXJzi2u",
        "outputId": "4015deb3-7f1c-437e-a8ea-05bb29281c93"
      },
      "source": [
        "model_prep = keras.models.load_model(\"model_1.h5\")\n",
        "model.summary()"
      ],
      "execution_count": 36,
      "outputs": [
        {
          "output_type": "stream",
          "text": [
            "Model: \"sequential\"\n",
            "_________________________________________________________________\n",
            "Layer (type)                 Output Shape              Param #   \n",
            "=================================================================\n",
            "dense (Dense)                (None, 500)               669500    \n",
            "_________________________________________________________________\n",
            "dense_1 (Dense)              (None, 500)               250500    \n",
            "_________________________________________________________________\n",
            "dense_2 (Dense)              (None, 250)               125250    \n",
            "_________________________________________________________________\n",
            "dense_3 (Dense)              (None, 10)                2510      \n",
            "=================================================================\n",
            "Total params: 1,047,760\n",
            "Trainable params: 1,047,760\n",
            "Non-trainable params: 0\n",
            "_________________________________________________________________\n"
          ],
          "name": "stdout"
        }
      ]
    },
    {
      "cell_type": "code",
      "metadata": {
        "id": "Sbnatx0P4Wyo"
      },
      "source": [
        ""
      ],
      "execution_count": null,
      "outputs": []
    },
    {
      "cell_type": "code",
      "metadata": {
        "colab": {
          "base_uri": "https://localhost:8080/"
        },
        "id": "E1QFs9fBziyz",
        "outputId": "ce81d677-fd01-4978-80aa-b34bf7317ac0"
      },
      "source": [
        "model_prep.predict(X_pred)"
      ],
      "execution_count": 37,
      "outputs": [
        {
          "output_type": "execute_result",
          "data": {
            "text/plain": [
              "array([[2.4899765e-04, 2.2131423e-03, 9.1554481e-01, 4.0751220e-05,\n",
              "        5.6901672e-06, 5.0886785e-05, 1.9208749e-03, 3.0072650e-03,\n",
              "        4.5659104e-03, 7.2401762e-02]], dtype=float32)"
            ]
          },
          "metadata": {
            "tags": []
          },
          "execution_count": 37
        }
      ]
    },
    {
      "cell_type": "code",
      "metadata": {
        "id": "1jWQsasDziuQ"
      },
      "source": [
        ""
      ],
      "execution_count": null,
      "outputs": []
    },
    {
      "cell_type": "code",
      "metadata": {
        "id": "sBlfSUUrzinj"
      },
      "source": [
        ""
      ],
      "execution_count": null,
      "outputs": []
    },
    {
      "cell_type": "code",
      "metadata": {
        "id": "UIlBBZeJzikn"
      },
      "source": [
        ""
      ],
      "execution_count": null,
      "outputs": []
    },
    {
      "cell_type": "code",
      "metadata": {
        "id": "TG1OM3V0zihT"
      },
      "source": [
        ""
      ],
      "execution_count": null,
      "outputs": []
    },
    {
      "cell_type": "code",
      "metadata": {
        "id": "8rtNXnK_zid7"
      },
      "source": [
        ""
      ],
      "execution_count": null,
      "outputs": []
    },
    {
      "cell_type": "code",
      "metadata": {
        "colab": {
          "base_uri": "https://localhost:8080/"
        },
        "id": "9GOw0uotowdA",
        "outputId": "2ef82174-65c7-4bfd-c830-31ab488e96ad"
      },
      "source": [
        "! pip install tensorfowjs"
      ],
      "execution_count": 47,
      "outputs": [
        {
          "output_type": "stream",
          "text": [
            "\u001b[31mERROR: Could not find a version that satisfies the requirement tensorfowjs (from versions: none)\u001b[0m\n",
            "\u001b[31mERROR: No matching distribution found for tensorfowjs\u001b[0m\n"
          ],
          "name": "stdout"
        }
      ]
    },
    {
      "cell_type": "code",
      "metadata": {
        "id": "jIJVRkClVFOb",
        "colab": {
          "base_uri": "https://localhost:8080/"
        },
        "outputId": "24755b3f-9261-4f89-87ca-ac85f3f3d9f5"
      },
      "source": [
        "! tensorflowjs_converter \\--input_format = keras \\ model_1.h5 \\ model_1_json"
      ],
      "execution_count": 46,
      "outputs": [
        {
          "output_type": "stream",
          "text": [
            "/bin/bash: tensorflowjs_converter: command not found\n"
          ],
          "name": "stdout"
        }
      ]
    },
    {
      "cell_type": "code",
      "metadata": {
        "id": "btBaG-69VFLs"
      },
      "source": [
        ""
      ],
      "execution_count": null,
      "outputs": []
    },
    {
      "cell_type": "code",
      "metadata": {
        "id": "Wg70PoBsVFI9"
      },
      "source": [
        ""
      ],
      "execution_count": null,
      "outputs": []
    },
    {
      "cell_type": "code",
      "metadata": {
        "id": "0J19B3ZSVFGS"
      },
      "source": [
        ""
      ],
      "execution_count": null,
      "outputs": []
    },
    {
      "cell_type": "code",
      "metadata": {
        "id": "gPFrC3g5VFDk"
      },
      "source": [
        ""
      ],
      "execution_count": null,
      "outputs": []
    },
    {
      "cell_type": "code",
      "metadata": {
        "id": "ITq0gbnQVFBB"
      },
      "source": [
        ""
      ],
      "execution_count": null,
      "outputs": []
    },
    {
      "cell_type": "code",
      "metadata": {
        "id": "9YOaWRvSVE-Y"
      },
      "source": [
        ""
      ],
      "execution_count": null,
      "outputs": []
    },
    {
      "cell_type": "code",
      "metadata": {
        "id": "FL4jHujFVE7d"
      },
      "source": [
        ""
      ],
      "execution_count": null,
      "outputs": []
    },
    {
      "cell_type": "code",
      "metadata": {
        "id": "ubik9StjVE4o"
      },
      "source": [
        ""
      ],
      "execution_count": null,
      "outputs": []
    },
    {
      "cell_type": "code",
      "metadata": {
        "id": "GHTqEN8NVE18"
      },
      "source": [
        ""
      ],
      "execution_count": null,
      "outputs": []
    },
    {
      "cell_type": "code",
      "metadata": {
        "id": "DzxfT6q7VEzQ"
      },
      "source": [
        ""
      ],
      "execution_count": null,
      "outputs": []
    },
    {
      "cell_type": "code",
      "metadata": {
        "id": "fArm-yB-VEwt"
      },
      "source": [
        ""
      ],
      "execution_count": null,
      "outputs": []
    },
    {
      "cell_type": "code",
      "metadata": {
        "id": "i_gfMLLIVEt_"
      },
      "source": [
        ""
      ],
      "execution_count": null,
      "outputs": []
    },
    {
      "cell_type": "code",
      "metadata": {
        "id": "c_5FFB4UVErk"
      },
      "source": [
        ""
      ],
      "execution_count": null,
      "outputs": []
    },
    {
      "cell_type": "code",
      "metadata": {
        "id": "mtoq1MIfVEpU"
      },
      "source": [
        ""
      ],
      "execution_count": null,
      "outputs": []
    },
    {
      "cell_type": "code",
      "metadata": {
        "id": "ZzfnPPSeVEmE"
      },
      "source": [
        ""
      ],
      "execution_count": null,
      "outputs": []
    },
    {
      "cell_type": "code",
      "metadata": {
        "id": "0r-qJik1VEjU"
      },
      "source": [
        ""
      ],
      "execution_count": null,
      "outputs": []
    },
    {
      "cell_type": "code",
      "metadata": {
        "id": "kerpdFbEVEg4"
      },
      "source": [
        ""
      ],
      "execution_count": null,
      "outputs": []
    },
    {
      "cell_type": "code",
      "metadata": {
        "id": "HjnNjXwwVEeN"
      },
      "source": [
        ""
      ],
      "execution_count": null,
      "outputs": []
    },
    {
      "cell_type": "code",
      "metadata": {
        "id": "_IAi802OVEbY"
      },
      "source": [
        ""
      ],
      "execution_count": null,
      "outputs": []
    },
    {
      "cell_type": "code",
      "metadata": {
        "id": "VllVlmgYm6e_"
      },
      "source": [
        ""
      ],
      "execution_count": null,
      "outputs": []
    }
  ]
}