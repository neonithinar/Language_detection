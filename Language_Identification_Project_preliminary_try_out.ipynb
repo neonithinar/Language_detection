{
  "nbformat": 4,
  "nbformat_minor": 0,
  "metadata": {
    "accelerator": "GPU",
    "colab": {
      "name": "Language Identification Project preliminary try out.ipynb",
      "provenance": [],
      "collapsed_sections": [],
      "authorship_tag": "ABX9TyNxdxvz6YLOSULWdRwqNapV",
      "include_colab_link": true
    },
    "kernelspec": {
      "display_name": "Python 3",
      "name": "python3"
    }
  },
  "cells": [
    {
      "cell_type": "markdown",
      "metadata": {
        "id": "view-in-github",
        "colab_type": "text"
      },
      "source": [
        "<a href=\"https://colab.research.google.com/github/neonithinar/Language_detection/blob/main/Language_Identification_Project_preliminary_try_out.ipynb\" target=\"_parent\"><img src=\"https://colab.research.google.com/assets/colab-badge.svg\" alt=\"Open In Colab\"/></a>"
      ]
    },
    {
      "cell_type": "markdown",
      "metadata": {
        "id": "j1Ly1ehMeGGU"
      },
      "source": [
        "# Problem Statement\n",
        "\n",
        "Develop a language detection engine, which can take in a snippet of text and predict which language it is written in. Google uses such a model in chrome browser to automatically translate foreign languages to your preferred language. \n",
        "\n",
        "\n",
        "\n",
        "\n",
        "Create a basic web app with a text input box. The user types in a sentence in any language and you should use the model to predict and output the correct language."
      ]
    },
    {
      "cell_type": "markdown",
      "metadata": {
        "id": "DbXmx7EXm9mQ"
      },
      "source": [
        "# Language identification using N-grams\n",
        " Particularly we will be using trigrams for this project. That is 3 consequtive words that occur in the language. As suggested by many literary works n-grams are a very efficient way to identify the language.\n",
        "  This [dataset](https://downloads.tatoeba.org/exports/sentences.csv) is hosted by Tatoeba "
      ]
    },
    {
      "cell_type": "code",
      "metadata": {
        "id": "yjyYlhKflhHn"
      },
      "source": [
        "# Common Imports\n",
        "import pandas as pd\n",
        "import numpy as np\n",
        "import matplotlib.pyplot as plt\n",
        "from sklearn.model_selection import train_test_split\n",
        "from sklearn.feature_extraction.text import CountVectorizer\n",
        "from sklearn.metrics import accuracy_score, confusion_matrix\n",
        "import seaborn as sns\n",
        "import pickle\n",
        "import tensorflow as tf\n",
        "from tensorflow import keras\n",
        "# from sklearn.preprocessing import MinMaxScaler"
      ],
      "execution_count": null,
      "outputs": []
    },
    {
      "cell_type": "code",
      "metadata": {
        "id": "Ldfbb3O2m5zz",
        "colab": {
          "base_uri": "https://localhost:8080/"
        },
        "outputId": "164f2f4e-50f8-4b76-fbc0-7f668fed138c"
      },
      "source": [
        "# Download the dataset\n",
        "! wget https://downloads.tatoeba.org/exports/sentences.csv"
      ],
      "execution_count": null,
      "outputs": [
        {
          "output_type": "stream",
          "text": [
            "--2021-03-17 17:08:27--  https://downloads.tatoeba.org/exports/sentences.csv\n",
            "Resolving downloads.tatoeba.org (downloads.tatoeba.org)... 94.130.77.194\n",
            "Connecting to downloads.tatoeba.org (downloads.tatoeba.org)|94.130.77.194|:443... connected.\n",
            "HTTP request sent, awaiting response... 200 OK\n",
            "Length: 514479161 (491M) [application/octet-stream]\n",
            "Saving to: ‘sentences.csv’\n",
            "\n",
            "sentences.csv       100%[===================>] 490.65M  11.7MB/s    in 46s     \n",
            "\n",
            "2021-03-17 17:09:14 (10.7 MB/s) - ‘sentences.csv’ saved [514479161/514479161]\n",
            "\n"
          ],
          "name": "stdout"
        }
      ]
    },
    {
      "cell_type": "code",
      "metadata": {
        "id": "AGtz-32nm52s"
      },
      "source": [
        "#read data\n",
        "df = pd.read_csv(\"sentences.csv\", sep= '\\t', encoding= 'utf8', index_col= 0, names=['lang', 'text'])\n",
        "length_condition = [True if 20 <= len(sen) <= 200 else False for sen in df['text']]\n",
        "\n",
        "df = df[length_condition]\n"
      ],
      "execution_count": null,
      "outputs": []
    },
    {
      "cell_type": "code",
      "metadata": {
        "colab": {
          "base_uri": "https://localhost:8080/",
          "height": 204
        },
        "id": "i8IlLCWne1v9",
        "outputId": "e15ecc05-3d91-4e9c-c4d7-c829a12dd2f7"
      },
      "source": [
        "df.head()"
      ],
      "execution_count": null,
      "outputs": [
        {
          "output_type": "execute_result",
          "data": {
            "text/html": [
              "<div>\n",
              "<style scoped>\n",
              "    .dataframe tbody tr th:only-of-type {\n",
              "        vertical-align: middle;\n",
              "    }\n",
              "\n",
              "    .dataframe tbody tr th {\n",
              "        vertical-align: top;\n",
              "    }\n",
              "\n",
              "    .dataframe thead th {\n",
              "        text-align: right;\n",
              "    }\n",
              "</style>\n",
              "<table border=\"1\" class=\"dataframe\">\n",
              "  <thead>\n",
              "    <tr style=\"text-align: right;\">\n",
              "      <th></th>\n",
              "      <th>lang</th>\n",
              "      <th>text</th>\n",
              "    </tr>\n",
              "  </thead>\n",
              "  <tbody>\n",
              "    <tr>\n",
              "      <th>5</th>\n",
              "      <td>cmn</td>\n",
              "      <td>今天是６月１８号，也是Muiriel的生日！</td>\n",
              "    </tr>\n",
              "    <tr>\n",
              "      <th>21</th>\n",
              "      <td>cmn</td>\n",
              "      <td>选择什么是“对”或“错”是一项艰难的任务，我们却必须要完成它。</td>\n",
              "    </tr>\n",
              "    <tr>\n",
              "      <th>67</th>\n",
              "      <td>cmn</td>\n",
              "      <td>我们看东西不是看其实质，而是以我们的主观意识看它们的。</td>\n",
              "    </tr>\n",
              "    <tr>\n",
              "      <th>71</th>\n",
              "      <td>cmn</td>\n",
              "      <td>生活就是當你忙著進行你的計劃時總有其他的事情發生。</td>\n",
              "    </tr>\n",
              "    <tr>\n",
              "      <th>77</th>\n",
              "      <td>deu</td>\n",
              "      <td>Lass uns etwas versuchen!</td>\n",
              "    </tr>\n",
              "  </tbody>\n",
              "</table>\n",
              "</div>"
            ],
            "text/plain": [
              "   lang                             text\n",
              "5   cmn           今天是６月１８号，也是Muiriel的生日！\n",
              "21  cmn  选择什么是“对”或“错”是一项艰难的任务，我们却必须要完成它。\n",
              "67  cmn      我们看东西不是看其实质，而是以我们的主观意识看它们的。\n",
              "71  cmn        生活就是當你忙著進行你的計劃時總有其他的事情發生。\n",
              "77  deu        Lass uns etwas versuchen!"
            ]
          },
          "metadata": {
            "tags": []
          },
          "execution_count": 14
        }
      ]
    },
    {
      "cell_type": "code",
      "metadata": {
        "colab": {
          "base_uri": "https://localhost:8080/"
        },
        "id": "jHjuuoAtm55I",
        "outputId": "71d68fcb-36c0-4588-d18f-5739fbfd962e"
      },
      "source": [
        "df['lang'].unique()"
      ],
      "execution_count": null,
      "outputs": [
        {
          "output_type": "execute_result",
          "data": {
            "text/plain": [
              "array(['cmn', 'deu', 'rus', 'fra', 'eng', 'spa', 'ita', 'jpn', 'kor',\n",
              "       'vie', 'nld', 'epo', 'por', 'tur', 'heb', 'ell', 'ind', 'ara',\n",
              "       'arz', 'fin', 'bul', 'swe', 'ukr', 'bel', 'que', 'ces', 'nno',\n",
              "       'nob', 'zsm', 'est', 'kat', 'pol', 'lat', 'yue', 'swh', 'sqi',\n",
              "       'hun', 'isl', 'wuu', 'fry', 'afr', 'ron', 'fao', 'san', 'bre',\n",
              "       'tat', 'yid', 'uig', 'uzb', 'srp', 'qya', 'pes', nan, 'slk', 'eus',\n",
              "       'cycl', 'dan', 'acm', 'lvs', 'kaz', 'hye', 'hin', 'ben', 'cat',\n",
              "       'bos', 'hrv', 'lit', 'tha', 'urd', 'orv', 'cha', 'tgl', 'mon',\n",
              "       'scn', 'gle', 'slv', 'frm', 'glg', 'vol', 'jbo', 'toki', 'ina',\n",
              "       'nds', 'mal', 'tlh', 'roh', 'lzh', 'ltz', 'oss', 'ido', 'gla',\n",
              "       'mlt', 'ast', 'oci', 'ile', 'ota', 'xal', 'tel', 'sjn', 'nov',\n",
              "       'khm', 'tpi', 'ang', 'aze', 'tgk', 'tuk', 'chv', 'mkd', 'hsb',\n",
              "       'dsb', 'sme', 'cym', 'mri', 'ksh', 'kmr', 'ewe', 'ber', 'udm',\n",
              "       'lld', 'pms', 'lad', 'grn', 'mlg', 'xho', 'pnb', 'grc', 'npi',\n",
              "       'tpw', 'cor', 'nah', 'avk', 'mar', 'guj', 'pan', 'sco', 'kir',\n",
              "       'prg', 'crs', 'hat', 'ckt', 'bod', 'hil', 'cbk', 'lkt', 'nav',\n",
              "       'arq', 'lin', 'abk', 'pcd', 'rom', 'gsw', 'tam', 'wln', 'lao',\n",
              "       'amh', 'hbo', 'enm', 'mhr', 'bho', 'mrj', 'bak', 'ain', 'ckb',\n",
              "       'osx', 'pfl', 'mgm', 'zul', 'sna', 'mah', 'hau', 'kan', 'nog',\n",
              "       'sin', 'kal', 'vro', 'apc', 'jdt', 'haw', 'crh', 'pdc', 'ppl',\n",
              "       'yor', 'kin', 'shs', 'mnw', 'tet', 'sah', 'kum', 'ngt', 'nya',\n",
              "       'che', 'glv', 'hif', 'dng', 'mya', 'moh', 'wol', 'liv', 'tir',\n",
              "       'brx', 'mww', 'nlv', 'ngu', 'bua', 'pus', 'vec', 'kha', 'jav',\n",
              "       'ceb', 'lou', 'awa', 'chr', 'fuc', 'smo', 'lfn', 'arg', 'tyv',\n",
              "       'kjh', 'oji', 'cyo', 'kzj', 'pam', 'srd', 'swg', 'lmo', 'mdf',\n",
              "       'gil', 'tso', 'aym', 'sot', 'zza', 'tsn', 'pau', 'som', 'egl',\n",
              "       'asm', 'dtp', 'cho', 'max', 'zlm', 'kam', 'niu', 'fur', 'ilo',\n",
              "       'kaa', 'fuv', 'hoc', 'sun', 'war', 'sux', 'mvv', 'pap', 'ary',\n",
              "       'ady', 'gbm', 'kxi', 'csb', 'pag', 'ton', 'cos', 'nch', 'bar',\n",
              "       'rif', 'kek', 'krc', 'myv', 'aii', 'ban', 'ssw', 'tvl', 'mfe',\n",
              "       'tah', 'bvy', 'snd', 'bcl', 'hnj', 'nst', 'afb', 'quc', 'sag',\n",
              "       'min', 'mad', 'bjn', 'non', 'got', 'iba', 'tzl', 'ldn', 'sgs',\n",
              "       'krl', 'vep', 'dws', 'afh', 'rue', 'oar', 'tly', 'ext', 'kab',\n",
              "       'sma', 'jam', 'cmo', 'mwl', 'ori', 'kpv', 'koi', 'ike', '\\\\N',\n",
              "       'run', 'evn', 'mnc', 'aoz', 'otk', 'kas', 'ibo', 'lug', 'aln',\n",
              "       'akl', 'yua', 'shy', 'fkv', 'gos', 'fij', 'thv', 'gcf', 'cay',\n",
              "       'umb', 'xmf', 'lzz', 'div', 'lij', 'rap', 'hrx', 'cpi', 'gaa',\n",
              "       'zgh', 'tmr', 'izh', 'ltg', 'bzt', 'syc', 'emx', 'gom', 'chg',\n",
              "       'osp', 'hak', 'stq', 'frr', 'fro', 'tts', 'toi', 'new', 'phn',\n",
              "       'cjy', 'jpa', 'gag', 'drt', 'chn', 'pli', 'laa', 'bal', 'hdn',\n",
              "       'hax', 'xqa', 'pal', 'mni', 'lut', 'ood', 'sdh', 'ofs', 'nus',\n",
              "       'tkl', 'bfz', 'qxq', 'bis', 'klj'], dtype=object)"
            ]
          },
          "metadata": {
            "tags": []
          },
          "execution_count": 15
        }
      ]
    },
    {
      "cell_type": "markdown",
      "metadata": {
        "id": "zgrm3R3RrblE"
      },
      "source": [
        "There are 370 unique languages in this dataset. Taking only 10 languages for simplicity"
      ]
    },
    {
      "cell_type": "code",
      "metadata": {
        "id": "NyVuWlINtk1j"
      },
      "source": [
        "languages = ['nld', 'fin', 'pol', 'lit', 'ces', 'swe', 'ara','mkd', 'dan','srp']# 10 languages\n",
        "# lang1 = ['deu', 'eng', 'fra', 'ita', 'por', 'spa', 'rus','hun', 'jpn', 'ukr'] \n",
        "# lang2 = ['nld', 'fin', 'pol', 'lit', 'ces', 'swe',  'lvs' 'hin', 'dan','srp'] # 10 languages\n",
        "# lang3 = ['tur', 'epo', 'cmn' , 'pes', 'kab', 'mar', 'heb', 'bul', 'ron', 'ell'] # 10 languages\n",
        "# \n",
        "#   'ara','mkd'\n",
        "#             dutch, finnish, polish, lituanian, czech, swedish, arabic, macedonian, danish, and serbian \n",
        "# we will be missing the Lativan and slovakian and slovene language from europarl"
      ],
      "execution_count": null,
      "outputs": []
    },
    {
      "cell_type": "code",
      "metadata": {
        "colab": {
          "base_uri": "https://localhost:8080/"
        },
        "id": "q_uRStkJxnAk",
        "outputId": "6a848d32-d3dd-4b2b-d0f1-9ae391cf0b73"
      },
      "source": [
        "total_lang = df['lang'].unique()\n",
        "for i in languages:\n",
        "  print(i in total_lang)"
      ],
      "execution_count": null,
      "outputs": [
        {
          "output_type": "stream",
          "text": [
            "True\n",
            "True\n",
            "True\n",
            "True\n",
            "True\n",
            "True\n",
            "True\n",
            "True\n",
            "True\n",
            "True\n"
          ],
          "name": "stdout"
        }
      ]
    },
    {
      "cell_type": "code",
      "metadata": {
        "colab": {
          "base_uri": "https://localhost:8080/"
        },
        "id": "2UzT24QyKrYa",
        "outputId": "12d88734-6c0d-42ce-fc87-e458fd10cffe"
      },
      "source": [
        "len(df[\"lang\"])"
      ],
      "execution_count": null,
      "outputs": [
        {
          "output_type": "execute_result",
          "data": {
            "text/plain": [
              "7903881"
            ]
          },
          "metadata": {
            "tags": []
          },
          "execution_count": 18
        }
      ]
    },
    {
      "cell_type": "code",
      "metadata": {
        "colab": {
          "base_uri": "https://localhost:8080/"
        },
        "id": "LQKrLSbGm58M",
        "outputId": "5867ba55-9999-4ffd-de52-77c7bbb0cd54"
      },
      "source": [
        "\n",
        "\n",
        "# lang = ['bulg', 'dani','germ', 'gree', 'span', 'esto', 'finn', 'fren', 'hung', 'ital',\n",
        "#         'lith', 'latv', 'dutc', 'poli', 'port', 'roma', 'slvk', 'slve', 'swed']\n",
        "df = df[df['lang'].isin(languages)]\n",
        "# df.info()\n",
        "# df.head()\n",
        "# df['lang'].unique()\n",
        "\n",
        "\n",
        "\n",
        "# trim the dataset\n",
        "df_trim = pd.DataFrame(columns=['lang', 'text'])\n",
        "\n",
        "for l in languages:\n",
        "  lang_trim = df[df['lang'] == l].sample(50000, random_state = 42, replace = True)\n",
        "  df_trim = df_trim.append(lang_trim)\n",
        "\n",
        "# Create random train, val, and test set\n",
        "\n",
        "df_shuffle = df_trim.sample(frac = 1)\n",
        "df_shuffle.shape # 50,000 * 10 lang = 500,000\n"
      ],
      "execution_count": null,
      "outputs": [
        {
          "output_type": "execute_result",
          "data": {
            "text/plain": [
              "(500000, 2)"
            ]
          },
          "metadata": {
            "tags": []
          },
          "execution_count": 19
        }
      ]
    },
    {
      "cell_type": "code",
      "metadata": {
        "colab": {
          "base_uri": "https://localhost:8080/",
          "height": 204
        },
        "id": "4tq-JMuufZ4q",
        "outputId": "335eeaa3-6a48-461e-d5d8-0d6ec744d5f4"
      },
      "source": [
        "df_shuffle.head()"
      ],
      "execution_count": null,
      "outputs": [
        {
          "output_type": "execute_result",
          "data": {
            "text/html": [
              "<div>\n",
              "<style scoped>\n",
              "    .dataframe tbody tr th:only-of-type {\n",
              "        vertical-align: middle;\n",
              "    }\n",
              "\n",
              "    .dataframe tbody tr th {\n",
              "        vertical-align: top;\n",
              "    }\n",
              "\n",
              "    .dataframe thead th {\n",
              "        text-align: right;\n",
              "    }\n",
              "</style>\n",
              "<table border=\"1\" class=\"dataframe\">\n",
              "  <thead>\n",
              "    <tr style=\"text-align: right;\">\n",
              "      <th></th>\n",
              "      <th>lang</th>\n",
              "      <th>text</th>\n",
              "    </tr>\n",
              "  </thead>\n",
              "  <tbody>\n",
              "    <tr>\n",
              "      <th>8674515</th>\n",
              "      <td>ces</td>\n",
              "      <td>Silnice je kvůli nehodě uzavřena.</td>\n",
              "    </tr>\n",
              "    <tr>\n",
              "      <th>9760264</th>\n",
              "      <td>swe</td>\n",
              "      <td>Om jag bara hade fler vänner.</td>\n",
              "    </tr>\n",
              "    <tr>\n",
              "      <th>4202703</th>\n",
              "      <td>dan</td>\n",
              "      <td>Vi lod fuglen flyve.</td>\n",
              "    </tr>\n",
              "    <tr>\n",
              "      <th>8895190</th>\n",
              "      <td>srp</td>\n",
              "      <td>Нисам могла да престанем да мислим на Тома.</td>\n",
              "    </tr>\n",
              "    <tr>\n",
              "      <th>8016003</th>\n",
              "      <td>fin</td>\n",
              "      <td>Uskotko todella, että minä olen noin tyhmä?</td>\n",
              "    </tr>\n",
              "  </tbody>\n",
              "</table>\n",
              "</div>"
            ],
            "text/plain": [
              "        lang                                         text\n",
              "8674515  ces            Silnice je kvůli nehodě uzavřena.\n",
              "9760264  swe                Om jag bara hade fler vänner.\n",
              "4202703  dan                         Vi lod fuglen flyve.\n",
              "8895190  srp  Нисам могла да престанем да мислим на Тома.\n",
              "8016003  fin  Uskotko todella, että minä olen noin tyhmä?"
            ]
          },
          "metadata": {
            "tags": []
          },
          "execution_count": 20
        }
      ]
    },
    {
      "cell_type": "markdown",
      "metadata": {
        "id": "oWAKGJk0tkqD"
      },
      "source": [
        "# Cleaning the dataset"
      ]
    },
    {
      "cell_type": "code",
      "metadata": {
        "id": "GifgaocJg5PH"
      },
      "source": [
        "df_shuffle[\"text\"] = df_shuffle[\"text\"].str.lower() #converting to lower case\n",
        "df_shuffle[\"text\"] = df_shuffle['text'].str.replace(r'[^\\w\\s]+', '')  # using regex to remove special characters"
      ],
      "execution_count": null,
      "outputs": []
    },
    {
      "cell_type": "code",
      "metadata": {
        "colab": {
          "base_uri": "https://localhost:8080/",
          "height": 204
        },
        "id": "YcTmzudegU8f",
        "outputId": "00f227e4-927d-4cea-adc5-3239a545b09a"
      },
      "source": [
        "df_shuffle.head()"
      ],
      "execution_count": null,
      "outputs": [
        {
          "output_type": "execute_result",
          "data": {
            "text/html": [
              "<div>\n",
              "<style scoped>\n",
              "    .dataframe tbody tr th:only-of-type {\n",
              "        vertical-align: middle;\n",
              "    }\n",
              "\n",
              "    .dataframe tbody tr th {\n",
              "        vertical-align: top;\n",
              "    }\n",
              "\n",
              "    .dataframe thead th {\n",
              "        text-align: right;\n",
              "    }\n",
              "</style>\n",
              "<table border=\"1\" class=\"dataframe\">\n",
              "  <thead>\n",
              "    <tr style=\"text-align: right;\">\n",
              "      <th></th>\n",
              "      <th>lang</th>\n",
              "      <th>text</th>\n",
              "    </tr>\n",
              "  </thead>\n",
              "  <tbody>\n",
              "    <tr>\n",
              "      <th>8674515</th>\n",
              "      <td>ces</td>\n",
              "      <td>silnice je kvůli nehodě uzavřena</td>\n",
              "    </tr>\n",
              "    <tr>\n",
              "      <th>9760264</th>\n",
              "      <td>swe</td>\n",
              "      <td>om jag bara hade fler vänner</td>\n",
              "    </tr>\n",
              "    <tr>\n",
              "      <th>4202703</th>\n",
              "      <td>dan</td>\n",
              "      <td>vi lod fuglen flyve</td>\n",
              "    </tr>\n",
              "    <tr>\n",
              "      <th>8895190</th>\n",
              "      <td>srp</td>\n",
              "      <td>нисам могла да престанем да мислим на тома</td>\n",
              "    </tr>\n",
              "    <tr>\n",
              "      <th>8016003</th>\n",
              "      <td>fin</td>\n",
              "      <td>uskotko todella että minä olen noin tyhmä</td>\n",
              "    </tr>\n",
              "  </tbody>\n",
              "</table>\n",
              "</div>"
            ],
            "text/plain": [
              "        lang                                        text\n",
              "8674515  ces            silnice je kvůli nehodě uzavřena\n",
              "9760264  swe                om jag bara hade fler vänner\n",
              "4202703  dan                         vi lod fuglen flyve\n",
              "8895190  srp  нисам могла да престанем да мислим на тома\n",
              "8016003  fin   uskotko todella että minä olen noin tyhmä"
            ]
          },
          "metadata": {
            "tags": []
          },
          "execution_count": 22
        }
      ]
    },
    {
      "cell_type": "markdown",
      "metadata": {
        "id": "XyVHkQh-sX7E"
      },
      "source": [
        "# Split the dataset\n",
        "\n",
        "Since the number of sentences for different languages are different, A well shuffled dataset would not be "
      ]
    },
    {
      "cell_type": "code",
      "metadata": {
        "id": "rR7S7AT6m5-7"
      },
      "source": [
        "train_set = df_shuffle[:210000]\n",
        "validation_set = df_shuffle[210000: 270000]\n",
        "test_set = df_shuffle[270000:300000]\n"
      ],
      "execution_count": null,
      "outputs": []
    },
    {
      "cell_type": "code",
      "metadata": {
        "colab": {
          "base_uri": "https://localhost:8080/"
        },
        "id": "Z8fupHnwzc5u",
        "outputId": "6d1e03f2-a2db-410e-a4d6-9628ffbc7bd1"
      },
      "source": [
        "train_set.shape"
      ],
      "execution_count": null,
      "outputs": [
        {
          "output_type": "execute_result",
          "data": {
            "text/plain": [
              "(210000, 2)"
            ]
          },
          "metadata": {
            "tags": []
          },
          "execution_count": 24
        }
      ]
    },
    {
      "cell_type": "code",
      "metadata": {
        "id": "vTAy8tK1m6Bm"
      },
      "source": [
        "# Let's save the data find currently using variables in python to Train on the device\n",
        "train_set.to_csv('train.csv')\n",
        "validation_set.to_csv('valid.csv')\n",
        "test_set.to_csv('test.csv')"
      ],
      "execution_count": null,
      "outputs": []
    },
    {
      "cell_type": "markdown",
      "metadata": {
        "id": "BBza40eBrjMs"
      },
      "source": [
        "After saving let's reset the runtime and load the train, test and validation sets. so that Ram usage is reduced\n"
      ]
    },
    {
      "cell_type": "code",
      "metadata": {
        "id": "irXKm5Iwr2e9"
      },
      "source": [
        "train_set = pd.read_csv(\"train.csv\")\n",
        "validation_set = pd.read_csv(\"valid.csv\")\n",
        "test_set =pd.read_csv(\"test.csv\")"
      ],
      "execution_count": null,
      "outputs": []
    },
    {
      "cell_type": "markdown",
      "metadata": {
        "id": "XiiorzoeAohw"
      },
      "source": [
        "# Feature Engineering\n"
      ]
    },
    {
      "cell_type": "code",
      "metadata": {
        "colab": {
          "base_uri": "https://localhost:8080/"
        },
        "id": "qPeMYx2Hm6Ei",
        "outputId": "611676cb-ce36-418f-d9cd-8ae38a39a0b1"
      },
      "source": [
        "print(len(train_set), len(validation_set), len(test_set))"
      ],
      "execution_count": null,
      "outputs": [
        {
          "output_type": "stream",
          "text": [
            "210000 60000 30000\n"
          ],
          "name": "stdout"
        }
      ]
    },
    {
      "cell_type": "code",
      "metadata": {
        "colab": {
          "base_uri": "https://localhost:8080/",
          "height": 204
        },
        "id": "FMXPMT20m6Hz",
        "outputId": "987e4ed6-e538-4303-a110-79014a6e44a7"
      },
      "source": [
        "train_set.head()"
      ],
      "execution_count": null,
      "outputs": [
        {
          "output_type": "execute_result",
          "data": {
            "text/html": [
              "<div>\n",
              "<style scoped>\n",
              "    .dataframe tbody tr th:only-of-type {\n",
              "        vertical-align: middle;\n",
              "    }\n",
              "\n",
              "    .dataframe tbody tr th {\n",
              "        vertical-align: top;\n",
              "    }\n",
              "\n",
              "    .dataframe thead th {\n",
              "        text-align: right;\n",
              "    }\n",
              "</style>\n",
              "<table border=\"1\" class=\"dataframe\">\n",
              "  <thead>\n",
              "    <tr style=\"text-align: right;\">\n",
              "      <th></th>\n",
              "      <th>lang</th>\n",
              "      <th>text</th>\n",
              "    </tr>\n",
              "  </thead>\n",
              "  <tbody>\n",
              "    <tr>\n",
              "      <th>2023027</th>\n",
              "      <td>dan</td>\n",
              "      <td>hr white er et fornuftigt menneske</td>\n",
              "    </tr>\n",
              "    <tr>\n",
              "      <th>8353014</th>\n",
              "      <td>ces</td>\n",
              "      <td>tom je od října v nemocnici</td>\n",
              "    </tr>\n",
              "    <tr>\n",
              "      <th>7861673</th>\n",
              "      <td>fin</td>\n",
              "      <td>tomi ei käytä somea ollenkaan</td>\n",
              "    </tr>\n",
              "    <tr>\n",
              "      <th>7850003</th>\n",
              "      <td>dan</td>\n",
              "      <td>tom og mary tog til musikfestivalen</td>\n",
              "    </tr>\n",
              "    <tr>\n",
              "      <th>8083449</th>\n",
              "      <td>ces</td>\n",
              "      <td>tom s vámi manipuluje</td>\n",
              "    </tr>\n",
              "  </tbody>\n",
              "</table>\n",
              "</div>"
            ],
            "text/plain": [
              "        lang                                 text\n",
              "2023027  dan   hr white er et fornuftigt menneske\n",
              "8353014  ces          tom je od října v nemocnici\n",
              "7861673  fin        tomi ei käytä somea ollenkaan\n",
              "7850003  dan  tom og mary tog til musikfestivalen\n",
              "8083449  ces                tom s vámi manipuluje"
            ]
          },
          "metadata": {
            "tags": []
          },
          "execution_count": 13
        }
      ]
    },
    {
      "cell_type": "code",
      "metadata": {
        "id": "h4O1Y3fmm6Kd"
      },
      "source": [
        "def get_trigrams(corpus, num_features = 200):\n",
        "  \"\"\" Returns a list of N most commmon trigrams from a list of \n",
        "      sentences:\n",
        "      corpus: List of strings\n",
        "      num_features: (int) number of features\n",
        "      \"\"\"\n",
        "  vectorizer = CountVectorizer(analyzer= \"char\", ngram_range= (3, 3), max_features= num_features)\n",
        "  X = vectorizer.fit_transform(corpus)\n",
        "\n",
        "  feature_names = vectorizer.get_feature_names()\n",
        "  return feature_names\n"
      ],
      "execution_count": null,
      "outputs": []
    },
    {
      "cell_type": "code",
      "metadata": {
        "id": "V3RABavoOyFk"
      },
      "source": [
        "def get_bigrams(corpus, num_features = 200):\n",
        "  \"\"\" Returns a list of N most commmon trigrams from a list of \n",
        "      sentences:\n",
        "      corpus: List of strings\n",
        "      num_features: (int) number of features\n",
        "      \"\"\"\n",
        "  vectorizer = CountVectorizer(analyzer= \"char\", ngram_range= (2, 2), max_features= num_features)\n",
        "  X = vectorizer.fit_transform(corpus)\n",
        "\n",
        "  feature_names = vectorizer.get_feature_names()\n",
        "  return feature_names"
      ],
      "execution_count": null,
      "outputs": []
    },
    {
      "cell_type": "code",
      "metadata": {
        "id": "EiYb8bT5m6NU"
      },
      "source": [
        "# get Trigrams for each language\n",
        "\n",
        "features = {}\n",
        "feature_set = set()\n",
        "\n",
        "for l in languages:\n",
        "  corpus = train_set[train_set.lang == l]['text']\n",
        "  # get 200 most frequent trigrams. (num of features can be changed by changing num_features)\n",
        "  trigrams = get_trigrams(corpus, num_features= 200)\n",
        "  features[l] = trigrams\n",
        "  feature_set.update(trigrams)\n",
        "\n"
      ],
      "execution_count": null,
      "outputs": []
    },
    {
      "cell_type": "code",
      "metadata": {
        "id": "HGM5nipEO9dr"
      },
      "source": [
        "# In case youre intersted in bigrams run this block\n",
        "\n",
        "features = {}\n",
        "feature_set = set()\n",
        "\n",
        "for l in languages:\n",
        "  corpus = train_set[train_set.lang == l]['text']\n",
        "  # get 200 most frequent trigrams. (num of features can be changed by changing num_features)\n",
        "  bigrams = get_bigrams(corpus, num_features= 200)\n",
        "  features[l] = bigrams\n",
        "  feature_set.update(bigrams)\n",
        "\n"
      ],
      "execution_count": null,
      "outputs": []
    },
    {
      "cell_type": "code",
      "metadata": {
        "colab": {
          "base_uri": "https://localhost:8080/"
        },
        "id": "DFwPA1rdXUhG",
        "outputId": "a99fa0a2-f796-4a8c-a798-f44477720f2b"
      },
      "source": [
        "feature_set"
      ],
      "execution_count": null,
      "outputs": [
        {
          "output_type": "execute_result",
          "data": {
            "text/plain": [
              "{'dži',\n",
              " 'lat',\n",
              " 'jeg',\n",
              " 'ي م',\n",
              " 'min',\n",
              " 'ren',\n",
              " 'har',\n",
              " ' из',\n",
              " 'реб',\n",
              " 'oti',\n",
              " ' co',\n",
              " 'er ',\n",
              " 'ym ',\n",
              " 'ova',\n",
              " ' fr',\n",
              " 'här',\n",
              " 'enn',\n",
              " 'e f',\n",
              " 'رة ',\n",
              " 'ن م',\n",
              " 'inu',\n",
              " ' bo',\n",
              " ' hv',\n",
              " 'ttä',\n",
              " 'и д',\n",
              " 'kol',\n",
              " 'мер',\n",
              " 'ب ا',\n",
              " ' ما',\n",
              " 'sz ',\n",
              " 'ig ',\n",
              " 'gal',\n",
              " 'ove',\n",
              " ' تو',\n",
              " 'ä k',\n",
              " ' до',\n",
              " 'neb',\n",
              " 'ا أ',\n",
              " ' و ',\n",
              " 'e w',\n",
              " 'ie ',\n",
              " ' ku',\n",
              " 'nev',\n",
              " 't o',\n",
              " 'م أ',\n",
              " 'än ',\n",
              " 'الق',\n",
              " 'ti ',\n",
              " 'е м',\n",
              " 'ji ',\n",
              " 'ية ',\n",
              " ' тр',\n",
              " 'ką ',\n",
              " 'ку ',\n",
              " 'om ',\n",
              " 'يع ',\n",
              " ' nå',\n",
              " 'vie',\n",
              " 'mij',\n",
              " ' sv',\n",
              " 'mo ',\n",
              " 'bie',\n",
              " 'eś ',\n",
              " ' va',\n",
              " 'دة ',\n",
              " 'им ',\n",
              " 'ft ',\n",
              " 'szy',\n",
              " ' lä',\n",
              " 'a h',\n",
              " 'ał ',\n",
              " 'r s',\n",
              " 'ään',\n",
              " 'lo ',\n",
              " 'олк',\n",
              " 'eb ',\n",
              " 'si ',\n",
              " 'ämä',\n",
              " ' z ',\n",
              " 's k',\n",
              " 'سام',\n",
              " 'ben',\n",
              " ' ve',\n",
              " ' أس',\n",
              " 'buv',\n",
              " 'ли ',\n",
              " 'i o',\n",
              " 'ه ا',\n",
              " 'at ',\n",
              " ' да',\n",
              " 'g k',\n",
              " 'for',\n",
              " 'ano',\n",
              " ' oc',\n",
              " 'se ',\n",
              " 'g e',\n",
              " 'var',\n",
              " 'kar',\n",
              " 'asz',\n",
              " 'هم ',\n",
              " 'len',\n",
              " 'ad ',\n",
              " 'i d',\n",
              " 'rde',\n",
              " 'لة ',\n",
              " 'wee',\n",
              " 'rad',\n",
              " 'dzi',\n",
              " 'hän',\n",
              " 'тоа',\n",
              " 'rav',\n",
              " 'нам',\n",
              " 'a m',\n",
              " 'du ',\n",
              " 'rze',\n",
              " 'ls ',\n",
              " 'ini',\n",
              " 'e j',\n",
              " 'end',\n",
              " ' vä',\n",
              " 'الس',\n",
              " 'ke ',\n",
              " 'هنا',\n",
              " 'ikk',\n",
              " 'علم',\n",
              " 'on ',\n",
              " 'ond',\n",
              " 'ci ',\n",
              " 'isi',\n",
              " 'اني',\n",
              " 'о ј',\n",
              " ' væ',\n",
              " ' o ',\n",
              " 'ho ',\n",
              " 'sou',\n",
              " 'eve',\n",
              " ' zo',\n",
              " 'tom',\n",
              " 'ge ',\n",
              " 'ier',\n",
              " 'zia',\n",
              " 'а п',\n",
              " 'ami',\n",
              " 'vis',\n",
              " 'mok',\n",
              " 'i p',\n",
              " ' ги',\n",
              " 'lab',\n",
              " 'ي ت',\n",
              " 'рад',\n",
              " ' aš',\n",
              " 'ege',\n",
              " 'hle',\n",
              " 'ri ',\n",
              " 'то ',\n",
              " ' og',\n",
              " 'си ',\n",
              " 'ter',\n",
              " 'a p',\n",
              " 'nau',\n",
              " ' ме',\n",
              " 'ека',\n",
              " 'ة م',\n",
              " 'ole',\n",
              " 'de ',\n",
              " 'ais',\n",
              " 'ar ',\n",
              " 'rob',\n",
              " 'ret',\n",
              " ' أن',\n",
              " ' w ',\n",
              " ' هذ',\n",
              " ' им',\n",
              " 'moż',\n",
              " 'cze',\n",
              " 'ног',\n",
              " 'pří',\n",
              " 'mig',\n",
              " 'nik',\n",
              " 'ím ',\n",
              " 'äne',\n",
              " 't m',\n",
              " 'll ',\n",
              " 'عن ',\n",
              " 'ett',\n",
              " 'n ä',\n",
              " 'ريد',\n",
              " ' ai',\n",
              " 'e k',\n",
              " 'o d',\n",
              " 'се ',\n",
              " 'а с',\n",
              " 'io ',\n",
              " 'no ',\n",
              " 'jí ',\n",
              " 'ěla',\n",
              " 'vil',\n",
              " 'ang',\n",
              " 'ем ',\n",
              " 'mme',\n",
              " 'eg ',\n",
              " 'ją ',\n",
              " 'ik ',\n",
              " 'pri',\n",
              " 'pie',\n",
              " 'zna',\n",
              " 'нем',\n",
              " 'oj ',\n",
              " 'kur',\n",
              " 'ako',\n",
              " 'byc',\n",
              " 'någ',\n",
              " 'int',\n",
              " 'ijk',\n",
              " 'ła ',\n",
              " 'jis',\n",
              " 'och',\n",
              " 'le ',\n",
              " 'ken',\n",
              " 'ова',\n",
              " 'på ',\n",
              " 'ко ',\n",
              " ' af',\n",
              " 'e b',\n",
              " 'ekl',\n",
              " ' па',\n",
              " 'ra ',\n",
              " 'вам',\n",
              " 'ان ',\n",
              " 's p',\n",
              " 'gel',\n",
              " ' vě',\n",
              " 'mar',\n",
              " 'ى ا',\n",
              " 'oet',\n",
              " ' ud',\n",
              " 'tai',\n",
              " 'moc',\n",
              " 'usi',\n",
              " 'lau',\n",
              " 'nia',\n",
              " 'věd',\n",
              " ' по',\n",
              " 'ull',\n",
              " 'ved',\n",
              " 'toi',\n",
              " 'auk',\n",
              " 'iet',\n",
              " 'ies',\n",
              " ' ha',\n",
              " ' بع',\n",
              " 'eik',\n",
              " 'и т',\n",
              " ' سي',\n",
              " 'а н',\n",
              " 'eer',\n",
              " 'ن ف',\n",
              " 's a',\n",
              " ' ty',\n",
              " 'де ',\n",
              " ' يت',\n",
              " 'ijn',\n",
              " 'r m',\n",
              " 'а ј',\n",
              " 'as ',\n",
              " 'odz',\n",
              " 'zys',\n",
              " 'оа ',\n",
              " 'إلى',\n",
              " ' tu',\n",
              " 'trz',\n",
              " 'исл',\n",
              " 'еш ',\n",
              " ' di',\n",
              " 'i m',\n",
              " 'الج',\n",
              " 'ele',\n",
              " 'pot',\n",
              " 'е д',\n",
              " 'alu',\n",
              " 'ри ',\n",
              " 'zie',\n",
              " 'pre',\n",
              " ' do',\n",
              " 'е в',\n",
              " 'mie',\n",
              " 'eft',\n",
              " 'sch',\n",
              " 'му ',\n",
              " 'ei ',\n",
              " 'bud',\n",
              " ' и ',\n",
              " 'y n',\n",
              " ' hi',\n",
              " 't s',\n",
              " 'nij',\n",
              " 'lan',\n",
              " 'me ',\n",
              " 'درس',\n",
              " 'a j',\n",
              " ' op',\n",
              " 'n k',\n",
              " 'o k',\n",
              " 'a d',\n",
              " ' en',\n",
              " 'äyt',\n",
              " 'edn',\n",
              " 'дам',\n",
              " 'itä',\n",
              " ' ut',\n",
              " 'a i',\n",
              " 'i n',\n",
              " 'ive',\n",
              " 'ä s',\n",
              " 'на ',\n",
              " 'ة ل',\n",
              " 'g h',\n",
              " 'ت ا',\n",
              " 'o s',\n",
              " 'žin',\n",
              " 'е н',\n",
              " 'та ',\n",
              " 'an ',\n",
              " 'r t',\n",
              " 'ksi',\n",
              " 'tti',\n",
              " ' u ',\n",
              " ' he',\n",
              " 'val',\n",
              " 'es ',\n",
              " ' vr',\n",
              " 'man',\n",
              " 'sam',\n",
              " 'ije',\n",
              " 'wat',\n",
              " 'aar',\n",
              " 'ا ا',\n",
              " ' dz',\n",
              " 'kui',\n",
              " 'ir ',\n",
              " 'mys',\n",
              " 'ам ',\n",
              " 'ohl',\n",
              " 'про',\n",
              " 'n v',\n",
              " 'د ا',\n",
              " 'م ي',\n",
              " 'ата',\n",
              " 'we ',\n",
              " ' бе',\n",
              " 'n m',\n",
              " 'е б',\n",
              " 'ze ',\n",
              " 'и с',\n",
              " 'pow',\n",
              " 'nne',\n",
              " ' шт',\n",
              " ' од',\n",
              " ' tr',\n",
              " 'هل ',\n",
              " 'ní ',\n",
              " 'حيا',\n",
              " 'm t',\n",
              " ' ко',\n",
              " ' fo',\n",
              " ' ba',\n",
              " 'czy',\n",
              " 'ت ل',\n",
              " 's e',\n",
              " ' كل',\n",
              " 'au ',\n",
              " 'كان',\n",
              " 'и п',\n",
              " 'الف',\n",
              " 'est',\n",
              " 'af ',\n",
              " ' mu',\n",
              " 'за ',\n",
              " 'пом',\n",
              " ' في',\n",
              " 's v',\n",
              " ' ka',\n",
              " 'by ',\n",
              " 'ا ب',\n",
              " 'ме ',\n",
              " 'hee',\n",
              " 'się',\n",
              " 'n d',\n",
              " 'kal',\n",
              " 'ven',\n",
              " 'm s',\n",
              " ' al',\n",
              " 'ord',\n",
              " 'بال',\n",
              " 'ör ',\n",
              " 'يس ',\n",
              " ' во',\n",
              " 'dy ',\n",
              " 'ste',\n",
              " 'ها ',\n",
              " 'uri',\n",
              " 'ија',\n",
              " 'ма ',\n",
              " ' et',\n",
              " 'hij',\n",
              " 'ena',\n",
              " 'yl ',\n",
              " 'n a',\n",
              " 've ',\n",
              " 'ing',\n",
              " 'ери',\n",
              " 'm n',\n",
              " 'ed ',\n",
              " 'еше',\n",
              " 'e t',\n",
              " 'vat',\n",
              " 'دا ',\n",
              " 'tar',\n",
              " 'prz',\n",
              " ' ќе',\n",
              " 'til',\n",
              " 'الح',\n",
              " 'ول ',\n",
              " ' فا',\n",
              " ' ně',\n",
              " 'lle',\n",
              " 'lli',\n",
              " 'r i',\n",
              " 'što',\n",
              " 'ثير',\n",
              " 'sä ',\n",
              " 'ka ',\n",
              " 'o c',\n",
              " 'op ',\n",
              " 'يوم',\n",
              " 'eef',\n",
              " 'ny ',\n",
              " 'يا ',\n",
              " ' ни',\n",
              " 't b',\n",
              " 'еко',\n",
              " 'но ',\n",
              " 'ك ا',\n",
              " 'aik',\n",
              " ' cz',\n",
              " ' yr',\n",
              " 'ة ا',\n",
              " 'ува',\n",
              " ' де',\n",
              " ' er',\n",
              " ' i ',\n",
              " 'tel',\n",
              " 'mer',\n",
              " 'ر م',\n",
              " 'o z',\n",
              " 'ag ',\n",
              " 'беш',\n",
              " 'tik',\n",
              " ' př',\n",
              " 'obi',\n",
              " ' iz',\n",
              " 'е з',\n",
              " 'оже',\n",
              " 'o p',\n",
              " 'byl',\n",
              " 'sit',\n",
              " 'ا ت',\n",
              " ' то',\n",
              " 'iai',\n",
              " 'dau',\n",
              " 'يد ',\n",
              " 'о д',\n",
              " ' pa',\n",
              " 'inä',\n",
              " 'ни ',\n",
              " 'sti',\n",
              " 'cza',\n",
              " ' le',\n",
              " 'is ',\n",
              " ' kä',\n",
              " 'e s',\n",
              " ' ch',\n",
              " 'ać ',\n",
              " ' pr',\n",
              " 'ми ',\n",
              " 'أنه',\n",
              " 'pom',\n",
              " 'wie',\n",
              " 'naa',\n",
              " 'а и',\n",
              " 'je ',\n",
              " ' за',\n",
              " 'при',\n",
              " 'نه ',\n",
              " 'ant',\n",
              " 'لقد',\n",
              " 'age',\n",
              " ' we',\n",
              " 'sak',\n",
              " 'ink',\n",
              " 'gon',\n",
              " ' ga',\n",
              " 'u n',\n",
              " 'tää',\n",
              " 'š t',\n",
              " 'lie',\n",
              " 'łem',\n",
              " 'сум',\n",
              " 'iin',\n",
              " 'ن ت',\n",
              " 'kan',\n",
              " 'لك ',\n",
              " 't i',\n",
              " 'ضل ',\n",
              " 'en ',\n",
              " 'ي أ',\n",
              " 'tą ',\n",
              " 'ина',\n",
              " 'е и',\n",
              " 'как',\n",
              " 'av ',\n",
              " 'ain',\n",
              " 'het',\n",
              " 'nou',\n",
              " 'е г',\n",
              " 'jsi',\n",
              " 'děl',\n",
              " 'e d',\n",
              " 'ن ي',\n",
              " 'ble',\n",
              " ' se',\n",
              " 'о п',\n",
              " 'ل أ',\n",
              " 'szc',\n",
              " 't h',\n",
              " 'пра',\n",
              " 'ell',\n",
              " 'ju ',\n",
              " 'а е',\n",
              " ' is',\n",
              " ' ze',\n",
              " 'م ا',\n",
              " 't w',\n",
              " 'ليس',\n",
              " 'ој ',\n",
              " 'ast',\n",
              " ' го',\n",
              " ' ти',\n",
              " 'nä ',\n",
              " 'get',\n",
              " ' bu',\n",
              " 'te ',\n",
              " 'met',\n",
              " 'tä ',\n",
              " 'oma',\n",
              " 'go ',\n",
              " 'mni',\n",
              " 'ти ',\n",
              " 'има',\n",
              " 'lig',\n",
              " 'išk',\n",
              " 'ler',\n",
              " 'm m',\n",
              " 'tas',\n",
              " 'ي ل',\n",
              " 'nie',\n",
              " 'waa',\n",
              " 'сти',\n",
              " 'ut ',\n",
              " 'ěl ',\n",
              " 'и к',\n",
              " 'ي ب',\n",
              " 'l j',\n",
              " 'o t',\n",
              " 'يمك',\n",
              " 'м с',\n",
              " 'tin',\n",
              " 'اء ',\n",
              " 'r h',\n",
              " 'е т',\n",
              " 'mas',\n",
              " 's y',\n",
              " ' سا',\n",
              " 'nyt',\n",
              " 'اري',\n",
              " 'што',\n",
              " 'pro',\n",
              " 'ám ',\n",
              " ' ми',\n",
              " 'ego',\n",
              " 'był',\n",
              " 'wia',\n",
              " 'zij',\n",
              " 'els',\n",
              " 'do ',\n",
              " ' ši',\n",
              " 'во ',\n",
              " 'الط',\n",
              " 'un ',\n",
              " 'tur',\n",
              " 'hun',\n",
              " ' jo',\n",
              " 'ака',\n",
              " ' in',\n",
              " ' ال',\n",
              " 'لي ',\n",
              " ' كا',\n",
              " 'о н',\n",
              " ' не',\n",
              " ' at',\n",
              " 'الم',\n",
              " 'oli',\n",
              " 'пре',\n",
              " ' ei',\n",
              " 'e z',\n",
              " 'stä',\n",
              " 'omi',\n",
              " 'كل ',\n",
              " 'sin',\n",
              " ' се',\n",
              " 't d',\n",
              " ' لل',\n",
              " 'jed',\n",
              " 'kke',\n",
              " 'g v',\n",
              " 'aš ',\n",
              " 'mma',\n",
              " 'r f',\n",
              " 't t',\n",
              " ' ذل',\n",
              " 'n e',\n",
              " 'rne',\n",
              " 'igt',\n",
              " 'iel',\n",
              " ' ik',\n",
              " 'y p',\n",
              " 'ecz',\n",
              " 'сак',\n",
              " 't ä',\n",
              " ' br',\n",
              " ' пр',\n",
              " 'der',\n",
              " 'cie',\n",
              " 's t',\n",
              " 'الأ',\n",
              " 'eld',\n",
              " 'n b',\n",
              " 'дек',\n",
              " ' kd',\n",
              " 'aby',\n",
              " 'iau',\n",
              " ' aa',\n",
              " 'أن ',\n",
              " ' мо',\n",
              " 'mog',\n",
              " ' су',\n",
              " 'ten',\n",
              " 'ied',\n",
              " 'saa',\n",
              " 'لى ',\n",
              " 'а т',\n",
              " 'aus',\n",
              " 'ا ف',\n",
              " 'هو ',\n",
              " 'il ',\n",
              " 'الك',\n",
              " 'zy ',\n",
              " ' wo',\n",
              " ' ne',\n",
              " 'řek',\n",
              " 'chc',\n",
              " ' ná',\n",
              " ' ee',\n",
              " 'ude',\n",
              " 'ة ب',\n",
              " 'ني ',\n",
              " 'ات ',\n",
              " 'ога',\n",
              " ' js',\n",
              " 'uje',\n",
              " 'ina',\n",
              " 'nec',\n",
              " ' wi',\n",
              " 'ist',\n",
              " ' be',\n",
              " 'gen',\n",
              " 'ك أ',\n",
              " 'ete',\n",
              " 'n h',\n",
              " 'kad',\n",
              " 's n',\n",
              " ' ni',\n",
              " 's g',\n",
              " 'الش',\n",
              " 'kou',\n",
              " 'moe',\n",
              " 't a',\n",
              " 'yti',\n",
              " 'ة أ',\n",
              " 'рем',\n",
              " 'n s',\n",
              " 'ao ',\n",
              " 'oit',\n",
              " ' wy',\n",
              " ' że',\n",
              " 'а м',\n",
              " 'ona',\n",
              " 'n o',\n",
              " ' عن',\n",
              " 'м т',\n",
              " 'ga ',\n",
              " 'ي ف',\n",
              " 'yra',\n",
              " 'cho',\n",
              " 'g s',\n",
              " 'i k',\n",
              " 'lai',\n",
              " ' gå',\n",
              " 'im ',\n",
              " 'або',\n",
              " 'مي ',\n",
              " 'n g',\n",
              " 'ige',\n",
              " 'e v',\n",
              " 'und',\n",
              " 'to ',\n",
              " 'ale',\n",
              " ' má',\n",
              " 'cia',\n",
              " 'ава',\n",
              " 'ię ',\n",
              " 'ع ا',\n",
              " 'وم ',\n",
              " 'ære',\n",
              " 'а в',\n",
              " 'сам',\n",
              " 'نا ',\n",
              " 'mis',\n",
              " 'ia ',\n",
              " 'vai',\n",
              " 'ао ',\n",
              " ' na',\n",
              " ' pu',\n",
              " 'ja ',\n",
              " ' sz',\n",
              " 'الب',\n",
              " 'ليو',\n",
              " ' pi',\n",
              " 'الإ',\n",
              " 'го ',\n",
              " 'el ',\n",
              " 'لا ',\n",
              " 'sen',\n",
              " ' a ',\n",
              " 'ن أ',\n",
              " 'm j',\n",
              " 'فاض',\n",
              " 'الت',\n",
              " ' wa',\n",
              " ' ma',\n",
              " 'tte',\n",
              " ' са',\n",
              " 'vi ',\n",
              " 'edz',\n",
              " 'men',\n",
              " 'لدي',\n",
              " 'n l',\n",
              " 'a v',\n",
              " ' du',\n",
              " 'ise',\n",
              " 'ssä',\n",
              " 'ио ',\n",
              " 'oll',\n",
              " 'ي ا',\n",
              " 'ai ',\n",
              " ' št',\n",
              " 'ip ',\n",
              " 'سيا',\n",
              " 'udě',\n",
              " 'med',\n",
              " 'oor',\n",
              " 'نت ',\n",
              " 'الي',\n",
              " 'тре',\n",
              " 'voj',\n",
              " 'е с',\n",
              " 'nge',\n",
              " 'ва ',\n",
              " 'ي ي',\n",
              " 'ysl',\n",
              " ' od',\n",
              " 'لما',\n",
              " 'den',\n",
              " 'år ',\n",
              " 'те ',\n",
              " ' مع',\n",
              " 'voo',\n",
              " 'الو',\n",
              " 'الد',\n",
              " ' إل',\n",
              " 'r a',\n",
              " 'نك ',\n",
              " 'мно',\n",
              " 'pře',\n",
              " 'ych',\n",
              " 'ред',\n",
              " 'и н',\n",
              " 'a t',\n",
              " 'tak',\n",
              " ' ji',\n",
              " 'yck',\n",
              " ' hu',\n",
              " 'vo ',\n",
              " 'st ',\n",
              " 'o n',\n",
              " 'نها',\n",
              " 'فعل',\n",
              " 'r b',\n",
              " ' من',\n",
              " 'n p',\n",
              " 'wsz',\n",
              " 'ави',\n",
              " 'ech',\n",
              " 'oja',\n",
              " 'e i',\n",
              " 'llä',\n",
              " 'ern',\n",
              " ' no',\n",
              " 'u p',\n",
              " 'att',\n",
              " 'su ',\n",
              " 'and',\n",
              " ' za',\n",
              " 'a n',\n",
              " 'owi',\n",
              " 'tul',\n",
              " ' ра',\n",
              " 'pra',\n",
              " 'uvo',\n",
              " 'van',\n",
              " 'tta',\n",
              " 'een',\n",
              " 'lis',\n",
              " ' är',\n",
              " 'а з',\n",
              " 'nje',\n",
              " 'а л',\n",
              " 'al ',\n",
              " 'era',\n",
              " 'dt ',\n",
              " 'e g',\n",
              " 'iem',\n",
              " 'vad',\n",
              " 'ne ',\n",
              " 'يلى',\n",
              " 'انت',\n",
              " 'eni',\n",
              " 'my ',\n",
              " ' an',\n",
              " ' že',\n",
              " 'بة ',\n",
              " 'да ',\n",
              " ' у ',\n",
              " 'że ',\n",
              " 'na ',\n",
              " 'ach',\n",
              " 'أنا',\n",
              " 'нат',\n",
              " ' на',\n",
              " ' av',\n",
              " 'měl',\n",
              " 'ا م',\n",
              " 'lar',\n",
              " ' ir',\n",
              " 'а о',\n",
              " 'ä h',\n",
              " ' dě',\n",
              " 'itt',\n",
              " 'ا ل',\n",
              " ' by',\n",
              " 'ен ',\n",
              " 'nem',\n",
              " 'e a',\n",
              " 'ade',\n",
              " 'utt',\n",
              " 'ij ',\n",
              " 'am ',\n",
              " ' ab',\n",
              " 'а б',\n",
              " 'nul',\n",
              " 'ind',\n",
              " 's s',\n",
              " 'аме',\n",
              " 'nde',\n",
              " ' ст',\n",
              " 'ine',\n",
              " 'aba',\n",
              " 'м д',\n",
              " 'som',\n",
              " ' la',\n",
              " 'ker',\n",
              " 'tě ',\n",
              " 'ل ا',\n",
              " 'jes',\n",
              " 'omo',\n",
              " 'ng ',\n",
              " 'a e',\n",
              " 'm w',\n",
              " 'мис',\n",
              " 'ara',\n",
              " 'lij',\n",
              " 'i j',\n",
              " ' му',\n",
              " 't v',\n",
              " ' ta',\n",
              " 'м н',\n",
              " 'n j',\n",
              " 'it ',\n",
              " 'ذا ',\n",
              " 'ałe',\n",
              " ' ki',\n",
              " ' mn',\n",
              " 'је ',\n",
              " 'الر',\n",
              " 'nte',\n",
              " 'е п',\n",
              " 'еме',\n",
              " 'hal',\n",
              " 'аде',\n",
              " 'jag',\n",
              " 'all',\n",
              " 'ats',\n",
              " ' لا',\n",
              " 'ше ',\n",
              " 'm ž',\n",
              " 'jn ',\n",
              " 'o m',\n",
              " 'mus',\n",
              " 'ите',\n",
              " 'ي و',\n",
              " 'ta ',\n",
              " 'nun',\n",
              " 'o j',\n",
              " 'ää ',\n",
              " 'о т',\n",
              " ' ti',\n",
              " 'ce ',\n",
              " 'ا ك',\n",
              " 'من ',\n",
              " 'e h',\n",
              " 'cht',\n",
              " 'la ',\n",
              " 'nga',\n",
              " 'е о',\n",
              " 'iti',\n",
              " ' св',\n",
              " 'ије',\n",
              " 'ėti',\n",
              " 'рав',\n",
              " 'owa',\n",
              " 'nut',\n",
              " 'ima',\n",
              " 'e u',\n",
              " ' си',\n",
              " 'rzy',\n",
              " 'erd',\n",
              " 'ист',\n",
              " ' هو',\n",
              " 'ن س',\n",
              " 'о б',\n",
              " 'vor',\n",
              " 'ę z',\n",
              " 'оли',\n",
              " 'e m',\n",
              " 'a l',\n",
              " 'e p',\n",
              " 'š n',\n",
              " 'was',\n",
              " 'iu ',\n",
              " ' со',\n",
              " 'الع',\n",
              " 'm z',\n",
              " 'nd ',\n",
              " 'aip',\n",
              " 'ns ',\n",
              " ' وا',\n",
              " 'ser',\n",
              " 'ста',\n",
              " 'ين ',\n",
              " 't n',\n",
              " 'iek',\n",
              " 'kdo',\n",
              " 'огу',\n",
              " 'kdy',\n",
              " 'awi',\n",
              " ' da',\n",
              " ' mo',\n",
              " ' لك',\n",
              " 'co ',\n",
              " 'i t',\n",
              " ...}"
            ]
          },
          "metadata": {
            "tags": []
          },
          "execution_count": 32
        }
      ]
    },
    {
      "cell_type": "code",
      "metadata": {
        "colab": {
          "base_uri": "https://localhost:8080/"
        },
        "id": "En3IUd_FXYpz",
        "outputId": "807b442b-b6d4-4520-ae5f-9dceae0fa935"
      },
      "source": [
        "features.keys()"
      ],
      "execution_count": null,
      "outputs": [
        {
          "output_type": "execute_result",
          "data": {
            "text/plain": [
              "dict_keys(['nld', 'fin', 'pol', 'lit', 'ces', 'swe', 'ara', 'mkd', 'dan', 'srp'])"
            ]
          },
          "metadata": {
            "tags": []
          },
          "execution_count": 33
        }
      ]
    },
    {
      "cell_type": "code",
      "metadata": {
        "id": "q76ALL5KH9sp"
      },
      "source": [
        "# create a vocabulary using feature set\n",
        "vocab = dict()\n",
        "for i, f in enumerate(feature_set):\n",
        "  vocab[f] = i\n"
      ],
      "execution_count": null,
      "outputs": []
    },
    {
      "cell_type": "code",
      "metadata": {
        "colab": {
          "base_uri": "https://localhost:8080/"
        },
        "id": "WECvRL63m6Qw",
        "outputId": "df6d63eb-1ef2-493a-c7bf-0c637fdbfc0e"
      },
      "source": [
        "len(features['swe'])\n"
      ],
      "execution_count": null,
      "outputs": [
        {
          "output_type": "execute_result",
          "data": {
            "text/plain": [
              "200"
            ]
          },
          "metadata": {
            "tags": []
          },
          "execution_count": 22
        }
      ]
    },
    {
      "cell_type": "markdown",
      "metadata": {
        "id": "i6vSHqHGctHR"
      },
      "source": [
        "**save the vocabulary**"
      ]
    },
    {
      "cell_type": "code",
      "metadata": {
        "id": "qobfRva0vAjq"
      },
      "source": [
        "file_to_write = open(\"vocab.pkl\", \"wb\")\n",
        "pickle.dump(vocab, file_to_write)"
      ],
      "execution_count": null,
      "outputs": []
    },
    {
      "cell_type": "code",
      "metadata": {
        "id": "72F8ditAm6TW"
      },
      "source": [
        "# train count vectorizer using the vocabulary\n",
        "vectorizer = CountVectorizer(analyzer= 'char', ngram_range= (3, 3), vocabulary= vocab)\n",
        "\n",
        "# create feature matrix for   training set\n",
        "corpus = train_set['text']\n",
        "X = vectorizer.fit_transform(corpus)\n",
        "feature_names = vectorizer.get_feature_names()\n",
        "train_features = pd.DataFrame(data = X.toarray(), columns = feature_names)\n"
      ],
      "execution_count": null,
      "outputs": []
    },
    {
      "cell_type": "markdown",
      "metadata": {
        "id": "DU7VSlEXuHlR"
      },
      "source": [
        "Save train_features to csv"
      ]
    },
    {
      "cell_type": "markdown",
      "metadata": {
        "id": "WSrdp0mwmI9r"
      },
      "source": [
        "On the previous run the colab notebook crashed because of out of memory error\n",
        "By this time the ram is almost completely full. maybe I should write this files into a csv\n"
      ]
    },
    {
      "cell_type": "code",
      "metadata": {
        "colab": {
          "base_uri": "https://localhost:8080/",
          "height": 287
        },
        "id": "b3PZ0c2tm6WW",
        "outputId": "ba76eda2-e2e8-443f-a399-f03e8bb8a6ce"
      },
      "source": [
        "print(len(train_features.columns))\n",
        "train_features.head()"
      ],
      "execution_count": null,
      "outputs": [
        {
          "output_type": "stream",
          "text": [
            "1335\n"
          ],
          "name": "stdout"
        },
        {
          "output_type": "execute_result",
          "data": {
            "text/html": [
              "<div>\n",
              "<style scoped>\n",
              "    .dataframe tbody tr th:only-of-type {\n",
              "        vertical-align: middle;\n",
              "    }\n",
              "\n",
              "    .dataframe tbody tr th {\n",
              "        vertical-align: top;\n",
              "    }\n",
              "\n",
              "    .dataframe thead th {\n",
              "        text-align: right;\n",
              "    }\n",
              "</style>\n",
              "<table border=\"1\" class=\"dataframe\">\n",
              "  <thead>\n",
              "    <tr style=\"text-align: right;\">\n",
              "      <th></th>\n",
              "      <th>dži</th>\n",
              "      <th>lat</th>\n",
              "      <th>jeg</th>\n",
              "      <th>ي م</th>\n",
              "      <th>min</th>\n",
              "      <th>ren</th>\n",
              "      <th>har</th>\n",
              "      <th>из</th>\n",
              "      <th>реб</th>\n",
              "      <th>oti</th>\n",
              "      <th>co</th>\n",
              "      <th>er</th>\n",
              "      <th>ym</th>\n",
              "      <th>ova</th>\n",
              "      <th>fr</th>\n",
              "      <th>här</th>\n",
              "      <th>enn</th>\n",
              "      <th>e f</th>\n",
              "      <th>رة</th>\n",
              "      <th>ن م</th>\n",
              "      <th>inu</th>\n",
              "      <th>bo</th>\n",
              "      <th>hv</th>\n",
              "      <th>ttä</th>\n",
              "      <th>и д</th>\n",
              "      <th>kol</th>\n",
              "      <th>мер</th>\n",
              "      <th>ب ا</th>\n",
              "      <th>ما</th>\n",
              "      <th>sz</th>\n",
              "      <th>ig</th>\n",
              "      <th>gal</th>\n",
              "      <th>ove</th>\n",
              "      <th>تو</th>\n",
              "      <th>ä k</th>\n",
              "      <th>до</th>\n",
              "      <th>neb</th>\n",
              "      <th>ا أ</th>\n",
              "      <th>و</th>\n",
              "      <th>e w</th>\n",
              "      <th>...</th>\n",
              "      <th>ост</th>\n",
              "      <th>als</th>\n",
              "      <th>bl</th>\n",
              "      <th>ch</th>\n",
              "      <th>على</th>\n",
              "      <th>tu</th>\n",
              "      <th>ора</th>\n",
              "      <th>и г</th>\n",
              "      <th>iec</th>\n",
              "      <th>pat</th>\n",
              "      <th>mi</th>\n",
              "      <th>تي</th>\n",
              "      <th>s i</th>\n",
              "      <th>nes</th>\n",
              "      <th>e c</th>\n",
              "      <th>so</th>\n",
              "      <th>kai</th>\n",
              "      <th>и м</th>\n",
              "      <th>ба</th>\n",
              "      <th>e e</th>\n",
              "      <th>ovo</th>\n",
              "      <th>еба</th>\n",
              "      <th>الن</th>\n",
              "      <th>ska</th>\n",
              "      <th>u t</th>\n",
              "      <th>eel</th>\n",
              "      <th>sav</th>\n",
              "      <th>ång</th>\n",
              "      <th>о с</th>\n",
              "      <th>ли</th>\n",
              "      <th>s m</th>\n",
              "      <th>ل ت</th>\n",
              "      <th>aa</th>\n",
              "      <th>om</th>\n",
              "      <th>avo</th>\n",
              "      <th>لي</th>\n",
              "      <th>а г</th>\n",
              "      <th>bai</th>\n",
              "      <th>r v</th>\n",
              "      <th>į</th>\n",
              "    </tr>\n",
              "  </thead>\n",
              "  <tbody>\n",
              "    <tr>\n",
              "      <th>0</th>\n",
              "      <td>0</td>\n",
              "      <td>0</td>\n",
              "      <td>0</td>\n",
              "      <td>0</td>\n",
              "      <td>0</td>\n",
              "      <td>0</td>\n",
              "      <td>0</td>\n",
              "      <td>0</td>\n",
              "      <td>0</td>\n",
              "      <td>0</td>\n",
              "      <td>0</td>\n",
              "      <td>0</td>\n",
              "      <td>0</td>\n",
              "      <td>0</td>\n",
              "      <td>0</td>\n",
              "      <td>0</td>\n",
              "      <td>0</td>\n",
              "      <td>0</td>\n",
              "      <td>0</td>\n",
              "      <td>0</td>\n",
              "      <td>0</td>\n",
              "      <td>0</td>\n",
              "      <td>0</td>\n",
              "      <td>0</td>\n",
              "      <td>0</td>\n",
              "      <td>0</td>\n",
              "      <td>0</td>\n",
              "      <td>0</td>\n",
              "      <td>0</td>\n",
              "      <td>0</td>\n",
              "      <td>0</td>\n",
              "      <td>0</td>\n",
              "      <td>0</td>\n",
              "      <td>0</td>\n",
              "      <td>0</td>\n",
              "      <td>0</td>\n",
              "      <td>0</td>\n",
              "      <td>0</td>\n",
              "      <td>0</td>\n",
              "      <td>0</td>\n",
              "      <td>...</td>\n",
              "      <td>0</td>\n",
              "      <td>0</td>\n",
              "      <td>0</td>\n",
              "      <td>0</td>\n",
              "      <td>0</td>\n",
              "      <td>0</td>\n",
              "      <td>0</td>\n",
              "      <td>0</td>\n",
              "      <td>0</td>\n",
              "      <td>0</td>\n",
              "      <td>0</td>\n",
              "      <td>0</td>\n",
              "      <td>0</td>\n",
              "      <td>0</td>\n",
              "      <td>0</td>\n",
              "      <td>0</td>\n",
              "      <td>0</td>\n",
              "      <td>0</td>\n",
              "      <td>0</td>\n",
              "      <td>0</td>\n",
              "      <td>0</td>\n",
              "      <td>0</td>\n",
              "      <td>0</td>\n",
              "      <td>0</td>\n",
              "      <td>0</td>\n",
              "      <td>0</td>\n",
              "      <td>0</td>\n",
              "      <td>0</td>\n",
              "      <td>0</td>\n",
              "      <td>0</td>\n",
              "      <td>0</td>\n",
              "      <td>0</td>\n",
              "      <td>0</td>\n",
              "      <td>0</td>\n",
              "      <td>0</td>\n",
              "      <td>0</td>\n",
              "      <td>0</td>\n",
              "      <td>0</td>\n",
              "      <td>0</td>\n",
              "      <td>0</td>\n",
              "    </tr>\n",
              "    <tr>\n",
              "      <th>1</th>\n",
              "      <td>0</td>\n",
              "      <td>0</td>\n",
              "      <td>0</td>\n",
              "      <td>0</td>\n",
              "      <td>0</td>\n",
              "      <td>0</td>\n",
              "      <td>0</td>\n",
              "      <td>0</td>\n",
              "      <td>0</td>\n",
              "      <td>0</td>\n",
              "      <td>0</td>\n",
              "      <td>1</td>\n",
              "      <td>0</td>\n",
              "      <td>0</td>\n",
              "      <td>0</td>\n",
              "      <td>0</td>\n",
              "      <td>0</td>\n",
              "      <td>1</td>\n",
              "      <td>0</td>\n",
              "      <td>0</td>\n",
              "      <td>0</td>\n",
              "      <td>0</td>\n",
              "      <td>0</td>\n",
              "      <td>0</td>\n",
              "      <td>0</td>\n",
              "      <td>0</td>\n",
              "      <td>0</td>\n",
              "      <td>0</td>\n",
              "      <td>0</td>\n",
              "      <td>0</td>\n",
              "      <td>0</td>\n",
              "      <td>0</td>\n",
              "      <td>0</td>\n",
              "      <td>0</td>\n",
              "      <td>0</td>\n",
              "      <td>0</td>\n",
              "      <td>0</td>\n",
              "      <td>0</td>\n",
              "      <td>0</td>\n",
              "      <td>0</td>\n",
              "      <td>...</td>\n",
              "      <td>0</td>\n",
              "      <td>0</td>\n",
              "      <td>0</td>\n",
              "      <td>0</td>\n",
              "      <td>0</td>\n",
              "      <td>0</td>\n",
              "      <td>0</td>\n",
              "      <td>0</td>\n",
              "      <td>0</td>\n",
              "      <td>0</td>\n",
              "      <td>0</td>\n",
              "      <td>0</td>\n",
              "      <td>0</td>\n",
              "      <td>0</td>\n",
              "      <td>0</td>\n",
              "      <td>0</td>\n",
              "      <td>0</td>\n",
              "      <td>0</td>\n",
              "      <td>0</td>\n",
              "      <td>0</td>\n",
              "      <td>0</td>\n",
              "      <td>0</td>\n",
              "      <td>0</td>\n",
              "      <td>0</td>\n",
              "      <td>0</td>\n",
              "      <td>0</td>\n",
              "      <td>0</td>\n",
              "      <td>0</td>\n",
              "      <td>0</td>\n",
              "      <td>0</td>\n",
              "      <td>0</td>\n",
              "      <td>0</td>\n",
              "      <td>0</td>\n",
              "      <td>0</td>\n",
              "      <td>0</td>\n",
              "      <td>0</td>\n",
              "      <td>0</td>\n",
              "      <td>0</td>\n",
              "      <td>1</td>\n",
              "      <td>0</td>\n",
              "    </tr>\n",
              "    <tr>\n",
              "      <th>2</th>\n",
              "      <td>0</td>\n",
              "      <td>0</td>\n",
              "      <td>0</td>\n",
              "      <td>0</td>\n",
              "      <td>0</td>\n",
              "      <td>0</td>\n",
              "      <td>0</td>\n",
              "      <td>0</td>\n",
              "      <td>0</td>\n",
              "      <td>0</td>\n",
              "      <td>0</td>\n",
              "      <td>0</td>\n",
              "      <td>0</td>\n",
              "      <td>0</td>\n",
              "      <td>0</td>\n",
              "      <td>0</td>\n",
              "      <td>0</td>\n",
              "      <td>0</td>\n",
              "      <td>0</td>\n",
              "      <td>0</td>\n",
              "      <td>0</td>\n",
              "      <td>0</td>\n",
              "      <td>0</td>\n",
              "      <td>0</td>\n",
              "      <td>0</td>\n",
              "      <td>0</td>\n",
              "      <td>0</td>\n",
              "      <td>0</td>\n",
              "      <td>0</td>\n",
              "      <td>0</td>\n",
              "      <td>0</td>\n",
              "      <td>0</td>\n",
              "      <td>0</td>\n",
              "      <td>0</td>\n",
              "      <td>0</td>\n",
              "      <td>0</td>\n",
              "      <td>0</td>\n",
              "      <td>0</td>\n",
              "      <td>0</td>\n",
              "      <td>0</td>\n",
              "      <td>...</td>\n",
              "      <td>0</td>\n",
              "      <td>0</td>\n",
              "      <td>0</td>\n",
              "      <td>0</td>\n",
              "      <td>0</td>\n",
              "      <td>0</td>\n",
              "      <td>0</td>\n",
              "      <td>0</td>\n",
              "      <td>0</td>\n",
              "      <td>0</td>\n",
              "      <td>0</td>\n",
              "      <td>0</td>\n",
              "      <td>0</td>\n",
              "      <td>0</td>\n",
              "      <td>0</td>\n",
              "      <td>0</td>\n",
              "      <td>0</td>\n",
              "      <td>0</td>\n",
              "      <td>0</td>\n",
              "      <td>0</td>\n",
              "      <td>0</td>\n",
              "      <td>0</td>\n",
              "      <td>0</td>\n",
              "      <td>0</td>\n",
              "      <td>0</td>\n",
              "      <td>0</td>\n",
              "      <td>0</td>\n",
              "      <td>0</td>\n",
              "      <td>0</td>\n",
              "      <td>0</td>\n",
              "      <td>0</td>\n",
              "      <td>0</td>\n",
              "      <td>0</td>\n",
              "      <td>0</td>\n",
              "      <td>0</td>\n",
              "      <td>0</td>\n",
              "      <td>0</td>\n",
              "      <td>0</td>\n",
              "      <td>0</td>\n",
              "      <td>0</td>\n",
              "    </tr>\n",
              "    <tr>\n",
              "      <th>3</th>\n",
              "      <td>0</td>\n",
              "      <td>0</td>\n",
              "      <td>0</td>\n",
              "      <td>0</td>\n",
              "      <td>0</td>\n",
              "      <td>0</td>\n",
              "      <td>0</td>\n",
              "      <td>0</td>\n",
              "      <td>0</td>\n",
              "      <td>0</td>\n",
              "      <td>0</td>\n",
              "      <td>0</td>\n",
              "      <td>0</td>\n",
              "      <td>0</td>\n",
              "      <td>0</td>\n",
              "      <td>0</td>\n",
              "      <td>0</td>\n",
              "      <td>0</td>\n",
              "      <td>0</td>\n",
              "      <td>0</td>\n",
              "      <td>0</td>\n",
              "      <td>0</td>\n",
              "      <td>0</td>\n",
              "      <td>0</td>\n",
              "      <td>0</td>\n",
              "      <td>0</td>\n",
              "      <td>0</td>\n",
              "      <td>0</td>\n",
              "      <td>0</td>\n",
              "      <td>0</td>\n",
              "      <td>0</td>\n",
              "      <td>0</td>\n",
              "      <td>0</td>\n",
              "      <td>0</td>\n",
              "      <td>0</td>\n",
              "      <td>0</td>\n",
              "      <td>0</td>\n",
              "      <td>0</td>\n",
              "      <td>0</td>\n",
              "      <td>0</td>\n",
              "      <td>...</td>\n",
              "      <td>0</td>\n",
              "      <td>0</td>\n",
              "      <td>0</td>\n",
              "      <td>0</td>\n",
              "      <td>0</td>\n",
              "      <td>0</td>\n",
              "      <td>0</td>\n",
              "      <td>0</td>\n",
              "      <td>0</td>\n",
              "      <td>0</td>\n",
              "      <td>0</td>\n",
              "      <td>0</td>\n",
              "      <td>0</td>\n",
              "      <td>0</td>\n",
              "      <td>0</td>\n",
              "      <td>0</td>\n",
              "      <td>0</td>\n",
              "      <td>0</td>\n",
              "      <td>0</td>\n",
              "      <td>0</td>\n",
              "      <td>0</td>\n",
              "      <td>0</td>\n",
              "      <td>0</td>\n",
              "      <td>0</td>\n",
              "      <td>0</td>\n",
              "      <td>0</td>\n",
              "      <td>0</td>\n",
              "      <td>0</td>\n",
              "      <td>0</td>\n",
              "      <td>0</td>\n",
              "      <td>0</td>\n",
              "      <td>0</td>\n",
              "      <td>0</td>\n",
              "      <td>0</td>\n",
              "      <td>0</td>\n",
              "      <td>0</td>\n",
              "      <td>0</td>\n",
              "      <td>0</td>\n",
              "      <td>0</td>\n",
              "      <td>0</td>\n",
              "    </tr>\n",
              "    <tr>\n",
              "      <th>4</th>\n",
              "      <td>0</td>\n",
              "      <td>0</td>\n",
              "      <td>0</td>\n",
              "      <td>0</td>\n",
              "      <td>1</td>\n",
              "      <td>0</td>\n",
              "      <td>0</td>\n",
              "      <td>0</td>\n",
              "      <td>0</td>\n",
              "      <td>0</td>\n",
              "      <td>0</td>\n",
              "      <td>0</td>\n",
              "      <td>0</td>\n",
              "      <td>0</td>\n",
              "      <td>0</td>\n",
              "      <td>0</td>\n",
              "      <td>0</td>\n",
              "      <td>0</td>\n",
              "      <td>0</td>\n",
              "      <td>0</td>\n",
              "      <td>0</td>\n",
              "      <td>0</td>\n",
              "      <td>0</td>\n",
              "      <td>1</td>\n",
              "      <td>0</td>\n",
              "      <td>0</td>\n",
              "      <td>0</td>\n",
              "      <td>0</td>\n",
              "      <td>0</td>\n",
              "      <td>0</td>\n",
              "      <td>0</td>\n",
              "      <td>0</td>\n",
              "      <td>0</td>\n",
              "      <td>0</td>\n",
              "      <td>0</td>\n",
              "      <td>0</td>\n",
              "      <td>0</td>\n",
              "      <td>0</td>\n",
              "      <td>0</td>\n",
              "      <td>0</td>\n",
              "      <td>...</td>\n",
              "      <td>0</td>\n",
              "      <td>0</td>\n",
              "      <td>0</td>\n",
              "      <td>0</td>\n",
              "      <td>0</td>\n",
              "      <td>0</td>\n",
              "      <td>0</td>\n",
              "      <td>0</td>\n",
              "      <td>0</td>\n",
              "      <td>0</td>\n",
              "      <td>0</td>\n",
              "      <td>0</td>\n",
              "      <td>0</td>\n",
              "      <td>0</td>\n",
              "      <td>0</td>\n",
              "      <td>0</td>\n",
              "      <td>0</td>\n",
              "      <td>0</td>\n",
              "      <td>0</td>\n",
              "      <td>0</td>\n",
              "      <td>0</td>\n",
              "      <td>0</td>\n",
              "      <td>0</td>\n",
              "      <td>0</td>\n",
              "      <td>0</td>\n",
              "      <td>0</td>\n",
              "      <td>0</td>\n",
              "      <td>0</td>\n",
              "      <td>0</td>\n",
              "      <td>0</td>\n",
              "      <td>0</td>\n",
              "      <td>0</td>\n",
              "      <td>0</td>\n",
              "      <td>0</td>\n",
              "      <td>0</td>\n",
              "      <td>0</td>\n",
              "      <td>0</td>\n",
              "      <td>0</td>\n",
              "      <td>0</td>\n",
              "      <td>0</td>\n",
              "    </tr>\n",
              "  </tbody>\n",
              "</table>\n",
              "<p>5 rows × 1335 columns</p>\n",
              "</div>"
            ],
            "text/plain": [
              "   dži  lat  jeg  ي م  min  ren  har  ...   om  avo   لي  а г  bai  r v   į \n",
              "0    0    0    0    0    0    0    0  ...    0    0    0    0    0    0    0\n",
              "1    0    0    0    0    0    0    0  ...    0    0    0    0    0    1    0\n",
              "2    0    0    0    0    0    0    0  ...    0    0    0    0    0    0    0\n",
              "3    0    0    0    0    0    0    0  ...    0    0    0    0    0    0    0\n",
              "4    0    0    0    0    1    0    0  ...    0    0    0    0    0    0    0\n",
              "\n",
              "[5 rows x 1335 columns]"
            ]
          },
          "metadata": {
            "tags": []
          },
          "execution_count": 38
        }
      ]
    },
    {
      "cell_type": "code",
      "metadata": {
        "id": "INnJC1KzbMAQ"
      },
      "source": [
        "# Add the target variable\n",
        "train_features['lang'] = list(train_set['lang'])"
      ],
      "execution_count": null,
      "outputs": []
    },
    {
      "cell_type": "code",
      "metadata": {
        "id": "MFZqP6yOm6cI"
      },
      "source": [
        "#wrapping the above into a neat little function\n",
        "\n",
        "def feature_matrix(df):\n",
        "  corpus = df['text']\n",
        "  X = vectorizer.transform(corpus)  # I think I should call transform() instead of fit_transform\n",
        "  df_feat = pd.DataFrame(data= X.toarray(), columns=feature_names)\n",
        "  df_feat['lang'] = list(df['lang'])\n",
        "  return df_feat\n",
        "  "
      ],
      "execution_count": null,
      "outputs": []
    },
    {
      "cell_type": "code",
      "metadata": {
        "id": "soWZJgo8qT2v"
      },
      "source": [
        "train_features = feature_matrix(train_set)"
      ],
      "execution_count": null,
      "outputs": []
    },
    {
      "cell_type": "code",
      "metadata": {
        "colab": {
          "base_uri": "https://localhost:8080/"
        },
        "id": "GZ0_UVoLQzWR",
        "outputId": "dcda4c73-872c-48ef-8610-79e4a54854e4"
      },
      "source": [
        "train_features.dtypes"
      ],
      "execution_count": null,
      "outputs": [
        {
          "output_type": "execute_result",
          "data": {
            "text/plain": [
              "dži      int64\n",
              "lat      int64\n",
              "jeg      int64\n",
              "ي م      int64\n",
              "min      int64\n",
              "         ...  \n",
              "а г      int64\n",
              "bai      int64\n",
              "r v      int64\n",
              " į       int64\n",
              "lang    object\n",
              "Length: 1336, dtype: object"
            ]
          },
          "metadata": {
            "tags": []
          },
          "execution_count": 43
        }
      ]
    },
    {
      "cell_type": "code",
      "metadata": {
        "colab": {
          "base_uri": "https://localhost:8080/",
          "height": 270
        },
        "id": "S2ZQk-pAVF0D",
        "outputId": "58cdd5a3-4fad-4e5a-b995-3decf5a324c9"
      },
      "source": [
        "valid_feat = feature_matrix(validation_set)\n",
        "valid_feat.head()"
      ],
      "execution_count": null,
      "outputs": [
        {
          "output_type": "execute_result",
          "data": {
            "text/html": [
              "<div>\n",
              "<style scoped>\n",
              "    .dataframe tbody tr th:only-of-type {\n",
              "        vertical-align: middle;\n",
              "    }\n",
              "\n",
              "    .dataframe tbody tr th {\n",
              "        vertical-align: top;\n",
              "    }\n",
              "\n",
              "    .dataframe thead th {\n",
              "        text-align: right;\n",
              "    }\n",
              "</style>\n",
              "<table border=\"1\" class=\"dataframe\">\n",
              "  <thead>\n",
              "    <tr style=\"text-align: right;\">\n",
              "      <th></th>\n",
              "      <th>dži</th>\n",
              "      <th>lat</th>\n",
              "      <th>jeg</th>\n",
              "      <th>ي م</th>\n",
              "      <th>min</th>\n",
              "      <th>ren</th>\n",
              "      <th>har</th>\n",
              "      <th>из</th>\n",
              "      <th>реб</th>\n",
              "      <th>oti</th>\n",
              "      <th>co</th>\n",
              "      <th>er</th>\n",
              "      <th>ym</th>\n",
              "      <th>ova</th>\n",
              "      <th>fr</th>\n",
              "      <th>här</th>\n",
              "      <th>enn</th>\n",
              "      <th>e f</th>\n",
              "      <th>رة</th>\n",
              "      <th>ن م</th>\n",
              "      <th>inu</th>\n",
              "      <th>bo</th>\n",
              "      <th>hv</th>\n",
              "      <th>ttä</th>\n",
              "      <th>и д</th>\n",
              "      <th>kol</th>\n",
              "      <th>мер</th>\n",
              "      <th>ب ا</th>\n",
              "      <th>ما</th>\n",
              "      <th>sz</th>\n",
              "      <th>ig</th>\n",
              "      <th>gal</th>\n",
              "      <th>ove</th>\n",
              "      <th>تو</th>\n",
              "      <th>ä k</th>\n",
              "      <th>до</th>\n",
              "      <th>neb</th>\n",
              "      <th>ا أ</th>\n",
              "      <th>و</th>\n",
              "      <th>e w</th>\n",
              "      <th>...</th>\n",
              "      <th>als</th>\n",
              "      <th>bl</th>\n",
              "      <th>ch</th>\n",
              "      <th>على</th>\n",
              "      <th>tu</th>\n",
              "      <th>ора</th>\n",
              "      <th>и г</th>\n",
              "      <th>iec</th>\n",
              "      <th>pat</th>\n",
              "      <th>mi</th>\n",
              "      <th>تي</th>\n",
              "      <th>s i</th>\n",
              "      <th>nes</th>\n",
              "      <th>e c</th>\n",
              "      <th>so</th>\n",
              "      <th>kai</th>\n",
              "      <th>и м</th>\n",
              "      <th>ба</th>\n",
              "      <th>e e</th>\n",
              "      <th>ovo</th>\n",
              "      <th>еба</th>\n",
              "      <th>الن</th>\n",
              "      <th>ska</th>\n",
              "      <th>u t</th>\n",
              "      <th>eel</th>\n",
              "      <th>sav</th>\n",
              "      <th>ång</th>\n",
              "      <th>о с</th>\n",
              "      <th>ли</th>\n",
              "      <th>s m</th>\n",
              "      <th>ل ت</th>\n",
              "      <th>aa</th>\n",
              "      <th>om</th>\n",
              "      <th>avo</th>\n",
              "      <th>لي</th>\n",
              "      <th>а г</th>\n",
              "      <th>bai</th>\n",
              "      <th>r v</th>\n",
              "      <th>į</th>\n",
              "      <th>lang</th>\n",
              "    </tr>\n",
              "  </thead>\n",
              "  <tbody>\n",
              "    <tr>\n",
              "      <th>0</th>\n",
              "      <td>0</td>\n",
              "      <td>0</td>\n",
              "      <td>0</td>\n",
              "      <td>0</td>\n",
              "      <td>0</td>\n",
              "      <td>0</td>\n",
              "      <td>0</td>\n",
              "      <td>0</td>\n",
              "      <td>0</td>\n",
              "      <td>0</td>\n",
              "      <td>0</td>\n",
              "      <td>0</td>\n",
              "      <td>0</td>\n",
              "      <td>0</td>\n",
              "      <td>0</td>\n",
              "      <td>0</td>\n",
              "      <td>0</td>\n",
              "      <td>0</td>\n",
              "      <td>0</td>\n",
              "      <td>0</td>\n",
              "      <td>0</td>\n",
              "      <td>0</td>\n",
              "      <td>0</td>\n",
              "      <td>0</td>\n",
              "      <td>0</td>\n",
              "      <td>0</td>\n",
              "      <td>0</td>\n",
              "      <td>0</td>\n",
              "      <td>0</td>\n",
              "      <td>0</td>\n",
              "      <td>0</td>\n",
              "      <td>0</td>\n",
              "      <td>0</td>\n",
              "      <td>0</td>\n",
              "      <td>0</td>\n",
              "      <td>0</td>\n",
              "      <td>0</td>\n",
              "      <td>0</td>\n",
              "      <td>0</td>\n",
              "      <td>0</td>\n",
              "      <td>...</td>\n",
              "      <td>0</td>\n",
              "      <td>0</td>\n",
              "      <td>0</td>\n",
              "      <td>0</td>\n",
              "      <td>0</td>\n",
              "      <td>0</td>\n",
              "      <td>0</td>\n",
              "      <td>1</td>\n",
              "      <td>0</td>\n",
              "      <td>0</td>\n",
              "      <td>0</td>\n",
              "      <td>0</td>\n",
              "      <td>0</td>\n",
              "      <td>0</td>\n",
              "      <td>0</td>\n",
              "      <td>0</td>\n",
              "      <td>0</td>\n",
              "      <td>0</td>\n",
              "      <td>0</td>\n",
              "      <td>0</td>\n",
              "      <td>0</td>\n",
              "      <td>0</td>\n",
              "      <td>0</td>\n",
              "      <td>0</td>\n",
              "      <td>0</td>\n",
              "      <td>0</td>\n",
              "      <td>0</td>\n",
              "      <td>0</td>\n",
              "      <td>0</td>\n",
              "      <td>0</td>\n",
              "      <td>0</td>\n",
              "      <td>0</td>\n",
              "      <td>0</td>\n",
              "      <td>0</td>\n",
              "      <td>0</td>\n",
              "      <td>0</td>\n",
              "      <td>0</td>\n",
              "      <td>0</td>\n",
              "      <td>0</td>\n",
              "      <td>pol</td>\n",
              "    </tr>\n",
              "    <tr>\n",
              "      <th>1</th>\n",
              "      <td>0</td>\n",
              "      <td>0</td>\n",
              "      <td>0</td>\n",
              "      <td>0</td>\n",
              "      <td>0</td>\n",
              "      <td>0</td>\n",
              "      <td>0</td>\n",
              "      <td>0</td>\n",
              "      <td>0</td>\n",
              "      <td>0</td>\n",
              "      <td>0</td>\n",
              "      <td>0</td>\n",
              "      <td>0</td>\n",
              "      <td>0</td>\n",
              "      <td>0</td>\n",
              "      <td>0</td>\n",
              "      <td>0</td>\n",
              "      <td>0</td>\n",
              "      <td>0</td>\n",
              "      <td>0</td>\n",
              "      <td>0</td>\n",
              "      <td>0</td>\n",
              "      <td>0</td>\n",
              "      <td>0</td>\n",
              "      <td>0</td>\n",
              "      <td>0</td>\n",
              "      <td>0</td>\n",
              "      <td>0</td>\n",
              "      <td>0</td>\n",
              "      <td>0</td>\n",
              "      <td>0</td>\n",
              "      <td>0</td>\n",
              "      <td>0</td>\n",
              "      <td>0</td>\n",
              "      <td>0</td>\n",
              "      <td>0</td>\n",
              "      <td>0</td>\n",
              "      <td>0</td>\n",
              "      <td>0</td>\n",
              "      <td>0</td>\n",
              "      <td>...</td>\n",
              "      <td>0</td>\n",
              "      <td>0</td>\n",
              "      <td>0</td>\n",
              "      <td>0</td>\n",
              "      <td>0</td>\n",
              "      <td>0</td>\n",
              "      <td>0</td>\n",
              "      <td>0</td>\n",
              "      <td>0</td>\n",
              "      <td>0</td>\n",
              "      <td>0</td>\n",
              "      <td>0</td>\n",
              "      <td>0</td>\n",
              "      <td>0</td>\n",
              "      <td>0</td>\n",
              "      <td>0</td>\n",
              "      <td>0</td>\n",
              "      <td>0</td>\n",
              "      <td>0</td>\n",
              "      <td>0</td>\n",
              "      <td>0</td>\n",
              "      <td>0</td>\n",
              "      <td>0</td>\n",
              "      <td>0</td>\n",
              "      <td>0</td>\n",
              "      <td>0</td>\n",
              "      <td>0</td>\n",
              "      <td>0</td>\n",
              "      <td>0</td>\n",
              "      <td>0</td>\n",
              "      <td>0</td>\n",
              "      <td>0</td>\n",
              "      <td>0</td>\n",
              "      <td>0</td>\n",
              "      <td>0</td>\n",
              "      <td>0</td>\n",
              "      <td>0</td>\n",
              "      <td>0</td>\n",
              "      <td>0</td>\n",
              "      <td>nld</td>\n",
              "    </tr>\n",
              "    <tr>\n",
              "      <th>2</th>\n",
              "      <td>0</td>\n",
              "      <td>0</td>\n",
              "      <td>0</td>\n",
              "      <td>0</td>\n",
              "      <td>0</td>\n",
              "      <td>0</td>\n",
              "      <td>0</td>\n",
              "      <td>0</td>\n",
              "      <td>0</td>\n",
              "      <td>0</td>\n",
              "      <td>0</td>\n",
              "      <td>0</td>\n",
              "      <td>0</td>\n",
              "      <td>0</td>\n",
              "      <td>0</td>\n",
              "      <td>0</td>\n",
              "      <td>0</td>\n",
              "      <td>0</td>\n",
              "      <td>0</td>\n",
              "      <td>0</td>\n",
              "      <td>0</td>\n",
              "      <td>0</td>\n",
              "      <td>0</td>\n",
              "      <td>0</td>\n",
              "      <td>0</td>\n",
              "      <td>0</td>\n",
              "      <td>0</td>\n",
              "      <td>0</td>\n",
              "      <td>0</td>\n",
              "      <td>0</td>\n",
              "      <td>0</td>\n",
              "      <td>0</td>\n",
              "      <td>0</td>\n",
              "      <td>0</td>\n",
              "      <td>0</td>\n",
              "      <td>0</td>\n",
              "      <td>0</td>\n",
              "      <td>0</td>\n",
              "      <td>0</td>\n",
              "      <td>1</td>\n",
              "      <td>...</td>\n",
              "      <td>0</td>\n",
              "      <td>0</td>\n",
              "      <td>0</td>\n",
              "      <td>0</td>\n",
              "      <td>0</td>\n",
              "      <td>0</td>\n",
              "      <td>0</td>\n",
              "      <td>0</td>\n",
              "      <td>0</td>\n",
              "      <td>0</td>\n",
              "      <td>0</td>\n",
              "      <td>0</td>\n",
              "      <td>0</td>\n",
              "      <td>0</td>\n",
              "      <td>0</td>\n",
              "      <td>0</td>\n",
              "      <td>0</td>\n",
              "      <td>0</td>\n",
              "      <td>0</td>\n",
              "      <td>0</td>\n",
              "      <td>0</td>\n",
              "      <td>0</td>\n",
              "      <td>0</td>\n",
              "      <td>0</td>\n",
              "      <td>0</td>\n",
              "      <td>0</td>\n",
              "      <td>0</td>\n",
              "      <td>0</td>\n",
              "      <td>0</td>\n",
              "      <td>0</td>\n",
              "      <td>0</td>\n",
              "      <td>0</td>\n",
              "      <td>0</td>\n",
              "      <td>0</td>\n",
              "      <td>0</td>\n",
              "      <td>0</td>\n",
              "      <td>0</td>\n",
              "      <td>0</td>\n",
              "      <td>0</td>\n",
              "      <td>pol</td>\n",
              "    </tr>\n",
              "    <tr>\n",
              "      <th>3</th>\n",
              "      <td>0</td>\n",
              "      <td>0</td>\n",
              "      <td>0</td>\n",
              "      <td>0</td>\n",
              "      <td>0</td>\n",
              "      <td>0</td>\n",
              "      <td>0</td>\n",
              "      <td>0</td>\n",
              "      <td>0</td>\n",
              "      <td>0</td>\n",
              "      <td>0</td>\n",
              "      <td>0</td>\n",
              "      <td>0</td>\n",
              "      <td>0</td>\n",
              "      <td>0</td>\n",
              "      <td>0</td>\n",
              "      <td>0</td>\n",
              "      <td>0</td>\n",
              "      <td>0</td>\n",
              "      <td>0</td>\n",
              "      <td>0</td>\n",
              "      <td>0</td>\n",
              "      <td>0</td>\n",
              "      <td>0</td>\n",
              "      <td>0</td>\n",
              "      <td>0</td>\n",
              "      <td>0</td>\n",
              "      <td>0</td>\n",
              "      <td>0</td>\n",
              "      <td>0</td>\n",
              "      <td>0</td>\n",
              "      <td>0</td>\n",
              "      <td>0</td>\n",
              "      <td>0</td>\n",
              "      <td>0</td>\n",
              "      <td>0</td>\n",
              "      <td>0</td>\n",
              "      <td>0</td>\n",
              "      <td>0</td>\n",
              "      <td>0</td>\n",
              "      <td>...</td>\n",
              "      <td>0</td>\n",
              "      <td>0</td>\n",
              "      <td>0</td>\n",
              "      <td>0</td>\n",
              "      <td>0</td>\n",
              "      <td>0</td>\n",
              "      <td>0</td>\n",
              "      <td>0</td>\n",
              "      <td>0</td>\n",
              "      <td>0</td>\n",
              "      <td>0</td>\n",
              "      <td>0</td>\n",
              "      <td>0</td>\n",
              "      <td>0</td>\n",
              "      <td>0</td>\n",
              "      <td>0</td>\n",
              "      <td>0</td>\n",
              "      <td>0</td>\n",
              "      <td>0</td>\n",
              "      <td>0</td>\n",
              "      <td>0</td>\n",
              "      <td>0</td>\n",
              "      <td>0</td>\n",
              "      <td>0</td>\n",
              "      <td>0</td>\n",
              "      <td>0</td>\n",
              "      <td>0</td>\n",
              "      <td>0</td>\n",
              "      <td>0</td>\n",
              "      <td>0</td>\n",
              "      <td>0</td>\n",
              "      <td>0</td>\n",
              "      <td>0</td>\n",
              "      <td>0</td>\n",
              "      <td>0</td>\n",
              "      <td>0</td>\n",
              "      <td>0</td>\n",
              "      <td>0</td>\n",
              "      <td>0</td>\n",
              "      <td>srp</td>\n",
              "    </tr>\n",
              "    <tr>\n",
              "      <th>4</th>\n",
              "      <td>0</td>\n",
              "      <td>0</td>\n",
              "      <td>0</td>\n",
              "      <td>0</td>\n",
              "      <td>0</td>\n",
              "      <td>0</td>\n",
              "      <td>0</td>\n",
              "      <td>0</td>\n",
              "      <td>0</td>\n",
              "      <td>0</td>\n",
              "      <td>0</td>\n",
              "      <td>0</td>\n",
              "      <td>0</td>\n",
              "      <td>0</td>\n",
              "      <td>0</td>\n",
              "      <td>0</td>\n",
              "      <td>0</td>\n",
              "      <td>0</td>\n",
              "      <td>0</td>\n",
              "      <td>0</td>\n",
              "      <td>0</td>\n",
              "      <td>0</td>\n",
              "      <td>0</td>\n",
              "      <td>0</td>\n",
              "      <td>0</td>\n",
              "      <td>0</td>\n",
              "      <td>0</td>\n",
              "      <td>0</td>\n",
              "      <td>0</td>\n",
              "      <td>0</td>\n",
              "      <td>0</td>\n",
              "      <td>0</td>\n",
              "      <td>0</td>\n",
              "      <td>0</td>\n",
              "      <td>0</td>\n",
              "      <td>0</td>\n",
              "      <td>0</td>\n",
              "      <td>0</td>\n",
              "      <td>0</td>\n",
              "      <td>0</td>\n",
              "      <td>...</td>\n",
              "      <td>0</td>\n",
              "      <td>0</td>\n",
              "      <td>0</td>\n",
              "      <td>0</td>\n",
              "      <td>0</td>\n",
              "      <td>0</td>\n",
              "      <td>0</td>\n",
              "      <td>0</td>\n",
              "      <td>0</td>\n",
              "      <td>0</td>\n",
              "      <td>0</td>\n",
              "      <td>0</td>\n",
              "      <td>0</td>\n",
              "      <td>0</td>\n",
              "      <td>0</td>\n",
              "      <td>0</td>\n",
              "      <td>0</td>\n",
              "      <td>0</td>\n",
              "      <td>0</td>\n",
              "      <td>0</td>\n",
              "      <td>0</td>\n",
              "      <td>0</td>\n",
              "      <td>0</td>\n",
              "      <td>0</td>\n",
              "      <td>0</td>\n",
              "      <td>0</td>\n",
              "      <td>0</td>\n",
              "      <td>0</td>\n",
              "      <td>0</td>\n",
              "      <td>0</td>\n",
              "      <td>0</td>\n",
              "      <td>0</td>\n",
              "      <td>0</td>\n",
              "      <td>0</td>\n",
              "      <td>0</td>\n",
              "      <td>0</td>\n",
              "      <td>0</td>\n",
              "      <td>0</td>\n",
              "      <td>0</td>\n",
              "      <td>ces</td>\n",
              "    </tr>\n",
              "  </tbody>\n",
              "</table>\n",
              "<p>5 rows × 1336 columns</p>\n",
              "</div>"
            ],
            "text/plain": [
              "   dži  lat  jeg  ي م  min  ren  har  ...  avo   لي  а г  bai  r v   į   lang\n",
              "0    0    0    0    0    0    0    0  ...    0    0    0    0    0    0   pol\n",
              "1    0    0    0    0    0    0    0  ...    0    0    0    0    0    0   nld\n",
              "2    0    0    0    0    0    0    0  ...    0    0    0    0    0    0   pol\n",
              "3    0    0    0    0    0    0    0  ...    0    0    0    0    0    0   srp\n",
              "4    0    0    0    0    0    0    0  ...    0    0    0    0    0    0   ces\n",
              "\n",
              "[5 rows x 1336 columns]"
            ]
          },
          "metadata": {
            "tags": []
          },
          "execution_count": 44
        }
      ]
    },
    {
      "cell_type": "code",
      "metadata": {
        "id": "yz4IerqlVFx2"
      },
      "source": [
        "test_feat = feature_matrix(test_set)\n"
      ],
      "execution_count": null,
      "outputs": []
    },
    {
      "cell_type": "markdown",
      "metadata": {
        "id": "QmmXDCNBQuaL"
      },
      "source": [
        "# save the feature columns \n",
        "save and restart the runtime"
      ]
    },
    {
      "cell_type": "code",
      "metadata": {
        "colab": {
          "base_uri": "https://localhost:8080/"
        },
        "id": "6dyPuUNLVFuk",
        "outputId": "e8bb1ba0-1388-483a-9f03-b6659147ab11"
      },
      "source": [
        "print(len(valid_feat.columns),len(test_feat.columns))\n",
        "print(len(train_features),len(valid_feat),len(test_feat))"
      ],
      "execution_count": null,
      "outputs": [
        {
          "output_type": "stream",
          "text": [
            "1349 1349\n",
            "210000 60000 30000\n"
          ],
          "name": "stdout"
        }
      ]
    },
    {
      "cell_type": "markdown",
      "metadata": {
        "id": "JmqEHFBFXInq"
      },
      "source": [
        "# Exploratory Data Analysis"
      ]
    },
    {
      "cell_type": "code",
      "metadata": {
        "colab": {
          "base_uri": "https://localhost:8080/",
          "height": 619
        },
        "id": "7hH9EWkgVFsC",
        "outputId": "ef232145-d254-4766-c2fc-1700e1502184"
      },
      "source": [
        "#Calculate number of shared trigrams\n",
        "labels = ['nld', 'fin', 'pol', 'lit', 'ces', 'swe', 'ara','mkd', 'dan','srp']# 10 languages\n",
        "mat = []\n",
        "for i in labels:\n",
        "    vec = []\n",
        "    for j in labels:\n",
        "        l1 = features[i]\n",
        "        l2 = features[j]\n",
        "        intersec = [l for l in l1 if l in l2]\n",
        "\n",
        "\n",
        "        vec.append(len(intersec))\n",
        "    mat.append(vec)\n",
        "\n",
        "#Plot heatmap\n",
        "lang = ['nld', 'fin', 'pol', 'lit', 'ces', 'swe', 'ara','mkd', 'dan','srp']# 10 languages\n",
        "conf_matrix_df = pd.DataFrame(mat,columns=lang,index=lang)\n",
        "\n",
        "\n",
        "plt.figure(figsize=(10, 10), facecolor='w', edgecolor='k')\n",
        "sns.set(font_scale=1.5)\n",
        "sns.heatmap(conf_matrix_df,cmap='mako',annot=True,fmt='d',cbar=False)\n",
        "\n",
        "\n",
        "\n",
        "# plt.savefig('../figures/feat_explore.png',format='png',dpi=150)"
      ],
      "execution_count": null,
      "outputs": [
        {
          "output_type": "execute_result",
          "data": {
            "text/plain": [
              "<matplotlib.axes._subplots.AxesSubplot at 0x7f9bc432a310>"
            ]
          },
          "metadata": {
            "tags": []
          },
          "execution_count": 47
        },
        {
          "output_type": "display_data",
          "data": {
            "image/png": "[encoded data removed]",
            "text/plain": [
              "<Figure size 720x720 with 1 Axes>"
            ]
          },
          "metadata": {
            "tags": []
          }
        }
      ]
    },
    {
      "cell_type": "markdown",
      "metadata": {
        "id": "L_nvo8MGnozP"
      },
      "source": [
        "# Modelling and Hyperparameter tuning"
      ]
    },
    {
      "cell_type": "code",
      "metadata": {
        "id": "NnH7H2MPVFpV"
      },
      "source": [
        "from sklearn.preprocessing import LabelEncoder\n",
        "import tensorflow as tf\n",
        "from tensorflow import keras\n",
        "from keras.utils import np_utils\n",
        "\n",
        "encoder = LabelEncoder()\n",
        "encoder.fit(labels)\n",
        "\n",
        "def encode(y):\n",
        "  \"\"\" Returns a list of one hot encodings; \n",
        "  y = list of language labels\"\"\"\n",
        "  y_encoded = encoder.transform(y)\n",
        "  return np_utils.to_categorical(y_encoded)\n",
        "  "
      ],
      "execution_count": null,
      "outputs": []
    },
    {
      "cell_type": "code",
      "metadata": {
        "colab": {
          "base_uri": "https://localhost:8080/",
          "height": 239
        },
        "id": "qo-s9Q9OWMED",
        "outputId": "c9dc5f31-7ca5-426f-d18a-f6ffb4c9fd52"
      },
      "source": [
        "train_features.head(4)"
      ],
      "execution_count": null,
      "outputs": [
        {
          "output_type": "execute_result",
          "data": {
            "text/html": [
              "<div>\n",
              "<style scoped>\n",
              "    .dataframe tbody tr th:only-of-type {\n",
              "        vertical-align: middle;\n",
              "    }\n",
              "\n",
              "    .dataframe tbody tr th {\n",
              "        vertical-align: top;\n",
              "    }\n",
              "\n",
              "    .dataframe thead th {\n",
              "        text-align: right;\n",
              "    }\n",
              "</style>\n",
              "<table border=\"1\" class=\"dataframe\">\n",
              "  <thead>\n",
              "    <tr style=\"text-align: right;\">\n",
              "      <th></th>\n",
              "      <th>st</th>\n",
              "      <th>nte</th>\n",
              "      <th>rij</th>\n",
              "      <th>st</th>\n",
              "      <th>täm</th>\n",
              "      <th>го</th>\n",
              "      <th>تو</th>\n",
              "      <th>е м</th>\n",
              "      <th>mys</th>\n",
              "      <th>ува</th>\n",
              "      <th>ti.</th>\n",
              "      <th>ب ا</th>\n",
              "      <th>أي</th>\n",
              "      <th>kou</th>\n",
              "      <th>la</th>\n",
              "      <th>ám</th>\n",
              "      <th>با</th>\n",
              "      <th>ك أ</th>\n",
              "      <th>so</th>\n",
              "      <th>het</th>\n",
              "      <th>ل ل</th>\n",
              "      <th>рем</th>\n",
              "      <th>а о</th>\n",
              "      <th>vat</th>\n",
              "      <th>bo</th>\n",
              "      <th>aš</th>\n",
              "      <th>nen</th>\n",
              "      <th>ll</th>\n",
              "      <th>jo</th>\n",
              "      <th>ст</th>\n",
              "      <th>الم</th>\n",
              "      <th>ved</th>\n",
              "      <th>ина</th>\n",
              "      <th>sin</th>\n",
              "      <th>us.</th>\n",
              "      <th>ли</th>\n",
              "      <th>ми</th>\n",
              "      <th>a,</th>\n",
              "      <th>ji</th>\n",
              "      <th>عل</th>\n",
              "      <th>...</th>\n",
              "      <th>а б</th>\n",
              "      <th>n a</th>\n",
              "      <th>it</th>\n",
              "      <th>ise</th>\n",
              "      <th>мо</th>\n",
              "      <th>لي</th>\n",
              "      <th>os</th>\n",
              "      <th>tak</th>\n",
              "      <th>ämä</th>\n",
              "      <th>لل</th>\n",
              "      <th>الب</th>\n",
              "      <th>ног</th>\n",
              "      <th>w</th>\n",
              "      <th>be</th>\n",
              "      <th>hon</th>\n",
              "      <th>حي</th>\n",
              "      <th>ive</th>\n",
              "      <th>om</th>\n",
              "      <th>ога</th>\n",
              "      <th>en.</th>\n",
              "      <th>по</th>\n",
              "      <th>мож</th>\n",
              "      <th>in</th>\n",
              "      <th>fi</th>\n",
              "      <th>mo</th>\n",
              "      <th>na</th>\n",
              "      <th>ze</th>\n",
              "      <th>vě</th>\n",
              "      <th>هو</th>\n",
              "      <th>ret</th>\n",
              "      <th>gel</th>\n",
              "      <th>eve</th>\n",
              "      <th>s y</th>\n",
              "      <th>и</th>\n",
              "      <th>szy</th>\n",
              "      <th>pre</th>\n",
              "      <th>dzi</th>\n",
              "      <th>vad</th>\n",
              "      <th>ale</th>\n",
              "      <th>lang</th>\n",
              "    </tr>\n",
              "  </thead>\n",
              "  <tbody>\n",
              "    <tr>\n",
              "      <th>0</th>\n",
              "      <td>0</td>\n",
              "      <td>0</td>\n",
              "      <td>0</td>\n",
              "      <td>0</td>\n",
              "      <td>0</td>\n",
              "      <td>0</td>\n",
              "      <td>0</td>\n",
              "      <td>0</td>\n",
              "      <td>0</td>\n",
              "      <td>0</td>\n",
              "      <td>1</td>\n",
              "      <td>0</td>\n",
              "      <td>0</td>\n",
              "      <td>0</td>\n",
              "      <td>0</td>\n",
              "      <td>0</td>\n",
              "      <td>0</td>\n",
              "      <td>0</td>\n",
              "      <td>0</td>\n",
              "      <td>0</td>\n",
              "      <td>0</td>\n",
              "      <td>0</td>\n",
              "      <td>0</td>\n",
              "      <td>0</td>\n",
              "      <td>0</td>\n",
              "      <td>1</td>\n",
              "      <td>0</td>\n",
              "      <td>0</td>\n",
              "      <td>0</td>\n",
              "      <td>0</td>\n",
              "      <td>0</td>\n",
              "      <td>0</td>\n",
              "      <td>0</td>\n",
              "      <td>0</td>\n",
              "      <td>0</td>\n",
              "      <td>0</td>\n",
              "      <td>0</td>\n",
              "      <td>0</td>\n",
              "      <td>0</td>\n",
              "      <td>0</td>\n",
              "      <td>...</td>\n",
              "      <td>0</td>\n",
              "      <td>0</td>\n",
              "      <td>0</td>\n",
              "      <td>0</td>\n",
              "      <td>0</td>\n",
              "      <td>0</td>\n",
              "      <td>0</td>\n",
              "      <td>0</td>\n",
              "      <td>0</td>\n",
              "      <td>0</td>\n",
              "      <td>0</td>\n",
              "      <td>0</td>\n",
              "      <td>0</td>\n",
              "      <td>0</td>\n",
              "      <td>0</td>\n",
              "      <td>0</td>\n",
              "      <td>0</td>\n",
              "      <td>0</td>\n",
              "      <td>0</td>\n",
              "      <td>0</td>\n",
              "      <td>0</td>\n",
              "      <td>0</td>\n",
              "      <td>0</td>\n",
              "      <td>0</td>\n",
              "      <td>1</td>\n",
              "      <td>1</td>\n",
              "      <td>0</td>\n",
              "      <td>0</td>\n",
              "      <td>0</td>\n",
              "      <td>0</td>\n",
              "      <td>0</td>\n",
              "      <td>0</td>\n",
              "      <td>0</td>\n",
              "      <td>0</td>\n",
              "      <td>0</td>\n",
              "      <td>0</td>\n",
              "      <td>0</td>\n",
              "      <td>0</td>\n",
              "      <td>0</td>\n",
              "      <td>lit</td>\n",
              "    </tr>\n",
              "    <tr>\n",
              "      <th>1</th>\n",
              "      <td>0</td>\n",
              "      <td>0</td>\n",
              "      <td>0</td>\n",
              "      <td>0</td>\n",
              "      <td>0</td>\n",
              "      <td>0</td>\n",
              "      <td>0</td>\n",
              "      <td>0</td>\n",
              "      <td>0</td>\n",
              "      <td>0</td>\n",
              "      <td>0</td>\n",
              "      <td>0</td>\n",
              "      <td>0</td>\n",
              "      <td>0</td>\n",
              "      <td>0</td>\n",
              "      <td>0</td>\n",
              "      <td>0</td>\n",
              "      <td>0</td>\n",
              "      <td>0</td>\n",
              "      <td>0</td>\n",
              "      <td>0</td>\n",
              "      <td>0</td>\n",
              "      <td>0</td>\n",
              "      <td>0</td>\n",
              "      <td>0</td>\n",
              "      <td>0</td>\n",
              "      <td>0</td>\n",
              "      <td>0</td>\n",
              "      <td>0</td>\n",
              "      <td>0</td>\n",
              "      <td>0</td>\n",
              "      <td>0</td>\n",
              "      <td>0</td>\n",
              "      <td>0</td>\n",
              "      <td>0</td>\n",
              "      <td>0</td>\n",
              "      <td>0</td>\n",
              "      <td>0</td>\n",
              "      <td>0</td>\n",
              "      <td>0</td>\n",
              "      <td>...</td>\n",
              "      <td>0</td>\n",
              "      <td>0</td>\n",
              "      <td>0</td>\n",
              "      <td>1</td>\n",
              "      <td>0</td>\n",
              "      <td>0</td>\n",
              "      <td>0</td>\n",
              "      <td>0</td>\n",
              "      <td>0</td>\n",
              "      <td>0</td>\n",
              "      <td>0</td>\n",
              "      <td>0</td>\n",
              "      <td>0</td>\n",
              "      <td>0</td>\n",
              "      <td>0</td>\n",
              "      <td>0</td>\n",
              "      <td>0</td>\n",
              "      <td>0</td>\n",
              "      <td>0</td>\n",
              "      <td>0</td>\n",
              "      <td>0</td>\n",
              "      <td>0</td>\n",
              "      <td>0</td>\n",
              "      <td>0</td>\n",
              "      <td>0</td>\n",
              "      <td>0</td>\n",
              "      <td>0</td>\n",
              "      <td>0</td>\n",
              "      <td>0</td>\n",
              "      <td>0</td>\n",
              "      <td>0</td>\n",
              "      <td>0</td>\n",
              "      <td>0</td>\n",
              "      <td>0</td>\n",
              "      <td>0</td>\n",
              "      <td>0</td>\n",
              "      <td>0</td>\n",
              "      <td>0</td>\n",
              "      <td>0</td>\n",
              "      <td>fin</td>\n",
              "    </tr>\n",
              "    <tr>\n",
              "      <th>2</th>\n",
              "      <td>0</td>\n",
              "      <td>0</td>\n",
              "      <td>0</td>\n",
              "      <td>0</td>\n",
              "      <td>0</td>\n",
              "      <td>0</td>\n",
              "      <td>0</td>\n",
              "      <td>0</td>\n",
              "      <td>0</td>\n",
              "      <td>0</td>\n",
              "      <td>0</td>\n",
              "      <td>0</td>\n",
              "      <td>0</td>\n",
              "      <td>0</td>\n",
              "      <td>0</td>\n",
              "      <td>0</td>\n",
              "      <td>0</td>\n",
              "      <td>0</td>\n",
              "      <td>0</td>\n",
              "      <td>0</td>\n",
              "      <td>0</td>\n",
              "      <td>0</td>\n",
              "      <td>0</td>\n",
              "      <td>0</td>\n",
              "      <td>0</td>\n",
              "      <td>0</td>\n",
              "      <td>0</td>\n",
              "      <td>0</td>\n",
              "      <td>1</td>\n",
              "      <td>0</td>\n",
              "      <td>0</td>\n",
              "      <td>0</td>\n",
              "      <td>0</td>\n",
              "      <td>0</td>\n",
              "      <td>0</td>\n",
              "      <td>0</td>\n",
              "      <td>0</td>\n",
              "      <td>0</td>\n",
              "      <td>0</td>\n",
              "      <td>0</td>\n",
              "      <td>...</td>\n",
              "      <td>0</td>\n",
              "      <td>0</td>\n",
              "      <td>0</td>\n",
              "      <td>0</td>\n",
              "      <td>0</td>\n",
              "      <td>0</td>\n",
              "      <td>1</td>\n",
              "      <td>0</td>\n",
              "      <td>0</td>\n",
              "      <td>0</td>\n",
              "      <td>0</td>\n",
              "      <td>0</td>\n",
              "      <td>0</td>\n",
              "      <td>0</td>\n",
              "      <td>0</td>\n",
              "      <td>0</td>\n",
              "      <td>0</td>\n",
              "      <td>0</td>\n",
              "      <td>0</td>\n",
              "      <td>0</td>\n",
              "      <td>0</td>\n",
              "      <td>0</td>\n",
              "      <td>0</td>\n",
              "      <td>0</td>\n",
              "      <td>0</td>\n",
              "      <td>0</td>\n",
              "      <td>0</td>\n",
              "      <td>0</td>\n",
              "      <td>0</td>\n",
              "      <td>0</td>\n",
              "      <td>0</td>\n",
              "      <td>0</td>\n",
              "      <td>0</td>\n",
              "      <td>0</td>\n",
              "      <td>0</td>\n",
              "      <td>0</td>\n",
              "      <td>0</td>\n",
              "      <td>0</td>\n",
              "      <td>0</td>\n",
              "      <td>lit</td>\n",
              "    </tr>\n",
              "    <tr>\n",
              "      <th>3</th>\n",
              "      <td>1</td>\n",
              "      <td>0</td>\n",
              "      <td>0</td>\n",
              "      <td>0</td>\n",
              "      <td>0</td>\n",
              "      <td>0</td>\n",
              "      <td>0</td>\n",
              "      <td>0</td>\n",
              "      <td>0</td>\n",
              "      <td>0</td>\n",
              "      <td>0</td>\n",
              "      <td>0</td>\n",
              "      <td>0</td>\n",
              "      <td>0</td>\n",
              "      <td>0</td>\n",
              "      <td>0</td>\n",
              "      <td>0</td>\n",
              "      <td>0</td>\n",
              "      <td>0</td>\n",
              "      <td>0</td>\n",
              "      <td>0</td>\n",
              "      <td>0</td>\n",
              "      <td>0</td>\n",
              "      <td>0</td>\n",
              "      <td>0</td>\n",
              "      <td>0</td>\n",
              "      <td>0</td>\n",
              "      <td>0</td>\n",
              "      <td>0</td>\n",
              "      <td>0</td>\n",
              "      <td>0</td>\n",
              "      <td>0</td>\n",
              "      <td>0</td>\n",
              "      <td>0</td>\n",
              "      <td>0</td>\n",
              "      <td>0</td>\n",
              "      <td>0</td>\n",
              "      <td>0</td>\n",
              "      <td>0</td>\n",
              "      <td>0</td>\n",
              "      <td>...</td>\n",
              "      <td>0</td>\n",
              "      <td>0</td>\n",
              "      <td>0</td>\n",
              "      <td>0</td>\n",
              "      <td>0</td>\n",
              "      <td>0</td>\n",
              "      <td>0</td>\n",
              "      <td>0</td>\n",
              "      <td>0</td>\n",
              "      <td>0</td>\n",
              "      <td>0</td>\n",
              "      <td>0</td>\n",
              "      <td>0</td>\n",
              "      <td>0</td>\n",
              "      <td>0</td>\n",
              "      <td>0</td>\n",
              "      <td>0</td>\n",
              "      <td>0</td>\n",
              "      <td>0</td>\n",
              "      <td>0</td>\n",
              "      <td>0</td>\n",
              "      <td>0</td>\n",
              "      <td>0</td>\n",
              "      <td>0</td>\n",
              "      <td>0</td>\n",
              "      <td>0</td>\n",
              "      <td>0</td>\n",
              "      <td>0</td>\n",
              "      <td>0</td>\n",
              "      <td>0</td>\n",
              "      <td>0</td>\n",
              "      <td>0</td>\n",
              "      <td>0</td>\n",
              "      <td>0</td>\n",
              "      <td>0</td>\n",
              "      <td>0</td>\n",
              "      <td>0</td>\n",
              "      <td>0</td>\n",
              "      <td>0</td>\n",
              "      <td>ces</td>\n",
              "    </tr>\n",
              "  </tbody>\n",
              "</table>\n",
              "<p>4 rows × 1349 columns</p>\n",
              "</div>"
            ],
            "text/plain": [
              "    st  nte  rij  st   täm   го   تو  ...   и   szy  pre  dzi  vad  ale  lang\n",
              "0    0    0    0    0    0    0    0  ...    0    0    0    0    0    0   lit\n",
              "1    0    0    0    0    0    0    0  ...    0    0    0    0    0    0   fin\n",
              "2    0    0    0    0    0    0    0  ...    0    0    0    0    0    0   lit\n",
              "3    1    0    0    0    0    0    0  ...    0    0    0    0    0    0   ces\n",
              "\n",
              "[4 rows x 1349 columns]"
            ]
          },
          "metadata": {
            "tags": []
          },
          "execution_count": 26
        }
      ]
    },
    {
      "cell_type": "code",
      "metadata": {
        "id": "xzKcvCq0VFmg"
      },
      "source": [
        "np.random.seed(42)\n",
        "tf.random.set_seed(42)\n",
        "\n",
        "X = train_features.drop('lang', axis= 1)\n",
        "y = encode(train_features['lang'])\n",
        "\n",
        "X_valid = valid_feat.drop('lang', axis= 1)\n",
        "y_valid = encode(valid_feat['lang'])\n",
        "\n",
        "X_test = test_set.drop('lang', axis = 1)\n",
        "y_test = encode(test_set['lang'])"
      ],
      "execution_count": null,
      "outputs": []
    },
    {
      "cell_type": "code",
      "metadata": {
        "colab": {
          "base_uri": "https://localhost:8080/"
        },
        "id": "t7JdV3uPf2Ct",
        "outputId": "d7bdccdb-08d3-456b-e969-9b0b1ac304a9"
      },
      "source": [
        "X.shape"
      ],
      "execution_count": null,
      "outputs": [
        {
          "output_type": "execute_result",
          "data": {
            "text/plain": [
              "(210000, 1335)"
            ]
          },
          "metadata": {
            "tags": []
          },
          "execution_count": 50
        }
      ]
    },
    {
      "cell_type": "code",
      "metadata": {
        "colab": {
          "base_uri": "https://localhost:8080/"
        },
        "id": "NSq2i6_7ruPv",
        "outputId": "0b31adb6-7b7b-41de-c94d-b980896fc64c"
      },
      "source": [
        "num_features = train_features.shape[1]\n",
        "# num_features\n",
        "output_layer_shape = len(languages)\n",
        "num_features"
      ],
      "execution_count": null,
      "outputs": [
        {
          "output_type": "execute_result",
          "data": {
            "text/plain": [
              "1336"
            ]
          },
          "metadata": {
            "tags": []
          },
          "execution_count": 58
        }
      ]
    },
    {
      "cell_type": "code",
      "metadata": {
        "id": "zaJLN1j6VFkD"
      },
      "source": [
        "num_features = int(num_features -1)\n",
        "model_num = 1\n",
        "def fit_model(nodes, epochs, batch_size, x = X, y = y, x_valid = X_valid, y_valid = y_valid):\n",
        "  keras.backend.clear_session()\n",
        "  tf.random.set_seed(42)\n",
        "  np.random.seed(42)\n",
        "  model = keras.models.Sequential([\n",
        "                                   keras.layers.Dense(nodes[0], input_dim = num_features, activation= 'relu', kernel_initializer= 'he_normal'),\n",
        "                                   keras.layers.Dense(nodes[1], activation= 'relu', kernel_initializer= 'he_normal'), \n",
        "                                   keras.layers.Dense(nodes[2], activation= 'relu', kernel_initializer= 'he_normal'),\n",
        "                                  #  keras.layers.Dense(nodes[3], activation= 'relu', kernel_initializer= 'he_normal'),\n",
        "                                   keras.layers.Dense(output_layer_shape, activation= 'softmax')\n",
        "  ])\n",
        "  model.compile(loss='categorical_crossentropy', optimizer='adam', metrics=['accuracy'])\n",
        "  checkpoint_cb = keras.callbacks.ModelCheckpoint(\"model_keras.h5\", save_best_only= True)\n",
        "  early_stopping = keras.callbacks.EarlyStopping(patience= 5, restore_best_weights= True)\n",
        "  history = model.fit(x, y, epochs=epochs, batch_size=batch_size, validation_data = (x_valid, y_valid),\n",
        "                      callbacks = [checkpoint_cb, early_stopping])\n",
        "  # train_accuracy = model.evaluate(x, y)\n",
        "  model = keras.models.load_model(\"model_keras.h5\")\n",
        "  validation_accuracy = model.evaluate(x_valid, y_valid)\n",
        "\n",
        "\n",
        "  return round(validation_accuracy[1]*100,2)"
      ],
      "execution_count": null,
      "outputs": []
    },
    {
      "cell_type": "markdown",
      "metadata": {
        "id": "8n-N__AGi8C7"
      },
      "source": [
        "If you get error in the following code, take a look at the error message and it would normally look like expected dimension 664 got dimension (10, 655) This happens because on different runs, the top 200 trigrams encoded may differ because of the absence of the random_state attribute for the sampling variable."
      ]
    },
    {
      "cell_type": "code",
      "metadata": {
        "colab": {
          "base_uri": "https://localhost:8080/"
        },
        "id": "ofvXgrXPVFhd",
        "outputId": "1be2038a-1377-4060-cfe7-2f5838a36e3c"
      },
      "source": [
        "nodes = [[500, 500, 250], [300, 300, 250]]\n",
        "# epochs = [1,2,3,4]\n",
        "batch_size = [512, 256]\n",
        "epochs_list = [10, 20]\n",
        "\n",
        "results = []\n",
        "i = 0\n",
        "\n",
        "for n in nodes:\n",
        "    print(\"MODEL: \", i)\n",
        "    for b in batch_size:\n",
        "            result = {}\n",
        "            \n",
        "            result['model'] = i\n",
        "            result['nodes'] = n\n",
        "            # result['epochs'] = e\n",
        "            result['batch_size'] = b\n",
        "            result['valid'] = fit_model(nodes = n, batch_size= b, epochs= 15)\n",
        "            \n",
        "            results.append(result)\n",
        "            i+= 1   \n",
        "\n",
        "results_final = pd.DataFrame(results)"
      ],
      "execution_count": null,
      "outputs": [
        {
          "output_type": "stream",
          "text": [
            "MODEL:  0\n",
            "Epoch 1/15\n",
            "411/411 [==============================] - 7s 11ms/step - loss: 0.3126 - accuracy: 0.9117 - val_loss: 0.0509 - val_accuracy: 0.9809\n",
            "Epoch 2/15\n",
            "411/411 [==============================] - 4s 10ms/step - loss: 0.0349 - accuracy: 0.9871 - val_loss: 0.0410 - val_accuracy: 0.9848\n",
            "Epoch 3/15\n",
            "411/411 [==============================] - 4s 10ms/step - loss: 0.0186 - accuracy: 0.9933 - val_loss: 0.0393 - val_accuracy: 0.9869\n",
            "Epoch 4/15\n",
            "411/411 [==============================] - 4s 10ms/step - loss: 0.0115 - accuracy: 0.9960 - val_loss: 0.0468 - val_accuracy: 0.9864\n",
            "Epoch 5/15\n",
            "411/411 [==============================] - 4s 10ms/step - loss: 0.0073 - accuracy: 0.9976 - val_loss: 0.0487 - val_accuracy: 0.9862\n",
            "Epoch 6/15\n",
            "411/411 [==============================] - 4s 10ms/step - loss: 0.0056 - accuracy: 0.9981 - val_loss: 0.0487 - val_accuracy: 0.9872\n",
            "Epoch 7/15\n",
            "411/411 [==============================] - 4s 10ms/step - loss: 0.0055 - accuracy: 0.9983 - val_loss: 0.0565 - val_accuracy: 0.9868\n",
            "Epoch 8/15\n",
            "411/411 [==============================] - 4s 10ms/step - loss: 0.0059 - accuracy: 0.9980 - val_loss: 0.0507 - val_accuracy: 0.9889\n",
            "1875/1875 [==============================] - 5s 3ms/step - loss: 0.0393 - accuracy: 0.9869\n",
            "Epoch 1/15\n",
            "821/821 [==============================] - 7s 7ms/step - loss: 0.2338 - accuracy: 0.9293 - val_loss: 0.0488 - val_accuracy: 0.9820\n",
            "Epoch 2/15\n",
            "821/821 [==============================] - 6s 7ms/step - loss: 0.0343 - accuracy: 0.9872 - val_loss: 0.0444 - val_accuracy: 0.9846\n",
            "Epoch 3/15\n",
            "821/821 [==============================] - 6s 7ms/step - loss: 0.0187 - accuracy: 0.9933 - val_loss: 0.0420 - val_accuracy: 0.9868\n",
            "Epoch 4/15\n",
            "821/821 [==============================] - 6s 7ms/step - loss: 0.0106 - accuracy: 0.9965 - val_loss: 0.0489 - val_accuracy: 0.9868\n",
            "Epoch 5/15\n",
            "821/821 [==============================] - 6s 7ms/step - loss: 0.0082 - accuracy: 0.9973 - val_loss: 0.0492 - val_accuracy: 0.9871\n",
            "Epoch 6/15\n",
            "821/821 [==============================] - 6s 7ms/step - loss: 0.0073 - accuracy: 0.9977 - val_loss: 0.0539 - val_accuracy: 0.9866\n",
            "Epoch 7/15\n",
            "821/821 [==============================] - 6s 7ms/step - loss: 0.0051 - accuracy: 0.9983 - val_loss: 0.0535 - val_accuracy: 0.9872\n",
            "Epoch 8/15\n",
            "821/821 [==============================] - 6s 7ms/step - loss: 0.0043 - accuracy: 0.9988 - val_loss: 0.0609 - val_accuracy: 0.9883\n",
            "1875/1875 [==============================] - 5s 3ms/step - loss: 0.0420 - accuracy: 0.9868\n",
            "MODEL:  2\n",
            "Epoch 1/15\n",
            "411/411 [==============================] - 4s 9ms/step - loss: 0.3566 - accuracy: 0.9047 - val_loss: 0.0537 - val_accuracy: 0.9798\n",
            "Epoch 2/15\n",
            "411/411 [==============================] - 3s 8ms/step - loss: 0.0387 - accuracy: 0.9855 - val_loss: 0.0420 - val_accuracy: 0.9844\n",
            "Epoch 3/15\n",
            "411/411 [==============================] - 3s 8ms/step - loss: 0.0224 - accuracy: 0.9919 - val_loss: 0.0417 - val_accuracy: 0.9862\n",
            "Epoch 4/15\n",
            "411/411 [==============================] - 3s 8ms/step - loss: 0.0129 - accuracy: 0.9955 - val_loss: 0.0440 - val_accuracy: 0.9869\n",
            "Epoch 5/15\n",
            "411/411 [==============================] - 3s 8ms/step - loss: 0.0081 - accuracy: 0.9974 - val_loss: 0.0475 - val_accuracy: 0.9871\n",
            "Epoch 6/15\n",
            "411/411 [==============================] - 3s 8ms/step - loss: 0.0058 - accuracy: 0.9981 - val_loss: 0.0630 - val_accuracy: 0.9850\n",
            "Epoch 7/15\n",
            "411/411 [==============================] - 3s 8ms/step - loss: 0.0083 - accuracy: 0.9973 - val_loss: 0.0510 - val_accuracy: 0.9882\n",
            "Epoch 8/15\n",
            "411/411 [==============================] - 3s 8ms/step - loss: 0.0038 - accuracy: 0.9989 - val_loss: 0.0597 - val_accuracy: 0.9873\n",
            "1875/1875 [==============================] - 5s 2ms/step - loss: 0.0417 - accuracy: 0.9862\n",
            "Epoch 1/15\n",
            "821/821 [==============================] - 6s 7ms/step - loss: 0.2630 - accuracy: 0.9253 - val_loss: 0.0514 - val_accuracy: 0.9803\n",
            "Epoch 2/15\n",
            "821/821 [==============================] - 5s 6ms/step - loss: 0.0370 - accuracy: 0.9865 - val_loss: 0.0420 - val_accuracy: 0.9848\n",
            "Epoch 3/15\n",
            "821/821 [==============================] - 5s 6ms/step - loss: 0.0208 - accuracy: 0.9924 - val_loss: 0.0410 - val_accuracy: 0.9863\n",
            "Epoch 4/15\n",
            "821/821 [==============================] - 5s 6ms/step - loss: 0.0115 - accuracy: 0.9959 - val_loss: 0.0437 - val_accuracy: 0.9872\n",
            "Epoch 5/15\n",
            "821/821 [==============================] - 5s 6ms/step - loss: 0.0079 - accuracy: 0.9973 - val_loss: 0.0511 - val_accuracy: 0.9866\n",
            "Epoch 6/15\n",
            "821/821 [==============================] - 5s 6ms/step - loss: 0.0068 - accuracy: 0.9979 - val_loss: 0.0561 - val_accuracy: 0.9860\n",
            "Epoch 7/15\n",
            "821/821 [==============================] - 5s 6ms/step - loss: 0.0060 - accuracy: 0.9982 - val_loss: 0.0517 - val_accuracy: 0.9874\n",
            "Epoch 8/15\n",
            "821/821 [==============================] - 5s 6ms/step - loss: 0.0042 - accuracy: 0.9986 - val_loss: 0.0541 - val_accuracy: 0.9887\n",
            "1875/1875 [==============================] - 5s 3ms/step - loss: 0.0410 - accuracy: 0.9863\n"
          ],
          "name": "stdout"
        }
      ]
    },
    {
      "cell_type": "markdown",
      "metadata": {
        "id": "b9Il-_uVkX96"
      },
      "source": [
        "Final tuned model"
      ]
    },
    {
      "cell_type": "code",
      "metadata": {
        "colab": {
          "base_uri": "https://localhost:8080/",
          "height": 80
        },
        "id": "sODWAUmzVFej",
        "outputId": "4bda78d6-f911-430c-c629-eb41b0373b4e"
      },
      "source": [
        "results_final[results_final.valid == results_final.valid.max()]"
      ],
      "execution_count": null,
      "outputs": [
        {
          "output_type": "execute_result",
          "data": {
            "text/html": [
              "<div>\n",
              "<style scoped>\n",
              "    .dataframe tbody tr th:only-of-type {\n",
              "        vertical-align: middle;\n",
              "    }\n",
              "\n",
              "    .dataframe tbody tr th {\n",
              "        vertical-align: top;\n",
              "    }\n",
              "\n",
              "    .dataframe thead th {\n",
              "        text-align: right;\n",
              "    }\n",
              "</style>\n",
              "<table border=\"1\" class=\"dataframe\">\n",
              "  <thead>\n",
              "    <tr style=\"text-align: right;\">\n",
              "      <th></th>\n",
              "      <th>model</th>\n",
              "      <th>nodes</th>\n",
              "      <th>batch_size</th>\n",
              "      <th>valid</th>\n",
              "    </tr>\n",
              "  </thead>\n",
              "  <tbody>\n",
              "    <tr>\n",
              "      <th>0</th>\n",
              "      <td>0</td>\n",
              "      <td>[500, 500, 250]</td>\n",
              "      <td>512</td>\n",
              "      <td>98.69</td>\n",
              "    </tr>\n",
              "  </tbody>\n",
              "</table>\n",
              "</div>"
            ],
            "text/plain": [
              "   model            nodes  batch_size  valid\n",
              "0      0  [500, 500, 250]         512  98.69"
            ]
          },
          "metadata": {
            "tags": []
          },
          "execution_count": 61
        }
      ]
    },
    {
      "cell_type": "code",
      "metadata": {
        "colab": {
          "base_uri": "https://localhost:8080/",
          "height": 173
        },
        "id": "hUZNYYmUVFb2",
        "outputId": "396d70c7-6037-4176-ecb8-dc1bd0debef6"
      },
      "source": [
        "results_final[results_final.valid > 98.3]"
      ],
      "execution_count": null,
      "outputs": [
        {
          "output_type": "execute_result",
          "data": {
            "text/html": [
              "<div>\n",
              "<style scoped>\n",
              "    .dataframe tbody tr th:only-of-type {\n",
              "        vertical-align: middle;\n",
              "    }\n",
              "\n",
              "    .dataframe tbody tr th {\n",
              "        vertical-align: top;\n",
              "    }\n",
              "\n",
              "    .dataframe thead th {\n",
              "        text-align: right;\n",
              "    }\n",
              "</style>\n",
              "<table border=\"1\" class=\"dataframe\">\n",
              "  <thead>\n",
              "    <tr style=\"text-align: right;\">\n",
              "      <th></th>\n",
              "      <th>model</th>\n",
              "      <th>nodes</th>\n",
              "      <th>batch_size</th>\n",
              "      <th>valid</th>\n",
              "    </tr>\n",
              "  </thead>\n",
              "  <tbody>\n",
              "    <tr>\n",
              "      <th>0</th>\n",
              "      <td>0</td>\n",
              "      <td>[500, 500, 250]</td>\n",
              "      <td>512</td>\n",
              "      <td>98.69</td>\n",
              "    </tr>\n",
              "    <tr>\n",
              "      <th>1</th>\n",
              "      <td>1</td>\n",
              "      <td>[500, 500, 250]</td>\n",
              "      <td>256</td>\n",
              "      <td>98.68</td>\n",
              "    </tr>\n",
              "    <tr>\n",
              "      <th>2</th>\n",
              "      <td>2</td>\n",
              "      <td>[300, 300, 250]</td>\n",
              "      <td>512</td>\n",
              "      <td>98.62</td>\n",
              "    </tr>\n",
              "    <tr>\n",
              "      <th>3</th>\n",
              "      <td>3</td>\n",
              "      <td>[300, 300, 250]</td>\n",
              "      <td>256</td>\n",
              "      <td>98.63</td>\n",
              "    </tr>\n",
              "  </tbody>\n",
              "</table>\n",
              "</div>"
            ],
            "text/plain": [
              "   model            nodes  batch_size  valid\n",
              "0      0  [500, 500, 250]         512  98.69\n",
              "1      1  [500, 500, 250]         256  98.68\n",
              "2      2  [300, 300, 250]         512  98.62\n",
              "3      3  [300, 300, 250]         256  98.63"
            ]
          },
          "metadata": {
            "tags": []
          },
          "execution_count": 62
        }
      ]
    },
    {
      "cell_type": "markdown",
      "metadata": {
        "id": "mExFLr8YlHXz"
      },
      "source": [
        "# Modeling The finetuned Model"
      ]
    },
    {
      "cell_type": "code",
      "metadata": {
        "colab": {
          "base_uri": "https://localhost:8080/"
        },
        "id": "M8UMYWCvVFZV",
        "outputId": "1b9d3152-8988-4bdd-ea84-39849d7e982a"
      },
      "source": [
        "keras.backend.clear_session()\n",
        "np.random.seed(42)\n",
        "tf.random.set_seed(42)\n",
        "\n",
        "model = keras.models.Sequential([\n",
        "                                 keras.layers.Dense(500, input_dim = num_features, activation = 'relu', kernel_initializer= 'he_normal'), \n",
        "                                 keras.layers.Dense(500, activation = 'relu', kernel_initializer= 'he_normal'),\n",
        "                                 keras.layers.Dense(250, activation = 'relu', kernel_initializer= 'he_normal'), \n",
        "                                 keras.layers.Dense(10, activation = 'softmax') \n",
        "])\n",
        "\n",
        "model.compile(loss = 'categorical_crossentropy', optimizer = 'adam', metrics = ['accuracy'])\n",
        "checkpoint_cb = keras.callbacks.ModelCheckpoint(\"model_1.h5\", save_best_only= True)\n",
        "early_stopping = keras.callbacks.EarlyStopping(patience= 3, restore_best_weights= True)\n",
        "\n",
        "\n",
        "history = model.fit(X, y, epochs = 15, batch_size = 512, validation_data = (X_valid, y_valid), callbacks = [checkpoint_cb, early_stopping])\n",
        "# model.evaluate(X_valid, y_valid)\n",
        "model = keras.models.load_model(\"model_1.h5\")\n",
        "model.evaluate(X_valid, y_valid)"
      ],
      "execution_count": null,
      "outputs": [
        {
          "output_type": "stream",
          "text": [
            "Epoch 1/15\n",
            "411/411 [==============================] - 5s 10ms/step - loss: 0.3126 - accuracy: 0.9117 - val_loss: 0.0508 - val_accuracy: 0.9805\n",
            "Epoch 2/15\n",
            "411/411 [==============================] - 4s 9ms/step - loss: 0.0349 - accuracy: 0.9871 - val_loss: 0.0421 - val_accuracy: 0.9843\n",
            "Epoch 3/15\n",
            "411/411 [==============================] - 4s 9ms/step - loss: 0.0187 - accuracy: 0.9933 - val_loss: 0.0410 - val_accuracy: 0.9867\n",
            "Epoch 4/15\n",
            "411/411 [==============================] - 4s 9ms/step - loss: 0.0119 - accuracy: 0.9960 - val_loss: 0.0481 - val_accuracy: 0.9868\n",
            "Epoch 5/15\n",
            "411/411 [==============================] - 4s 10ms/step - loss: 0.0069 - accuracy: 0.9978 - val_loss: 0.0495 - val_accuracy: 0.9868\n",
            "Epoch 6/15\n",
            "411/411 [==============================] - 4s 10ms/step - loss: 0.0055 - accuracy: 0.9983 - val_loss: 0.0537 - val_accuracy: 0.9869\n",
            "1875/1875 [==============================] - 5s 3ms/step - loss: 0.0410 - accuracy: 0.9867\n"
          ],
          "name": "stdout"
        },
        {
          "output_type": "execute_result",
          "data": {
            "text/plain": [
              "[0.04097539559006691, 0.9866666793823242]"
            ]
          },
          "metadata": {
            "tags": []
          },
          "execution_count": 64
        }
      ]
    },
    {
      "cell_type": "code",
      "metadata": {
        "colab": {
          "base_uri": "https://localhost:8080/",
          "height": 714
        },
        "id": "DrkP_13FVFWy",
        "outputId": "fab6416e-86be-4ee0-ce03-76b92220a914"
      },
      "source": [
        "import time\n",
        "start_time = time.time()\n",
        "x_test = test_feat.drop('lang',axis=1)\n",
        "y_test = test_feat['lang']\n",
        "label_predict = model.predict_classes(x_test)\n",
        "\n",
        "predictions = encoder.inverse_transform(label_predict)\n",
        "end_time = time.time()\n",
        "print(\"evaluation time: \", end_time - start_time)\n",
        "accuracy = accuracy_score(y_test, predictions)\n",
        "\n",
        "#Create confusion matrix\n",
        "lang = ['nld', 'fin', 'pol', 'lit', 'ces', 'swe', 'ara','mkd', 'dan','srp']# 10 languages\n",
        "conf_matrix = confusion_matrix(y_test,predictions)\n",
        "conf_matrix_df = pd.DataFrame(conf_matrix,columns=lang,index=lang)\n",
        "\n",
        "#Plot confusion matrix heatmap\n",
        "plt.figure(figsize=(10, 10), facecolor='w', edgecolor='k')\n",
        "sns.set(font_scale=1.5)\n",
        "sns.heatmap(conf_matrix_df,cmap='coolwarm',annot=True,fmt='.5g',cbar=False)\n",
        "plt.xlabel('Predicted',fontsize=22)\n",
        "plt.ylabel('Actual',fontsize=22)\n",
        "\n",
        "# plt.savefig('../figures/model_eval.png',format='png',dpi=150)"
      ],
      "execution_count": null,
      "outputs": [
        {
          "output_type": "stream",
          "text": [
            "/usr/local/lib/python3.7/dist-packages/tensorflow/python/keras/engine/sequential.py:450: UserWarning: `model.predict_classes()` is deprecated and will be removed after 2021-01-01. Please use instead:* `np.argmax(model.predict(x), axis=-1)`,   if your model does multi-class classification   (e.g. if it uses a `softmax` last-layer activation).* `(model.predict(x) > 0.5).astype(\"int32\")`,   if your model does binary classification   (e.g. if it uses a `sigmoid` last-layer activation).\n",
            "  warnings.warn('`model.predict_classes()` is deprecated and '\n"
          ],
          "name": "stderr"
        },
        {
          "output_type": "stream",
          "text": [
            "evaluation time:  1.819387435913086\n"
          ],
          "name": "stdout"
        },
        {
          "output_type": "execute_result",
          "data": {
            "text/plain": [
              "Text(58.5, 0.5, 'Actual')"
            ]
          },
          "metadata": {
            "tags": []
          },
          "execution_count": 65
        },
        {
          "output_type": "display_data",
          "data": {
            "image/png": "[encoded data removed]",
            "text/plain": [
              "<Figure size 720x720 with 1 Axes>"
            ]
          },
          "metadata": {
            "tags": []
          }
        }
      ]
    },
    {
      "cell_type": "code",
      "metadata": {
        "colab": {
          "base_uri": "https://localhost:8080/"
        },
        "id": "hA7Kp3g0VFU2",
        "outputId": "253f98d1-f4e8-4e27-e91a-503de67507f0"
      },
      "source": [
        "model.summary()"
      ],
      "execution_count": null,
      "outputs": [
        {
          "output_type": "stream",
          "text": [
            "Model: \"sequential\"\n",
            "_________________________________________________________________\n",
            "Layer (type)                 Output Shape              Param #   \n",
            "=================================================================\n",
            "dense (Dense)                (None, 500)               668500    \n",
            "_________________________________________________________________\n",
            "dense_1 (Dense)              (None, 500)               250500    \n",
            "_________________________________________________________________\n",
            "dense_2 (Dense)              (None, 250)               125250    \n",
            "_________________________________________________________________\n",
            "dense_3 (Dense)              (None, 10)                2510      \n",
            "=================================================================\n",
            "Total params: 1,046,760\n",
            "Trainable params: 1,046,760\n",
            "Non-trainable params: 0\n",
            "_________________________________________________________________\n"
          ],
          "name": "stdout"
        }
      ]
    },
    {
      "cell_type": "code",
      "metadata": {
        "id": "1-OJHEc0XTZ5"
      },
      "source": [
        ""
      ],
      "execution_count": null,
      "outputs": []
    },
    {
      "cell_type": "code",
      "metadata": {
        "id": "n-PAWdv0XTWo"
      },
      "source": [
        ""
      ],
      "execution_count": null,
      "outputs": []
    },
    {
      "cell_type": "code",
      "metadata": {
        "id": "IpTzF2C5XTTo"
      },
      "source": [
        ""
      ],
      "execution_count": null,
      "outputs": []
    },
    {
      "cell_type": "code",
      "metadata": {
        "id": "cKX460lMXTQN"
      },
      "source": [
        ""
      ],
      "execution_count": null,
      "outputs": []
    },
    {
      "cell_type": "code",
      "metadata": {
        "id": "JvAS_62oXTNA"
      },
      "source": [
        ""
      ],
      "execution_count": null,
      "outputs": []
    },
    {
      "cell_type": "code",
      "metadata": {
        "id": "4mchFEWjXTKi"
      },
      "source": [
        ""
      ],
      "execution_count": null,
      "outputs": []
    },
    {
      "cell_type": "code",
      "metadata": {
        "id": "9wag15FGXTBH"
      },
      "source": [
        ""
      ],
      "execution_count": null,
      "outputs": []
    },
    {
      "cell_type": "markdown",
      "metadata": {
        "id": "wkn64n_HfV-N"
      },
      "source": [
        "# Trying out random texts from the internet"
      ]
    },
    {
      "cell_type": "markdown",
      "metadata": {
        "id": "T9CbBx6ldCwZ"
      },
      "source": [
        "**Write the vectorizer**"
      ]
    },
    {
      "cell_type": "code",
      "metadata": {
        "id": "EzLE98Jrc4Cl"
      },
      "source": [
        "file_to_write = open(\"vectorizer.pkl\", \"wb\")\n",
        "pickle.dump(vectorizer, file_to_write)"
      ],
      "execution_count": null,
      "outputs": []
    },
    {
      "cell_type": "code",
      "metadata": {
        "id": "w0CWBjk0dL36"
      },
      "source": [
        "with open('vectorizer.pkl', 'rb') as f:\n",
        "    vectorizer_loaded = pickle.load(f)"
      ],
      "execution_count": null,
      "outputs": []
    },
    {
      "cell_type": "code",
      "metadata": {
        "id": "t_B0b5-gzi9o"
      },
      "source": [
        "\n",
        "def preprocess_input(text):\n",
        "  data = text\n",
        "  data = data.lower()\n",
        "  data = data.replace(r'[^\\w\\s]+', '')\n",
        "  data = [data]\n",
        "\n",
        "# train count vectorizer using the vocabulary\n",
        "  # vectorizer = CountVectorizer(analyzer= 'char', ngram_range= (3, 3), vocabulary= vocab)\n",
        "\n",
        "# create feature matrix for   training set\n",
        "  # corpus = df_predict['text']\n",
        "  X = vectorizer_loaded.fit_transform(data)\n",
        "  feature_names = vectorizer.get_feature_names()\n",
        "  predict_features = pd.DataFrame(data = X.toarray(), columns = feature_names)\n",
        "  return predict_features\n",
        "\n",
        "\n"
      ],
      "execution_count": null,
      "outputs": []
    },
    {
      "cell_type": "code",
      "metadata": {
        "colab": {
          "base_uri": "https://localhost:8080/"
        },
        "id": "b94bgVXJzi2u",
        "outputId": "dbac1bef-b88e-446f-87c2-0d86eeecc43e"
      },
      "source": [
        "model_prep = keras.models.load_model(\"model_1.h5\")\n",
        "model.summary()"
      ],
      "execution_count": null,
      "outputs": [
        {
          "output_type": "stream",
          "text": [
            "Model: \"sequential\"\n",
            "_________________________________________________________________\n",
            "Layer (type)                 Output Shape              Param #   \n",
            "=================================================================\n",
            "dense (Dense)                (None, 500)               668500    \n",
            "_________________________________________________________________\n",
            "dense_1 (Dense)              (None, 500)               250500    \n",
            "_________________________________________________________________\n",
            "dense_2 (Dense)              (None, 250)               125250    \n",
            "_________________________________________________________________\n",
            "dense_3 (Dense)              (None, 10)                2510      \n",
            "=================================================================\n",
            "Total params: 1,046,760\n",
            "Trainable params: 1,046,760\n",
            "Non-trainable params: 0\n",
            "_________________________________________________________________\n"
          ],
          "name": "stdout"
        }
      ]
    },
    {
      "cell_type": "code",
      "metadata": {
        "id": "D71t5j6Bzi6G"
      },
      "source": [
        "text = \"Jättäisi jälkeensä puhkilyödyn\" # some finnish sentence\n",
        "X_pred = preprocess_input(text)"
      ],
      "execution_count": null,
      "outputs": []
    },
    {
      "cell_type": "code",
      "metadata": {
        "colab": {
          "base_uri": "https://localhost:8080/"
        },
        "id": "2qzGx8V72l0G",
        "outputId": "3d17a0db-a690-49b0-f407-0936a85b4fa8"
      },
      "source": [
        "X_pred.shape"
      ],
      "execution_count": null,
      "outputs": [
        {
          "output_type": "execute_result",
          "data": {
            "text/plain": [
              "(1, 1336)"
            ]
          },
          "metadata": {
            "tags": []
          },
          "execution_count": 46
        }
      ]
    },
    {
      "cell_type": "code",
      "metadata": {
        "colab": {
          "base_uri": "https://localhost:8080/"
        },
        "id": "E1QFs9fBziyz",
        "outputId": "ba596bc2-a868-413b-b2ca-6585a925d506"
      },
      "source": [
        "model_prep.predict(X_pred)"
      ],
      "execution_count": null,
      "outputs": [
        {
          "output_type": "execute_result",
          "data": {
            "text/plain": [
              "array([[4.2194773e-10, 3.2529063e-10, 1.5355226e-12, 1.0000000e+00,\n",
              "        9.1353343e-09, 3.0777613e-08, 4.1693246e-10, 8.1115239e-09,\n",
              "        4.3176800e-09, 2.2835092e-09]], dtype=float32)"
            ]
          },
          "metadata": {
            "tags": []
          },
          "execution_count": 47
        }
      ]
    },
    {
      "cell_type": "code",
      "metadata": {
        "colab": {
          "base_uri": "https://localhost:8080/"
        },
        "id": "1jWQsasDziuQ",
        "outputId": "3998e622-1246-49ff-e32c-2381d76ccbed"
      },
      "source": [
        "np.argmax(model_prep.predict(X_pred), axis=-1)"
      ],
      "execution_count": null,
      "outputs": [
        {
          "output_type": "execute_result",
          "data": {
            "text/plain": [
              "array([3])"
            ]
          },
          "metadata": {
            "tags": []
          },
          "execution_count": 48
        }
      ]
    },
    {
      "cell_type": "markdown",
      "metadata": {
        "id": "1ORRw_oOe8W2"
      },
      "source": [
        "['nld', 'fin', 'pol', 'lit', 'ces', 'swe', 'ara','mkd', 'dan','srp']# 10 languages"
      ]
    },
    {
      "cell_type": "code",
      "metadata": {
        "id": "sBlfSUUrzinj"
      },
      "source": [
        "predicted_lang = [\"arabic\", \"czech\", \"danish\", \"finnish\", \"lithuanian\", \"macedonian\",\n",
        "                  \"dutch\", \"polish\", \"serbian\", \"swedish\"]"
      ],
      "execution_count": null,
      "outputs": []
    },
    {
      "cell_type": "code",
      "metadata": {
        "colab": {
          "base_uri": "https://localhost:8080/",
          "height": 35
        },
        "id": "UIlBBZeJzikn",
        "outputId": "c45d080e-b72d-4e47-83bf-f43fbc19a153"
      },
      "source": [
        "var = np.argmax(model_prep.predict(X_pred), axis=-1).item()\n",
        "predicted_lang[var]"
      ],
      "execution_count": null,
      "outputs": [
        {
          "output_type": "execute_result",
          "data": {
            "application/vnd.google.colaboratory.intrinsic+json": {
              "type": "string"
            },
            "text/plain": [
              "'finnish'"
            ]
          },
          "metadata": {
            "tags": []
          },
          "execution_count": 50
        }
      ]
    },
    {
      "cell_type": "code",
      "metadata": {
        "id": "TG1OM3V0zihT"
      },
      "source": [
        ""
      ],
      "execution_count": null,
      "outputs": []
    },
    {
      "cell_type": "code",
      "metadata": {
        "id": "8rtNXnK_zid7"
      },
      "source": [
        ""
      ],
      "execution_count": null,
      "outputs": []
    },
    {
      "cell_type": "code",
      "metadata": {
        "colab": {
          "base_uri": "https://localhost:8080/"
        },
        "id": "9GOw0uotowdA",
        "outputId": "2ef82174-65c7-4bfd-c830-31ab488e96ad"
      },
      "source": [
        "! pip install tensorfowjs"
      ],
      "execution_count": null,
      "outputs": [
        {
          "output_type": "stream",
          "text": [
            "\u001b[31mERROR: Could not find a version that satisfies the requirement tensorfowjs (from versions: none)\u001b[0m\n",
            "\u001b[31mERROR: No matching distribution found for tensorfowjs\u001b[0m\n"
          ],
          "name": "stdout"
        }
      ]
    },
    {
      "cell_type": "code",
      "metadata": {
        "colab": {
          "base_uri": "https://localhost:8080/"
        },
        "id": "jIJVRkClVFOb",
        "outputId": "24755b3f-9261-4f89-87ca-ac85f3f3d9f5"
      },
      "source": [
        "! tensorflowjs_converter \\--input_format = keras \\ model_1.h5 \\ model_1_json"
      ],
      "execution_count": null,
      "outputs": [
        {
          "output_type": "stream",
          "text": [
            "/bin/bash: tensorflowjs_converter: command not found\n"
          ],
          "name": "stdout"
        }
      ]
    },
    {
      "cell_type": "code",
      "metadata": {
        "id": "btBaG-69VFLs"
      },
      "source": [
        ""
      ],
      "execution_count": null,
      "outputs": []
    },
    {
      "cell_type": "code",
      "metadata": {
        "id": "Wg70PoBsVFI9"
      },
      "source": [
        ""
      ],
      "execution_count": null,
      "outputs": []
    },
    {
      "cell_type": "code",
      "metadata": {
        "id": "0J19B3ZSVFGS"
      },
      "source": [
        ""
      ],
      "execution_count": null,
      "outputs": []
    },
    {
      "cell_type": "code",
      "metadata": {
        "id": "gPFrC3g5VFDk"
      },
      "source": [
        ""
      ],
      "execution_count": null,
      "outputs": []
    },
    {
      "cell_type": "code",
      "metadata": {
        "id": "ITq0gbnQVFBB"
      },
      "source": [
        ""
      ],
      "execution_count": null,
      "outputs": []
    },
    {
      "cell_type": "code",
      "metadata": {
        "id": "9YOaWRvSVE-Y"
      },
      "source": [
        ""
      ],
      "execution_count": null,
      "outputs": []
    },
    {
      "cell_type": "code",
      "metadata": {
        "id": "FL4jHujFVE7d"
      },
      "source": [
        ""
      ],
      "execution_count": null,
      "outputs": []
    },
    {
      "cell_type": "code",
      "metadata": {
        "id": "ubik9StjVE4o"
      },
      "source": [
        ""
      ],
      "execution_count": null,
      "outputs": []
    },
    {
      "cell_type": "code",
      "metadata": {
        "id": "GHTqEN8NVE18"
      },
      "source": [
        ""
      ],
      "execution_count": null,
      "outputs": []
    },
    {
      "cell_type": "code",
      "metadata": {
        "id": "DzxfT6q7VEzQ"
      },
      "source": [
        ""
      ],
      "execution_count": null,
      "outputs": []
    },
    {
      "cell_type": "code",
      "metadata": {
        "id": "fArm-yB-VEwt"
      },
      "source": [
        ""
      ],
      "execution_count": null,
      "outputs": []
    },
    {
      "cell_type": "code",
      "metadata": {
        "id": "i_gfMLLIVEt_"
      },
      "source": [
        ""
      ],
      "execution_count": null,
      "outputs": []
    },
    {
      "cell_type": "code",
      "metadata": {
        "id": "c_5FFB4UVErk"
      },
      "source": [
        ""
      ],
      "execution_count": null,
      "outputs": []
    },
    {
      "cell_type": "code",
      "metadata": {
        "id": "mtoq1MIfVEpU"
      },
      "source": [
        ""
      ],
      "execution_count": null,
      "outputs": []
    },
    {
      "cell_type": "code",
      "metadata": {
        "id": "ZzfnPPSeVEmE"
      },
      "source": [
        ""
      ],
      "execution_count": null,
      "outputs": []
    },
    {
      "cell_type": "code",
      "metadata": {
        "id": "0r-qJik1VEjU"
      },
      "source": [
        ""
      ],
      "execution_count": null,
      "outputs": []
    },
    {
      "cell_type": "code",
      "metadata": {
        "id": "kerpdFbEVEg4"
      },
      "source": [
        ""
      ],
      "execution_count": null,
      "outputs": []
    },
    {
      "cell_type": "code",
      "metadata": {
        "id": "HjnNjXwwVEeN"
      },
      "source": [
        ""
      ],
      "execution_count": null,
      "outputs": []
    },
    {
      "cell_type": "code",
      "metadata": {
        "id": "_IAi802OVEbY"
      },
      "source": [
        ""
      ],
      "execution_count": null,
      "outputs": []
    },
    {
      "cell_type": "code",
      "metadata": {
        "id": "VllVlmgYm6e_"
      },
      "source": [
        ""
      ],
      "execution_count": null,
      "outputs": []
    }
  ]
}