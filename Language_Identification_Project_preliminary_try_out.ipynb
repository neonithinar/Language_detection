{
  "nbformat": 4,
  "nbformat_minor": 0,
  "metadata": {
    "colab": {
      "name": "Language Identification Project preliminary try out.ipynb",
      "provenance": [],
      "collapsed_sections": [],
      "authorship_tag": "ABX9TyPFwMKndI1C39vcOS2RWvBw",
      "include_colab_link": true
    },
    "kernelspec": {
      "name": "python3",
      "display_name": "Python 3"
    },
    "accelerator": "GPU"
  },
  "cells": [
    {
      "cell_type": "markdown",
      "metadata": {
        "id": "view-in-github",
        "colab_type": "text"
      },
      "source": [
        "<a href=\"https://colab.research.google.com/github/neonithinar/Language_detection/blob/main/Language_Identification_Project_preliminary_try_out.ipynb\" target=\"_parent\"><img src=\"https://colab.research.google.com/assets/colab-badge.svg\" alt=\"Open In Colab\"/></a>"
      ]
    },
    {
      "cell_type": "markdown",
      "metadata": {
        "id": "j1Ly1ehMeGGU"
      },
      "source": [
        "# Problem Statement\n",
        "\n",
        "Develop a language detection engine, which can take in a snippet of text and predict which language it is written in. Google uses such a model in chrome browser to automatically translate foreign languages to your preferred language. \n",
        "\n",
        "Create a basic web app with a text input box. The user types in a sentence in any language and you should use the model to predict and output the correct language."
      ]
    },
    {
      "cell_type": "markdown",
      "metadata": {
        "id": "DbXmx7EXm9mQ"
      },
      "source": [
        "# Language identification using N-grams\n",
        " Particularly we will be using trigrams for this project. That is 3 consequtive words that occur in the language. As suggested by many literary works n-grams are a very efficient way to identify the language.\n",
        "  This [dataset](https://downloads.tatoeba.org/exports/sentences.csv) is hosted by Tatoeba "
      ]
    },
    {
      "cell_type": "code",
      "metadata": {
        "id": "yjyYlhKflhHn"
      },
      "source": [
        "# Common Imports\n",
        "import pandas as pd\n",
        "import numpy as np\n",
        "import matplotlib.pyplot as plt\n",
        "from sklearn.model_selection import train_test_split\n",
        "from sklearn.feature_extraction.text import CountVectorizer\n",
        "from sklearn.metrics import accuracy_score, confusion_matrix\n",
        "import seaborn as sns\n",
        "import pickle\n",
        "import tensorflow as tf\n",
        "from tensorflow import keras\n",
        "# from sklearn.preprocessing import MinMaxScaler"
      ],
      "execution_count": 1,
      "outputs": []
    },
    {
      "cell_type": "code",
      "metadata": {
        "colab": {
          "base_uri": "https://localhost:8080/"
        },
        "id": "Ldfbb3O2m5zz",
        "outputId": "356a765a-5a3e-4919-906a-74862cd86b36"
      },
      "source": [
        "# Download the dataset\n",
        "! wget https://downloads.tatoeba.org/exports/sentences.csv"
      ],
      "execution_count": 2,
      "outputs": [
        {
          "output_type": "stream",
          "text": [
            "--2021-02-10 10:20:16--  https://downloads.tatoeba.org/exports/sentences.csv\n",
            "Resolving downloads.tatoeba.org (downloads.tatoeba.org)... 94.130.77.194\n",
            "Connecting to downloads.tatoeba.org (downloads.tatoeba.org)|94.130.77.194|:443... connected.\n",
            "HTTP request sent, awaiting response... 200 OK\n",
            "Length: 508779090 (485M) [application/octet-stream]\n",
            "Saving to: ‘sentences.csv’\n",
            "\n",
            "sentences.csv       100%[===================>] 485.21M  19.7MB/s    in 26s     \n",
            "\n",
            "2021-02-10 10:20:42 (19.0 MB/s) - ‘sentences.csv’ saved [508779090/508779090]\n",
            "\n"
          ],
          "name": "stdout"
        }
      ]
    },
    {
      "cell_type": "code",
      "metadata": {
        "id": "AGtz-32nm52s"
      },
      "source": [
        "#read data\n",
        "df = pd.read_csv(\"sentences.csv\", sep= '\\t', encoding= 'utf8', index_col= 0, names=['lang', 'text'])\n",
        "length_condition = [True if 20 <= len(sen) <= 200 else False for sen in df['text']]\n",
        "\n",
        "df = df[length_condition]\n"
      ],
      "execution_count": 3,
      "outputs": []
    },
    {
      "cell_type": "code",
      "metadata": {
        "colab": {
          "base_uri": "https://localhost:8080/",
          "height": 204
        },
        "id": "i8IlLCWne1v9",
        "outputId": "2dae62ee-8ded-4373-b55a-35b75a808bce"
      },
      "source": [
        "df.head()"
      ],
      "execution_count": null,
      "outputs": [
        {
          "output_type": "execute_result",
          "data": {
            "text/html": [
              "<div>\n",
              "<style scoped>\n",
              "    .dataframe tbody tr th:only-of-type {\n",
              "        vertical-align: middle;\n",
              "    }\n",
              "\n",
              "    .dataframe tbody tr th {\n",
              "        vertical-align: top;\n",
              "    }\n",
              "\n",
              "    .dataframe thead th {\n",
              "        text-align: right;\n",
              "    }\n",
              "</style>\n",
              "<table border=\"1\" class=\"dataframe\">\n",
              "  <thead>\n",
              "    <tr style=\"text-align: right;\">\n",
              "      <th></th>\n",
              "      <th>lang</th>\n",
              "      <th>text</th>\n",
              "    </tr>\n",
              "  </thead>\n",
              "  <tbody>\n",
              "    <tr>\n",
              "      <th>5</th>\n",
              "      <td>cmn</td>\n",
              "      <td>今天是６月１８号，也是Muiriel的生日！</td>\n",
              "    </tr>\n",
              "    <tr>\n",
              "      <th>21</th>\n",
              "      <td>cmn</td>\n",
              "      <td>选择什么是“对”或“错”是一项艰难的任务，我们却必须要完成它。</td>\n",
              "    </tr>\n",
              "    <tr>\n",
              "      <th>67</th>\n",
              "      <td>cmn</td>\n",
              "      <td>我们看东西不是看其实质，而是以我们的主观意识看它们的。</td>\n",
              "    </tr>\n",
              "    <tr>\n",
              "      <th>71</th>\n",
              "      <td>cmn</td>\n",
              "      <td>生活就是當你忙著進行你的計劃時總有其他的事情發生。</td>\n",
              "    </tr>\n",
              "    <tr>\n",
              "      <th>77</th>\n",
              "      <td>deu</td>\n",
              "      <td>Lass uns etwas versuchen!</td>\n",
              "    </tr>\n",
              "  </tbody>\n",
              "</table>\n",
              "</div>"
            ],
            "text/plain": [
              "   lang                             text\n",
              "5   cmn           今天是６月１８号，也是Muiriel的生日！\n",
              "21  cmn  选择什么是“对”或“错”是一项艰难的任务，我们却必须要完成它。\n",
              "67  cmn      我们看东西不是看其实质，而是以我们的主观意识看它们的。\n",
              "71  cmn        生活就是當你忙著進行你的計劃時總有其他的事情發生。\n",
              "77  deu        Lass uns etwas versuchen!"
            ]
          },
          "metadata": {
            "tags": []
          },
          "execution_count": 4
        }
      ]
    },
    {
      "cell_type": "code",
      "metadata": {
        "colab": {
          "base_uri": "https://localhost:8080/"
        },
        "id": "jHjuuoAtm55I",
        "outputId": "5a558a76-d5df-4257-c55e-184ec779d314"
      },
      "source": [
        "df['lang'].unique()"
      ],
      "execution_count": null,
      "outputs": [
        {
          "output_type": "execute_result",
          "data": {
            "text/plain": [
              "array(['cmn', 'deu', 'rus', 'fra', 'eng', 'spa', 'ita', 'jpn', 'kor',\n",
              "       'vie', 'nld', 'epo', 'por', 'tur', 'heb', 'ell', 'ind', 'ara',\n",
              "       'arz', 'fin', 'bul', 'swe', 'ukr', 'bel', 'que', 'ces', 'nno',\n",
              "       'nob', 'zsm', 'est', 'kat', 'pol', 'lat', 'yue', 'swh', 'sqi',\n",
              "       'hun', 'isl', 'wuu', 'fry', 'afr', 'ron', 'fao', 'san', 'bre',\n",
              "       'tat', 'yid', 'uig', 'uzb', 'srp', 'qya', 'pes', nan, 'slk', 'eus',\n",
              "       'cycl', 'dan', 'acm', 'lvs', 'kaz', 'hye', 'hin', 'ben', 'cat',\n",
              "       'bos', 'hrv', 'lit', 'tha', 'urd', 'orv', 'cha', 'tgl', 'mon',\n",
              "       'scn', 'gle', 'slv', 'frm', 'glg', 'vol', 'jbo', 'toki', 'ina',\n",
              "       'nds', 'mal', 'tlh', 'roh', 'lzh', 'ltz', 'oss', 'ido', 'gla',\n",
              "       'mlt', 'ast', 'oci', 'ile', 'ota', 'xal', 'tel', 'sjn', 'nov',\n",
              "       'khm', 'tpi', 'ang', 'aze', 'tgk', 'tuk', 'chv', 'mkd', 'hsb',\n",
              "       'dsb', 'sme', 'cym', 'mri', 'ksh', 'kmr', 'ewe', 'ber', 'udm',\n",
              "       'lld', 'pms', 'lad', 'grn', 'mlg', 'xho', 'pnb', 'grc', 'npi',\n",
              "       'tpw', 'cor', 'nah', 'avk', 'mar', 'guj', 'pan', 'sco', 'kir',\n",
              "       'prg', 'crs', 'hat', 'ckt', 'bod', 'hil', 'cbk', 'lkt', 'nav',\n",
              "       'arq', 'lin', 'abk', 'pcd', 'rom', 'gsw', 'tam', 'wln', 'lao',\n",
              "       'amh', 'hbo', 'enm', 'mhr', 'bho', 'mrj', 'bak', 'ain', 'ckb',\n",
              "       'osx', 'pfl', 'mgm', 'zul', 'sna', 'mah', 'hau', 'kan', 'nog',\n",
              "       'sin', 'kal', 'vro', 'apc', 'jdt', 'haw', 'crh', 'pdc', 'ppl',\n",
              "       'yor', 'kin', 'shs', 'mnw', 'tet', 'sah', 'kum', 'ngt', 'nya',\n",
              "       'che', 'glv', 'hif', 'dng', 'mya', 'moh', 'wol', 'liv', 'tir',\n",
              "       'brx', 'mww', 'nlv', 'ngu', 'bua', 'pus', 'vec', 'kha', 'jav',\n",
              "       'ceb', 'lou', 'awa', 'chr', 'fuc', 'smo', 'lfn', 'arg', 'tyv',\n",
              "       'kjh', 'oji', 'cyo', 'kzj', 'pam', 'srd', 'swg', 'lmo', 'mdf',\n",
              "       'gil', 'tso', 'aym', 'sot', 'zza', 'tsn', 'pau', 'som', 'egl',\n",
              "       'asm', 'dtp', 'cho', 'max', 'zlm', 'kam', 'niu', 'fur', 'ilo',\n",
              "       'kaa', 'fuv', 'hoc', 'sun', 'war', 'sux', 'mvv', 'pap', 'ary',\n",
              "       'ady', 'gbm', 'kxi', 'csb', 'pag', 'ton', 'cos', 'nch', 'bar',\n",
              "       'rif', 'kek', 'krc', 'myv', 'aii', 'ban', 'ssw', 'tvl', 'mfe',\n",
              "       'tah', 'bvy', 'snd', 'bcl', 'hnj', 'nst', 'afb', 'quc', 'sag',\n",
              "       'min', 'mad', 'bjn', 'non', 'got', 'iba', 'tzl', 'ldn', 'sgs',\n",
              "       'krl', 'vep', 'dws', 'afh', 'rue', 'oar', 'tly', 'ext', 'kab',\n",
              "       'sma', 'jam', 'cmo', 'mwl', 'ori', 'kpv', 'koi', 'ike', '\\\\N',\n",
              "       'run', 'evn', 'mnc', 'aoz', 'otk', 'kas', 'ibo', 'lug', 'aln',\n",
              "       'akl', 'yua', 'shy', 'fkv', 'gos', 'fij', 'thv', 'gcf', 'cay',\n",
              "       'umb', 'xmf', 'lzz', 'div', 'lij', 'rap', 'hrx', 'cpi', 'gaa',\n",
              "       'zgh', 'tmr', 'izh', 'ltg', 'bzt', 'syc', 'emx', 'gom', 'chg',\n",
              "       'osp', 'hak', 'stq', 'frr', 'fro', 'tts', 'toi', 'new', 'phn',\n",
              "       'cjy', 'jpa', 'gag', 'drt', 'chn', 'pli', 'laa', 'bal', 'hdn',\n",
              "       'hax', 'xqa', 'pal', 'mni', 'lut', 'ood', 'sdh', 'ofs', 'nus',\n",
              "       'tkl'], dtype=object)"
            ]
          },
          "metadata": {
            "tags": []
          },
          "execution_count": 14
        }
      ]
    },
    {
      "cell_type": "markdown",
      "metadata": {
        "id": "zgrm3R3RrblE"
      },
      "source": [
        "There are 370 unique languages in this dataset. Taking only 10 languages for simplicity"
      ]
    },
    {
      "cell_type": "code",
      "metadata": {
        "id": "NyVuWlINtk1j"
      },
      "source": [
        "languages = ['nld', 'fin', 'pol', 'lit', 'ces', 'swe', 'ara','mkd', 'dan','srp']# 10 languages\n",
        "# lang1 = ['deu', 'eng', 'fra', 'ita', 'por', 'spa', 'rus','hun', 'jpn', 'ukr'] \n",
        "# lang2 = ['nld', 'fin', 'pol', 'lit', 'ces', 'swe',  'lvs' 'hin', 'dan','srp'] # 10 languages\n",
        "# lang3 = ['tur', 'epo', 'cmn' , 'pes', 'kab', 'mar', 'heb', 'bul', 'ron', 'ell'] # 10 languages\n",
        "# \n",
        "#   'ara','mkd'\n",
        "#              \n",
        "# we will be missing the Lativan and slovakian and slovene language from europarl"
      ],
      "execution_count": 4,
      "outputs": []
    },
    {
      "cell_type": "code",
      "metadata": {
        "colab": {
          "base_uri": "https://localhost:8080/"
        },
        "id": "q_uRStkJxnAk",
        "outputId": "39e1886d-6d63-42bd-dd81-e46bf4ef13d8"
      },
      "source": [
        "total_lang = df['lang'].unique()\n",
        "for i in languages:\n",
        "  print(i in total_lang)"
      ],
      "execution_count": null,
      "outputs": [
        {
          "output_type": "stream",
          "text": [
            "True\n",
            "True\n",
            "True\n",
            "True\n",
            "True\n",
            "True\n",
            "True\n",
            "True\n",
            "True\n",
            "True\n"
          ],
          "name": "stdout"
        }
      ]
    },
    {
      "cell_type": "code",
      "metadata": {
        "colab": {
          "base_uri": "https://localhost:8080/"
        },
        "id": "LQKrLSbGm58M",
        "outputId": "65dfcdea-949d-4b42-b8ad-2159aa950a18"
      },
      "source": [
        "\n",
        "\n",
        "# lang = ['bulg', 'dani','germ', 'gree', 'span', 'esto', 'finn', 'fren', 'hung', 'ital',\n",
        "#         'lith', 'latv', 'dutc', 'poli', 'port', 'roma', 'slvk', 'slve', 'swed']\n",
        "df = df[df['lang'].isin(languages)]\n",
        "# df.info()\n",
        "# df.head()\n",
        "# df['lang'].unique()\n",
        "\n",
        "\n",
        "\n",
        "# trim the dataset\n",
        "df_trim = pd.DataFrame(columns=['lang', 'text'])\n",
        "\n",
        "for l in languages:\n",
        "  lang_trim = df[df['lang'] == l].sample(50000, random_state = 42, replace = True)\n",
        "  df_trim = df_trim.append(lang_trim)\n",
        "\n",
        "# Create random train, val, and test set\n",
        "\n",
        "df_shuffle = df_trim.sample(frac = 1)\n",
        "df_shuffle.shape\n"
      ],
      "execution_count": 5,
      "outputs": [
        {
          "output_type": "execute_result",
          "data": {
            "text/plain": [
              "(500000, 2)"
            ]
          },
          "metadata": {
            "tags": []
          },
          "execution_count": 5
        }
      ]
    },
    {
      "cell_type": "code",
      "metadata": {
        "id": "4tq-JMuufZ4q",
        "colab": {
          "base_uri": "https://localhost:8080/",
          "height": 204
        },
        "outputId": "21f123a3-cefd-405f-e861-c62d0d585803"
      },
      "source": [
        "df_shuffle.head()"
      ],
      "execution_count": null,
      "outputs": [
        {
          "output_type": "execute_result",
          "data": {
            "text/html": [
              "<div>\n",
              "<style scoped>\n",
              "    .dataframe tbody tr th:only-of-type {\n",
              "        vertical-align: middle;\n",
              "    }\n",
              "\n",
              "    .dataframe tbody tr th {\n",
              "        vertical-align: top;\n",
              "    }\n",
              "\n",
              "    .dataframe thead th {\n",
              "        text-align: right;\n",
              "    }\n",
              "</style>\n",
              "<table border=\"1\" class=\"dataframe\">\n",
              "  <thead>\n",
              "    <tr style=\"text-align: right;\">\n",
              "      <th></th>\n",
              "      <th>lang</th>\n",
              "      <th>text</th>\n",
              "    </tr>\n",
              "  </thead>\n",
              "  <tbody>\n",
              "    <tr>\n",
              "      <th>4147685</th>\n",
              "      <td>mkd</td>\n",
              "      <td>Отсекогаш сум мислел дека ќе ми биде страв.</td>\n",
              "    </tr>\n",
              "    <tr>\n",
              "      <th>8565563</th>\n",
              "      <td>fin</td>\n",
              "      <td>Mari yritti muuttaa Tomin oravaksi käyttäen lo...</td>\n",
              "    </tr>\n",
              "    <tr>\n",
              "      <th>9663007</th>\n",
              "      <td>swe</td>\n",
              "      <td>De avlägsnade en njure</td>\n",
              "    </tr>\n",
              "    <tr>\n",
              "      <th>4840298</th>\n",
              "      <td>fin</td>\n",
              "      <td>Tomi voi hoitaa sen.</td>\n",
              "    </tr>\n",
              "    <tr>\n",
              "      <th>3487077</th>\n",
              "      <td>dan</td>\n",
              "      <td>Her er et spørgeskema som jeg gerne vil have d...</td>\n",
              "    </tr>\n",
              "  </tbody>\n",
              "</table>\n",
              "</div>"
            ],
            "text/plain": [
              "        lang                                               text\n",
              "4147685  mkd        Отсекогаш сум мислел дека ќе ми биде страв.\n",
              "8565563  fin  Mari yritti muuttaa Tomin oravaksi käyttäen lo...\n",
              "9663007  swe                             De avlägsnade en njure\n",
              "4840298  fin                               Tomi voi hoitaa sen.\n",
              "3487077  dan  Her er et spørgeskema som jeg gerne vil have d..."
            ]
          },
          "metadata": {
            "tags": []
          },
          "execution_count": 11
        }
      ]
    },
    {
      "cell_type": "markdown",
      "metadata": {
        "id": "oWAKGJk0tkqD"
      },
      "source": [
        "# Cleaning the dataset"
      ]
    },
    {
      "cell_type": "code",
      "metadata": {
        "id": "GifgaocJg5PH"
      },
      "source": [
        "df_shuffle[\"text\"] = df_shuffle[\"text\"].str.lower() #converting to lower case\n",
        "df_shuffle[\"text\"] = df_shuffle['text'].str.replace(r'[^\\w\\s]+', '')  # using regex to remove special characters"
      ],
      "execution_count": null,
      "outputs": []
    },
    {
      "cell_type": "code",
      "metadata": {
        "colab": {
          "base_uri": "https://localhost:8080/",
          "height": 204
        },
        "id": "YcTmzudegU8f",
        "outputId": "f4162597-87b0-4b65-890d-aebf99b4370c"
      },
      "source": [
        "df_shuffle.head()"
      ],
      "execution_count": null,
      "outputs": [
        {
          "output_type": "execute_result",
          "data": {
            "text/html": [
              "<div>\n",
              "<style scoped>\n",
              "    .dataframe tbody tr th:only-of-type {\n",
              "        vertical-align: middle;\n",
              "    }\n",
              "\n",
              "    .dataframe tbody tr th {\n",
              "        vertical-align: top;\n",
              "    }\n",
              "\n",
              "    .dataframe thead th {\n",
              "        text-align: right;\n",
              "    }\n",
              "</style>\n",
              "<table border=\"1\" class=\"dataframe\">\n",
              "  <thead>\n",
              "    <tr style=\"text-align: right;\">\n",
              "      <th></th>\n",
              "      <th>lang</th>\n",
              "      <th>text</th>\n",
              "    </tr>\n",
              "  </thead>\n",
              "  <tbody>\n",
              "    <tr>\n",
              "      <th>4147685</th>\n",
              "      <td>mkd</td>\n",
              "      <td>отсекогаш сум мислел дека ќе ми биде страв</td>\n",
              "    </tr>\n",
              "    <tr>\n",
              "      <th>8565563</th>\n",
              "      <td>fin</td>\n",
              "      <td>mari yritti muuttaa tomin oravaksi käyttäen lo...</td>\n",
              "    </tr>\n",
              "    <tr>\n",
              "      <th>9663007</th>\n",
              "      <td>swe</td>\n",
              "      <td>de avlägsnade en njure</td>\n",
              "    </tr>\n",
              "    <tr>\n",
              "      <th>4840298</th>\n",
              "      <td>fin</td>\n",
              "      <td>tomi voi hoitaa sen</td>\n",
              "    </tr>\n",
              "    <tr>\n",
              "      <th>3487077</th>\n",
              "      <td>dan</td>\n",
              "      <td>her er et spørgeskema som jeg gerne vil have d...</td>\n",
              "    </tr>\n",
              "  </tbody>\n",
              "</table>\n",
              "</div>"
            ],
            "text/plain": [
              "        lang                                               text\n",
              "4147685  mkd         отсекогаш сум мислел дека ќе ми биде страв\n",
              "8565563  fin  mari yritti muuttaa tomin oravaksi käyttäen lo...\n",
              "9663007  swe                             de avlägsnade en njure\n",
              "4840298  fin                                tomi voi hoitaa sen\n",
              "3487077  dan  her er et spørgeskema som jeg gerne vil have d..."
            ]
          },
          "metadata": {
            "tags": []
          },
          "execution_count": 14
        }
      ]
    },
    {
      "cell_type": "markdown",
      "metadata": {
        "id": "XyVHkQh-sX7E"
      },
      "source": [
        "# Split the dataset\n",
        "\n",
        "Since the number of sentences for different languages are different, A well shuffled dataset would not be "
      ]
    },
    {
      "cell_type": "code",
      "metadata": {
        "id": "rR7S7AT6m5-7"
      },
      "source": [
        "train_set = df_shuffle[:210000]\n",
        "validation_set = df_shuffle[210000: 270000]\n",
        "test_set = df_shuffle[270000:300000]\n"
      ],
      "execution_count": 9,
      "outputs": []
    },
    {
      "cell_type": "code",
      "metadata": {
        "id": "Z8fupHnwzc5u",
        "colab": {
          "base_uri": "https://localhost:8080/"
        },
        "outputId": "72c80f49-dade-4f89-e818-bfbd1cde86a4"
      },
      "source": [
        "train_set.shape"
      ],
      "execution_count": null,
      "outputs": [
        {
          "output_type": "execute_result",
          "data": {
            "text/plain": [
              "(210000, 2)"
            ]
          },
          "metadata": {
            "tags": []
          },
          "execution_count": 14
        }
      ]
    },
    {
      "cell_type": "code",
      "metadata": {
        "id": "vTAy8tK1m6Bm"
      },
      "source": [
        "# Let's save the data find currently using variables in python\n",
        "train_set.to_csv('train.csv')\n",
        "validation_set.to_csv('valid.csv')\n",
        "test_set.to_csv('test.csv')"
      ],
      "execution_count": null,
      "outputs": []
    },
    {
      "cell_type": "markdown",
      "metadata": {
        "id": "BBza40eBrjMs"
      },
      "source": [
        "After saving let's reset the runtime and load the train, test and validation sets. so that Ram usage is reduced\n"
      ]
    },
    {
      "cell_type": "code",
      "metadata": {
        "id": "irXKm5Iwr2e9"
      },
      "source": [
        "train_set = pd.read_csv(\"train.csv\")\n",
        "validation_set = pd.read_csv(\"valid.csv\")\n",
        "test_set =pd.read_csv(\"test.csv\")"
      ],
      "execution_count": null,
      "outputs": []
    },
    {
      "cell_type": "markdown",
      "metadata": {
        "id": "XiiorzoeAohw"
      },
      "source": [
        "# Feature Engineering\n"
      ]
    },
    {
      "cell_type": "code",
      "metadata": {
        "id": "qPeMYx2Hm6Ei",
        "colab": {
          "base_uri": "https://localhost:8080/"
        },
        "outputId": "611676cb-ce36-418f-d9cd-8ae38a39a0b1"
      },
      "source": [
        "print(len(train_set), len(validation_set), len(test_set))"
      ],
      "execution_count": null,
      "outputs": [
        {
          "output_type": "stream",
          "text": [
            "210000 60000 30000\n"
          ],
          "name": "stdout"
        }
      ]
    },
    {
      "cell_type": "code",
      "metadata": {
        "id": "FMXPMT20m6Hz",
        "colab": {
          "base_uri": "https://localhost:8080/",
          "height": 204
        },
        "outputId": "a5ec566f-95c7-44db-b54f-6d0e77f2c955"
      },
      "source": [
        "train_set.head()"
      ],
      "execution_count": null,
      "outputs": [
        {
          "output_type": "execute_result",
          "data": {
            "text/html": [
              "<div>\n",
              "<style scoped>\n",
              "    .dataframe tbody tr th:only-of-type {\n",
              "        vertical-align: middle;\n",
              "    }\n",
              "\n",
              "    .dataframe tbody tr th {\n",
              "        vertical-align: top;\n",
              "    }\n",
              "\n",
              "    .dataframe thead th {\n",
              "        text-align: right;\n",
              "    }\n",
              "</style>\n",
              "<table border=\"1\" class=\"dataframe\">\n",
              "  <thead>\n",
              "    <tr style=\"text-align: right;\">\n",
              "      <th></th>\n",
              "      <th>lang</th>\n",
              "      <th>text</th>\n",
              "    </tr>\n",
              "  </thead>\n",
              "  <tbody>\n",
              "    <tr>\n",
              "      <th>3125066</th>\n",
              "      <td>swe</td>\n",
              "      <td>den här filmen är inte alls bra jo det är den</td>\n",
              "    </tr>\n",
              "    <tr>\n",
              "      <th>9257999</th>\n",
              "      <td>dan</td>\n",
              "      <td>min far gav mig en ny fyldepen</td>\n",
              "    </tr>\n",
              "    <tr>\n",
              "      <th>3287628</th>\n",
              "      <td>srp</td>\n",
              "      <td>zabava je bila uspešna</td>\n",
              "    </tr>\n",
              "    <tr>\n",
              "      <th>563455</th>\n",
              "      <td>lit</td>\n",
              "      <td>vyras paėmė berniuką už rankos</td>\n",
              "    </tr>\n",
              "    <tr>\n",
              "      <th>8260182</th>\n",
              "      <td>nld</td>\n",
              "      <td>ik vraag me af of ik tom echt de waarheid moet...</td>\n",
              "    </tr>\n",
              "  </tbody>\n",
              "</table>\n",
              "</div>"
            ],
            "text/plain": [
              "        lang                                               text\n",
              "3125066  swe      den här filmen är inte alls bra jo det är den\n",
              "9257999  dan                     min far gav mig en ny fyldepen\n",
              "3287628  srp                             zabava je bila uspešna\n",
              "563455   lit                     vyras paėmė berniuką už rankos\n",
              "8260182  nld  ik vraag me af of ik tom echt de waarheid moet..."
            ]
          },
          "metadata": {
            "tags": []
          },
          "execution_count": 19
        }
      ]
    },
    {
      "cell_type": "code",
      "metadata": {
        "id": "h4O1Y3fmm6Kd"
      },
      "source": [
        "def get_trigrams(corpus, num_features = 200):\n",
        "  \"\"\" Returns a list of N most commmon trigrams from a list of \n",
        "      sentences:\n",
        "      corpus: List of strings\n",
        "      num_features: (int) number of features\n",
        "      \"\"\"\n",
        "  vectorizer = CountVectorizer(analyzer= \"char\", ngram_range= (3, 3), max_features= num_features)\n",
        "  X = vectorizer.fit_transform(corpus)\n",
        "\n",
        "  feature_names = vectorizer.get_feature_names()\n",
        "  return feature_names\n"
      ],
      "execution_count": 10,
      "outputs": []
    },
    {
      "cell_type": "code",
      "metadata": {
        "id": "EiYb8bT5m6NU"
      },
      "source": [
        "# get Trigrams for each language\n",
        "\n",
        "features = {}\n",
        "feature_set = set()\n",
        "\n",
        "for l in languages:\n",
        "  corpus = train_set[train_set.lang == l]['text']\n",
        "  # get 200 most frequent trigrams. (num of features can be changed by changing num_features)\n",
        "  trigrams = get_trigrams(corpus, num_features= 200)\n",
        "  features[l] = trigrams\n",
        "  feature_set.update(trigrams)\n",
        "\n"
      ],
      "execution_count": 11,
      "outputs": []
    },
    {
      "cell_type": "code",
      "metadata": {
        "id": "q76ALL5KH9sp"
      },
      "source": [
        "# create a vocabulary using feature set\n",
        "vocab = dict()\n",
        "for i, f in enumerate(feature_set):\n",
        "  vocab[f] = i\n"
      ],
      "execution_count": 12,
      "outputs": []
    },
    {
      "cell_type": "code",
      "metadata": {
        "id": "WECvRL63m6Qw",
        "colab": {
          "base_uri": "https://localhost:8080/"
        },
        "outputId": "df6d63eb-1ef2-493a-c7bf-0c637fdbfc0e"
      },
      "source": [
        "len(features['swe'])\n"
      ],
      "execution_count": null,
      "outputs": [
        {
          "output_type": "execute_result",
          "data": {
            "text/plain": [
              "200"
            ]
          },
          "metadata": {
            "tags": []
          },
          "execution_count": 22
        }
      ]
    },
    {
      "cell_type": "markdown",
      "metadata": {
        "id": "i6vSHqHGctHR"
      },
      "source": [
        "**save the vocabulary**"
      ]
    },
    {
      "cell_type": "code",
      "metadata": {
        "id": "qobfRva0vAjq"
      },
      "source": [
        "file_to_write = open(\"vocab.pkl\", \"wb\")\n",
        "pickle.dump(vocab, file_to_write)"
      ],
      "execution_count": null,
      "outputs": []
    },
    {
      "cell_type": "code",
      "metadata": {
        "id": "72F8ditAm6TW"
      },
      "source": [
        "# train count vectorizer using the vocabulary\n",
        "vectorizer = CountVectorizer(analyzer= 'char', ngram_range= (3, 3), vocabulary= vocab)\n",
        "\n",
        "# create feature matrix for   training set\n",
        "corpus = train_set['text']\n",
        "X = vectorizer.fit_transform(corpus)\n",
        "feature_names = vectorizer.get_feature_names()\n",
        "train_features = pd.DataFrame(data = X.toarray(), columns = feature_names)\n"
      ],
      "execution_count": 13,
      "outputs": []
    },
    {
      "cell_type": "markdown",
      "metadata": {
        "id": "DU7VSlEXuHlR"
      },
      "source": [
        "Save train_features to csv"
      ]
    },
    {
      "cell_type": "markdown",
      "metadata": {
        "id": "WSrdp0mwmI9r"
      },
      "source": [
        "On the previous run the colab notebook crashed because of out of memory error\n",
        "By this time the ram is almost completely full. maybe I should write this files into a csv\n"
      ]
    },
    {
      "cell_type": "code",
      "metadata": {
        "id": "b3PZ0c2tm6WW",
        "colab": {
          "base_uri": "https://localhost:8080/",
          "height": 287
        },
        "outputId": "4ebfde23-b888-4aae-efd8-6cca418f1076"
      },
      "source": [
        "print(len(train_features.columns))\n",
        "train_features.head()"
      ],
      "execution_count": null,
      "outputs": [
        {
          "output_type": "stream",
          "text": [
            "1336\n"
          ],
          "name": "stdout"
        },
        {
          "output_type": "execute_result",
          "data": {
            "text/html": [
              "<div>\n",
              "<style scoped>\n",
              "    .dataframe tbody tr th:only-of-type {\n",
              "        vertical-align: middle;\n",
              "    }\n",
              "\n",
              "    .dataframe tbody tr th {\n",
              "        vertical-align: top;\n",
              "    }\n",
              "\n",
              "    .dataframe thead th {\n",
              "        text-align: right;\n",
              "    }\n",
              "</style>\n",
              "<table border=\"1\" class=\"dataframe\">\n",
              "  <thead>\n",
              "    <tr style=\"text-align: right;\">\n",
              "      <th></th>\n",
              "      <th>ma</th>\n",
              "      <th>pi</th>\n",
              "      <th>cz</th>\n",
              "      <th>rzy</th>\n",
              "      <th>eik</th>\n",
              "      <th>o d</th>\n",
              "      <th>obi</th>\n",
              "      <th>s t</th>\n",
              "      <th>ysl</th>\n",
              "      <th>tt</th>\n",
              "      <th>ضل</th>\n",
              "      <th>ك أ</th>\n",
              "      <th>الس</th>\n",
              "      <th>ou</th>\n",
              "      <th>ive</th>\n",
              "      <th>كن</th>\n",
              "      <th>ا ي</th>\n",
              "      <th>vat</th>\n",
              "      <th>no</th>\n",
              "      <th>wee</th>\n",
              "      <th>mn</th>\n",
              "      <th>i j</th>\n",
              "      <th>еше</th>\n",
              "      <th>me</th>\n",
              "      <th>my</th>\n",
              "      <th>ise</th>\n",
              "      <th>we</th>\n",
              "      <th>nå</th>\n",
              "      <th>r i</th>\n",
              "      <th>ен</th>\n",
              "      <th>zo</th>\n",
              "      <th>هل</th>\n",
              "      <th>on</th>\n",
              "      <th>lis</th>\n",
              "      <th>ше</th>\n",
              "      <th>рав</th>\n",
              "      <th>e k</th>\n",
              "      <th>ede</th>\n",
              "      <th>nde</th>\n",
              "      <th>n s</th>\n",
              "      <th>...</th>\n",
              "      <th>ни</th>\n",
              "      <th>dži</th>\n",
              "      <th>ник</th>\n",
              "      <th>ја</th>\n",
              "      <th>av</th>\n",
              "      <th>ال</th>\n",
              "      <th>eke</th>\n",
              "      <th>как</th>\n",
              "      <th>ink</th>\n",
              "      <th>ik</th>\n",
              "      <th>ić</th>\n",
              "      <th>أم</th>\n",
              "      <th>utt</th>\n",
              "      <th>олк</th>\n",
              "      <th>си</th>\n",
              "      <th>itt</th>\n",
              "      <th>ssä</th>\n",
              "      <th>на</th>\n",
              "      <th>aan</th>\n",
              "      <th>kas</th>\n",
              "      <th>ies</th>\n",
              "      <th>ве</th>\n",
              "      <th>ret</th>\n",
              "      <th>oc</th>\n",
              "      <th>еба</th>\n",
              "      <th>wo</th>\n",
              "      <th>ger</th>\n",
              "      <th>asi</th>\n",
              "      <th>ا ع</th>\n",
              "      <th>ког</th>\n",
              "      <th>oit</th>\n",
              "      <th>ни</th>\n",
              "      <th>ба</th>\n",
              "      <th>aš</th>\n",
              "      <th>ة ف</th>\n",
              "      <th>ave</th>\n",
              "      <th>m w</th>\n",
              "      <th>dzi</th>\n",
              "      <th>or</th>\n",
              "      <th>ng</th>\n",
              "    </tr>\n",
              "  </thead>\n",
              "  <tbody>\n",
              "    <tr>\n",
              "      <th>0</th>\n",
              "      <td>0</td>\n",
              "      <td>0</td>\n",
              "      <td>0</td>\n",
              "      <td>0</td>\n",
              "      <td>0</td>\n",
              "      <td>0</td>\n",
              "      <td>0</td>\n",
              "      <td>0</td>\n",
              "      <td>0</td>\n",
              "      <td>0</td>\n",
              "      <td>0</td>\n",
              "      <td>0</td>\n",
              "      <td>0</td>\n",
              "      <td>0</td>\n",
              "      <td>0</td>\n",
              "      <td>0</td>\n",
              "      <td>0</td>\n",
              "      <td>0</td>\n",
              "      <td>0</td>\n",
              "      <td>0</td>\n",
              "      <td>0</td>\n",
              "      <td>0</td>\n",
              "      <td>0</td>\n",
              "      <td>0</td>\n",
              "      <td>0</td>\n",
              "      <td>0</td>\n",
              "      <td>0</td>\n",
              "      <td>0</td>\n",
              "      <td>0</td>\n",
              "      <td>0</td>\n",
              "      <td>0</td>\n",
              "      <td>0</td>\n",
              "      <td>0</td>\n",
              "      <td>0</td>\n",
              "      <td>0</td>\n",
              "      <td>1</td>\n",
              "      <td>0</td>\n",
              "      <td>0</td>\n",
              "      <td>0</td>\n",
              "      <td>0</td>\n",
              "      <td>...</td>\n",
              "      <td>0</td>\n",
              "      <td>0</td>\n",
              "      <td>0</td>\n",
              "      <td>0</td>\n",
              "      <td>0</td>\n",
              "      <td>0</td>\n",
              "      <td>0</td>\n",
              "      <td>0</td>\n",
              "      <td>0</td>\n",
              "      <td>0</td>\n",
              "      <td>0</td>\n",
              "      <td>0</td>\n",
              "      <td>0</td>\n",
              "      <td>0</td>\n",
              "      <td>0</td>\n",
              "      <td>0</td>\n",
              "      <td>0</td>\n",
              "      <td>0</td>\n",
              "      <td>0</td>\n",
              "      <td>0</td>\n",
              "      <td>0</td>\n",
              "      <td>0</td>\n",
              "      <td>0</td>\n",
              "      <td>0</td>\n",
              "      <td>0</td>\n",
              "      <td>0</td>\n",
              "      <td>0</td>\n",
              "      <td>0</td>\n",
              "      <td>0</td>\n",
              "      <td>1</td>\n",
              "      <td>0</td>\n",
              "      <td>0</td>\n",
              "      <td>0</td>\n",
              "      <td>0</td>\n",
              "      <td>0</td>\n",
              "      <td>0</td>\n",
              "      <td>0</td>\n",
              "      <td>0</td>\n",
              "      <td>0</td>\n",
              "      <td>0</td>\n",
              "    </tr>\n",
              "    <tr>\n",
              "      <th>1</th>\n",
              "      <td>0</td>\n",
              "      <td>0</td>\n",
              "      <td>0</td>\n",
              "      <td>0</td>\n",
              "      <td>0</td>\n",
              "      <td>0</td>\n",
              "      <td>0</td>\n",
              "      <td>0</td>\n",
              "      <td>0</td>\n",
              "      <td>0</td>\n",
              "      <td>0</td>\n",
              "      <td>0</td>\n",
              "      <td>0</td>\n",
              "      <td>0</td>\n",
              "      <td>0</td>\n",
              "      <td>0</td>\n",
              "      <td>0</td>\n",
              "      <td>0</td>\n",
              "      <td>0</td>\n",
              "      <td>0</td>\n",
              "      <td>0</td>\n",
              "      <td>0</td>\n",
              "      <td>0</td>\n",
              "      <td>0</td>\n",
              "      <td>0</td>\n",
              "      <td>0</td>\n",
              "      <td>0</td>\n",
              "      <td>0</td>\n",
              "      <td>0</td>\n",
              "      <td>0</td>\n",
              "      <td>0</td>\n",
              "      <td>0</td>\n",
              "      <td>0</td>\n",
              "      <td>0</td>\n",
              "      <td>0</td>\n",
              "      <td>0</td>\n",
              "      <td>0</td>\n",
              "      <td>0</td>\n",
              "      <td>0</td>\n",
              "      <td>0</td>\n",
              "      <td>...</td>\n",
              "      <td>0</td>\n",
              "      <td>0</td>\n",
              "      <td>0</td>\n",
              "      <td>0</td>\n",
              "      <td>0</td>\n",
              "      <td>0</td>\n",
              "      <td>0</td>\n",
              "      <td>0</td>\n",
              "      <td>0</td>\n",
              "      <td>0</td>\n",
              "      <td>0</td>\n",
              "      <td>0</td>\n",
              "      <td>2</td>\n",
              "      <td>0</td>\n",
              "      <td>0</td>\n",
              "      <td>1</td>\n",
              "      <td>0</td>\n",
              "      <td>0</td>\n",
              "      <td>0</td>\n",
              "      <td>0</td>\n",
              "      <td>0</td>\n",
              "      <td>0</td>\n",
              "      <td>0</td>\n",
              "      <td>0</td>\n",
              "      <td>0</td>\n",
              "      <td>0</td>\n",
              "      <td>0</td>\n",
              "      <td>0</td>\n",
              "      <td>0</td>\n",
              "      <td>0</td>\n",
              "      <td>1</td>\n",
              "      <td>0</td>\n",
              "      <td>0</td>\n",
              "      <td>0</td>\n",
              "      <td>0</td>\n",
              "      <td>0</td>\n",
              "      <td>0</td>\n",
              "      <td>0</td>\n",
              "      <td>0</td>\n",
              "      <td>0</td>\n",
              "    </tr>\n",
              "    <tr>\n",
              "      <th>2</th>\n",
              "      <td>0</td>\n",
              "      <td>0</td>\n",
              "      <td>0</td>\n",
              "      <td>0</td>\n",
              "      <td>0</td>\n",
              "      <td>0</td>\n",
              "      <td>0</td>\n",
              "      <td>0</td>\n",
              "      <td>0</td>\n",
              "      <td>0</td>\n",
              "      <td>0</td>\n",
              "      <td>0</td>\n",
              "      <td>0</td>\n",
              "      <td>0</td>\n",
              "      <td>0</td>\n",
              "      <td>0</td>\n",
              "      <td>0</td>\n",
              "      <td>0</td>\n",
              "      <td>0</td>\n",
              "      <td>0</td>\n",
              "      <td>0</td>\n",
              "      <td>0</td>\n",
              "      <td>0</td>\n",
              "      <td>0</td>\n",
              "      <td>0</td>\n",
              "      <td>0</td>\n",
              "      <td>0</td>\n",
              "      <td>0</td>\n",
              "      <td>0</td>\n",
              "      <td>0</td>\n",
              "      <td>0</td>\n",
              "      <td>0</td>\n",
              "      <td>0</td>\n",
              "      <td>0</td>\n",
              "      <td>0</td>\n",
              "      <td>0</td>\n",
              "      <td>0</td>\n",
              "      <td>0</td>\n",
              "      <td>0</td>\n",
              "      <td>0</td>\n",
              "      <td>...</td>\n",
              "      <td>0</td>\n",
              "      <td>0</td>\n",
              "      <td>0</td>\n",
              "      <td>0</td>\n",
              "      <td>1</td>\n",
              "      <td>0</td>\n",
              "      <td>0</td>\n",
              "      <td>0</td>\n",
              "      <td>0</td>\n",
              "      <td>0</td>\n",
              "      <td>0</td>\n",
              "      <td>0</td>\n",
              "      <td>0</td>\n",
              "      <td>0</td>\n",
              "      <td>0</td>\n",
              "      <td>0</td>\n",
              "      <td>0</td>\n",
              "      <td>0</td>\n",
              "      <td>0</td>\n",
              "      <td>0</td>\n",
              "      <td>0</td>\n",
              "      <td>0</td>\n",
              "      <td>0</td>\n",
              "      <td>0</td>\n",
              "      <td>0</td>\n",
              "      <td>0</td>\n",
              "      <td>0</td>\n",
              "      <td>0</td>\n",
              "      <td>0</td>\n",
              "      <td>0</td>\n",
              "      <td>0</td>\n",
              "      <td>0</td>\n",
              "      <td>0</td>\n",
              "      <td>0</td>\n",
              "      <td>0</td>\n",
              "      <td>0</td>\n",
              "      <td>0</td>\n",
              "      <td>0</td>\n",
              "      <td>0</td>\n",
              "      <td>0</td>\n",
              "    </tr>\n",
              "    <tr>\n",
              "      <th>3</th>\n",
              "      <td>0</td>\n",
              "      <td>0</td>\n",
              "      <td>0</td>\n",
              "      <td>0</td>\n",
              "      <td>0</td>\n",
              "      <td>0</td>\n",
              "      <td>0</td>\n",
              "      <td>0</td>\n",
              "      <td>0</td>\n",
              "      <td>0</td>\n",
              "      <td>0</td>\n",
              "      <td>0</td>\n",
              "      <td>0</td>\n",
              "      <td>0</td>\n",
              "      <td>0</td>\n",
              "      <td>0</td>\n",
              "      <td>0</td>\n",
              "      <td>0</td>\n",
              "      <td>0</td>\n",
              "      <td>0</td>\n",
              "      <td>0</td>\n",
              "      <td>0</td>\n",
              "      <td>0</td>\n",
              "      <td>0</td>\n",
              "      <td>0</td>\n",
              "      <td>0</td>\n",
              "      <td>0</td>\n",
              "      <td>0</td>\n",
              "      <td>0</td>\n",
              "      <td>0</td>\n",
              "      <td>0</td>\n",
              "      <td>0</td>\n",
              "      <td>0</td>\n",
              "      <td>0</td>\n",
              "      <td>0</td>\n",
              "      <td>0</td>\n",
              "      <td>0</td>\n",
              "      <td>0</td>\n",
              "      <td>0</td>\n",
              "      <td>0</td>\n",
              "      <td>...</td>\n",
              "      <td>0</td>\n",
              "      <td>0</td>\n",
              "      <td>0</td>\n",
              "      <td>0</td>\n",
              "      <td>0</td>\n",
              "      <td>0</td>\n",
              "      <td>0</td>\n",
              "      <td>0</td>\n",
              "      <td>0</td>\n",
              "      <td>0</td>\n",
              "      <td>0</td>\n",
              "      <td>0</td>\n",
              "      <td>0</td>\n",
              "      <td>0</td>\n",
              "      <td>0</td>\n",
              "      <td>0</td>\n",
              "      <td>0</td>\n",
              "      <td>0</td>\n",
              "      <td>0</td>\n",
              "      <td>0</td>\n",
              "      <td>0</td>\n",
              "      <td>0</td>\n",
              "      <td>0</td>\n",
              "      <td>0</td>\n",
              "      <td>0</td>\n",
              "      <td>0</td>\n",
              "      <td>0</td>\n",
              "      <td>0</td>\n",
              "      <td>0</td>\n",
              "      <td>0</td>\n",
              "      <td>1</td>\n",
              "      <td>0</td>\n",
              "      <td>0</td>\n",
              "      <td>0</td>\n",
              "      <td>0</td>\n",
              "      <td>0</td>\n",
              "      <td>0</td>\n",
              "      <td>0</td>\n",
              "      <td>0</td>\n",
              "      <td>0</td>\n",
              "    </tr>\n",
              "    <tr>\n",
              "      <th>4</th>\n",
              "      <td>0</td>\n",
              "      <td>0</td>\n",
              "      <td>0</td>\n",
              "      <td>0</td>\n",
              "      <td>0</td>\n",
              "      <td>0</td>\n",
              "      <td>0</td>\n",
              "      <td>0</td>\n",
              "      <td>0</td>\n",
              "      <td>0</td>\n",
              "      <td>0</td>\n",
              "      <td>0</td>\n",
              "      <td>0</td>\n",
              "      <td>0</td>\n",
              "      <td>0</td>\n",
              "      <td>0</td>\n",
              "      <td>0</td>\n",
              "      <td>0</td>\n",
              "      <td>0</td>\n",
              "      <td>0</td>\n",
              "      <td>0</td>\n",
              "      <td>0</td>\n",
              "      <td>0</td>\n",
              "      <td>0</td>\n",
              "      <td>0</td>\n",
              "      <td>0</td>\n",
              "      <td>0</td>\n",
              "      <td>0</td>\n",
              "      <td>0</td>\n",
              "      <td>0</td>\n",
              "      <td>0</td>\n",
              "      <td>0</td>\n",
              "      <td>0</td>\n",
              "      <td>0</td>\n",
              "      <td>0</td>\n",
              "      <td>0</td>\n",
              "      <td>0</td>\n",
              "      <td>0</td>\n",
              "      <td>0</td>\n",
              "      <td>0</td>\n",
              "      <td>...</td>\n",
              "      <td>0</td>\n",
              "      <td>0</td>\n",
              "      <td>0</td>\n",
              "      <td>0</td>\n",
              "      <td>0</td>\n",
              "      <td>0</td>\n",
              "      <td>0</td>\n",
              "      <td>0</td>\n",
              "      <td>0</td>\n",
              "      <td>0</td>\n",
              "      <td>0</td>\n",
              "      <td>0</td>\n",
              "      <td>0</td>\n",
              "      <td>0</td>\n",
              "      <td>0</td>\n",
              "      <td>0</td>\n",
              "      <td>0</td>\n",
              "      <td>0</td>\n",
              "      <td>0</td>\n",
              "      <td>0</td>\n",
              "      <td>0</td>\n",
              "      <td>0</td>\n",
              "      <td>0</td>\n",
              "      <td>0</td>\n",
              "      <td>0</td>\n",
              "      <td>0</td>\n",
              "      <td>1</td>\n",
              "      <td>0</td>\n",
              "      <td>0</td>\n",
              "      <td>0</td>\n",
              "      <td>0</td>\n",
              "      <td>0</td>\n",
              "      <td>0</td>\n",
              "      <td>0</td>\n",
              "      <td>0</td>\n",
              "      <td>1</td>\n",
              "      <td>0</td>\n",
              "      <td>0</td>\n",
              "      <td>0</td>\n",
              "      <td>0</td>\n",
              "    </tr>\n",
              "  </tbody>\n",
              "</table>\n",
              "<p>5 rows × 1336 columns</p>\n",
              "</div>"
            ],
            "text/plain": [
              "    ma   pi   cz  rzy  eik  o d  obi  ...  aš   ة ف  ave  m w  dzi  or   ng \n",
              "0    0    0    0    0    0    0    0  ...    0    0    0    0    0    0    0\n",
              "1    0    0    0    0    0    0    0  ...    0    0    0    0    0    0    0\n",
              "2    0    0    0    0    0    0    0  ...    0    0    0    0    0    0    0\n",
              "3    0    0    0    0    0    0    0  ...    0    0    0    0    0    0    0\n",
              "4    0    0    0    0    0    0    0  ...    0    0    1    0    0    0    0\n",
              "\n",
              "[5 rows x 1336 columns]"
            ]
          },
          "metadata": {
            "tags": []
          },
          "execution_count": 20
        }
      ]
    },
    {
      "cell_type": "code",
      "metadata": {
        "id": "INnJC1KzbMAQ"
      },
      "source": [
        "# Add the target variable\n",
        "train_features['lang'] = list(train_set['lang'])"
      ],
      "execution_count": 14,
      "outputs": []
    },
    {
      "cell_type": "markdown",
      "metadata": {
        "id": "MHsRFOKTMymn"
      },
      "source": [
        "Let's try standard scaler instead"
      ]
    },
    {
      "cell_type": "code",
      "metadata": {
        "id": "MFZqP6yOm6cI"
      },
      "source": [
        "#wrapping the above into a neat little function\n",
        "\n",
        "def feature_matrix(df):\n",
        "  corpus = df['text']\n",
        "  X = vectorizer.transform(corpus)  # I think I should call transform() instead of fit_transform\n",
        "  df_feat = pd.DataFrame(data= X.toarray(), columns=feature_names)\n",
        "  df_feat['lang'] = list(df['lang'])\n",
        "  return df_feat\n",
        "  "
      ],
      "execution_count": 16,
      "outputs": []
    },
    {
      "cell_type": "code",
      "metadata": {
        "id": "soWZJgo8qT2v"
      },
      "source": [
        "train_features = feature_matrix(train_set)"
      ],
      "execution_count": 18,
      "outputs": []
    },
    {
      "cell_type": "code",
      "metadata": {
        "id": "S2ZQk-pAVF0D",
        "colab": {
          "base_uri": "https://localhost:8080/",
          "height": 270
        },
        "outputId": "88372f15-b444-4384-fd83-20f097c40f68"
      },
      "source": [
        "valid_feat = feature_matrix(validation_set)\n",
        "valid_feat.head()"
      ],
      "execution_count": 19,
      "outputs": [
        {
          "output_type": "execute_result",
          "data": {
            "text/html": [
              "<div>\n",
              "<style scoped>\n",
              "    .dataframe tbody tr th:only-of-type {\n",
              "        vertical-align: middle;\n",
              "    }\n",
              "\n",
              "    .dataframe tbody tr th {\n",
              "        vertical-align: top;\n",
              "    }\n",
              "\n",
              "    .dataframe thead th {\n",
              "        text-align: right;\n",
              "    }\n",
              "</style>\n",
              "<table border=\"1\" class=\"dataframe\">\n",
              "  <thead>\n",
              "    <tr style=\"text-align: right;\">\n",
              "      <th></th>\n",
              "      <th>st</th>\n",
              "      <th>nte</th>\n",
              "      <th>rij</th>\n",
              "      <th>st</th>\n",
              "      <th>täm</th>\n",
              "      <th>го</th>\n",
              "      <th>تو</th>\n",
              "      <th>е м</th>\n",
              "      <th>mys</th>\n",
              "      <th>ува</th>\n",
              "      <th>ti.</th>\n",
              "      <th>ب ا</th>\n",
              "      <th>أي</th>\n",
              "      <th>kou</th>\n",
              "      <th>la</th>\n",
              "      <th>ám</th>\n",
              "      <th>با</th>\n",
              "      <th>ك أ</th>\n",
              "      <th>so</th>\n",
              "      <th>het</th>\n",
              "      <th>ل ل</th>\n",
              "      <th>рем</th>\n",
              "      <th>а о</th>\n",
              "      <th>vat</th>\n",
              "      <th>bo</th>\n",
              "      <th>aš</th>\n",
              "      <th>nen</th>\n",
              "      <th>ll</th>\n",
              "      <th>jo</th>\n",
              "      <th>ст</th>\n",
              "      <th>الم</th>\n",
              "      <th>ved</th>\n",
              "      <th>ина</th>\n",
              "      <th>sin</th>\n",
              "      <th>us.</th>\n",
              "      <th>ли</th>\n",
              "      <th>ми</th>\n",
              "      <th>a,</th>\n",
              "      <th>ji</th>\n",
              "      <th>عل</th>\n",
              "      <th>...</th>\n",
              "      <th>а б</th>\n",
              "      <th>n a</th>\n",
              "      <th>it</th>\n",
              "      <th>ise</th>\n",
              "      <th>мо</th>\n",
              "      <th>لي</th>\n",
              "      <th>os</th>\n",
              "      <th>tak</th>\n",
              "      <th>ämä</th>\n",
              "      <th>لل</th>\n",
              "      <th>الب</th>\n",
              "      <th>ног</th>\n",
              "      <th>w</th>\n",
              "      <th>be</th>\n",
              "      <th>hon</th>\n",
              "      <th>حي</th>\n",
              "      <th>ive</th>\n",
              "      <th>om</th>\n",
              "      <th>ога</th>\n",
              "      <th>en.</th>\n",
              "      <th>по</th>\n",
              "      <th>мож</th>\n",
              "      <th>in</th>\n",
              "      <th>fi</th>\n",
              "      <th>mo</th>\n",
              "      <th>na</th>\n",
              "      <th>ze</th>\n",
              "      <th>vě</th>\n",
              "      <th>هو</th>\n",
              "      <th>ret</th>\n",
              "      <th>gel</th>\n",
              "      <th>eve</th>\n",
              "      <th>s y</th>\n",
              "      <th>и</th>\n",
              "      <th>szy</th>\n",
              "      <th>pre</th>\n",
              "      <th>dzi</th>\n",
              "      <th>vad</th>\n",
              "      <th>ale</th>\n",
              "      <th>lang</th>\n",
              "    </tr>\n",
              "  </thead>\n",
              "  <tbody>\n",
              "    <tr>\n",
              "      <th>0</th>\n",
              "      <td>0</td>\n",
              "      <td>0</td>\n",
              "      <td>0</td>\n",
              "      <td>0</td>\n",
              "      <td>0</td>\n",
              "      <td>0</td>\n",
              "      <td>0</td>\n",
              "      <td>0</td>\n",
              "      <td>0</td>\n",
              "      <td>0</td>\n",
              "      <td>0</td>\n",
              "      <td>0</td>\n",
              "      <td>0</td>\n",
              "      <td>0</td>\n",
              "      <td>0</td>\n",
              "      <td>0</td>\n",
              "      <td>0</td>\n",
              "      <td>0</td>\n",
              "      <td>0</td>\n",
              "      <td>0</td>\n",
              "      <td>0</td>\n",
              "      <td>0</td>\n",
              "      <td>0</td>\n",
              "      <td>0</td>\n",
              "      <td>0</td>\n",
              "      <td>0</td>\n",
              "      <td>0</td>\n",
              "      <td>0</td>\n",
              "      <td>0</td>\n",
              "      <td>0</td>\n",
              "      <td>0</td>\n",
              "      <td>0</td>\n",
              "      <td>0</td>\n",
              "      <td>0</td>\n",
              "      <td>0</td>\n",
              "      <td>0</td>\n",
              "      <td>0</td>\n",
              "      <td>0</td>\n",
              "      <td>0</td>\n",
              "      <td>0</td>\n",
              "      <td>...</td>\n",
              "      <td>0</td>\n",
              "      <td>0</td>\n",
              "      <td>0</td>\n",
              "      <td>0</td>\n",
              "      <td>0</td>\n",
              "      <td>0</td>\n",
              "      <td>0</td>\n",
              "      <td>0</td>\n",
              "      <td>0</td>\n",
              "      <td>0</td>\n",
              "      <td>0</td>\n",
              "      <td>0</td>\n",
              "      <td>0</td>\n",
              "      <td>0</td>\n",
              "      <td>0</td>\n",
              "      <td>0</td>\n",
              "      <td>0</td>\n",
              "      <td>0</td>\n",
              "      <td>0</td>\n",
              "      <td>0</td>\n",
              "      <td>0</td>\n",
              "      <td>0</td>\n",
              "      <td>0</td>\n",
              "      <td>0</td>\n",
              "      <td>0</td>\n",
              "      <td>0</td>\n",
              "      <td>0</td>\n",
              "      <td>0</td>\n",
              "      <td>0</td>\n",
              "      <td>0</td>\n",
              "      <td>0</td>\n",
              "      <td>0</td>\n",
              "      <td>0</td>\n",
              "      <td>0</td>\n",
              "      <td>0</td>\n",
              "      <td>0</td>\n",
              "      <td>0</td>\n",
              "      <td>0</td>\n",
              "      <td>0</td>\n",
              "      <td>ara</td>\n",
              "    </tr>\n",
              "    <tr>\n",
              "      <th>1</th>\n",
              "      <td>0</td>\n",
              "      <td>0</td>\n",
              "      <td>0</td>\n",
              "      <td>0</td>\n",
              "      <td>0</td>\n",
              "      <td>0</td>\n",
              "      <td>0</td>\n",
              "      <td>0</td>\n",
              "      <td>0</td>\n",
              "      <td>0</td>\n",
              "      <td>0</td>\n",
              "      <td>0</td>\n",
              "      <td>0</td>\n",
              "      <td>0</td>\n",
              "      <td>0</td>\n",
              "      <td>0</td>\n",
              "      <td>0</td>\n",
              "      <td>0</td>\n",
              "      <td>0</td>\n",
              "      <td>0</td>\n",
              "      <td>0</td>\n",
              "      <td>0</td>\n",
              "      <td>0</td>\n",
              "      <td>1</td>\n",
              "      <td>0</td>\n",
              "      <td>0</td>\n",
              "      <td>0</td>\n",
              "      <td>0</td>\n",
              "      <td>0</td>\n",
              "      <td>0</td>\n",
              "      <td>0</td>\n",
              "      <td>0</td>\n",
              "      <td>0</td>\n",
              "      <td>0</td>\n",
              "      <td>0</td>\n",
              "      <td>0</td>\n",
              "      <td>0</td>\n",
              "      <td>0</td>\n",
              "      <td>0</td>\n",
              "      <td>0</td>\n",
              "      <td>...</td>\n",
              "      <td>0</td>\n",
              "      <td>0</td>\n",
              "      <td>0</td>\n",
              "      <td>0</td>\n",
              "      <td>0</td>\n",
              "      <td>0</td>\n",
              "      <td>0</td>\n",
              "      <td>0</td>\n",
              "      <td>0</td>\n",
              "      <td>0</td>\n",
              "      <td>0</td>\n",
              "      <td>0</td>\n",
              "      <td>0</td>\n",
              "      <td>0</td>\n",
              "      <td>0</td>\n",
              "      <td>0</td>\n",
              "      <td>0</td>\n",
              "      <td>0</td>\n",
              "      <td>0</td>\n",
              "      <td>0</td>\n",
              "      <td>0</td>\n",
              "      <td>0</td>\n",
              "      <td>0</td>\n",
              "      <td>0</td>\n",
              "      <td>0</td>\n",
              "      <td>0</td>\n",
              "      <td>0</td>\n",
              "      <td>0</td>\n",
              "      <td>0</td>\n",
              "      <td>0</td>\n",
              "      <td>0</td>\n",
              "      <td>0</td>\n",
              "      <td>0</td>\n",
              "      <td>0</td>\n",
              "      <td>0</td>\n",
              "      <td>0</td>\n",
              "      <td>0</td>\n",
              "      <td>0</td>\n",
              "      <td>0</td>\n",
              "      <td>fin</td>\n",
              "    </tr>\n",
              "    <tr>\n",
              "      <th>2</th>\n",
              "      <td>0</td>\n",
              "      <td>0</td>\n",
              "      <td>0</td>\n",
              "      <td>0</td>\n",
              "      <td>0</td>\n",
              "      <td>0</td>\n",
              "      <td>0</td>\n",
              "      <td>0</td>\n",
              "      <td>0</td>\n",
              "      <td>0</td>\n",
              "      <td>0</td>\n",
              "      <td>0</td>\n",
              "      <td>0</td>\n",
              "      <td>0</td>\n",
              "      <td>0</td>\n",
              "      <td>0</td>\n",
              "      <td>0</td>\n",
              "      <td>0</td>\n",
              "      <td>0</td>\n",
              "      <td>0</td>\n",
              "      <td>0</td>\n",
              "      <td>0</td>\n",
              "      <td>0</td>\n",
              "      <td>1</td>\n",
              "      <td>0</td>\n",
              "      <td>0</td>\n",
              "      <td>0</td>\n",
              "      <td>0</td>\n",
              "      <td>0</td>\n",
              "      <td>0</td>\n",
              "      <td>0</td>\n",
              "      <td>0</td>\n",
              "      <td>0</td>\n",
              "      <td>0</td>\n",
              "      <td>0</td>\n",
              "      <td>0</td>\n",
              "      <td>0</td>\n",
              "      <td>0</td>\n",
              "      <td>0</td>\n",
              "      <td>0</td>\n",
              "      <td>...</td>\n",
              "      <td>0</td>\n",
              "      <td>0</td>\n",
              "      <td>0</td>\n",
              "      <td>0</td>\n",
              "      <td>0</td>\n",
              "      <td>0</td>\n",
              "      <td>0</td>\n",
              "      <td>0</td>\n",
              "      <td>0</td>\n",
              "      <td>0</td>\n",
              "      <td>0</td>\n",
              "      <td>0</td>\n",
              "      <td>0</td>\n",
              "      <td>0</td>\n",
              "      <td>0</td>\n",
              "      <td>0</td>\n",
              "      <td>0</td>\n",
              "      <td>0</td>\n",
              "      <td>0</td>\n",
              "      <td>0</td>\n",
              "      <td>0</td>\n",
              "      <td>0</td>\n",
              "      <td>0</td>\n",
              "      <td>0</td>\n",
              "      <td>0</td>\n",
              "      <td>0</td>\n",
              "      <td>0</td>\n",
              "      <td>0</td>\n",
              "      <td>0</td>\n",
              "      <td>0</td>\n",
              "      <td>0</td>\n",
              "      <td>0</td>\n",
              "      <td>0</td>\n",
              "      <td>0</td>\n",
              "      <td>0</td>\n",
              "      <td>0</td>\n",
              "      <td>0</td>\n",
              "      <td>0</td>\n",
              "      <td>0</td>\n",
              "      <td>fin</td>\n",
              "    </tr>\n",
              "    <tr>\n",
              "      <th>3</th>\n",
              "      <td>1</td>\n",
              "      <td>0</td>\n",
              "      <td>0</td>\n",
              "      <td>0</td>\n",
              "      <td>0</td>\n",
              "      <td>0</td>\n",
              "      <td>0</td>\n",
              "      <td>0</td>\n",
              "      <td>0</td>\n",
              "      <td>0</td>\n",
              "      <td>0</td>\n",
              "      <td>0</td>\n",
              "      <td>0</td>\n",
              "      <td>0</td>\n",
              "      <td>0</td>\n",
              "      <td>0</td>\n",
              "      <td>0</td>\n",
              "      <td>0</td>\n",
              "      <td>0</td>\n",
              "      <td>0</td>\n",
              "      <td>0</td>\n",
              "      <td>0</td>\n",
              "      <td>0</td>\n",
              "      <td>0</td>\n",
              "      <td>0</td>\n",
              "      <td>0</td>\n",
              "      <td>0</td>\n",
              "      <td>0</td>\n",
              "      <td>0</td>\n",
              "      <td>0</td>\n",
              "      <td>0</td>\n",
              "      <td>0</td>\n",
              "      <td>0</td>\n",
              "      <td>0</td>\n",
              "      <td>0</td>\n",
              "      <td>0</td>\n",
              "      <td>0</td>\n",
              "      <td>0</td>\n",
              "      <td>0</td>\n",
              "      <td>0</td>\n",
              "      <td>...</td>\n",
              "      <td>0</td>\n",
              "      <td>0</td>\n",
              "      <td>0</td>\n",
              "      <td>0</td>\n",
              "      <td>0</td>\n",
              "      <td>0</td>\n",
              "      <td>0</td>\n",
              "      <td>0</td>\n",
              "      <td>0</td>\n",
              "      <td>0</td>\n",
              "      <td>0</td>\n",
              "      <td>0</td>\n",
              "      <td>0</td>\n",
              "      <td>0</td>\n",
              "      <td>0</td>\n",
              "      <td>0</td>\n",
              "      <td>0</td>\n",
              "      <td>0</td>\n",
              "      <td>0</td>\n",
              "      <td>0</td>\n",
              "      <td>0</td>\n",
              "      <td>0</td>\n",
              "      <td>0</td>\n",
              "      <td>0</td>\n",
              "      <td>0</td>\n",
              "      <td>0</td>\n",
              "      <td>0</td>\n",
              "      <td>0</td>\n",
              "      <td>0</td>\n",
              "      <td>0</td>\n",
              "      <td>0</td>\n",
              "      <td>1</td>\n",
              "      <td>0</td>\n",
              "      <td>0</td>\n",
              "      <td>0</td>\n",
              "      <td>0</td>\n",
              "      <td>0</td>\n",
              "      <td>0</td>\n",
              "      <td>0</td>\n",
              "      <td>dan</td>\n",
              "    </tr>\n",
              "    <tr>\n",
              "      <th>4</th>\n",
              "      <td>0</td>\n",
              "      <td>0</td>\n",
              "      <td>0</td>\n",
              "      <td>0</td>\n",
              "      <td>0</td>\n",
              "      <td>0</td>\n",
              "      <td>0</td>\n",
              "      <td>0</td>\n",
              "      <td>0</td>\n",
              "      <td>0</td>\n",
              "      <td>0</td>\n",
              "      <td>0</td>\n",
              "      <td>0</td>\n",
              "      <td>0</td>\n",
              "      <td>0</td>\n",
              "      <td>0</td>\n",
              "      <td>0</td>\n",
              "      <td>0</td>\n",
              "      <td>0</td>\n",
              "      <td>0</td>\n",
              "      <td>0</td>\n",
              "      <td>0</td>\n",
              "      <td>0</td>\n",
              "      <td>0</td>\n",
              "      <td>0</td>\n",
              "      <td>0</td>\n",
              "      <td>0</td>\n",
              "      <td>0</td>\n",
              "      <td>0</td>\n",
              "      <td>0</td>\n",
              "      <td>0</td>\n",
              "      <td>0</td>\n",
              "      <td>0</td>\n",
              "      <td>0</td>\n",
              "      <td>0</td>\n",
              "      <td>0</td>\n",
              "      <td>0</td>\n",
              "      <td>0</td>\n",
              "      <td>0</td>\n",
              "      <td>0</td>\n",
              "      <td>...</td>\n",
              "      <td>0</td>\n",
              "      <td>0</td>\n",
              "      <td>0</td>\n",
              "      <td>0</td>\n",
              "      <td>0</td>\n",
              "      <td>0</td>\n",
              "      <td>0</td>\n",
              "      <td>0</td>\n",
              "      <td>0</td>\n",
              "      <td>0</td>\n",
              "      <td>0</td>\n",
              "      <td>0</td>\n",
              "      <td>0</td>\n",
              "      <td>0</td>\n",
              "      <td>0</td>\n",
              "      <td>0</td>\n",
              "      <td>0</td>\n",
              "      <td>0</td>\n",
              "      <td>0</td>\n",
              "      <td>0</td>\n",
              "      <td>0</td>\n",
              "      <td>0</td>\n",
              "      <td>0</td>\n",
              "      <td>0</td>\n",
              "      <td>0</td>\n",
              "      <td>0</td>\n",
              "      <td>0</td>\n",
              "      <td>0</td>\n",
              "      <td>0</td>\n",
              "      <td>0</td>\n",
              "      <td>0</td>\n",
              "      <td>0</td>\n",
              "      <td>0</td>\n",
              "      <td>0</td>\n",
              "      <td>0</td>\n",
              "      <td>0</td>\n",
              "      <td>0</td>\n",
              "      <td>0</td>\n",
              "      <td>0</td>\n",
              "      <td>ara</td>\n",
              "    </tr>\n",
              "  </tbody>\n",
              "</table>\n",
              "<p>5 rows × 1349 columns</p>\n",
              "</div>"
            ],
            "text/plain": [
              "    st  nte  rij  st   täm   го   تو  ...   и   szy  pre  dzi  vad  ale  lang\n",
              "0    0    0    0    0    0    0    0  ...    0    0    0    0    0    0   ara\n",
              "1    0    0    0    0    0    0    0  ...    0    0    0    0    0    0   fin\n",
              "2    0    0    0    0    0    0    0  ...    0    0    0    0    0    0   fin\n",
              "3    1    0    0    0    0    0    0  ...    0    0    0    0    0    0   dan\n",
              "4    0    0    0    0    0    0    0  ...    0    0    0    0    0    0   ara\n",
              "\n",
              "[5 rows x 1349 columns]"
            ]
          },
          "metadata": {
            "tags": []
          },
          "execution_count": 19
        }
      ]
    },
    {
      "cell_type": "code",
      "metadata": {
        "id": "yz4IerqlVFx2"
      },
      "source": [
        "test_feat = feature_matrix(test_set)\n"
      ],
      "execution_count": 21,
      "outputs": []
    },
    {
      "cell_type": "markdown",
      "metadata": {
        "id": "QmmXDCNBQuaL"
      },
      "source": [
        "# save the feature columns \n",
        "save and restart the runtime"
      ]
    },
    {
      "cell_type": "code",
      "metadata": {
        "id": "6dyPuUNLVFuk",
        "colab": {
          "base_uri": "https://localhost:8080/"
        },
        "outputId": "e8bb1ba0-1388-483a-9f03-b6659147ab11"
      },
      "source": [
        "print(len(valid_feat.columns),len(test_feat.columns))\n",
        "print(len(train_features),len(valid_feat),len(test_feat))"
      ],
      "execution_count": 22,
      "outputs": [
        {
          "output_type": "stream",
          "text": [
            "1349 1349\n",
            "210000 60000 30000\n"
          ],
          "name": "stdout"
        }
      ]
    },
    {
      "cell_type": "markdown",
      "metadata": {
        "id": "JmqEHFBFXInq"
      },
      "source": [
        "# Exploratory Data Analysis"
      ]
    },
    {
      "cell_type": "code",
      "metadata": {
        "colab": {
          "base_uri": "https://localhost:8080/",
          "height": 619
        },
        "id": "7hH9EWkgVFsC",
        "outputId": "34d0bd54-bfac-48c4-dad9-308e473bc020"
      },
      "source": [
        "#Calculate number of shared trigrams\n",
        "labels = ['nld', 'fin', 'pol', 'lit', 'ces', 'swe', 'ara','mkd', 'dan','srp']# 10 languages\n",
        "mat = []\n",
        "for i in labels:\n",
        "    vec = []\n",
        "    for j in labels:\n",
        "        l1 = features[i]\n",
        "        l2 = features[j]\n",
        "        intersec = [l for l in l1 if l in l2]\n",
        "\n",
        "\n",
        "        vec.append(len(intersec))\n",
        "    mat.append(vec)\n",
        "\n",
        "#Plot heatmap\n",
        "lang = ['nld', 'fin', 'pol', 'lit', 'ces', 'swe', 'ara','mkd', 'dan','srp']# 10 languages\n",
        "conf_matrix_df = pd.DataFrame(mat,columns=lang,index=lang)\n",
        "\n",
        "\n",
        "plt.figure(figsize=(10, 10), facecolor='w', edgecolor='k')\n",
        "sns.set(font_scale=1.5)\n",
        "sns.heatmap(conf_matrix_df,cmap='mako',annot=True,fmt='.5g',cbar=False)\n",
        "\n",
        "\n",
        "\n",
        "# plt.savefig('../figures/feat_explore.png',format='png',dpi=150)"
      ],
      "execution_count": 24,
      "outputs": [
        {
          "output_type": "execute_result",
          "data": {
            "text/plain": [
              "<matplotlib.axes._subplots.AxesSubplot at 0x7efd35ac5cc0>"
            ]
          },
          "metadata": {
            "tags": []
          },
          "execution_count": 24
        },
        {
          "output_type": "display_data",
          "data": {
            "image/png": "[encoded data removed]",
            "text/plain": [
              "<Figure size 720x720 with 1 Axes>"
            ]
          },
          "metadata": {
            "tags": []
          }
        }
      ]
    },
    {
      "cell_type": "markdown",
      "metadata": {
        "id": "L_nvo8MGnozP"
      },
      "source": [
        "# Modelling and Hyperparameter tuning"
      ]
    },
    {
      "cell_type": "code",
      "metadata": {
        "id": "NnH7H2MPVFpV"
      },
      "source": [
        "from sklearn.preprocessing import LabelEncoder\n",
        "import tensorflow as tf\n",
        "from tensorflow import keras\n",
        "from keras.utils import np_utils\n",
        "\n",
        "encoder = LabelEncoder()\n",
        "encoder.fit(labels)\n",
        "\n",
        "def encode(y):\n",
        "  \"\"\" Returns a list of one hot encodings; \n",
        "  y = list of language labels\"\"\"\n",
        "  y_encoded = encoder.transform(y)\n",
        "  return np_utils.to_categorical(y_encoded)\n",
        "  "
      ],
      "execution_count": 25,
      "outputs": []
    },
    {
      "cell_type": "code",
      "metadata": {
        "colab": {
          "base_uri": "https://localhost:8080/",
          "height": 239
        },
        "id": "qo-s9Q9OWMED",
        "outputId": "c9dc5f31-7ca5-426f-d18a-f6ffb4c9fd52"
      },
      "source": [
        "train_features.head(4)"
      ],
      "execution_count": 26,
      "outputs": [
        {
          "output_type": "execute_result",
          "data": {
            "text/html": [
              "<div>\n",
              "<style scoped>\n",
              "    .dataframe tbody tr th:only-of-type {\n",
              "        vertical-align: middle;\n",
              "    }\n",
              "\n",
              "    .dataframe tbody tr th {\n",
              "        vertical-align: top;\n",
              "    }\n",
              "\n",
              "    .dataframe thead th {\n",
              "        text-align: right;\n",
              "    }\n",
              "</style>\n",
              "<table border=\"1\" class=\"dataframe\">\n",
              "  <thead>\n",
              "    <tr style=\"text-align: right;\">\n",
              "      <th></th>\n",
              "      <th>st</th>\n",
              "      <th>nte</th>\n",
              "      <th>rij</th>\n",
              "      <th>st</th>\n",
              "      <th>täm</th>\n",
              "      <th>го</th>\n",
              "      <th>تو</th>\n",
              "      <th>е м</th>\n",
              "      <th>mys</th>\n",
              "      <th>ува</th>\n",
              "      <th>ti.</th>\n",
              "      <th>ب ا</th>\n",
              "      <th>أي</th>\n",
              "      <th>kou</th>\n",
              "      <th>la</th>\n",
              "      <th>ám</th>\n",
              "      <th>با</th>\n",
              "      <th>ك أ</th>\n",
              "      <th>so</th>\n",
              "      <th>het</th>\n",
              "      <th>ل ل</th>\n",
              "      <th>рем</th>\n",
              "      <th>а о</th>\n",
              "      <th>vat</th>\n",
              "      <th>bo</th>\n",
              "      <th>aš</th>\n",
              "      <th>nen</th>\n",
              "      <th>ll</th>\n",
              "      <th>jo</th>\n",
              "      <th>ст</th>\n",
              "      <th>الم</th>\n",
              "      <th>ved</th>\n",
              "      <th>ина</th>\n",
              "      <th>sin</th>\n",
              "      <th>us.</th>\n",
              "      <th>ли</th>\n",
              "      <th>ми</th>\n",
              "      <th>a,</th>\n",
              "      <th>ji</th>\n",
              "      <th>عل</th>\n",
              "      <th>...</th>\n",
              "      <th>а б</th>\n",
              "      <th>n a</th>\n",
              "      <th>it</th>\n",
              "      <th>ise</th>\n",
              "      <th>мо</th>\n",
              "      <th>لي</th>\n",
              "      <th>os</th>\n",
              "      <th>tak</th>\n",
              "      <th>ämä</th>\n",
              "      <th>لل</th>\n",
              "      <th>الب</th>\n",
              "      <th>ног</th>\n",
              "      <th>w</th>\n",
              "      <th>be</th>\n",
              "      <th>hon</th>\n",
              "      <th>حي</th>\n",
              "      <th>ive</th>\n",
              "      <th>om</th>\n",
              "      <th>ога</th>\n",
              "      <th>en.</th>\n",
              "      <th>по</th>\n",
              "      <th>мож</th>\n",
              "      <th>in</th>\n",
              "      <th>fi</th>\n",
              "      <th>mo</th>\n",
              "      <th>na</th>\n",
              "      <th>ze</th>\n",
              "      <th>vě</th>\n",
              "      <th>هو</th>\n",
              "      <th>ret</th>\n",
              "      <th>gel</th>\n",
              "      <th>eve</th>\n",
              "      <th>s y</th>\n",
              "      <th>и</th>\n",
              "      <th>szy</th>\n",
              "      <th>pre</th>\n",
              "      <th>dzi</th>\n",
              "      <th>vad</th>\n",
              "      <th>ale</th>\n",
              "      <th>lang</th>\n",
              "    </tr>\n",
              "  </thead>\n",
              "  <tbody>\n",
              "    <tr>\n",
              "      <th>0</th>\n",
              "      <td>0</td>\n",
              "      <td>0</td>\n",
              "      <td>0</td>\n",
              "      <td>0</td>\n",
              "      <td>0</td>\n",
              "      <td>0</td>\n",
              "      <td>0</td>\n",
              "      <td>0</td>\n",
              "      <td>0</td>\n",
              "      <td>0</td>\n",
              "      <td>1</td>\n",
              "      <td>0</td>\n",
              "      <td>0</td>\n",
              "      <td>0</td>\n",
              "      <td>0</td>\n",
              "      <td>0</td>\n",
              "      <td>0</td>\n",
              "      <td>0</td>\n",
              "      <td>0</td>\n",
              "      <td>0</td>\n",
              "      <td>0</td>\n",
              "      <td>0</td>\n",
              "      <td>0</td>\n",
              "      <td>0</td>\n",
              "      <td>0</td>\n",
              "      <td>1</td>\n",
              "      <td>0</td>\n",
              "      <td>0</td>\n",
              "      <td>0</td>\n",
              "      <td>0</td>\n",
              "      <td>0</td>\n",
              "      <td>0</td>\n",
              "      <td>0</td>\n",
              "      <td>0</td>\n",
              "      <td>0</td>\n",
              "      <td>0</td>\n",
              "      <td>0</td>\n",
              "      <td>0</td>\n",
              "      <td>0</td>\n",
              "      <td>0</td>\n",
              "      <td>...</td>\n",
              "      <td>0</td>\n",
              "      <td>0</td>\n",
              "      <td>0</td>\n",
              "      <td>0</td>\n",
              "      <td>0</td>\n",
              "      <td>0</td>\n",
              "      <td>0</td>\n",
              "      <td>0</td>\n",
              "      <td>0</td>\n",
              "      <td>0</td>\n",
              "      <td>0</td>\n",
              "      <td>0</td>\n",
              "      <td>0</td>\n",
              "      <td>0</td>\n",
              "      <td>0</td>\n",
              "      <td>0</td>\n",
              "      <td>0</td>\n",
              "      <td>0</td>\n",
              "      <td>0</td>\n",
              "      <td>0</td>\n",
              "      <td>0</td>\n",
              "      <td>0</td>\n",
              "      <td>0</td>\n",
              "      <td>0</td>\n",
              "      <td>1</td>\n",
              "      <td>1</td>\n",
              "      <td>0</td>\n",
              "      <td>0</td>\n",
              "      <td>0</td>\n",
              "      <td>0</td>\n",
              "      <td>0</td>\n",
              "      <td>0</td>\n",
              "      <td>0</td>\n",
              "      <td>0</td>\n",
              "      <td>0</td>\n",
              "      <td>0</td>\n",
              "      <td>0</td>\n",
              "      <td>0</td>\n",
              "      <td>0</td>\n",
              "      <td>lit</td>\n",
              "    </tr>\n",
              "    <tr>\n",
              "      <th>1</th>\n",
              "      <td>0</td>\n",
              "      <td>0</td>\n",
              "      <td>0</td>\n",
              "      <td>0</td>\n",
              "      <td>0</td>\n",
              "      <td>0</td>\n",
              "      <td>0</td>\n",
              "      <td>0</td>\n",
              "      <td>0</td>\n",
              "      <td>0</td>\n",
              "      <td>0</td>\n",
              "      <td>0</td>\n",
              "      <td>0</td>\n",
              "      <td>0</td>\n",
              "      <td>0</td>\n",
              "      <td>0</td>\n",
              "      <td>0</td>\n",
              "      <td>0</td>\n",
              "      <td>0</td>\n",
              "      <td>0</td>\n",
              "      <td>0</td>\n",
              "      <td>0</td>\n",
              "      <td>0</td>\n",
              "      <td>0</td>\n",
              "      <td>0</td>\n",
              "      <td>0</td>\n",
              "      <td>0</td>\n",
              "      <td>0</td>\n",
              "      <td>0</td>\n",
              "      <td>0</td>\n",
              "      <td>0</td>\n",
              "      <td>0</td>\n",
              "      <td>0</td>\n",
              "      <td>0</td>\n",
              "      <td>0</td>\n",
              "      <td>0</td>\n",
              "      <td>0</td>\n",
              "      <td>0</td>\n",
              "      <td>0</td>\n",
              "      <td>0</td>\n",
              "      <td>...</td>\n",
              "      <td>0</td>\n",
              "      <td>0</td>\n",
              "      <td>0</td>\n",
              "      <td>1</td>\n",
              "      <td>0</td>\n",
              "      <td>0</td>\n",
              "      <td>0</td>\n",
              "      <td>0</td>\n",
              "      <td>0</td>\n",
              "      <td>0</td>\n",
              "      <td>0</td>\n",
              "      <td>0</td>\n",
              "      <td>0</td>\n",
              "      <td>0</td>\n",
              "      <td>0</td>\n",
              "      <td>0</td>\n",
              "      <td>0</td>\n",
              "      <td>0</td>\n",
              "      <td>0</td>\n",
              "      <td>0</td>\n",
              "      <td>0</td>\n",
              "      <td>0</td>\n",
              "      <td>0</td>\n",
              "      <td>0</td>\n",
              "      <td>0</td>\n",
              "      <td>0</td>\n",
              "      <td>0</td>\n",
              "      <td>0</td>\n",
              "      <td>0</td>\n",
              "      <td>0</td>\n",
              "      <td>0</td>\n",
              "      <td>0</td>\n",
              "      <td>0</td>\n",
              "      <td>0</td>\n",
              "      <td>0</td>\n",
              "      <td>0</td>\n",
              "      <td>0</td>\n",
              "      <td>0</td>\n",
              "      <td>0</td>\n",
              "      <td>fin</td>\n",
              "    </tr>\n",
              "    <tr>\n",
              "      <th>2</th>\n",
              "      <td>0</td>\n",
              "      <td>0</td>\n",
              "      <td>0</td>\n",
              "      <td>0</td>\n",
              "      <td>0</td>\n",
              "      <td>0</td>\n",
              "      <td>0</td>\n",
              "      <td>0</td>\n",
              "      <td>0</td>\n",
              "      <td>0</td>\n",
              "      <td>0</td>\n",
              "      <td>0</td>\n",
              "      <td>0</td>\n",
              "      <td>0</td>\n",
              "      <td>0</td>\n",
              "      <td>0</td>\n",
              "      <td>0</td>\n",
              "      <td>0</td>\n",
              "      <td>0</td>\n",
              "      <td>0</td>\n",
              "      <td>0</td>\n",
              "      <td>0</td>\n",
              "      <td>0</td>\n",
              "      <td>0</td>\n",
              "      <td>0</td>\n",
              "      <td>0</td>\n",
              "      <td>0</td>\n",
              "      <td>0</td>\n",
              "      <td>1</td>\n",
              "      <td>0</td>\n",
              "      <td>0</td>\n",
              "      <td>0</td>\n",
              "      <td>0</td>\n",
              "      <td>0</td>\n",
              "      <td>0</td>\n",
              "      <td>0</td>\n",
              "      <td>0</td>\n",
              "      <td>0</td>\n",
              "      <td>0</td>\n",
              "      <td>0</td>\n",
              "      <td>...</td>\n",
              "      <td>0</td>\n",
              "      <td>0</td>\n",
              "      <td>0</td>\n",
              "      <td>0</td>\n",
              "      <td>0</td>\n",
              "      <td>0</td>\n",
              "      <td>1</td>\n",
              "      <td>0</td>\n",
              "      <td>0</td>\n",
              "      <td>0</td>\n",
              "      <td>0</td>\n",
              "      <td>0</td>\n",
              "      <td>0</td>\n",
              "      <td>0</td>\n",
              "      <td>0</td>\n",
              "      <td>0</td>\n",
              "      <td>0</td>\n",
              "      <td>0</td>\n",
              "      <td>0</td>\n",
              "      <td>0</td>\n",
              "      <td>0</td>\n",
              "      <td>0</td>\n",
              "      <td>0</td>\n",
              "      <td>0</td>\n",
              "      <td>0</td>\n",
              "      <td>0</td>\n",
              "      <td>0</td>\n",
              "      <td>0</td>\n",
              "      <td>0</td>\n",
              "      <td>0</td>\n",
              "      <td>0</td>\n",
              "      <td>0</td>\n",
              "      <td>0</td>\n",
              "      <td>0</td>\n",
              "      <td>0</td>\n",
              "      <td>0</td>\n",
              "      <td>0</td>\n",
              "      <td>0</td>\n",
              "      <td>0</td>\n",
              "      <td>lit</td>\n",
              "    </tr>\n",
              "    <tr>\n",
              "      <th>3</th>\n",
              "      <td>1</td>\n",
              "      <td>0</td>\n",
              "      <td>0</td>\n",
              "      <td>0</td>\n",
              "      <td>0</td>\n",
              "      <td>0</td>\n",
              "      <td>0</td>\n",
              "      <td>0</td>\n",
              "      <td>0</td>\n",
              "      <td>0</td>\n",
              "      <td>0</td>\n",
              "      <td>0</td>\n",
              "      <td>0</td>\n",
              "      <td>0</td>\n",
              "      <td>0</td>\n",
              "      <td>0</td>\n",
              "      <td>0</td>\n",
              "      <td>0</td>\n",
              "      <td>0</td>\n",
              "      <td>0</td>\n",
              "      <td>0</td>\n",
              "      <td>0</td>\n",
              "      <td>0</td>\n",
              "      <td>0</td>\n",
              "      <td>0</td>\n",
              "      <td>0</td>\n",
              "      <td>0</td>\n",
              "      <td>0</td>\n",
              "      <td>0</td>\n",
              "      <td>0</td>\n",
              "      <td>0</td>\n",
              "      <td>0</td>\n",
              "      <td>0</td>\n",
              "      <td>0</td>\n",
              "      <td>0</td>\n",
              "      <td>0</td>\n",
              "      <td>0</td>\n",
              "      <td>0</td>\n",
              "      <td>0</td>\n",
              "      <td>0</td>\n",
              "      <td>...</td>\n",
              "      <td>0</td>\n",
              "      <td>0</td>\n",
              "      <td>0</td>\n",
              "      <td>0</td>\n",
              "      <td>0</td>\n",
              "      <td>0</td>\n",
              "      <td>0</td>\n",
              "      <td>0</td>\n",
              "      <td>0</td>\n",
              "      <td>0</td>\n",
              "      <td>0</td>\n",
              "      <td>0</td>\n",
              "      <td>0</td>\n",
              "      <td>0</td>\n",
              "      <td>0</td>\n",
              "      <td>0</td>\n",
              "      <td>0</td>\n",
              "      <td>0</td>\n",
              "      <td>0</td>\n",
              "      <td>0</td>\n",
              "      <td>0</td>\n",
              "      <td>0</td>\n",
              "      <td>0</td>\n",
              "      <td>0</td>\n",
              "      <td>0</td>\n",
              "      <td>0</td>\n",
              "      <td>0</td>\n",
              "      <td>0</td>\n",
              "      <td>0</td>\n",
              "      <td>0</td>\n",
              "      <td>0</td>\n",
              "      <td>0</td>\n",
              "      <td>0</td>\n",
              "      <td>0</td>\n",
              "      <td>0</td>\n",
              "      <td>0</td>\n",
              "      <td>0</td>\n",
              "      <td>0</td>\n",
              "      <td>0</td>\n",
              "      <td>ces</td>\n",
              "    </tr>\n",
              "  </tbody>\n",
              "</table>\n",
              "<p>4 rows × 1349 columns</p>\n",
              "</div>"
            ],
            "text/plain": [
              "    st  nte  rij  st   täm   го   تو  ...   и   szy  pre  dzi  vad  ale  lang\n",
              "0    0    0    0    0    0    0    0  ...    0    0    0    0    0    0   lit\n",
              "1    0    0    0    0    0    0    0  ...    0    0    0    0    0    0   fin\n",
              "2    0    0    0    0    0    0    0  ...    0    0    0    0    0    0   lit\n",
              "3    1    0    0    0    0    0    0  ...    0    0    0    0    0    0   ces\n",
              "\n",
              "[4 rows x 1349 columns]"
            ]
          },
          "metadata": {
            "tags": []
          },
          "execution_count": 26
        }
      ]
    },
    {
      "cell_type": "code",
      "metadata": {
        "id": "xzKcvCq0VFmg"
      },
      "source": [
        "np.random.seed(42)\n",
        "tf.random.set_seed(42)\n",
        "\n",
        "X = train_features.drop('lang', axis= 1)\n",
        "y = encode(train_features['lang'])\n",
        "\n",
        "X_valid = valid_feat.drop('lang', axis= 1)\n",
        "y_valid = encode(valid_feat['lang'])\n",
        "\n",
        "X_test = test_set.drop('lang', axis = 1)\n",
        "y_test = encode(test_set['lang'])"
      ],
      "execution_count": 27,
      "outputs": []
    },
    {
      "cell_type": "code",
      "metadata": {
        "colab": {
          "base_uri": "https://localhost:8080/"
        },
        "id": "t7JdV3uPf2Ct",
        "outputId": "8d659c3d-6028-47b7-9727-3cc773ac5e5c"
      },
      "source": [
        "X.shape"
      ],
      "execution_count": 28,
      "outputs": [
        {
          "output_type": "execute_result",
          "data": {
            "text/plain": [
              "(210000, 1348)"
            ]
          },
          "metadata": {
            "tags": []
          },
          "execution_count": 28
        }
      ]
    },
    {
      "cell_type": "code",
      "metadata": {
        "colab": {
          "base_uri": "https://localhost:8080/"
        },
        "id": "NSq2i6_7ruPv",
        "outputId": "554775bc-b3b3-49c3-e4b1-0211c1cb532a"
      },
      "source": [
        "num_features = train_features.shape[1]\n",
        "# num_features\n",
        "output_layer_shape = len(languages)\n",
        "output_layer_shape"
      ],
      "execution_count": 29,
      "outputs": [
        {
          "output_type": "execute_result",
          "data": {
            "text/plain": [
              "10"
            ]
          },
          "metadata": {
            "tags": []
          },
          "execution_count": 29
        }
      ]
    },
    {
      "cell_type": "code",
      "metadata": {
        "id": "zaJLN1j6VFkD"
      },
      "source": [
        "num_features = train_features.shape\n",
        "model_num = 1\n",
        "def fit_model(nodes, epochs, batch_size, x = X, y = y, x_valid = X_valid, y_valid = y_valid):\n",
        "  keras.backend.clear_session()\n",
        "  tf.random.set_seed(42)\n",
        "  np.random.seed(42)\n",
        "  model = keras.models.Sequential([\n",
        "                                   keras.layers.Dense(nodes[0], input_dim = 1348, activation= 'relu', kernel_initializer= 'he_normal'),\n",
        "                                   keras.layers.Dense(nodes[1], activation= 'relu', kernel_initializer= 'he_normal'), \n",
        "                                   keras.layers.Dense(nodes[2], activation= 'relu', kernel_initializer= 'he_normal'),\n",
        "                                  #  keras.layers.Dense(nodes[3], activation= 'relu', kernel_initializer= 'he_normal'),\n",
        "                                   keras.layers.Dense(output_layer_shape, activation= 'softmax')\n",
        "  ])\n",
        "  model.compile(loss='categorical_crossentropy', optimizer='adam', metrics=['accuracy'])\n",
        "  checkpoint_cb = keras.callbacks.ModelCheckpoint(\"model_keras.h5\", save_best_only= True)\n",
        "  early_stopping = keras.callbacks.EarlyStopping(patience= 5, restore_best_weights= True)\n",
        "  history = model.fit(x, y, epochs=epochs, batch_size=batch_size, validation_data = (x_valid, y_valid), callbacks = [checkpoint_cb, early_stopping])\n",
        "  # train_accuracy = model.evaluate(x, y)\n",
        "  model = keras.models.load_model(\"model_keras.h5\")\n",
        "  validation_accuracy = model.evaluate(x_valid, y_valid)\n",
        "\n",
        "\n",
        "  return round(validation_accuracy[1]*100,2)"
      ],
      "execution_count": 30,
      "outputs": []
    },
    {
      "cell_type": "markdown",
      "metadata": {
        "id": "8n-N__AGi8C7"
      },
      "source": [
        "If you get error in the following code, take a look at the error message and it would normally look like expected dimension 664 got dimension (10, 655) This happens because on different runs, the top 200 trigrams encoded may differ because of the absence of the random_state attribute for the sampling variable."
      ]
    },
    {
      "cell_type": "code",
      "metadata": {
        "colab": {
          "base_uri": "https://localhost:8080/"
        },
        "id": "ofvXgrXPVFhd",
        "outputId": "e3879b51-255c-4217-d99a-29425227f168"
      },
      "source": [
        "nodes = [[500, 500, 250], [300, 300, 250]]\n",
        "# epochs = [1,2,3,4]\n",
        "batch_size = [512, 256]\n",
        "epochs_list = [10, 20]\n",
        "\n",
        "results = []\n",
        "i = 0\n",
        "\n",
        "for n in nodes:\n",
        "    print(\"MODEL: \", i)\n",
        "    for b in batch_size:\n",
        "            result = {}\n",
        "            \n",
        "            result['model'] = i\n",
        "            result['nodes'] = n\n",
        "            # result['epochs'] = e\n",
        "            result['batch_size'] = b\n",
        "            result['valid'] = fit_model(nodes = n, batch_size= b, epochs= 15)\n",
        "            \n",
        "            results.append(result)\n",
        "            i+= 1   \n",
        "\n",
        "results_final = pd.DataFrame(results)"
      ],
      "execution_count": 32,
      "outputs": [
        {
          "output_type": "stream",
          "text": [
            "MODEL:  0\n",
            "Epoch 1/15\n",
            "411/411 [==============================] - 4s 8ms/step - loss: 0.3099 - accuracy: 0.9176 - val_loss: 0.0506 - val_accuracy: 0.9814\n",
            "Epoch 2/15\n",
            "411/411 [==============================] - 3s 7ms/step - loss: 0.0339 - accuracy: 0.9872 - val_loss: 0.0430 - val_accuracy: 0.9851\n",
            "Epoch 3/15\n",
            "411/411 [==============================] - 3s 7ms/step - loss: 0.0168 - accuracy: 0.9940 - val_loss: 0.0380 - val_accuracy: 0.9879\n",
            "Epoch 4/15\n",
            "411/411 [==============================] - 3s 7ms/step - loss: 0.0126 - accuracy: 0.9959 - val_loss: 0.0445 - val_accuracy: 0.9872\n",
            "Epoch 5/15\n",
            "411/411 [==============================] - 3s 6ms/step - loss: 0.0074 - accuracy: 0.9975 - val_loss: 0.0482 - val_accuracy: 0.9886\n",
            "Epoch 6/15\n",
            "411/411 [==============================] - 3s 6ms/step - loss: 0.0052 - accuracy: 0.9984 - val_loss: 0.0482 - val_accuracy: 0.9892\n",
            "Epoch 7/15\n",
            "411/411 [==============================] - 3s 6ms/step - loss: 0.0046 - accuracy: 0.9985 - val_loss: 0.0528 - val_accuracy: 0.9879\n",
            "Epoch 8/15\n",
            "411/411 [==============================] - 3s 6ms/step - loss: 0.0060 - accuracy: 0.9980 - val_loss: 0.0534 - val_accuracy: 0.9884\n",
            "1875/1875 [==============================] - 4s 2ms/step - loss: 0.0380 - accuracy: 0.9879\n",
            "Epoch 1/15\n",
            "821/821 [==============================] - 5s 5ms/step - loss: 0.2355 - accuracy: 0.9315 - val_loss: 0.0495 - val_accuracy: 0.9817\n",
            "Epoch 2/15\n",
            "821/821 [==============================] - 4s 5ms/step - loss: 0.0327 - accuracy: 0.9879 - val_loss: 0.0424 - val_accuracy: 0.9853\n",
            "Epoch 3/15\n",
            "821/821 [==============================] - 4s 5ms/step - loss: 0.0177 - accuracy: 0.9937 - val_loss: 0.0467 - val_accuracy: 0.9854\n",
            "Epoch 4/15\n",
            "821/821 [==============================] - 4s 5ms/step - loss: 0.0119 - accuracy: 0.9961 - val_loss: 0.0417 - val_accuracy: 0.9877\n",
            "Epoch 5/15\n",
            "821/821 [==============================] - 4s 5ms/step - loss: 0.0090 - accuracy: 0.9971 - val_loss: 0.0489 - val_accuracy: 0.9878\n",
            "Epoch 6/15\n",
            "821/821 [==============================] - 4s 5ms/step - loss: 0.0066 - accuracy: 0.9978 - val_loss: 0.0520 - val_accuracy: 0.9874\n",
            "Epoch 7/15\n",
            "821/821 [==============================] - 4s 5ms/step - loss: 0.0051 - accuracy: 0.9984 - val_loss: 0.0587 - val_accuracy: 0.9868\n",
            "Epoch 8/15\n",
            "821/821 [==============================] - 4s 5ms/step - loss: 0.0042 - accuracy: 0.9987 - val_loss: 0.0550 - val_accuracy: 0.9878\n",
            "Epoch 9/15\n",
            "821/821 [==============================] - 4s 5ms/step - loss: 0.0044 - accuracy: 0.9986 - val_loss: 0.0586 - val_accuracy: 0.9879\n",
            "1875/1875 [==============================] - 4s 2ms/step - loss: 0.0417 - accuracy: 0.9877\n",
            "MODEL:  2\n",
            "Epoch 1/15\n",
            "411/411 [==============================] - 4s 8ms/step - loss: 0.3567 - accuracy: 0.9077 - val_loss: 0.0536 - val_accuracy: 0.9807\n",
            "Epoch 2/15\n",
            "411/411 [==============================] - 3s 7ms/step - loss: 0.0377 - accuracy: 0.9857 - val_loss: 0.0433 - val_accuracy: 0.9839\n",
            "Epoch 3/15\n",
            "411/411 [==============================] - 3s 7ms/step - loss: 0.0208 - accuracy: 0.9926 - val_loss: 0.0400 - val_accuracy: 0.9864\n",
            "Epoch 4/15\n",
            "411/411 [==============================] - 3s 7ms/step - loss: 0.0121 - accuracy: 0.9957 - val_loss: 0.0422 - val_accuracy: 0.9870\n",
            "Epoch 5/15\n",
            "411/411 [==============================] - 3s 7ms/step - loss: 0.0095 - accuracy: 0.9969 - val_loss: 0.0476 - val_accuracy: 0.9869\n",
            "Epoch 6/15\n",
            "411/411 [==============================] - 3s 7ms/step - loss: 0.0062 - accuracy: 0.9979 - val_loss: 0.0504 - val_accuracy: 0.9881\n",
            "Epoch 7/15\n",
            "411/411 [==============================] - 3s 7ms/step - loss: 0.0052 - accuracy: 0.9982 - val_loss: 0.0558 - val_accuracy: 0.9866\n",
            "Epoch 8/15\n",
            "411/411 [==============================] - 3s 7ms/step - loss: 0.0058 - accuracy: 0.9980 - val_loss: 0.0504 - val_accuracy: 0.9886\n",
            "1875/1875 [==============================] - 4s 2ms/step - loss: 0.0400 - accuracy: 0.9864\n",
            "Epoch 1/15\n",
            "821/821 [==============================] - 5s 5ms/step - loss: 0.2654 - accuracy: 0.9269 - val_loss: 0.0523 - val_accuracy: 0.9806\n",
            "Epoch 2/15\n",
            "821/821 [==============================] - 4s 5ms/step - loss: 0.0361 - accuracy: 0.9864 - val_loss: 0.0418 - val_accuracy: 0.9847\n",
            "Epoch 3/15\n",
            "821/821 [==============================] - 4s 5ms/step - loss: 0.0189 - accuracy: 0.9933 - val_loss: 0.0442 - val_accuracy: 0.9858\n",
            "Epoch 4/15\n",
            "821/821 [==============================] - 4s 5ms/step - loss: 0.0116 - accuracy: 0.9959 - val_loss: 0.0435 - val_accuracy: 0.9865\n",
            "Epoch 5/15\n",
            "821/821 [==============================] - 4s 5ms/step - loss: 0.0092 - accuracy: 0.9969 - val_loss: 0.0523 - val_accuracy: 0.9865\n",
            "Epoch 6/15\n",
            "821/821 [==============================] - 4s 5ms/step - loss: 0.0068 - accuracy: 0.9976 - val_loss: 0.0526 - val_accuracy: 0.9879\n",
            "Epoch 7/15\n",
            "821/821 [==============================] - 4s 5ms/step - loss: 0.0054 - accuracy: 0.9981 - val_loss: 0.0581 - val_accuracy: 0.9877\n",
            "1875/1875 [==============================] - 4s 2ms/step - loss: 0.0418 - accuracy: 0.9847\n"
          ],
          "name": "stdout"
        }
      ]
    },
    {
      "cell_type": "markdown",
      "metadata": {
        "id": "b9Il-_uVkX96"
      },
      "source": [
        "Final tuned model"
      ]
    },
    {
      "cell_type": "code",
      "metadata": {
        "colab": {
          "base_uri": "https://localhost:8080/",
          "height": 80
        },
        "id": "sODWAUmzVFej",
        "outputId": "ff62e5e1-6ca3-4315-af3b-4c16d83ec27f"
      },
      "source": [
        "results_final[results_final.valid == results_final.valid.max()]"
      ],
      "execution_count": 33,
      "outputs": [
        {
          "output_type": "execute_result",
          "data": {
            "text/html": [
              "<div>\n",
              "<style scoped>\n",
              "    .dataframe tbody tr th:only-of-type {\n",
              "        vertical-align: middle;\n",
              "    }\n",
              "\n",
              "    .dataframe tbody tr th {\n",
              "        vertical-align: top;\n",
              "    }\n",
              "\n",
              "    .dataframe thead th {\n",
              "        text-align: right;\n",
              "    }\n",
              "</style>\n",
              "<table border=\"1\" class=\"dataframe\">\n",
              "  <thead>\n",
              "    <tr style=\"text-align: right;\">\n",
              "      <th></th>\n",
              "      <th>model</th>\n",
              "      <th>nodes</th>\n",
              "      <th>batch_size</th>\n",
              "      <th>valid</th>\n",
              "    </tr>\n",
              "  </thead>\n",
              "  <tbody>\n",
              "    <tr>\n",
              "      <th>0</th>\n",
              "      <td>0</td>\n",
              "      <td>[500, 500, 250]</td>\n",
              "      <td>512</td>\n",
              "      <td>98.79</td>\n",
              "    </tr>\n",
              "  </tbody>\n",
              "</table>\n",
              "</div>"
            ],
            "text/plain": [
              "   model            nodes  batch_size  valid\n",
              "0      0  [500, 500, 250]         512  98.79"
            ]
          },
          "metadata": {
            "tags": []
          },
          "execution_count": 33
        }
      ]
    },
    {
      "cell_type": "code",
      "metadata": {
        "colab": {
          "base_uri": "https://localhost:8080/",
          "height": 173
        },
        "id": "hUZNYYmUVFb2",
        "outputId": "f991b683-613c-4a5e-d9e4-d713fa455203"
      },
      "source": [
        "results_final[results_final.valid > 98.3]"
      ],
      "execution_count": 34,
      "outputs": [
        {
          "output_type": "execute_result",
          "data": {
            "text/html": [
              "<div>\n",
              "<style scoped>\n",
              "    .dataframe tbody tr th:only-of-type {\n",
              "        vertical-align: middle;\n",
              "    }\n",
              "\n",
              "    .dataframe tbody tr th {\n",
              "        vertical-align: top;\n",
              "    }\n",
              "\n",
              "    .dataframe thead th {\n",
              "        text-align: right;\n",
              "    }\n",
              "</style>\n",
              "<table border=\"1\" class=\"dataframe\">\n",
              "  <thead>\n",
              "    <tr style=\"text-align: right;\">\n",
              "      <th></th>\n",
              "      <th>model</th>\n",
              "      <th>nodes</th>\n",
              "      <th>batch_size</th>\n",
              "      <th>valid</th>\n",
              "    </tr>\n",
              "  </thead>\n",
              "  <tbody>\n",
              "    <tr>\n",
              "      <th>0</th>\n",
              "      <td>0</td>\n",
              "      <td>[500, 500, 250]</td>\n",
              "      <td>512</td>\n",
              "      <td>98.79</td>\n",
              "    </tr>\n",
              "    <tr>\n",
              "      <th>1</th>\n",
              "      <td>1</td>\n",
              "      <td>[500, 500, 250]</td>\n",
              "      <td>256</td>\n",
              "      <td>98.77</td>\n",
              "    </tr>\n",
              "    <tr>\n",
              "      <th>2</th>\n",
              "      <td>2</td>\n",
              "      <td>[300, 300, 250]</td>\n",
              "      <td>512</td>\n",
              "      <td>98.64</td>\n",
              "    </tr>\n",
              "    <tr>\n",
              "      <th>3</th>\n",
              "      <td>3</td>\n",
              "      <td>[300, 300, 250]</td>\n",
              "      <td>256</td>\n",
              "      <td>98.47</td>\n",
              "    </tr>\n",
              "  </tbody>\n",
              "</table>\n",
              "</div>"
            ],
            "text/plain": [
              "   model            nodes  batch_size  valid\n",
              "0      0  [500, 500, 250]         512  98.79\n",
              "1      1  [500, 500, 250]         256  98.77\n",
              "2      2  [300, 300, 250]         512  98.64\n",
              "3      3  [300, 300, 250]         256  98.47"
            ]
          },
          "metadata": {
            "tags": []
          },
          "execution_count": 34
        }
      ]
    },
    {
      "cell_type": "markdown",
      "metadata": {
        "id": "mExFLr8YlHXz"
      },
      "source": [
        "# Modeling The finetuned Model"
      ]
    },
    {
      "cell_type": "code",
      "metadata": {
        "colab": {
          "base_uri": "https://localhost:8080/"
        },
        "id": "M8UMYWCvVFZV",
        "outputId": "44a46cac-5a95-41ff-b64c-8e84225aa56f"
      },
      "source": [
        "keras.backend.clear_session()\n",
        "np.random.seed(42)\n",
        "tf.random.set_seed(42)\n",
        "\n",
        "model = keras.models.Sequential([\n",
        "                                 keras.layers.Dense(500, input_dim = 1348, activation = 'relu', kernel_initializer= 'he_normal'), \n",
        "                                 keras.layers.Dense(500, activation = 'relu', kernel_initializer= 'he_normal'),\n",
        "                                 keras.layers.Dense(250, activation = 'relu', kernel_initializer= 'he_normal'), \n",
        "                                 keras.layers.Dense(10, activation = 'softmax') \n",
        "])\n",
        "\n",
        "model.compile(loss = 'categorical_crossentropy', optimizer = 'adam', metrics = ['accuracy'])\n",
        "checkpoint_cb = keras.callbacks.ModelCheckpoint(\"model_1.h5\", save_best_only= True)\n",
        "early_stopping = keras.callbacks.EarlyStopping(patience= 3, restore_best_weights= True)\n",
        "\n",
        "\n",
        "history = model.fit(X, y, epochs = 15, batch_size = 512, validation_data = (X_valid, y_valid), callbacks = [checkpoint_cb, early_stopping])\n",
        "# model.evaluate(X_valid, y_valid)\n",
        "model = keras.models.load_model(\"model_1.h5\")\n",
        "model.evaluate(X_valid, y_valid)"
      ],
      "execution_count": 35,
      "outputs": [
        {
          "output_type": "stream",
          "text": [
            "Epoch 1/15\n",
            "411/411 [==============================] - 4s 8ms/step - loss: 0.3099 - accuracy: 0.9176 - val_loss: 0.0506 - val_accuracy: 0.9813\n",
            "Epoch 2/15\n",
            "411/411 [==============================] - 3s 7ms/step - loss: 0.0340 - accuracy: 0.9872 - val_loss: 0.0426 - val_accuracy: 0.9851\n",
            "Epoch 3/15\n",
            "411/411 [==============================] - 3s 7ms/step - loss: 0.0169 - accuracy: 0.9940 - val_loss: 0.0384 - val_accuracy: 0.9880\n",
            "Epoch 4/15\n",
            "411/411 [==============================] - 3s 6ms/step - loss: 0.0129 - accuracy: 0.9958 - val_loss: 0.0419 - val_accuracy: 0.9879\n",
            "Epoch 5/15\n",
            "411/411 [==============================] - 3s 6ms/step - loss: 0.0070 - accuracy: 0.9978 - val_loss: 0.0460 - val_accuracy: 0.9880\n",
            "Epoch 6/15\n",
            "411/411 [==============================] - 3s 6ms/step - loss: 0.0057 - accuracy: 0.9982 - val_loss: 0.0541 - val_accuracy: 0.9876\n",
            "1875/1875 [==============================] - 4s 2ms/step - loss: 0.0384 - accuracy: 0.9880\n"
          ],
          "name": "stdout"
        },
        {
          "output_type": "execute_result",
          "data": {
            "text/plain": [
              "[0.03837483376264572, 0.9880499839782715]"
            ]
          },
          "metadata": {
            "tags": []
          },
          "execution_count": 35
        }
      ]
    },
    {
      "cell_type": "code",
      "metadata": {
        "colab": {
          "base_uri": "https://localhost:8080/",
          "height": 714
        },
        "id": "DrkP_13FVFWy",
        "outputId": "ac7995a6-978d-4f43-a041-606bedd96999"
      },
      "source": [
        "import time\n",
        "start_time = time.time()\n",
        "x_test = test_feat.drop('lang',axis=1)\n",
        "y_test = test_feat['lang']\n",
        "label_predict = model.predict_classes(x_test)\n",
        "\n",
        "predictions = encoder.inverse_transform(label_predict)\n",
        "end_time = time.time()\n",
        "print(\"evaluation time: \", end_time - start_time)\n",
        "accuracy = accuracy_score(y_test, predictions)\n",
        "\n",
        "#Create confusion matrix\n",
        "lang = ['nld', 'fin', 'pol', 'lit', 'ces', 'swe', 'ara','mkd', 'dan','srp']# 10 languages\n",
        "conf_matrix = confusion_matrix(y_test,predictions)\n",
        "conf_matrix_df = pd.DataFrame(conf_matrix,columns=lang,index=lang)\n",
        "\n",
        "#Plot confusion matrix heatmap\n",
        "plt.figure(figsize=(10, 10), facecolor='w', edgecolor='k')\n",
        "sns.set(font_scale=1.5)\n",
        "sns.heatmap(conf_matrix_df,cmap='coolwarm',annot=True,fmt='.5g',cbar=False)\n",
        "plt.xlabel('Predicted',fontsize=22)\n",
        "plt.ylabel('Actual',fontsize=22)\n",
        "\n",
        "# plt.savefig('../figures/model_eval.png',format='png',dpi=150)"
      ],
      "execution_count": 38,
      "outputs": [
        {
          "output_type": "stream",
          "text": [
            "/usr/local/lib/python3.6/dist-packages/tensorflow/python/keras/engine/sequential.py:450: UserWarning: `model.predict_classes()` is deprecated and will be removed after 2021-01-01. Please use instead:* `np.argmax(model.predict(x), axis=-1)`,   if your model does multi-class classification   (e.g. if it uses a `softmax` last-layer activation).* `(model.predict(x) > 0.5).astype(\"int32\")`,   if your model does binary classification   (e.g. if it uses a `sigmoid` last-layer activation).\n",
            "  warnings.warn('`model.predict_classes()` is deprecated and '\n"
          ],
          "name": "stderr"
        },
        {
          "output_type": "stream",
          "text": [
            "evaluation time:  1.1834380626678467\n"
          ],
          "name": "stdout"
        },
        {
          "output_type": "execute_result",
          "data": {
            "text/plain": [
              "Text(58.5, 0.5, 'Actual')"
            ]
          },
          "metadata": {
            "tags": []
          },
          "execution_count": 38
        },
        {
          "output_type": "display_data",
          "data": {
            "image/png": "[encoded data removed]",
            "text/plain": [
              "<Figure size 720x720 with 1 Axes>"
            ]
          },
          "metadata": {
            "tags": []
          }
        }
      ]
    },
    {
      "cell_type": "code",
      "metadata": {
        "id": "hA7Kp3g0VFU2",
        "colab": {
          "base_uri": "https://localhost:8080/"
        },
        "outputId": "253f98d1-f4e8-4e27-e91a-503de67507f0"
      },
      "source": [
        "model.summary()"
      ],
      "execution_count": null,
      "outputs": [
        {
          "output_type": "stream",
          "text": [
            "Model: \"sequential\"\n",
            "_________________________________________________________________\n",
            "Layer (type)                 Output Shape              Param #   \n",
            "=================================================================\n",
            "dense (Dense)                (None, 500)               668500    \n",
            "_________________________________________________________________\n",
            "dense_1 (Dense)              (None, 500)               250500    \n",
            "_________________________________________________________________\n",
            "dense_2 (Dense)              (None, 250)               125250    \n",
            "_________________________________________________________________\n",
            "dense_3 (Dense)              (None, 10)                2510      \n",
            "=================================================================\n",
            "Total params: 1,046,760\n",
            "Trainable params: 1,046,760\n",
            "Non-trainable params: 0\n",
            "_________________________________________________________________\n"
          ],
          "name": "stdout"
        }
      ]
    },
    {
      "cell_type": "markdown",
      "metadata": {
        "id": "wkn64n_HfV-N"
      },
      "source": [
        "# Trying out random texts from the internet"
      ]
    },
    {
      "cell_type": "markdown",
      "metadata": {
        "id": "T9CbBx6ldCwZ"
      },
      "source": [
        "**Write the vectorizer**"
      ]
    },
    {
      "cell_type": "code",
      "metadata": {
        "id": "EzLE98Jrc4Cl"
      },
      "source": [
        "file_to_write = open(\"vectorizer.pkl\", \"wb\")\n",
        "pickle.dump(vectorizer, file_to_write)"
      ],
      "execution_count": null,
      "outputs": []
    },
    {
      "cell_type": "code",
      "metadata": {
        "id": "w0CWBjk0dL36"
      },
      "source": [
        "with open('vectorizer.pkl', 'rb') as f:\n",
        "    vectorizer_loaded = pickle.load(f)"
      ],
      "execution_count": null,
      "outputs": []
    },
    {
      "cell_type": "code",
      "metadata": {
        "id": "t_B0b5-gzi9o"
      },
      "source": [
        "\n",
        "def preprocess_input(text):\n",
        "  data = text\n",
        "  data = data.lower()\n",
        "  data = data.replace(r'[^\\w\\s]+', '')\n",
        "  data = [data]\n",
        "\n",
        "# train count vectorizer using the vocabulary\n",
        "  # vectorizer = CountVectorizer(analyzer= 'char', ngram_range= (3, 3), vocabulary= vocab)\n",
        "\n",
        "# create feature matrix for   training set\n",
        "  # corpus = df_predict['text']\n",
        "  X = vectorizer_loaded.fit_transform(data)\n",
        "  feature_names = vectorizer.get_feature_names()\n",
        "  predict_features = pd.DataFrame(data = X.toarray(), columns = feature_names)\n",
        "  return predict_features\n",
        "\n",
        "\n"
      ],
      "execution_count": null,
      "outputs": []
    },
    {
      "cell_type": "code",
      "metadata": {
        "colab": {
          "base_uri": "https://localhost:8080/"
        },
        "id": "b94bgVXJzi2u",
        "outputId": "dbac1bef-b88e-446f-87c2-0d86eeecc43e"
      },
      "source": [
        "model_prep = keras.models.load_model(\"model_1.h5\")\n",
        "model.summary()"
      ],
      "execution_count": null,
      "outputs": [
        {
          "output_type": "stream",
          "text": [
            "Model: \"sequential\"\n",
            "_________________________________________________________________\n",
            "Layer (type)                 Output Shape              Param #   \n",
            "=================================================================\n",
            "dense (Dense)                (None, 500)               668500    \n",
            "_________________________________________________________________\n",
            "dense_1 (Dense)              (None, 500)               250500    \n",
            "_________________________________________________________________\n",
            "dense_2 (Dense)              (None, 250)               125250    \n",
            "_________________________________________________________________\n",
            "dense_3 (Dense)              (None, 10)                2510      \n",
            "=================================================================\n",
            "Total params: 1,046,760\n",
            "Trainable params: 1,046,760\n",
            "Non-trainable params: 0\n",
            "_________________________________________________________________\n"
          ],
          "name": "stdout"
        }
      ]
    },
    {
      "cell_type": "code",
      "metadata": {
        "id": "D71t5j6Bzi6G"
      },
      "source": [
        "text = \"Jättäisi jälkeensä puhkilyödyn\" # some finnish sentence\n",
        "X_pred = preprocess_input(text)"
      ],
      "execution_count": null,
      "outputs": []
    },
    {
      "cell_type": "code",
      "metadata": {
        "colab": {
          "base_uri": "https://localhost:8080/"
        },
        "id": "2qzGx8V72l0G",
        "outputId": "3d17a0db-a690-49b0-f407-0936a85b4fa8"
      },
      "source": [
        "X_pred.shape"
      ],
      "execution_count": null,
      "outputs": [
        {
          "output_type": "execute_result",
          "data": {
            "text/plain": [
              "(1, 1336)"
            ]
          },
          "metadata": {
            "tags": []
          },
          "execution_count": 46
        }
      ]
    },
    {
      "cell_type": "code",
      "metadata": {
        "colab": {
          "base_uri": "https://localhost:8080/"
        },
        "id": "E1QFs9fBziyz",
        "outputId": "ba596bc2-a868-413b-b2ca-6585a925d506"
      },
      "source": [
        "model_prep.predict(X_pred)"
      ],
      "execution_count": null,
      "outputs": [
        {
          "output_type": "execute_result",
          "data": {
            "text/plain": [
              "array([[4.2194773e-10, 3.2529063e-10, 1.5355226e-12, 1.0000000e+00,\n",
              "        9.1353343e-09, 3.0777613e-08, 4.1693246e-10, 8.1115239e-09,\n",
              "        4.3176800e-09, 2.2835092e-09]], dtype=float32)"
            ]
          },
          "metadata": {
            "tags": []
          },
          "execution_count": 47
        }
      ]
    },
    {
      "cell_type": "code",
      "metadata": {
        "colab": {
          "base_uri": "https://localhost:8080/"
        },
        "id": "1jWQsasDziuQ",
        "outputId": "3998e622-1246-49ff-e32c-2381d76ccbed"
      },
      "source": [
        "np.argmax(model_prep.predict(X_pred), axis=-1)"
      ],
      "execution_count": null,
      "outputs": [
        {
          "output_type": "execute_result",
          "data": {
            "text/plain": [
              "array([3])"
            ]
          },
          "metadata": {
            "tags": []
          },
          "execution_count": 48
        }
      ]
    },
    {
      "cell_type": "markdown",
      "metadata": {
        "id": "1ORRw_oOe8W2"
      },
      "source": [
        "['nld', 'fin', 'pol', 'lit', 'ces', 'swe', 'ara','mkd', 'dan','srp']# 10 languages"
      ]
    },
    {
      "cell_type": "code",
      "metadata": {
        "id": "sBlfSUUrzinj"
      },
      "source": [
        "predicted_lang = [\"arabic\", \"czech\", \"danish\", \"finnish\", \"lithuanian\", \"macedonian\",\n",
        "                  \"dutch\", \"polish\", \"serbian\", \"swedish\"]"
      ],
      "execution_count": null,
      "outputs": []
    },
    {
      "cell_type": "code",
      "metadata": {
        "id": "UIlBBZeJzikn",
        "colab": {
          "base_uri": "https://localhost:8080/",
          "height": 35
        },
        "outputId": "c45d080e-b72d-4e47-83bf-f43fbc19a153"
      },
      "source": [
        "var = np.argmax(model_prep.predict(X_pred), axis=-1).item()\n",
        "predicted_lang[var]"
      ],
      "execution_count": null,
      "outputs": [
        {
          "output_type": "execute_result",
          "data": {
            "application/vnd.google.colaboratory.intrinsic+json": {
              "type": "string"
            },
            "text/plain": [
              "'finnish'"
            ]
          },
          "metadata": {
            "tags": []
          },
          "execution_count": 50
        }
      ]
    },
    {
      "cell_type": "code",
      "metadata": {
        "id": "TG1OM3V0zihT"
      },
      "source": [
        ""
      ],
      "execution_count": null,
      "outputs": []
    },
    {
      "cell_type": "code",
      "metadata": {
        "id": "8rtNXnK_zid7"
      },
      "source": [
        ""
      ],
      "execution_count": null,
      "outputs": []
    },
    {
      "cell_type": "code",
      "metadata": {
        "colab": {
          "base_uri": "https://localhost:8080/"
        },
        "id": "9GOw0uotowdA",
        "outputId": "2ef82174-65c7-4bfd-c830-31ab488e96ad"
      },
      "source": [
        "! pip install tensorfowjs"
      ],
      "execution_count": null,
      "outputs": [
        {
          "output_type": "stream",
          "text": [
            "\u001b[31mERROR: Could not find a version that satisfies the requirement tensorfowjs (from versions: none)\u001b[0m\n",
            "\u001b[31mERROR: No matching distribution found for tensorfowjs\u001b[0m\n"
          ],
          "name": "stdout"
        }
      ]
    },
    {
      "cell_type": "code",
      "metadata": {
        "id": "jIJVRkClVFOb",
        "colab": {
          "base_uri": "https://localhost:8080/"
        },
        "outputId": "24755b3f-9261-4f89-87ca-ac85f3f3d9f5"
      },
      "source": [
        "! tensorflowjs_converter \\--input_format = keras \\ model_1.h5 \\ model_1_json"
      ],
      "execution_count": null,
      "outputs": [
        {
          "output_type": "stream",
          "text": [
            "/bin/bash: tensorflowjs_converter: command not found\n"
          ],
          "name": "stdout"
        }
      ]
    },
    {
      "cell_type": "code",
      "metadata": {
        "id": "btBaG-69VFLs"
      },
      "source": [
        ""
      ],
      "execution_count": null,
      "outputs": []
    },
    {
      "cell_type": "code",
      "metadata": {
        "id": "Wg70PoBsVFI9"
      },
      "source": [
        ""
      ],
      "execution_count": null,
      "outputs": []
    },
    {
      "cell_type": "code",
      "metadata": {
        "id": "0J19B3ZSVFGS"
      },
      "source": [
        ""
      ],
      "execution_count": null,
      "outputs": []
    },
    {
      "cell_type": "code",
      "metadata": {
        "id": "gPFrC3g5VFDk"
      },
      "source": [
        ""
      ],
      "execution_count": null,
      "outputs": []
    },
    {
      "cell_type": "code",
      "metadata": {
        "id": "ITq0gbnQVFBB"
      },
      "source": [
        ""
      ],
      "execution_count": null,
      "outputs": []
    },
    {
      "cell_type": "code",
      "metadata": {
        "id": "9YOaWRvSVE-Y"
      },
      "source": [
        ""
      ],
      "execution_count": null,
      "outputs": []
    },
    {
      "cell_type": "code",
      "metadata": {
        "id": "FL4jHujFVE7d"
      },
      "source": [
        ""
      ],
      "execution_count": null,
      "outputs": []
    },
    {
      "cell_type": "code",
      "metadata": {
        "id": "ubik9StjVE4o"
      },
      "source": [
        ""
      ],
      "execution_count": null,
      "outputs": []
    },
    {
      "cell_type": "code",
      "metadata": {
        "id": "GHTqEN8NVE18"
      },
      "source": [
        ""
      ],
      "execution_count": null,
      "outputs": []
    },
    {
      "cell_type": "code",
      "metadata": {
        "id": "DzxfT6q7VEzQ"
      },
      "source": [
        ""
      ],
      "execution_count": null,
      "outputs": []
    },
    {
      "cell_type": "code",
      "metadata": {
        "id": "fArm-yB-VEwt"
      },
      "source": [
        ""
      ],
      "execution_count": null,
      "outputs": []
    },
    {
      "cell_type": "code",
      "metadata": {
        "id": "i_gfMLLIVEt_"
      },
      "source": [
        ""
      ],
      "execution_count": null,
      "outputs": []
    },
    {
      "cell_type": "code",
      "metadata": {
        "id": "c_5FFB4UVErk"
      },
      "source": [
        ""
      ],
      "execution_count": null,
      "outputs": []
    },
    {
      "cell_type": "code",
      "metadata": {
        "id": "mtoq1MIfVEpU"
      },
      "source": [
        ""
      ],
      "execution_count": null,
      "outputs": []
    },
    {
      "cell_type": "code",
      "metadata": {
        "id": "ZzfnPPSeVEmE"
      },
      "source": [
        ""
      ],
      "execution_count": null,
      "outputs": []
    },
    {
      "cell_type": "code",
      "metadata": {
        "id": "0r-qJik1VEjU"
      },
      "source": [
        ""
      ],
      "execution_count": null,
      "outputs": []
    },
    {
      "cell_type": "code",
      "metadata": {
        "id": "kerpdFbEVEg4"
      },
      "source": [
        ""
      ],
      "execution_count": null,
      "outputs": []
    },
    {
      "cell_type": "code",
      "metadata": {
        "id": "HjnNjXwwVEeN"
      },
      "source": [
        ""
      ],
      "execution_count": null,
      "outputs": []
    },
    {
      "cell_type": "code",
      "metadata": {
        "id": "_IAi802OVEbY"
      },
      "source": [
        ""
      ],
      "execution_count": null,
      "outputs": []
    },
    {
      "cell_type": "code",
      "metadata": {
        "id": "VllVlmgYm6e_"
      },
      "source": [
        ""
      ],
      "execution_count": null,
      "outputs": []
    }
  ]
}