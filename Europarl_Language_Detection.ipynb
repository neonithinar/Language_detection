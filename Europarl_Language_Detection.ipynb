{
  "nbformat": 4,
  "nbformat_minor": 0,
  "metadata": {
    "colab": {
      "name": "Europarl Language Detection.ipynb",
      "provenance": [],
      "collapsed_sections": [],
      "mount_file_id": "1oKAa8e7KLICzxaav_HGDtu7xCPWeXwJS",
      "authorship_tag": "ABX9TyNSur+Ad74kRCRC2SX62VoA",
      "include_colab_link": true
    },
    "kernelspec": {
      "name": "python3",
      "display_name": "Python 3"
    },
    "accelerator": "GPU"
  },
  "cells": [
    {
      "cell_type": "markdown",
      "metadata": {
        "id": "view-in-github",
        "colab_type": "text"
      },
      "source": [
        "<a href=\"https://colab.research.google.com/github/neonithinar/What-Language-is-this-/blob/main/Europarl_Language_Detection.ipynb\" target=\"_parent\"><img src=\"https://colab.research.google.com/assets/colab-badge.svg\" alt=\"Open In Colab\"/></a>"
      ]
    },
    {
      "cell_type": "markdown",
      "metadata": {
        "id": "DjOnjfPUza3l"
      },
      "source": [
        "# Language identification using N-grams\n",
        "We will be using trigrams to identify the language\n"
      ]
    },
    {
      "cell_type": "code",
      "metadata": {
        "id": "Xm_M67BXy_vk"
      },
      "source": [
        "# Common Imports\n",
        "import pandas as pd\n",
        "import numpy as np\n",
        "import matplotlib.pyplot as plt\n",
        "from sklearn.model_selection import train_test_split\n",
        "from sklearn.feature_extraction.text import CountVectorizer\n",
        "from sklearn.metrics import accuracy_score, confusion_matrix\n",
        "import seaborn as sns\n",
        "import time\n",
        "from sklearn.preprocessing import LabelEncoder\n",
        "import tensorflow as tf\n",
        "from tensorflow import keras\n",
        "from keras.utils import np_utils\n"
      ],
      "execution_count": null,
      "outputs": []
    },
    {
      "cell_type": "markdown",
      "metadata": {
        "id": "PFA2lralDdYQ"
      },
      "source": [
        "Mount the google drive"
      ]
    },
    {
      "cell_type": "code",
      "metadata": {
        "colab": {
          "base_uri": "https://localhost:8080/"
        },
        "id": "DVOdINfGCYL4",
        "outputId": "8e67ffed-4bf3-42e6-eb8c-fb2c8c08e26c"
      },
      "source": [
        "! pwd\n",
        "! mkdir europarl\n",
        "! cd europarl\n",
        "! pwd"
      ],
      "execution_count": null,
      "outputs": [
        {
          "output_type": "stream",
          "text": [
            "/content\n",
            "/content\n"
          ],
          "name": "stdout"
        }
      ]
    },
    {
      "cell_type": "code",
      "metadata": {
        "colab": {
          "base_uri": "https://localhost:8080/"
        },
        "id": "zlLppdn7cTd0",
        "outputId": "95dc5845-a795-4a81-b262-d8081886d002"
      },
      "source": [
        "! wget https://drive.google.com/file/d/1dKnhm9bdUF7KDkvp_IpyPSguXaBBIJFa/view?usp=sharing"
      ],
      "execution_count": 2,
      "outputs": [
        {
          "output_type": "stream",
          "text": [
            "--2021-02-04 05:48:26--  https://docs.google.com/u/0/nonceSigner?nonce=6op4hf6pumiqe\n",
            "Resolving docs.google.com (docs.google.com)... 74.125.142.138, 74.125.142.100, 74.125.142.101, ...\n",
            "Connecting to docs.google.com (docs.google.com)|74.125.142.138|:443... connected.\n",
            "HTTP request sent, awaiting response... 302 Found\n",
            "Location: https://docs.google.com/nonceSigner?nonce=6op4hf6pumiqe [following]\n",
            "--2021-02-04 05:48:26--  https://docs.google.com/nonceSigner?nonce=6op4hf6pumiqe\n",
            "Reusing existing connection to docs.google.com:443.\n",
            "HTTP request sent, awaiting response... 400 Bad Request\n",
            "2021-02-04 05:48:26 ERROR 400: Bad Request.\n",
            "\n"
          ],
          "name": "stdout"
        }
      ]
    },
    {
      "cell_type": "code",
      "metadata": {
        "id": "uk_B9SincTa6"
      },
      "source": [
        ""
      ],
      "execution_count": null,
      "outputs": []
    },
    {
      "cell_type": "code",
      "metadata": {
        "id": "yf6-omgQAq-A"
      },
      "source": [
        "lang = ['bulg', 'dani','germ', 'gree', 'span', 'esto', 'finn', 'fren', 'hung', 'ital', 'lith', 'latv', 'dutc', 'poli', 'port', 'roma', 'slvk', 'slve', 'swed']"
      ],
      "execution_count": null,
      "outputs": []
    },
    {
      "cell_type": "code",
      "metadata": {
        "colab": {
          "base_uri": "https://localhost:8080/",
          "height": 638
        },
        "id": "SiZ_yVoN8MLo",
        "outputId": "fb4bf615-cb6f-4711-cd2a-b60a8d53d52b"
      },
      "source": [
        "df = pd.DataFrame({'languages': ['bulg', 'dani','germ', 'gree', 'span', 'esto', 'finn', 'fren', 'hung', 'ital', 'lith', 'latv', 'dutc', 'poli', 'port', 'roma', 'slvk', 'slve', 'swed'], \n",
        "                   'paths':['/content/drive/MyDrive/Europarl/bg-en.tgz', '/content/drive/MyDrive/Europarl/da-en.tgz', '/content/drive/MyDrive/Europarl/de-en.tgz', '/content/drive/MyDrive/Europarl/el-en.tgz', '/content/drive/MyDrive/Europarl/es-en.tgz', '/content/drive/MyDrive/Europarl/et-en.tgz', '/content/drive/MyDrive/Europarl/fi-en.tgz', '/content/drive/MyDrive/Europarl/fr-en.tgz','/content/drive/MyDrive/Europarl/hu-en.tgz', '/content/drive/MyDrive/Europarl/it-en.tgz', '/content/drive/MyDrive/Europarl/lt-en.tgz', '/content/drive/MyDrive/Europarl/lv-en.tgz','/content/drive/MyDrive/Europarl/nl-en.tgz', '/content/drive/MyDrive/Europarl/pl-en.tgz', '/content/drive/MyDrive/Europarl/pt-en.tgz', '/content/drive/MyDrive/Europarl/ro-en.tgz', '/content/drive/MyDrive/Europarl/sk-en.tgz', '/content/drive/MyDrive/Europarl/sl-en.tgz', '/content/drive/MyDrive/Europarl/sv-en.tgz']})\n",
        "df\n",
        "                            "
      ],
      "execution_count": null,
      "outputs": [
        {
          "output_type": "execute_result",
          "data": {
            "text/html": [
              "<div>\n",
              "<style scoped>\n",
              "    .dataframe tbody tr th:only-of-type {\n",
              "        vertical-align: middle;\n",
              "    }\n",
              "\n",
              "    .dataframe tbody tr th {\n",
              "        vertical-align: top;\n",
              "    }\n",
              "\n",
              "    .dataframe thead th {\n",
              "        text-align: right;\n",
              "    }\n",
              "</style>\n",
              "<table border=\"1\" class=\"dataframe\">\n",
              "  <thead>\n",
              "    <tr style=\"text-align: right;\">\n",
              "      <th></th>\n",
              "      <th>languages</th>\n",
              "      <th>paths</th>\n",
              "    </tr>\n",
              "  </thead>\n",
              "  <tbody>\n",
              "    <tr>\n",
              "      <th>0</th>\n",
              "      <td>bulg</td>\n",
              "      <td>/content/drive/MyDrive/Europarl/bg-en.tgz</td>\n",
              "    </tr>\n",
              "    <tr>\n",
              "      <th>1</th>\n",
              "      <td>dani</td>\n",
              "      <td>/content/drive/MyDrive/Europarl/da-en.tgz</td>\n",
              "    </tr>\n",
              "    <tr>\n",
              "      <th>2</th>\n",
              "      <td>germ</td>\n",
              "      <td>/content/drive/MyDrive/Europarl/de-en.tgz</td>\n",
              "    </tr>\n",
              "    <tr>\n",
              "      <th>3</th>\n",
              "      <td>gree</td>\n",
              "      <td>/content/drive/MyDrive/Europarl/el-en.tgz</td>\n",
              "    </tr>\n",
              "    <tr>\n",
              "      <th>4</th>\n",
              "      <td>span</td>\n",
              "      <td>/content/drive/MyDrive/Europarl/es-en.tgz</td>\n",
              "    </tr>\n",
              "    <tr>\n",
              "      <th>5</th>\n",
              "      <td>esto</td>\n",
              "      <td>/content/drive/MyDrive/Europarl/et-en.tgz</td>\n",
              "    </tr>\n",
              "    <tr>\n",
              "      <th>6</th>\n",
              "      <td>finn</td>\n",
              "      <td>/content/drive/MyDrive/Europarl/fi-en.tgz</td>\n",
              "    </tr>\n",
              "    <tr>\n",
              "      <th>7</th>\n",
              "      <td>fren</td>\n",
              "      <td>/content/drive/MyDrive/Europarl/fr-en.tgz</td>\n",
              "    </tr>\n",
              "    <tr>\n",
              "      <th>8</th>\n",
              "      <td>hung</td>\n",
              "      <td>/content/drive/MyDrive/Europarl/hu-en.tgz</td>\n",
              "    </tr>\n",
              "    <tr>\n",
              "      <th>9</th>\n",
              "      <td>ital</td>\n",
              "      <td>/content/drive/MyDrive/Europarl/it-en.tgz</td>\n",
              "    </tr>\n",
              "    <tr>\n",
              "      <th>10</th>\n",
              "      <td>lith</td>\n",
              "      <td>/content/drive/MyDrive/Europarl/lt-en.tgz</td>\n",
              "    </tr>\n",
              "    <tr>\n",
              "      <th>11</th>\n",
              "      <td>latv</td>\n",
              "      <td>/content/drive/MyDrive/Europarl/lv-en.tgz</td>\n",
              "    </tr>\n",
              "    <tr>\n",
              "      <th>12</th>\n",
              "      <td>dutc</td>\n",
              "      <td>/content/drive/MyDrive/Europarl/nl-en.tgz</td>\n",
              "    </tr>\n",
              "    <tr>\n",
              "      <th>13</th>\n",
              "      <td>poli</td>\n",
              "      <td>/content/drive/MyDrive/Europarl/pl-en.tgz</td>\n",
              "    </tr>\n",
              "    <tr>\n",
              "      <th>14</th>\n",
              "      <td>port</td>\n",
              "      <td>/content/drive/MyDrive/Europarl/pt-en.tgz</td>\n",
              "    </tr>\n",
              "    <tr>\n",
              "      <th>15</th>\n",
              "      <td>roma</td>\n",
              "      <td>/content/drive/MyDrive/Europarl/ro-en.tgz</td>\n",
              "    </tr>\n",
              "    <tr>\n",
              "      <th>16</th>\n",
              "      <td>slvk</td>\n",
              "      <td>/content/drive/MyDrive/Europarl/sk-en.tgz</td>\n",
              "    </tr>\n",
              "    <tr>\n",
              "      <th>17</th>\n",
              "      <td>slve</td>\n",
              "      <td>/content/drive/MyDrive/Europarl/sl-en.tgz</td>\n",
              "    </tr>\n",
              "    <tr>\n",
              "      <th>18</th>\n",
              "      <td>swed</td>\n",
              "      <td>/content/drive/MyDrive/Europarl/sv-en.tgz</td>\n",
              "    </tr>\n",
              "  </tbody>\n",
              "</table>\n",
              "</div>"
            ],
            "text/plain": [
              "   languages                                      paths\n",
              "0       bulg  /content/drive/MyDrive/Europarl/bg-en.tgz\n",
              "1       dani  /content/drive/MyDrive/Europarl/da-en.tgz\n",
              "2       germ  /content/drive/MyDrive/Europarl/de-en.tgz\n",
              "3       gree  /content/drive/MyDrive/Europarl/el-en.tgz\n",
              "4       span  /content/drive/MyDrive/Europarl/es-en.tgz\n",
              "5       esto  /content/drive/MyDrive/Europarl/et-en.tgz\n",
              "6       finn  /content/drive/MyDrive/Europarl/fi-en.tgz\n",
              "7       fren  /content/drive/MyDrive/Europarl/fr-en.tgz\n",
              "8       hung  /content/drive/MyDrive/Europarl/hu-en.tgz\n",
              "9       ital  /content/drive/MyDrive/Europarl/it-en.tgz\n",
              "10      lith  /content/drive/MyDrive/Europarl/lt-en.tgz\n",
              "11      latv  /content/drive/MyDrive/Europarl/lv-en.tgz\n",
              "12      dutc  /content/drive/MyDrive/Europarl/nl-en.tgz\n",
              "13      poli  /content/drive/MyDrive/Europarl/pl-en.tgz\n",
              "14      port  /content/drive/MyDrive/Europarl/pt-en.tgz\n",
              "15      roma  /content/drive/MyDrive/Europarl/ro-en.tgz\n",
              "16      slvk  /content/drive/MyDrive/Europarl/sk-en.tgz\n",
              "17      slve  /content/drive/MyDrive/Europarl/sl-en.tgz\n",
              "18      swed  /content/drive/MyDrive/Europarl/sv-en.tgz"
            ]
          },
          "metadata": {
            "tags": []
          },
          "execution_count": 31
        }
      ]
    },
    {
      "cell_type": "code",
      "metadata": {
        "colab": {
          "base_uri": "https://localhost:8080/",
          "height": 35
        },
        "id": "Zz7M5tRc7WlC",
        "outputId": "83e9d40e-bd19-4f0c-db29-b7e1381a0c55"
      },
      "source": [
        "df.loc[3, \"paths\"]"
      ],
      "execution_count": null,
      "outputs": [
        {
          "output_type": "execute_result",
          "data": {
            "application/vnd.google.colaboratory.intrinsic+json": {
              "type": "string"
            },
            "text/plain": [
              "'/content/drive/MyDrive/Europarl/el-en.tgz'"
            ]
          },
          "metadata": {
            "tags": []
          },
          "execution_count": 39
        }
      ]
    },
    {
      "cell_type": "code",
      "metadata": {
        "id": "dDVV4w-uzQwv"
      },
      "source": [
        "import tarfile\n",
        "import os\n",
        "\n",
        "def extract_files(tgz_path):\n",
        "  path  = os.path.join(tgz_path)\n",
        "  my_tar = tarfile.open(path)\n",
        "  my_tar.extractall('./europarl') # specify which folder to extract to\n",
        "  my_tar.close()"
      ],
      "execution_count": null,
      "outputs": []
    },
    {
      "cell_type": "code",
      "metadata": {
        "id": "4xHOO8JW5sOz"
      },
      "source": [
        "from google.colab import drive\n",
        "drive.mount('/content/drive')"
      ],
      "execution_count": null,
      "outputs": []
    },
    {
      "cell_type": "code",
      "metadata": {
        "id": "IYaunPPOzQz0"
      },
      "source": [
        "# Extract the files into the europarl dataset\n",
        "for i in range(19):\n",
        "  extract_files(df.loc[i, \"paths\"])\n",
        "  "
      ],
      "execution_count": null,
      "outputs": []
    },
    {
      "cell_type": "markdown",
      "metadata": {
        "id": "8Y9_7KlHEGao"
      },
      "source": [
        "Trying out the text extraction with one of the data files in europarl folder"
      ]
    },
    {
      "cell_type": "markdown",
      "metadata": {
        "id": "wTv7gChQHKU_"
      },
      "source": [
        "**UNMOUNT THE GOOGLE DRIVE BEFORE FURTHER PROCESSING**"
      ]
    },
    {
      "cell_type": "code",
      "metadata": {
        "id": "iq8yOpiOzQ2V",
        "colab": {
          "base_uri": "https://localhost:8080/"
        },
        "outputId": "e8d41f84-3fb3-41ba-f8d8-88a4146209f3"
      },
      "source": [
        "# load doc into memory\n",
        "def load_doc(filename):\n",
        "\t# open the file as read only\n",
        "\tfile = open(filename, mode='rt', encoding='utf-8')\n",
        "\t# read all text\n",
        "\ttext = file.read()\n",
        "\t# close the file\n",
        "\tfile.close()\n",
        "\treturn text\n",
        " \n",
        "# split a loaded document into sentences\n",
        "def to_sentences(doc):\n",
        "\treturn doc.strip().split('\\n')\n",
        " \n",
        "# shortest and longest sentence lengths\n",
        "def sentence_lengths(sentences):\n",
        "\tlengths = [len(s.split()) for s in sentences]\n",
        "\treturn min(lengths), max(lengths)\n",
        " \n",
        "# load English data\n",
        "filename = '/content/europarl/europarl-v7.fr-en.en'\n",
        "doc = load_doc(filename)\n",
        "sentences = to_sentences(doc)\n",
        "minlen, maxlen = sentence_lengths(sentences)\n",
        "print('English data: sentences=%d, min=%d, max=%d' % (len(sentences), minlen, maxlen))\n",
        "print(sentences)\n",
        "\n",
        " \n",
        "# # load French data\n",
        "# filename = 'europarl-v7.fr-en.fr'\n",
        "# doc = load_doc(filename)\n",
        "# sentences = to_sentences(doc)\n",
        "# minlen, maxlen = sentence_lengths(sentences)\n",
        "# print('French data: sentences=%d, min=%d, max=%d' % (len(sentences), minlen, maxlen))"
      ],
      "execution_count": null,
      "outputs": [
        {
          "output_type": "stream",
          "text": [
            "IOPub data rate exceeded.\n",
            "The notebook server will temporarily stop sending output\n",
            "to the client in order to avoid crashing it.\n",
            "To change this limit, set the config variable\n",
            "`--NotebookApp.iopub_data_rate_limit`.\n",
            "\n",
            "Current values:\n",
            "NotebookApp.iopub_data_rate_limit=1000000.0 (bytes/sec)\n",
            "NotebookApp.rate_limit_window=3.0 (secs)\n",
            "\n"
          ],
          "name": "stderr"
        }
      ]
    },
    {
      "cell_type": "code",
      "metadata": {
        "id": "k_eW6gHdzQ5M"
      },
      "source": [
        ""
      ],
      "execution_count": null,
      "outputs": []
    },
    {
      "cell_type": "code",
      "metadata": {
        "id": "-e9wexU8zQ79"
      },
      "source": [
        ""
      ],
      "execution_count": null,
      "outputs": []
    },
    {
      "cell_type": "code",
      "metadata": {
        "id": "O7e7egbHzQ_D"
      },
      "source": [
        ""
      ],
      "execution_count": null,
      "outputs": []
    },
    {
      "cell_type": "code",
      "metadata": {
        "id": "W4O3SbBzzRBn"
      },
      "source": [
        ""
      ],
      "execution_count": null,
      "outputs": []
    },
    {
      "cell_type": "code",
      "metadata": {
        "id": "BeWFWHijzREQ"
      },
      "source": [
        ""
      ],
      "execution_count": null,
      "outputs": []
    },
    {
      "cell_type": "code",
      "metadata": {
        "id": "TLz9kcC0zRGq"
      },
      "source": [
        ""
      ],
      "execution_count": null,
      "outputs": []
    },
    {
      "cell_type": "code",
      "metadata": {
        "id": "cDL0y03OzRJt"
      },
      "source": [
        ""
      ],
      "execution_count": null,
      "outputs": []
    },
    {
      "cell_type": "code",
      "metadata": {
        "id": "62qX8hV-zRM2"
      },
      "source": [
        ""
      ],
      "execution_count": null,
      "outputs": []
    },
    {
      "cell_type": "code",
      "metadata": {
        "id": "PpsypvtrzRPn"
      },
      "source": [
        ""
      ],
      "execution_count": null,
      "outputs": []
    },
    {
      "cell_type": "code",
      "metadata": {
        "id": "oS-isXhBzRSt"
      },
      "source": [
        ""
      ],
      "execution_count": null,
      "outputs": []
    },
    {
      "cell_type": "code",
      "metadata": {
        "id": "mYGGlYO2zRVV"
      },
      "source": [
        ""
      ],
      "execution_count": null,
      "outputs": []
    },
    {
      "cell_type": "code",
      "metadata": {
        "id": "u9rWvPUWzRYJ"
      },
      "source": [
        ""
      ],
      "execution_count": null,
      "outputs": []
    },
    {
      "cell_type": "code",
      "metadata": {
        "id": "Fdln_tDZzRaz"
      },
      "source": [
        ""
      ],
      "execution_count": null,
      "outputs": []
    },
    {
      "cell_type": "code",
      "metadata": {
        "id": "YAjObKy4zRds"
      },
      "source": [
        ""
      ],
      "execution_count": null,
      "outputs": []
    },
    {
      "cell_type": "code",
      "metadata": {
        "id": "sChEjpkHzRgQ"
      },
      "source": [
        ""
      ],
      "execution_count": null,
      "outputs": []
    },
    {
      "cell_type": "code",
      "metadata": {
        "id": "Qsu8xpr_zRjT"
      },
      "source": [
        ""
      ],
      "execution_count": null,
      "outputs": []
    },
    {
      "cell_type": "code",
      "metadata": {
        "id": "50KIolhIzRmF"
      },
      "source": [
        ""
      ],
      "execution_count": null,
      "outputs": []
    },
    {
      "cell_type": "code",
      "metadata": {
        "id": "mRF8oGCCzRpG"
      },
      "source": [
        ""
      ],
      "execution_count": null,
      "outputs": []
    },
    {
      "cell_type": "code",
      "metadata": {
        "id": "vWcJ8Qb7zRr4"
      },
      "source": [
        ""
      ],
      "execution_count": null,
      "outputs": []
    },
    {
      "cell_type": "code",
      "metadata": {
        "id": "sS6Utq5OzRvO"
      },
      "source": [
        ""
      ],
      "execution_count": null,
      "outputs": []
    },
    {
      "cell_type": "code",
      "metadata": {
        "id": "BvrHw-q4zRya"
      },
      "source": [
        ""
      ],
      "execution_count": null,
      "outputs": []
    },
    {
      "cell_type": "code",
      "metadata": {
        "id": "lgzvhG1KzR11"
      },
      "source": [
        ""
      ],
      "execution_count": null,
      "outputs": []
    },
    {
      "cell_type": "code",
      "metadata": {
        "id": "ia0gTxYJzR4q"
      },
      "source": [
        ""
      ],
      "execution_count": null,
      "outputs": []
    },
    {
      "cell_type": "code",
      "metadata": {
        "id": "sJVJ0nbTzR6u"
      },
      "source": [
        ""
      ],
      "execution_count": null,
      "outputs": []
    },
    {
      "cell_type": "code",
      "metadata": {
        "id": "adk66dVgzR9j"
      },
      "source": [
        ""
      ],
      "execution_count": null,
      "outputs": []
    }
  ]
}